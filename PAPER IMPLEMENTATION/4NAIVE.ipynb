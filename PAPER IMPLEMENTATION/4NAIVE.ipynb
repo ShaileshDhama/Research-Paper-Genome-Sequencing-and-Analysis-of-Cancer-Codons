{
 "cells": [
  {
   "cell_type": "markdown",
   "metadata": {},
   "source": [
    "# NAIVE-MATCHING"
   ]
  },
  {
   "cell_type": "code",
   "execution_count": 2,
   "metadata": {},
   "outputs": [],
   "source": [
    "def readFastq(filename):\n",
    "    sequences = []\n",
    "    qualities = []\n",
    "    with open(filename) as fh:\n",
    "        while True:\n",
    "            fh.readline() # skip name line\n",
    "            seq = fh.readline().rstrip() # read base sequence\n",
    "            fh.readline() # skip placeholder line\n",
    "            qual = fh.readline().rstrip() #base quality line\n",
    "            if len(seq) == 0:\n",
    "                break\n",
    "            sequences.append(seq)\n",
    "            qualities.append(qual)\n",
    "    return sequences, qualities"
   ]
  },
  {
   "cell_type": "code",
   "execution_count": 3,
   "metadata": {},
   "outputs": [],
   "source": [
    "def readGenome(filename):\n",
    "    genome = ''\n",
    "    with open(filename, 'r') as f:\n",
    "        for line in f:\n",
    "            # ignore header line with genome information\n",
    "            if not line[0] == '>':\n",
    "                genome += line.rstrip()\n",
    "    return genome"
   ]
  },
  {
   "cell_type": "code",
   "execution_count": 4,
   "metadata": {},
   "outputs": [],
   "source": [
    "def naive(p, t):\n",
    "    occurrences = []\n",
    "    for i in range(len(t) - len(p) + 1):\n",
    "        match = True\n",
    "        for j in range(len(p)):\n",
    "            if t[i+j] != p[j]:\n",
    "                match = False\n",
    "                break\n",
    "        if match:\n",
    "            occurrences.append(i)\n",
    "    return occurrences"
   ]
  },
  {
   "cell_type": "code",
   "execution_count": 5,
   "metadata": {},
   "outputs": [],
   "source": [
    "healthy_gene = readGenome('CERVICALDNA.fasta')"
   ]
  },
  {
   "cell_type": "code",
   "execution_count": 6,
   "metadata": {},
   "outputs": [
    {
     "name": "stdout",
     "output_type": "stream",
     "text": [
      "[191, 248, 284, 428, 491, 512, 536]\n",
      "7\n"
     ]
    }
   ],
   "source": [
    "print(naive('GATT', healthy_gene))\n",
    "print(len(naive('GATT', healthy_gene)))"
   ]
  },
  {
   "cell_type": "code",
   "execution_count": 8,
   "metadata": {},
   "outputs": [
    {
     "ename": "NameError",
     "evalue": "name 'reverseComplement' is not defined",
     "output_type": "error",
     "traceback": [
      "\u001b[1;31m---------------------------------------------------------------------------\u001b[0m",
      "\u001b[1;31mNameError\u001b[0m                                 Traceback (most recent call last)",
      "\u001b[1;32m<ipython-input-8-1cd1c421ffd9>\u001b[0m in \u001b[0;36m<module>\u001b[1;34m\u001b[0m\n\u001b[1;32m----> 1\u001b[1;33m \u001b[0mreverse_complement_GATT\u001b[0m \u001b[1;33m=\u001b[0m \u001b[0mreverseComplement\u001b[0m\u001b[1;33m(\u001b[0m\u001b[1;34m'AGGT'\u001b[0m\u001b[1;33m)\u001b[0m\u001b[1;33m\u001b[0m\u001b[1;33m\u001b[0m\u001b[0m\n\u001b[0m\u001b[0;32m      2\u001b[0m \u001b[0mprint\u001b[0m\u001b[1;33m(\u001b[0m\u001b[0mreverse_complement_GATT\u001b[0m\u001b[1;33m)\u001b[0m\u001b[1;33m\u001b[0m\u001b[1;33m\u001b[0m\u001b[0m\n\u001b[0;32m      3\u001b[0m \u001b[0mprint\u001b[0m\u001b[1;33m(\u001b[0m\u001b[0mlen\u001b[0m\u001b[1;33m(\u001b[0m\u001b[0mnaive\u001b[0m\u001b[1;33m(\u001b[0m\u001b[0mreverse_complement_GATT\u001b[0m\u001b[1;33m,\u001b[0m\u001b[0mhealthy_gene\u001b[0m\u001b[1;33m)\u001b[0m\u001b[1;33m)\u001b[0m\u001b[1;33m)\u001b[0m\u001b[1;33m\u001b[0m\u001b[1;33m\u001b[0m\u001b[0m\n",
      "\u001b[1;31mNameError\u001b[0m: name 'reverseComplement' is not defined"
     ]
    }
   ],
   "source": [
    "reverse_complement_GATT = reverseComplement('AGGT')\n",
    "print(reverse_complement_GATT)\n",
    "print(len(naive(reverse_complement_GATT,healthy_gene)))"
   ]
  },
  {
   "cell_type": "code",
   "execution_count": 14,
   "metadata": {},
   "outputs": [
    {
     "name": "stdout",
     "output_type": "stream",
     "text": [
      "[178, 370, 391, 517]\n",
      "4\n"
     ]
    }
   ],
   "source": [
    "print(naive('GCATT', healthy_gene))\n",
    "print(len(naive('GCATT', healthy_gene)))"
   ]
  },
  {
   "cell_type": "code",
   "execution_count": 15,
   "metadata": {},
   "outputs": [
    {
     "ename": "NameError",
     "evalue": "name 'reverseComplement' is not defined",
     "output_type": "error",
     "traceback": [
      "\u001b[1;31m---------------------------------------------------------------------------\u001b[0m",
      "\u001b[1;31mNameError\u001b[0m                                 Traceback (most recent call last)",
      "\u001b[1;32m<ipython-input-15-14f4284e892c>\u001b[0m in \u001b[0;36m<module>\u001b[1;34m\u001b[0m\n\u001b[1;32m----> 1\u001b[1;33m \u001b[0mreverse_complement_TTAA\u001b[0m \u001b[1;33m=\u001b[0m \u001b[0mreverseComplement\u001b[0m\u001b[1;33m(\u001b[0m\u001b[1;34m'GCATT'\u001b[0m\u001b[1;33m)\u001b[0m\u001b[1;33m\u001b[0m\u001b[1;33m\u001b[0m\u001b[0m\n\u001b[0m\u001b[0;32m      2\u001b[0m \u001b[0mprint\u001b[0m\u001b[1;33m(\u001b[0m\u001b[0mreverse_complement_TTAA\u001b[0m\u001b[1;33m)\u001b[0m\u001b[1;33m\u001b[0m\u001b[1;33m\u001b[0m\u001b[0m\n\u001b[0;32m      3\u001b[0m \u001b[0mprint\u001b[0m\u001b[1;33m(\u001b[0m\u001b[0mlen\u001b[0m\u001b[1;33m(\u001b[0m\u001b[0mnaive\u001b[0m\u001b[1;33m(\u001b[0m\u001b[0mreverse_complement_TTAA\u001b[0m\u001b[1;33m,\u001b[0m\u001b[0mhealthy_gene\u001b[0m\u001b[1;33m)\u001b[0m\u001b[1;33m)\u001b[0m\u001b[1;33m)\u001b[0m\u001b[1;33m\u001b[0m\u001b[1;33m\u001b[0m\u001b[0m\n",
      "\u001b[1;31mNameError\u001b[0m: name 'reverseComplement' is not defined"
     ]
    }
   ],
   "source": [
    "reverse_complement_TTAA = reverseComplement('GCATT')\n",
    "print(reverse_complement_TTAA)\n",
    "print(len(naive(reverse_complement_TTAA,healthy_gene)))"
   ]
  },
  {
   "cell_type": "code",
   "execution_count": 16,
   "metadata": {},
   "outputs": [
    {
     "name": "stdout",
     "output_type": "stream",
     "text": [
      "[]\n"
     ]
    },
    {
     "ename": "NameError",
     "evalue": "name 'reverseComplement' is not defined",
     "output_type": "error",
     "traceback": [
      "\u001b[1;31m---------------------------------------------------------------------------\u001b[0m",
      "\u001b[1;31mNameError\u001b[0m                                 Traceback (most recent call last)",
      "\u001b[1;32m<ipython-input-16-83f12371b4e6>\u001b[0m in \u001b[0;36m<module>\u001b[1;34m\u001b[0m\n\u001b[0;32m      1\u001b[0m \u001b[0mprint\u001b[0m\u001b[1;33m(\u001b[0m\u001b[0mnaive\u001b[0m\u001b[1;33m(\u001b[0m\u001b[1;34m'ACTAAGT'\u001b[0m\u001b[1;33m,\u001b[0m \u001b[0mhealthy_gene\u001b[0m\u001b[1;33m)\u001b[0m\u001b[1;33m)\u001b[0m\u001b[1;33m\u001b[0m\u001b[1;33m\u001b[0m\u001b[0m\n\u001b[1;32m----> 2\u001b[1;33m \u001b[0mcomplement\u001b[0m \u001b[1;33m=\u001b[0m \u001b[0mreverseComplement\u001b[0m\u001b[1;33m(\u001b[0m\u001b[1;34m'ACTAAGT'\u001b[0m\u001b[1;33m)\u001b[0m\u001b[1;33m\u001b[0m\u001b[1;33m\u001b[0m\u001b[0m\n\u001b[0m\u001b[0;32m      3\u001b[0m \u001b[0mprint\u001b[0m\u001b[1;33m(\u001b[0m\u001b[0mnaive\u001b[0m\u001b[1;33m(\u001b[0m\u001b[0mcomplement\u001b[0m\u001b[1;33m,\u001b[0m \u001b[0mhealthy_gene\u001b[0m\u001b[1;33m)\u001b[0m\u001b[1;33m)\u001b[0m\u001b[1;33m\u001b[0m\u001b[1;33m\u001b[0m\u001b[0m\n",
      "\u001b[1;31mNameError\u001b[0m: name 'reverseComplement' is not defined"
     ]
    }
   ],
   "source": [
    "print(naive('ACTAAGT', healthy_gene))\n",
    "complement = reverseComplement('ACTAAGT')\n",
    "print(naive(complement, healthy_gene))"
   ]
  },
  {
   "cell_type": "code",
   "execution_count": 17,
   "metadata": {},
   "outputs": [
    {
     "name": "stdout",
     "output_type": "stream",
     "text": [
      "[]\n"
     ]
    },
    {
     "ename": "NameError",
     "evalue": "name 'reverseComplement' is not defined",
     "output_type": "error",
     "traceback": [
      "\u001b[1;31m---------------------------------------------------------------------------\u001b[0m",
      "\u001b[1;31mNameError\u001b[0m                                 Traceback (most recent call last)",
      "\u001b[1;32m<ipython-input-17-031e18b44117>\u001b[0m in \u001b[0;36m<module>\u001b[1;34m\u001b[0m\n\u001b[0;32m      1\u001b[0m \u001b[0mprint\u001b[0m\u001b[1;33m(\u001b[0m\u001b[0mnaive\u001b[0m\u001b[1;33m(\u001b[0m\u001b[1;34m'AGTCGA'\u001b[0m\u001b[1;33m,\u001b[0m \u001b[0mhealthy_gene\u001b[0m\u001b[1;33m)\u001b[0m\u001b[1;33m)\u001b[0m\u001b[1;33m\u001b[0m\u001b[1;33m\u001b[0m\u001b[0m\n\u001b[1;32m----> 2\u001b[1;33m \u001b[0mcomplement\u001b[0m \u001b[1;33m=\u001b[0m \u001b[0mreverseComplement\u001b[0m\u001b[1;33m(\u001b[0m\u001b[1;34m'AGTCGA'\u001b[0m\u001b[1;33m)\u001b[0m\u001b[1;33m\u001b[0m\u001b[1;33m\u001b[0m\u001b[0m\n\u001b[0m\u001b[0;32m      3\u001b[0m \u001b[0mprint\u001b[0m\u001b[1;33m(\u001b[0m\u001b[0mnaive\u001b[0m\u001b[1;33m(\u001b[0m\u001b[0mcomplement\u001b[0m\u001b[1;33m,\u001b[0m \u001b[0mhealthy_gene\u001b[0m\u001b[1;33m)\u001b[0m\u001b[1;33m)\u001b[0m\u001b[1;33m\u001b[0m\u001b[1;33m\u001b[0m\u001b[0m\n",
      "\u001b[1;31mNameError\u001b[0m: name 'reverseComplement' is not defined"
     ]
    }
   ],
   "source": [
    "print(naive('AGTCGA', healthy_gene))\n",
    "complement = reverseComplement('AGTCGA')\n",
    "print(naive(complement, healthy_gene))"
   ]
  },
  {
   "cell_type": "code",
   "execution_count": 18,
   "metadata": {},
   "outputs": [],
   "source": [
    "def hamming_distance(s1,s2):\n",
    "    count = 0\n",
    "    for i in range(len(s1)):\n",
    "        if s1[i]!=s2[i]:\n",
    "            count +=1\n",
    "    return count"
   ]
  },
  {
   "cell_type": "code",
   "execution_count": 19,
   "metadata": {},
   "outputs": [
    {
     "name": "stdout",
     "output_type": "stream",
     "text": [
      "[0, 4]\n"
     ]
    }
   ],
   "source": [
    "def naive_2mm(p, t):\n",
    "    occurrences = []\n",
    "    for i in range(len(t) - len(p) + 1):\n",
    "        subset_dna = t[i:i+len(p)]\n",
    "        ham_dist = hamming_distance(subset_dna,p)\n",
    "        if ham_dist <= 2:\n",
    "            occurrences.append(i)\n",
    "    return occurrences\n",
    "print(naive_2mm('ACTTTA', 'ACTTACTTGATAAAGT'))"
   ]
  },
  {
   "cell_type": "code",
   "execution_count": 20,
   "metadata": {},
   "outputs": [
    {
     "name": "stdout",
     "output_type": "stream",
     "text": [
      "1\n"
     ]
    }
   ],
   "source": [
    "print(len(naive_2mm('TTCAAGCC',healthy_gene)))"
   ]
  },
  {
   "cell_type": "code",
   "execution_count": 21,
   "metadata": {},
   "outputs": [
    {
     "name": "stdout",
     "output_type": "stream",
     "text": [
      "[4, 289]\n"
     ]
    }
   ],
   "source": [
    "print(naive_2mm('AGGAGGTT',healthy_gene))"
   ]
  },
  {
   "cell_type": "markdown",
   "metadata": {},
   "source": [
    "# NAIVE-MATCHING ON FASTA FILE"
   ]
  },
  {
   "cell_type": "code",
   "execution_count": 22,
   "metadata": {},
   "outputs": [
    {
     "name": "stdout",
     "output_type": "stream",
     "text": [
      "[5, 8, 10, 15, 17, 19, 21, 22, 25, 34, 37, 43, 49, 50, 57, 59, 61, 63, 68, 69, 71, 73, 75, 83, 85, 87, 96, 102, 104, 106, 113, 120, 122, 123, 125, 126, 128, 143, 150, 152, 153, 155, 158, 160, 185, 188, 196, 198, 208, 214, 219, 221, 223, 225, 251, 263, 265, 290, 293, 295, 297, 299, 301, 311, 317, 323, 325, 328, 330, 331, 333, 342, 346, 351, 353, 363, 369, 374, 375, 377, 384, 386, 388, 390, 395, 396, 398, 399, 401, 402, 404, 406, 408, 410, 423, 436, 438, 443, 446, 453, 457, 458, 459, 463, 464, 465, 466, 472, 474, 476, 479, 486, 496, 498, 499, 501, 539, 549, 550, 553, 555, 557, 559, 566, 568]\n",
      "125\n"
     ]
    }
   ],
   "source": [
    "#function for parsing fasta file\n",
    "def readGenome(filename):\n",
    "    genome = ''\n",
    "    with open(filename, 'r') as f:\n",
    "        for line in f:\n",
    "            # ignore header line with genome information\n",
    "            if not line[0] == '>':\n",
    "                genome += line.rstrip()\n",
    "    return genome\n",
    "genome = readGenome('CERVICALDNA.fasta')\n",
    "genome[:100]\n",
    "p = 'GGCGC'\n",
    "t = genome\n",
    "print(naive_2mm(p,t))\n",
    "print(len(naive_2mm(p,t)))"
   ]
  },
  {
   "cell_type": "code",
   "execution_count": 23,
   "metadata": {},
   "outputs": [
    {
     "name": "stdout",
     "output_type": "stream",
     "text": [
      "Wall time: 0 ns\n"
     ]
    }
   ],
   "source": [
    "%%time\n",
    "p = 'shake spea'\n",
    "t = 'Shakespear'\n",
    "naive_2mm(p,t)"
   ]
  },
  {
   "cell_type": "markdown",
   "metadata": {},
   "source": [
    "# HISTOGRAM--VISUALISATION"
   ]
  },
  {
   "cell_type": "code",
   "execution_count": 32,
   "metadata": {},
   "outputs": [
    {
     "data": {
      "text/plain": [
       "'ATGCAGGCGGTGCGCAACGCGGGCAGCCGCTTTCTGCGCAGCTGGACCTGGCCGCAGACCGCGGGCGTGGTGGCGCGCACCCCGGCGGGCACCATTTGCACCGGCGCGCGCCAGCTGCAGGATGCGGCGGCGAAACAGAAAGTGGAACAGAACGCGGCGCCGAGCCATACCAAATTTAGCATTTATCCGCCGATTCCGGGCGAAGAAAGCAGCCTGCGCTGGGCGGGCAAAAAATTTGAAGAAATTCCGATTGCGCATATTAAAGCGAGCCATAACAACACCCAGATTCAGGTGGTGAGCGCGAGCAACGAACCGCTGGCGTTTGCGAGCTGCGGCACCGAAGGCTTTCGCAACGCGAAAAAAGGCACCGGCATTGCGGCGCAGACCGCGGGCATTGCGGCGGCGGCGCGCGCGAAACAGAAAGGCGTGATTCATATTCGCGTGGTGGTGAAAGGCCTGGGCCCGGGCCGCCTGAGCGCGATGCATGGCCTGATTATGGGCGGCCTGGAAGTGATTAGCATTACCGATAACACCCCGATTCCGCATAACGGCTGCCGCCCGCGCAAAGCGCGCAAACTG'"
      ]
     },
     "execution_count": 32,
     "metadata": {},
     "output_type": "execute_result"
    }
   ],
   "source": [
    "def readGenome(filename):\n",
    "    genome = ''\n",
    "    with open(filename, 'r') as f:\n",
    "        for line in f:\n",
    "            # ignore header line with genome information\n",
    "            if not line[0] == '>':\n",
    "                genome += line.rstrip()\n",
    "    return genome\n",
    "genome = readGenome('CERVICALDNA.fasta')\n",
    "genome[0:]"
   ]
  },
  {
   "cell_type": "code",
   "execution_count": 33,
   "metadata": {},
   "outputs": [
    {
     "name": "stdout",
     "output_type": "stream",
     "text": [
      "{'A': 132, 'C': 169, 'G': 194, 'T': 84}\n"
     ]
    }
   ],
   "source": [
    "# Count the number of occurences of each base\n",
    "counts = {'A': 0, 'C': 0, 'G': 0, 'T': 0}\n",
    "for base in genome:\n",
    "    counts[base] += 1\n",
    "print(counts)"
   ]
  },
  {
   "cell_type": "code",
   "execution_count": 34,
   "metadata": {},
   "outputs": [
    {
     "data": {
      "text/plain": [
       "Counter({'A': 132, 'T': 84, 'G': 194, 'C': 169})"
      ]
     },
     "execution_count": 34,
     "metadata": {},
     "output_type": "execute_result"
    }
   ],
   "source": [
    "import collections\n",
    "collections.Counter(genome)"
   ]
  },
  {
   "cell_type": "code",
   "execution_count": 35,
   "metadata": {},
   "outputs": [],
   "source": [
    "def readFastq(filename):\n",
    "    sequences = []\n",
    "    qualities = []\n",
    "    with open(filename) as fh:\n",
    "        while True:\n",
    "            fh.readline() # skip name line\n",
    "            seq = fh.readline().rstrip() # read base sequence\n",
    "            fh.readline() # skip placeholder line\n",
    "            qual = fh.readline().rstrip() #base quality line\n",
    "            if len(seq) == 0:\n",
    "                break\n",
    "            sequences.append(seq)\n",
    "            qualities.append(qual)\n",
    "    return sequences, qualities\n",
    "seqs, quals = readFastq('CERVICALDNA.fastq')"
   ]
  },
  {
   "cell_type": "code",
   "execution_count": 36,
   "metadata": {},
   "outputs": [],
   "source": [
    "def phred33ToQ(qual):\n",
    "    return ord(qual) - 33"
   ]
  },
  {
   "cell_type": "code",
   "execution_count": 37,
   "metadata": {},
   "outputs": [
    {
     "ename": "IndexError",
     "evalue": "list index out of range",
     "output_type": "error",
     "traceback": [
      "\u001b[1;31m---------------------------------------------------------------------------\u001b[0m",
      "\u001b[1;31mIndexError\u001b[0m                                Traceback (most recent call last)",
      "\u001b[1;32m<ipython-input-37-a0e0a3dcd446>\u001b[0m in \u001b[0;36m<module>\u001b[1;34m\u001b[0m\n\u001b[0;32m      7\u001b[0m             \u001b[0mhist\u001b[0m\u001b[1;33m[\u001b[0m\u001b[0mq\u001b[0m\u001b[1;33m]\u001b[0m \u001b[1;33m+=\u001b[0m \u001b[1;36m1\u001b[0m\u001b[1;33m\u001b[0m\u001b[1;33m\u001b[0m\u001b[0m\n\u001b[0;32m      8\u001b[0m     \u001b[1;32mreturn\u001b[0m \u001b[0mhist\u001b[0m\u001b[1;33m\u001b[0m\u001b[1;33m\u001b[0m\u001b[0m\n\u001b[1;32m----> 9\u001b[1;33m \u001b[0mh\u001b[0m \u001b[1;33m=\u001b[0m \u001b[0mcreateHist\u001b[0m\u001b[1;33m(\u001b[0m\u001b[0mquals\u001b[0m\u001b[1;33m)\u001b[0m\u001b[1;33m\u001b[0m\u001b[1;33m\u001b[0m\u001b[0m\n\u001b[0m\u001b[0;32m     10\u001b[0m \u001b[0mprint\u001b[0m\u001b[1;33m(\u001b[0m\u001b[0mh\u001b[0m\u001b[1;33m)\u001b[0m\u001b[1;33m\u001b[0m\u001b[1;33m\u001b[0m\u001b[0m\n",
      "\u001b[1;32m<ipython-input-37-a0e0a3dcd446>\u001b[0m in \u001b[0;36mcreateHist\u001b[1;34m(qualities)\u001b[0m\n\u001b[0;32m      5\u001b[0m         \u001b[1;32mfor\u001b[0m \u001b[0mphred\u001b[0m \u001b[1;32min\u001b[0m \u001b[0mqual\u001b[0m\u001b[1;33m:\u001b[0m\u001b[1;33m\u001b[0m\u001b[1;33m\u001b[0m\u001b[0m\n\u001b[0;32m      6\u001b[0m             \u001b[0mq\u001b[0m \u001b[1;33m=\u001b[0m \u001b[0mphred33ToQ\u001b[0m\u001b[1;33m(\u001b[0m\u001b[0mphred\u001b[0m\u001b[1;33m)\u001b[0m\u001b[1;33m\u001b[0m\u001b[1;33m\u001b[0m\u001b[0m\n\u001b[1;32m----> 7\u001b[1;33m             \u001b[0mhist\u001b[0m\u001b[1;33m[\u001b[0m\u001b[0mq\u001b[0m\u001b[1;33m]\u001b[0m \u001b[1;33m+=\u001b[0m \u001b[1;36m1\u001b[0m\u001b[1;33m\u001b[0m\u001b[1;33m\u001b[0m\u001b[0m\n\u001b[0m\u001b[0;32m      8\u001b[0m     \u001b[1;32mreturn\u001b[0m \u001b[0mhist\u001b[0m\u001b[1;33m\u001b[0m\u001b[1;33m\u001b[0m\u001b[0m\n\u001b[0;32m      9\u001b[0m \u001b[0mh\u001b[0m \u001b[1;33m=\u001b[0m \u001b[0mcreateHist\u001b[0m\u001b[1;33m(\u001b[0m\u001b[0mquals\u001b[0m\u001b[1;33m)\u001b[0m\u001b[1;33m\u001b[0m\u001b[1;33m\u001b[0m\u001b[0m\n",
      "\u001b[1;31mIndexError\u001b[0m: list index out of range"
     ]
    }
   ],
   "source": [
    "def createHist(qualities):\n",
    "    # Create a histogram of quality scores\n",
    "    hist = [0]*50\n",
    "    for qual in qualities:\n",
    "        for phred in qual:\n",
    "            q = phred33ToQ(phred)\n",
    "            hist[q] += 1\n",
    "    return hist\n",
    "h = createHist(quals)\n",
    "print(h)"
   ]
  },
  {
   "cell_type": "code",
   "execution_count": 38,
   "metadata": {},
   "outputs": [
    {
     "data": {
      "image/png": "[encoded data removed]",
      "text/plain": [
       "<Figure size 432x288 with 1 Axes>"
      ]
     },
     "metadata": {
      "needs_background": "light"
     },
     "output_type": "display_data"
    }
   ],
   "source": [
    "# Plot the histogram\n",
    "%matplotlib inline\n",
    "import matplotlib.pyplot as plt\n",
    "plt.plot(range(len(h)), h)\n",
    "plt.show()"
   ]
  },
  {
   "cell_type": "code",
   "execution_count": 39,
   "metadata": {},
   "outputs": [
    {
     "data": {
      "image/png": "[encoded data removed]",
      "text/plain": [
       "<Figure size 432x288 with 1 Axes>"
      ]
     },
     "metadata": {
      "needs_background": "light"
     },
     "output_type": "display_data"
    }
   ],
   "source": [
    "def findGCByPos(reads):\n",
    "    ''' Find the GC ratio at each position in the read '''\n",
    "    # Keep track of the number of G/C bases and the total number of bases at each position\n",
    "    gc = [0] * 100\n",
    "    totals = [0] * 100\n",
    "    for read in reads:\n",
    "        for i in range(len(read)):\n",
    "            if read[i] == 'C' or read[i] == 'G':\n",
    "                gc[i] += 1\n",
    "            totals[i] += 1\n",
    "    # Divide G/C counts by total counts to get the average at each position\n",
    "    for i in range(len(gc)):\n",
    "        if totals[i] > 0:\n",
    "            gc[i] /= float(totals[i])\n",
    "    return gc\n",
    "\n",
    "gc = findGCByPos(seqs)\n",
    "plt.plot(range(len(gc)), gc)\n",
    "plt.show()"
   ]
  },
  {
   "cell_type": "code",
   "execution_count": 40,
   "metadata": {},
   "outputs": [
    {
     "data": {
      "text/plain": [
       "Counter({'A': 44, 'T': 35, 'G': 52, 'C': 49})"
      ]
     },
     "execution_count": 40,
     "metadata": {},
     "output_type": "execute_result"
    }
   ],
   "source": [
    "import collections\n",
    "count = collections.Counter()\n",
    "for seq in seqs:\n",
    "    count.update(seq)\n",
    "count"
   ]
  },
  {
   "cell_type": "code",
   "execution_count": 41,
   "metadata": {},
   "outputs": [],
   "source": [
    "def readGenome(filename):\n",
    "    genome = ''\n",
    "    with open(filename, 'r') as f:\n",
    "        for line in f:\n",
    "            # ignore header line with genome information\n",
    "            if not line[0] == '>':\n",
    "                genome += line.rstrip()\n",
    "    return genome"
   ]
  },
  {
   "cell_type": "code",
   "execution_count": 42,
   "metadata": {},
   "outputs": [],
   "source": [
    "genome = readGenome('CERVICALDNA.fasta')"
   ]
  },
  {
   "cell_type": "code",
   "execution_count": 43,
   "metadata": {},
   "outputs": [],
   "source": [
    "def naive(p, t):\n",
    "    occurrences = []\n",
    "    for i in range(len(t) - len(p) + 1):\n",
    "        match = True\n",
    "        for j in range(len(p)):\n",
    "            if t[i+j] != p[j]:\n",
    "                match = False\n",
    "                break\n",
    "        if match:\n",
    "            occurrences.append(i)\n",
    "    return occurrences"
   ]
  },
  {
   "cell_type": "code",
   "execution_count": 44,
   "metadata": {},
   "outputs": [
    {
     "data": {
      "text/plain": [
       "[0, 5, 9]"
      ]
     },
     "execution_count": 44,
     "metadata": {},
     "output_type": "execute_result"
    }
   ],
   "source": [
    "t = 'AGCTTAGATAGC'\n",
    "p = 'AG'\n",
    "naive(p, t)"
   ]
  },
  {
   "cell_type": "code",
   "execution_count": 45,
   "metadata": {},
   "outputs": [
    {
     "name": "stdout",
     "output_type": "stream",
     "text": [
      "Wall time: 0 ns\n"
     ]
    }
   ],
   "source": [
    "%%time\n",
    "p = 'shake spea'\n",
    "t = 'Shakespear'\n",
    "naive(p,t)"
   ]
  },
  {
   "cell_type": "code",
   "execution_count": 54,
   "metadata": {},
   "outputs": [],
   "source": [
    "import random\n",
    "def generateReads(genome, numReads, readLen):\n",
    "    ''' Generate reads from random positions in the given genome. '''\n",
    "    reads = []\n",
    "    for _ in range(numReads):\n",
    "        start = random.randint(0, len(genome)-readLen) - 1\n",
    "        reads.append(genome[start : start+readLen])\n",
    "    return reads"
   ]
  },
  {
   "cell_type": "code",
   "execution_count": 55,
   "metadata": {},
   "outputs": [
    {
     "name": "stdout",
     "output_type": "stream",
     "text": [
      "100 / 100 reads matched the genome exactly!\n"
     ]
    }
   ],
   "source": [
    "# Generate 100 reads of length 100\n",
    "reads = generateReads(genome, 100, 100)\n",
    "\n",
    "# Count how many reads match the genome exactly\n",
    "numMatched = 0\n",
    "for r in reads:\n",
    "    matches = naive(r, genome)\n",
    "    if len(matches) > 0:\n",
    "        numMatched += 1\n",
    "print('%d / %d reads matched the genome exactly!' % (numMatched, len(reads)))"
   ]
  },
  {
   "cell_type": "code",
   "execution_count": 56,
   "metadata": {},
   "outputs": [],
   "source": [
    "def readFastq(filename):\n",
    "    sequences = []\n",
    "    with open(filename) as fh:\n",
    "        while True:\n",
    "            fh.readline() # skip name line\n",
    "            seq = fh.readline().rstrip() # read base sequence\n",
    "            fh.readline() # skip placeholder line\n",
    "            fh.readline() # skip base quality line\n",
    "            if len(seq) == 0:\n",
    "                break\n",
    "            sequences.append(seq)\n",
    "    return sequences"
   ]
  },
  {
   "cell_type": "code",
   "execution_count": 57,
   "metadata": {},
   "outputs": [
    {
     "data": {
      "text/plain": [
       "Counter({'A': 44, 'T': 35, 'G': 52, 'C': 49})"
      ]
     },
     "execution_count": 57,
     "metadata": {},
     "output_type": "execute_result"
    }
   ],
   "source": [
    "import collections\n",
    "phix_reads = readFastq('CERVICALDNA.fastq')\n",
    "count = collections.Counter()\n",
    "for read in phix_reads:\n",
    "    count.update(read)\n",
    "count"
   ]
  },
  {
   "cell_type": "code",
   "execution_count": 58,
   "metadata": {},
   "outputs": [
    {
     "name": "stdout",
     "output_type": "stream",
     "text": [
      "3 / 3 reads matched the genome exactly!\n"
     ]
    }
   ],
   "source": [
    "numMatched = 0\n",
    "n = 0\n",
    "for r in phix_reads:\n",
    "    matches = naive(r, genome)\n",
    "    n += 1\n",
    "    if len(matches) > 0:\n",
    "        numMatched += 1\n",
    "print('%d / %d reads matched the genome exactly!' % (numMatched, n))"
   ]
  },
  {
   "cell_type": "code",
   "execution_count": 59,
   "metadata": {},
   "outputs": [
    {
     "name": "stdout",
     "output_type": "stream",
     "text": [
      "3 / 3 reads matched the genome exactly!\n"
     ]
    }
   ],
   "source": [
    "# Now let's try matching just the first 30 bases of each read\n",
    "numMatched = 0\n",
    "n = 0\n",
    "for r in phix_reads:\n",
    "    r = r[:30]  # just taking the first 30 bases\n",
    "    matches = naive(r, genome)\n",
    "    n += 1\n",
    "    if len(matches) > 0:\n",
    "        numMatched += 1\n",
    "print('%d / %d reads matched the genome exactly!' % (numMatched, n))"
   ]
  },
  {
   "cell_type": "code",
   "execution_count": 60,
   "metadata": {},
   "outputs": [],
   "source": [
    "def reverseComplement(s):\n",
    "    complement = {'A': 'T', 'C': 'G', 'G': 'C', 'T': 'A', 'N': 'N'}\n",
    "    t = ''\n",
    "    for base in s:\n",
    "        t = complement[base] + t\n",
    "    return t"
   ]
  },
  {
   "cell_type": "code",
   "execution_count": 61,
   "metadata": {},
   "outputs": [
    {
     "name": "stdout",
     "output_type": "stream",
     "text": [
      "3 / 3 reads matched the genome exactly!\n"
     ]
    }
   ],
   "source": [
    "numMatched = 0\n",
    "n = 0\n",
    "for r in phix_reads:\n",
    "    r = r[:30]  # just taking the first 30 bases\n",
    "    matches = naive(r, genome)\n",
    "    matches.extend(naive(reverseComplement(r), genome))\n",
    "    n += 1\n",
    "    if len(matches) > 0:\n",
    "        numMatched += 1\n",
    "print('%d / %d reads matched the genome exactly!' % (numMatched, n))"
   ]
  },
  {
   "cell_type": "code",
   "execution_count": 62,
   "metadata": {},
   "outputs": [
    {
     "name": "stdout",
     "output_type": "stream",
     "text": [
      "Q1: The alignments for naive match algorithm is 533\n",
      "\n",
      "Q2: The characters comparisons for naive match algorithm is 852\n",
      "\n",
      "Q3: The Alignments for Boyer-Moore algorithm is 13\n",
      "\n",
      "Q4: Within 2 mismatches, the string occurs 0 times\n",
      "\n",
      "Q5: Within 2 mismatches, the total index hits are 0 \n",
      "\n",
      "Q6: Within 2 mismatches, the hits are 0\n",
      "\n"
     ]
    }
   ],
   "source": [
    "import bisect\n",
    "\n",
    "class findPatternV2 ():\n",
    "    \"\"\"\n",
    "    This class finds the occurence and position of a given pattern in a given \n",
    "    genomic sequence in a file.\n",
    "    \"\"\"\n",
    "    def __init__(self, pattern, filename = False):\n",
    "        # initiate parameters\n",
    "        self.pattern = pattern\n",
    "        self.filename = filename\n",
    "        \n",
    "    def readGenome (self):\n",
    "        \"\"\"\n",
    "        read genomic DNA sequence to a string\n",
    "        \"\"\"\n",
    "        genome = \"\"\n",
    "        with open (self.filename, \"r\") as f:\n",
    "            for line in f:\n",
    "                # skip header\n",
    "                if not line[0] == \">\":\n",
    "                    genome += line.rstrip()\n",
    "            f.close()\n",
    "        return genome\n",
    "        \n",
    "    def naiveMatch (self, numberOfMismatch, text = False):\n",
    "        \"\"\"\n",
    "        this is naive match to find the index of matched patterns in a genome\n",
    "        and calculate number of total character comparisons and alignments\n",
    "        \"\"\"\n",
    "        if text != False: #for test cases\n",
    "            genome = text\n",
    "        else:\n",
    "            genome = self.readGenome()\n",
    "        pattern = self.pattern\n",
    "        occurences = []\n",
    "        alignments = 0\n",
    "        comparisons = 0\n",
    "        for i in range(len(genome) - len(pattern) + 1):\n",
    "            match = True\n",
    "            counter = 0\n",
    "            for j in range(len(pattern)):\n",
    "                comparisons += 1\n",
    "                if pattern[j] != genome[i+j]:\n",
    "                    counter += 1\n",
    "                if counter > numberOfMismatch:\n",
    "                    match = False\n",
    "                    break\n",
    "            if match:\n",
    "                occurences.append(i)\n",
    "            alignments += 1\n",
    "        return occurences, alignments, comparisons\n",
    "        \n",
    "    def boyerMoore (self, numberOfMismatch, bm, text = False):\n",
    "        \"\"\"\n",
    "        this is naive match to find the index of matched patterns in a genome\n",
    "        and calculate number of total character comparisons and alignments\n",
    "        \"\"\"\n",
    "        i = 0\n",
    "        if text != False: #for test cases\n",
    "            genome = text\n",
    "        else:\n",
    "            genome = self.readGenome()\n",
    "        pattern = self.pattern\n",
    "        occurences = []\n",
    "        alignments = 0\n",
    "        comparisons = 0\n",
    "        while i < len(genome) - len(pattern) + 1:\n",
    "            shift = 1\n",
    "            match = True\n",
    "            for j in range(len(pattern) - 1, -1, -1):\n",
    "                comparisons += 1\n",
    "                if pattern[j] != genome[i+j]:\n",
    "                    badCharacterSkip = bm.bad_character_rule(j, genome[i+j])\n",
    "                    goodSuffixSkip = bm.good_suffix_rule(j)\n",
    "                    shift = max(shift, badCharacterSkip, goodSuffixSkip)\n",
    "                    match = False\n",
    "                    break\n",
    "            if match:\n",
    "                occurences.append(i)\n",
    "                goodSuffixSkip = bm.match_skip()\n",
    "                shift = max(shift, goodSuffixSkip)\n",
    "            i += shift\n",
    "            alignments += 1\n",
    "        return occurences, alignments, comparisons\n",
    "        \n",
    "    def matchedIndex(self, index, k_mer, pattern, isSubseqIndex):\n",
    "        \"\"\"\n",
    "        find number of hits, occurences and time of occurence for a given pattern\n",
    "        using string index in genome\n",
    "        \"\"\"\n",
    "        genome = self.readGenome()\n",
    "        occurences_match = []\n",
    "        hit_index = []\n",
    "        occurence_genome = []\n",
    "        counter = 0\n",
    "        if not isSubseqIndex:\n",
    "            length = len(pattern)-k_mer + 1\n",
    "        else:\n",
    "            length = isSubseqIndex\n",
    "        for i in range(length): # loop over to generate kmers\n",
    "            if not isSubseqIndex:                \n",
    "                pattern_q = pattern[i:i+k_mer]\n",
    "            else:\n",
    "                pattern_q = pattern[i:]\n",
    "            hits = index.query(pattern_q) # query each kmer\n",
    "            for hit in hits:\n",
    "                counter += 1 #count total number of hits\n",
    "                text = genome[hit-i : hit+len(pattern) -i]\n",
    "                if hit-i not in hit_index: #avoid duplicated counts\n",
    "                    hit_index.append(hit-i)\n",
    "                    occurence, _, _ = self.naiveMatch(2,text)\n",
    "                    occurences_match.extend(occurence)\n",
    "                if len(occurence) != 0 and hit-i not in occurence_genome:\n",
    "                    occurence_genome.append(hit-i) \n",
    "        return occurence_genome, len(occurences_match), counter\n",
    "        \n",
    "class Index(object):\n",
    "    def __init__(self, t, k):\n",
    "        ''' Create index from all substrings of size 'length' '''\n",
    "        self.k = k  # k-mer length (k)\n",
    "        self.index = []\n",
    "        for i in range(len(t) - k + 1):  # for each k-mer\n",
    "            self.index.append((t[i:i+k], i))  # add (k-mer, offset) pair\n",
    "        self.index.sort()  # alphabetize by k-mer\n",
    "    \n",
    "    def query(self, p):\n",
    "        ''' Return index hits for first k-mer of P '''\n",
    "        kmer = p[:self.k]  # query with first k-mer\n",
    "        i = bisect.bisect_left(self.index, (kmer, -1))  # binary search\n",
    "        hits = []\n",
    "        while i < len(self.index):  # collect matching index entries\n",
    "            if self.index[i][0] != kmer:\n",
    "                break\n",
    "            hits.append(self.index[i][1])\n",
    "            i += 1\n",
    "        return hits\n",
    "    def genome_index(self):\n",
    "         return self.index       \n",
    "\n",
    "class SubseqIndex(object):\n",
    "    \"\"\" Holds a subsequence index for a text T \"\"\"\n",
    "    \n",
    "    def __init__(self, t, k, ival):\n",
    "        \"\"\" Create index from all subsequences consisting of k characters\n",
    "            spaced ival positions apart.  E.g., SubseqIndex(\"ATAT\", 2, 2)\n",
    "            extracts (\"AA\", 0) and (\"TT\", 1). \"\"\"\n",
    "        self.k = k  # num characters per subsequence extracted\n",
    "        self.ival = ival  # space between them; 1=adjacent, 2=every other, etc\n",
    "        self.index = []\n",
    "        self.span = 1 + ival * (k - 1)\n",
    "        for i in range(len(t) - self.span + 1):  # for each subseq\n",
    "            self.index.append((t[i:i+self.span:ival], i))  # add (subseq, offset)\n",
    "        self.index.sort()  # alphabetize by subseq\n",
    "    \n",
    "    def query(self, p):\n",
    "        \"\"\" Return index hits for first subseq of p \"\"\"\n",
    "        subseq = p[:self.span:self.ival]  # query with first subseq\n",
    "        i = bisect.bisect_left(self.index, (subseq, -1))  # binary search\n",
    "        hits = []\n",
    "        while i < len(self.index):  # collect matching index entries\n",
    "            if self.index[i][0] != subseq:\n",
    "                break\n",
    "            hits.append(self.index[i][1])\n",
    "            i += 1\n",
    "        return hits\n",
    "\n",
    "if __name__ == \"__main__\":\n",
    "    from bm_preproc import BoyerMoore\n",
    "    #Questions 1-3\n",
    "    filename = (\"CERVICALDNA.fasta\")\n",
    "    #Q1: How many alignments does the naive exact matching algorithm try when \n",
    "    #matching the string GGCGCGGTGGCTCACGCCTGTAATCCCAGCACTTTGGGAGGCCGAGG \n",
    "    #(derived from human Alu sequences) to the excerpt of human chromosome 1? \n",
    "    #(Don't consider reverse complements.)\n",
    "    pattern = \"GGCGCGGTGGCTCACGCCTGTAATCCCAGCACTTTGGGAGGCCGAGG\"\n",
    "    patterns = findPatternV2(pattern, filename)\n",
    "    print(\"Q1: The alignments for naive match algorithm is %d\\n\"%patterns.naiveMatch(0)[1])\n",
    "    patterns = findPatternV2(\"GGCGCGGTGGCTCACGCCTGTAAT\", filename)    \n",
    "    \n",
    "    #Q2: How many character comparisons does the naive exact matching algorithm \n",
    "    #try when matching the string GGCGCGGTGGCTCACGCCTGTAATCCCAGCACTTTGGGAGGCCGAGG \n",
    "    #(derived from human Alu sequences) to the excerpt of human chromosome 1? \n",
    "    #(Don't consider reverse complements.)\n",
    "    print(\"Q2: The characters comparisons for naive match algorithm is %d\\n\"%patterns.naiveMatch(0)[2])\n",
    "    \n",
    "    #How many alignments does Boyer-Moore try when matching the string \n",
    "    #GGCGCGGTGGCTCACGCCTGTAATCCCAGCACTTTGGGAGGCCGAGG \n",
    "    #(derived from human Alu sequences) to the excerpt of human chromosome 1? \n",
    "    #(Don't consider reverse complements.)\n",
    "    print(\"Q3: The Alignments for Boyer-Moore algorithm is %d\\n\"%patterns.boyerMoore(0, \\\n",
    "          BoyerMoore(pattern, \"ACGT\"))[1])\n",
    "    \n",
    "    #Q4: How many times does the string GGCGCGGTGGCTCACGCCTGTAAT, \n",
    "    #which is derived from a human Alu sequence, occur with up to 2 \n",
    "    #substitutions in the excerpt of human chromosome 1? \n",
    "    #(Don't consider reverse complements here.)\n",
    "    k_mer = 8      \n",
    "    pattern = \"GGCGCGGTGGCTCACGCCTGTAAT\"\n",
    "    genome = patterns.readGenome()\n",
    "    index = Index(genome, k_mer)\n",
    "    occurences, numberOfOccurs, numberOfhits = patterns.matchedIndex(index, \\\n",
    "                                               k_mer, pattern, isSubseqIndex = False)\n",
    "    print(\"Q4: Within 2 mismatches, the string occurs %d times\\n\" %numberOfOccurs)\n",
    "    \n",
    "    #Q5:Using the instructions given in Question 4, how many total index hits \n",
    "    #are there when searching for occurrences of GGCGCGGTGGCTCACGCCTGTAAT with \n",
    "    #up to 2 substitutions in the excerpt of human chromosome 1?\n",
    "    print(\"Q5: Within 2 mismatches, the total index hits are %d \\n\" %numberOfhits)\n",
    "    \n",
    "    #Q6: When using this function, how many total index hits are there when \n",
    "    #searching for GGCGCGGTGGCTCACGCCTGTAAT with up to 2 substitutions in the \n",
    "    #excerpt of human chromosome 1? (Again, don't consider reverse complements.)\n",
    "    pattern = \"GGCGCGGTGGCTCACGCCTGTAAT\"\n",
    "    k_mer = 8\n",
    "    vial = 3\n",
    "    index = SubseqIndex(genome, k_mer, vial)\n",
    "    occurences, numberOfOccurs, numberOfhits = patterns.matchedIndex(index, \\\n",
    "                                               k_mer, pattern, isSubseqIndex = vial)\n",
    "\n",
    "    print(\"Q6: Within 2 mismatches, the hits are %d\\n\" %numberOfhits)"
   ]
  },
  {
   "cell_type": "code",
   "execution_count": null,
   "metadata": {},
   "outputs": [],
   "source": []
  }
 ],
 "metadata": {
  "kernelspec": {
   "display_name": "Python 3",
   "language": "python",
   "name": "python3"
  },
  "language_info": {
   "codemirror_mode": {
    "name": "ipython",
    "version": 3
   },
   "file_extension": ".py",
   "mimetype": "text/x-python",
   "name": "python",
   "nbconvert_exporter": "python",
   "pygments_lexer": "ipython3",
   "version": "3.6.8"
  }
 },
 "nbformat": 4,
 "nbformat_minor": 2
}
