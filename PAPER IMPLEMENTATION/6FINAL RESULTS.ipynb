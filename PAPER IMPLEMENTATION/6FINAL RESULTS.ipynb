{
 "cells": [
  {
   "cell_type": "markdown",
   "metadata": {},
   "source": [
    "# MUTATION-DETECTION:"
   ]
  },
  {
   "cell_type": "code",
   "execution_count": 1,
   "metadata": {},
   "outputs": [
    {
     "name": "stdout",
     "output_type": "stream",
     "text": [
      "Found 233 mutation(s) for id AAK97314.1\n"
     ]
    }
   ],
   "source": [
    "from Bio import SeqIO\n",
    "\n",
    "normal_samples = SeqIO.parse(\"CERVICALDNA.fasta\", \"fasta\") \n",
    "affected_samples = SeqIO.parse(\"CERVICALMutated.fasta\", \"fasta\")\n",
    "\n",
    "for normal, affected in zip(normal_samples, affected_samples): \n",
    "    if normal.id == affected.id: \n",
    "        mutations = sum(1 for n, t in zip(str(normal.seq), str(affected.seq)) if n != t) \n",
    "        print(f\"Found {mutations} mutation(s) for id {normal.id}\")"
   ]
  },
  {
   "cell_type": "markdown",
   "metadata": {},
   "source": [
    "# OPTIONAL:--"
   ]
  },
  {
   "cell_type": "markdown",
   "metadata": {},
   "source": [
    "# 1.SEQUENTIAL PATTERN MINING"
   ]
  },
  {
   "cell_type": "code",
   "execution_count": 2,
   "metadata": {},
   "outputs": [
    {
     "name": "stdout",
     "output_type": "stream",
     "text": [
      "What min. support do you want to use? \n",
      "3\n",
      "\n",
      "**** Sequence with minSupport = 3 ****\n",
      "\n",
      "Sets:\n",
      "\n",
      "frozenset({'T'})\n",
      "frozenset({'G'})\n",
      "frozenset({'C'})\n",
      "frozenset({'A'})\n",
      "frozenset({'T', 'G'})\n",
      "frozenset({'C', 'T'})\n",
      "frozenset({'A', 'T'})\n",
      "frozenset({'C', 'G'})\n",
      "frozenset({'A', 'G'})\n",
      "frozenset({'C', 'A'})\n",
      "frozenset({'C', 'T', 'G'})\n",
      "frozenset({'C', 'T', 'A'})\n",
      "frozenset({'A', 'T', 'G'})\n",
      "frozenset({'C', 'G', 'A'})\n",
      "frozenset({'C', 'A', 'G', 'T'})\n",
      "\n",
      "Counts:\n",
      "\n",
      "frozenset({'A'}) 4\n",
      "frozenset({'C'}) 4\n",
      "frozenset({'G'}) 4\n",
      "frozenset({'T'}) 5\n",
      "frozenset({'>AAK97314.1 cervical cancer proto-oncogene 2 [Homo sapiens]'}) 1\n",
      "frozenset({'ATGCAGGCGGTGCGCAACGCGGGCAGCCGCTTTCTGCGCAGCTGGACCTGGCCGCAGACC'}) 1\n",
      "frozenset({'GCGGGCGTGGTGGCGCGCACCCCGGCGGGCACCATTTGCACCGGCGCGCGCCAGCTGCAG'}) 1\n",
      "frozenset({'GATGCGGCGGCGAAACAGAAAGTGGAACAGAACGCGGCGCCGAGCCATACCAAATTTAGC'}) 1\n",
      "frozenset({'ATTTATCCGCCGATTCCGGGCGAAGAAAGCAGCCTGCGCTGGGCGGGCAAAAAATTTGAA'}) 1\n",
      "frozenset({'GAAATTCCGATTGCGCATATTAAAGCGAGCCATAACAACACCCAGATTCAGGTGGTGAGC'}) 1\n",
      "frozenset({'GCGAGCAACGAACCGCTGGCGTTTGCGAGCTGCGGCACCGAAGGCTTTCGCAACGCGAAA'}) 1\n",
      "frozenset({'AAAGGCACCGGCATTGCGGCGCAGACCGCGGGCATTGCGGCGGCGGCGCGCGCGAAACAG'}) 1\n",
      "frozenset({'AAAGGCGTGATTCATATTCGCGTGGTGGTGAAAGGCCTGGGCCCGGGCCGCCTGAGCGCG'}) 1\n",
      "frozenset({'ATGCATGGCCTGATTATGGGCGGCCTGGAAGTGATTAGCATTACCGATAACACCCCGATT'}) 1\n",
      "frozenset({'CCGCATAACGGCTGCCGCCCGCGCAAAGCGCGCAAACTG'}) 1\n",
      "frozenset({'T', 'G'}) 4\n",
      "frozenset({'C', 'T'}) 4\n",
      "frozenset({'A', 'T'}) 4\n",
      "frozenset({'C', 'G'}) 4\n",
      "frozenset({'A', 'G'}) 4\n",
      "frozenset({'C', 'A'}) 4\n",
      "frozenset({'C', 'T', 'G'}) 4\n",
      "frozenset({'C', 'T', 'A'}) 4\n",
      "frozenset({'A', 'T', 'G'}) 4\n",
      "frozenset({'C', 'G', 'A'}) 4\n",
      "frozenset({'C', 'A', 'G', 'T'}) 4\n"
     ]
    }
   ],
   "source": [
    "def createCandidateSet(data):\n",
    "    cand = []\n",
    "    for row in data:\n",
    "        for itm in row:\n",
    "            if [itm] not in cand:\n",
    "                cand.append([itm])\n",
    "    cand.sort()\n",
    "    return list(map(frozenset,cand))\n",
    "\n",
    "def scanData(data, candidateSet, minSupport):\n",
    "    subsetCount = {}\n",
    "    for curSet in data:\n",
    "        for cand in candidateSet:\n",
    "            if cand.issubset(curSet):\n",
    "                if not cand in subsetCount:\n",
    "                    subsetCount[cand] = 1\n",
    "                else:\n",
    "                    subsetCount[cand] += 1\n",
    "    n = float(len(data))\n",
    "    valid = []\n",
    "    for key in subsetCount:\n",
    "        sup = subsetCount[key]\n",
    "        if sup >= minSupport:\n",
    "            valid.insert(0,key)\n",
    "    return valid, subsetCount\n",
    "\n",
    "def genSequential(freqSets, k):\n",
    "    valid = []\n",
    "    nFreqSets = len(freqSets)\n",
    "    for i in range(nFreqSets):\n",
    "        for j in range(i+1, nFreqSets):\n",
    "            lstCands1 = list(freqSets[i])[:k-2]\n",
    "            lstCands2 = list(freqSets[j])[:k-2]\n",
    "            lstCands1.sort()\n",
    "            lstCands2.sort()\n",
    "            # if first k-2 elements are equal\n",
    "            if lstCands1 == lstCands2:\n",
    "                valid.append(freqSets[i]|freqSets[j]) # union \n",
    "    return valid\n",
    "\n",
    "def Seqtial(data, minSupport):\n",
    "    candSet = createCandidateSet(data)\n",
    "    setData = list(map(set,data))\n",
    "    lstCands, subsetCounts = scanData(setData,candSet,minSupport)\n",
    "    lstCands = [lstCands]\n",
    "    k = 2\n",
    "    while(len(lstCands[k-2]) > 0):\n",
    "        candSetX = genSequential(lstCands[k-2],k)\n",
    "        lstCandsX, subsetCountsX = scanData(setData,candSetX, minSupport)\n",
    "        subsetCounts.update(subsetCountsX)\n",
    "        lstCands.append(candSetX)\n",
    "        k += 1\n",
    "    return lstCands, subsetCounts\n",
    "\n",
    "# read in data\n",
    "data = ['ATGC','ACGT','ATCG','TTTT','AGTCG']\n",
    "dataSetFilename = 'CERVICALDNA.fasta'\n",
    "with open(dataSetFilename,'r') as file:\n",
    "    for line in file:\n",
    "        data.append(line.strip().split(','))\n",
    "\n",
    "\n",
    "print(\"What min. support do you want to use? \")\n",
    "minSupp = input()\n",
    "minSupp = int(minSupp)\n",
    "\n",
    "print(\"\\n**** Sequence with minSupport = {} ****\".format(minSupp))\n",
    "\n",
    "# call SPM\n",
    "sets, counts = Seqtial(data,minSupp)\n",
    "print(\"\\nSets:\\n\")\n",
    "for x in sets:\n",
    "    for y in x:\n",
    "        print(y)\n",
    "\n",
    "print(\"\\nCounts:\\n\")\n",
    "for k,v in counts.items():\n",
    "\tprint(k, v)"
   ]
  },
  {
   "cell_type": "markdown",
   "metadata": {},
   "source": [
    "# 2.DNA TO PROTEIN TRANSLATION"
   ]
  },
  {
   "cell_type": "code",
   "execution_count": 3,
   "metadata": {},
   "outputs": [
    {
     "name": "stdout",
     "output_type": "stream",
     "text": [
      "FIRST\n",
      "[SeqRecord(seq=Seq('MQAVRNAGSRFLRSWTWPQTAGVVARTPAGTICTGARQLQDAAAKQKVEQNAAP...RKL', ExtendedIUPACProtein()), id='<unknown id>', name='<unknown name>', description='<unknown description>', dbxrefs=[])]\n",
      "SECOND\n",
      "[SeqRecord(seq=Seq('CRRCATRAAAFCAAGPGRRPRAWWRAPRRAPFAPARASCRMRRRNRKWNRTRRR...ANX', HasStopCodon(ExtendedIUPACProtein(), '*')), id='<unknown id>', name='<unknown name>', description='<unknown description>', dbxrefs=[])]\n",
      "THIRD\n",
      "[SeqRecord(seq=Seq('AGGAQRGQPLSAQLDLAADRGRGGAHPGGHHLHRRAPAAGCGGETESGTERGAE...QTX', HasStopCodon(ExtendedIUPACProtein(), '*')), id='<unknown id>', name='<unknown name>', description='<unknown description>', dbxrefs=[])]\n"
     ]
    },
    {
     "data": {
      "text/plain": [
       "0"
      ]
     },
     "execution_count": 3,
     "metadata": {},
     "output_type": "execute_result"
    }
   ],
   "source": [
    "#Translates an DNA sequence from a fasta file to an amino acid sequence.\n",
    "from Bio.Seq import Seq\n",
    "from Bio import SeqIO\n",
    "\n",
    "def pad_seq(sequence):\n",
    "    \"\"\" Pad sequence to multiple of 3 with N \"\"\"\n",
    "\n",
    "    remainder = len(sequence) % 3\n",
    "\n",
    "    return sequence if remainder == 0 else sequence + Seq('N' * (3 - remainder))\n",
    "\n",
    "seq_records = SeqIO.parse('CERVICALDNA.fasta', 'fasta')\n",
    "\n",
    "\n",
    "amino_acids1 = []\n",
    "amino_acids2 = []\n",
    "amino_acids3 = []\n",
    "\n",
    "for record in seq_records:\n",
    "\n",
    "    # starting from nucleotide 1\n",
    "    amino_acids1.append(pad_seq(record).translate())\n",
    "    print(\"FIRST\")\n",
    "    print(amino_acids1)\n",
    "    # ...\n",
    "\n",
    "    # starting from nucleotide 2\n",
    "    record2 = record[1:]\n",
    "    amino_acids2.append(pad_seq(record2).translate())\n",
    "    print(\"SECOND\")\n",
    "    print(amino_acids2)\n",
    "    # ...\n",
    "\n",
    "    # starting from nucleotide 3\n",
    "    record3 = record[2:]\n",
    "    amino_acids3.append(pad_seq(record3).translate())\n",
    "    print(\"THIRD\")\n",
    "    print(amino_acids3)\n",
    "    # ...\n",
    "    \n",
    "SeqIO.write(seq_records, \"DNA2Protein.fasta\", \"fasta\")"
   ]
  },
  {
   "cell_type": "code",
   "execution_count": null,
   "metadata": {},
   "outputs": [],
   "source": []
  }
 ],
 "metadata": {
  "kernelspec": {
   "display_name": "Python 3",
   "language": "python",
   "name": "python3"
  },
  "language_info": {
   "codemirror_mode": {
    "name": "ipython",
    "version": 3
   },
   "file_extension": ".py",
   "mimetype": "text/x-python",
   "name": "python",
   "nbconvert_exporter": "python",
   "pygments_lexer": "ipython3",
   "version": "3.6.8"
  }
 },
 "nbformat": 4,
 "nbformat_minor": 2
}
