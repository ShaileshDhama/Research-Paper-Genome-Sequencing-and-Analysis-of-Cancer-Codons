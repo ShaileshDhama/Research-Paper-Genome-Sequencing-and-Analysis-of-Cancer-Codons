{
 "cells": [
  {
   "cell_type": "markdown",
   "metadata": {},
   "source": [
    "# BIOPYTHON-BASICS"
   ]
  },
  {
   "cell_type": "code",
   "execution_count": 2,
   "metadata": {},
   "outputs": [
    {
     "data": {
      "text/plain": [
       "Seq('AGTACACTGGT')"
      ]
     },
     "execution_count": 2,
     "metadata": {},
     "output_type": "execute_result"
    }
   ],
   "source": [
    "from Bio.Seq import Seq\n",
    "my_seq = Seq(\"AGTACACTGGT\")\n",
    "my_seq"
   ]
  },
  {
   "cell_type": "code",
   "execution_count": 3,
   "metadata": {},
   "outputs": [
    {
     "data": {
      "text/plain": [
       "Alphabet()"
      ]
     },
     "execution_count": 3,
     "metadata": {},
     "output_type": "execute_result"
    }
   ],
   "source": [
    "my_seq.alphabet"
   ]
  },
  {
   "cell_type": "code",
   "execution_count": 4,
   "metadata": {},
   "outputs": [
    {
     "data": {
      "text/plain": [
       "Seq('AGTACACTGGT', IUPACUnambiguousDNA())"
      ]
     },
     "execution_count": 4,
     "metadata": {},
     "output_type": "execute_result"
    }
   ],
   "source": [
    "from Bio.Alphabet import IUPAC\n",
    "my_seq = Seq(\"AGTACACTGGT\", IUPAC.unambiguous_dna)\n",
    "my_seq"
   ]
  },
  {
   "cell_type": "code",
   "execution_count": 5,
   "metadata": {},
   "outputs": [
    {
     "data": {
      "text/plain": [
       "IUPACUnambiguousDNA()"
      ]
     },
     "execution_count": 5,
     "metadata": {},
     "output_type": "execute_result"
    }
   ],
   "source": [
    "my_seq.alphabet"
   ]
  },
  {
   "cell_type": "code",
   "execution_count": 6,
   "metadata": {},
   "outputs": [
    {
     "name": "stdout",
     "output_type": "stream",
     "text": [
      "0 A\n",
      "1 G\n",
      "2 T\n",
      "3 A\n",
      "4 C\n",
      "5 A\n",
      "6 C\n",
      "7 T\n",
      "8 G\n",
      "9 G\n",
      "10 T\n"
     ]
    }
   ],
   "source": [
    "for index, letter in enumerate(my_seq):\n",
    "   print(\"%i %s\" % (index, letter))"
   ]
  },
  {
   "cell_type": "code",
   "execution_count": 7,
   "metadata": {},
   "outputs": [
    {
     "data": {
      "text/plain": [
       "11"
      ]
     },
     "execution_count": 7,
     "metadata": {},
     "output_type": "execute_result"
    }
   ],
   "source": [
    "len(my_seq)"
   ]
  },
  {
   "cell_type": "code",
   "execution_count": 8,
   "metadata": {},
   "outputs": [
    {
     "data": {
      "text/plain": [
       "3"
      ]
     },
     "execution_count": 8,
     "metadata": {},
     "output_type": "execute_result"
    }
   ],
   "source": [
    "my_seq.count(\"A\")"
   ]
  },
  {
   "cell_type": "code",
   "execution_count": 9,
   "metadata": {},
   "outputs": [
    {
     "data": {
      "text/plain": [
       "2"
      ]
     },
     "execution_count": 9,
     "metadata": {},
     "output_type": "execute_result"
    }
   ],
   "source": [
    "my_seq.count(\"GT\")"
   ]
  },
  {
   "cell_type": "code",
   "execution_count": 10,
   "metadata": {},
   "outputs": [
    {
     "data": {
      "text/plain": [
       "2"
      ]
     },
     "execution_count": 10,
     "metadata": {},
     "output_type": "execute_result"
    }
   ],
   "source": [
    "Seq(\"AAAA\").count(\"AA\")"
   ]
  },
  {
   "cell_type": "code",
   "execution_count": 11,
   "metadata": {},
   "outputs": [
    {
     "data": {
      "text/plain": [
       "Seq('TACACT', IUPACUnambiguousDNA())"
      ]
     },
     "execution_count": 11,
     "metadata": {},
     "output_type": "execute_result"
    }
   ],
   "source": [
    "my_seq[2:8]"
   ]
  },
  {
   "cell_type": "code",
   "execution_count": 12,
   "metadata": {},
   "outputs": [
    {
     "data": {
      "text/plain": [
       "Seq('TACACTAGTACACTGGT', IUPACUnambiguousDNA())"
      ]
     },
     "execution_count": 12,
     "metadata": {},
     "output_type": "execute_result"
    }
   ],
   "source": [
    "p_seq = Seq(\"EVRNAK\", IUPAC.protein)\n",
    "d_seq = Seq('TACACT', IUPAC.unambiguous_dna)\n",
    "d_seq + my_seq"
   ]
  },
  {
   "cell_type": "code",
   "execution_count": 13,
   "metadata": {},
   "outputs": [
    {
     "ename": "TypeError",
     "evalue": "Incompatible alphabets IUPACProtein() and IUPACUnambiguousDNA()",
     "output_type": "error",
     "traceback": [
      "\u001b[1;31m---------------------------------------------------------------------------\u001b[0m",
      "\u001b[1;31mTypeError\u001b[0m                                 Traceback (most recent call last)",
      "\u001b[1;32m<ipython-input-13-ed678bbfe19e>\u001b[0m in \u001b[0;36m<module>\u001b[1;34m\u001b[0m\n\u001b[1;32m----> 1\u001b[1;33m \u001b[0mp_seq\u001b[0m \u001b[1;33m+\u001b[0m \u001b[0mmy_seq\u001b[0m\u001b[1;33m\u001b[0m\u001b[1;33m\u001b[0m\u001b[0m\n\u001b[0m",
      "\u001b[1;32mC:\\ProgramData\\Anaconda3\\lib\\site-packages\\Bio\\Seq.py\u001b[0m in \u001b[0;36m__add__\u001b[1;34m(self, other)\u001b[0m\n\u001b[0;32m    309\u001b[0m                 raise TypeError(\n\u001b[0;32m    310\u001b[0m                     \"Incompatible alphabets {0!r} and {1!r}\".format(\n\u001b[1;32m--> 311\u001b[1;33m                         self.alphabet, other.alphabet))\n\u001b[0m\u001b[0;32m    312\u001b[0m             \u001b[1;31m# They should be the same sequence type (or one of them is generic)\u001b[0m\u001b[1;33m\u001b[0m\u001b[1;33m\u001b[0m\u001b[1;33m\u001b[0m\u001b[0m\n\u001b[0;32m    313\u001b[0m             \u001b[0ma\u001b[0m \u001b[1;33m=\u001b[0m \u001b[0mAlphabet\u001b[0m\u001b[1;33m.\u001b[0m\u001b[0m_consensus_alphabet\u001b[0m\u001b[1;33m(\u001b[0m\u001b[1;33m[\u001b[0m\u001b[0mself\u001b[0m\u001b[1;33m.\u001b[0m\u001b[0malphabet\u001b[0m\u001b[1;33m,\u001b[0m \u001b[0mother\u001b[0m\u001b[1;33m.\u001b[0m\u001b[0malphabet\u001b[0m\u001b[1;33m]\u001b[0m\u001b[1;33m)\u001b[0m\u001b[1;33m\u001b[0m\u001b[1;33m\u001b[0m\u001b[0m\n",
      "\u001b[1;31mTypeError\u001b[0m: Incompatible alphabets IUPACProtein() and IUPACUnambiguousDNA()"
     ]
    }
   ],
   "source": [
    "p_seq + my_seq"
   ]
  },
  {
   "cell_type": "code",
   "execution_count": 14,
   "metadata": {},
   "outputs": [
    {
     "data": {
      "text/plain": [
       "Seq('TCATGTGACCA', IUPACUnambiguousDNA())"
      ]
     },
     "execution_count": 14,
     "metadata": {},
     "output_type": "execute_result"
    }
   ],
   "source": [
    "my_seq.complement()"
   ]
  },
  {
   "cell_type": "code",
   "execution_count": 15,
   "metadata": {},
   "outputs": [
    {
     "data": {
      "text/plain": [
       "Seq('ACCAGTGTACT', IUPACUnambiguousDNA())"
      ]
     },
     "execution_count": 15,
     "metadata": {},
     "output_type": "execute_result"
    }
   ],
   "source": [
    "my_seq.reverse_complement()"
   ]
  },
  {
   "cell_type": "code",
   "execution_count": 16,
   "metadata": {},
   "outputs": [
    {
     "ename": "ValueError",
     "evalue": "Proteins do not have complements!",
     "output_type": "error",
     "traceback": [
      "\u001b[1;31m---------------------------------------------------------------------------\u001b[0m",
      "\u001b[1;31mValueError\u001b[0m                                Traceback (most recent call last)",
      "\u001b[1;32m<ipython-input-16-2828b73a4b37>\u001b[0m in \u001b[0;36m<module>\u001b[1;34m\u001b[0m\n\u001b[0;32m      1\u001b[0m \u001b[0mp_seq\u001b[0m \u001b[1;33m=\u001b[0m \u001b[0mSeq\u001b[0m\u001b[1;33m(\u001b[0m\u001b[1;34m\"EVRNAK\"\u001b[0m\u001b[1;33m,\u001b[0m \u001b[0mIUPAC\u001b[0m\u001b[1;33m.\u001b[0m\u001b[0mprotein\u001b[0m\u001b[1;33m)\u001b[0m\u001b[1;33m\u001b[0m\u001b[1;33m\u001b[0m\u001b[0m\n\u001b[1;32m----> 2\u001b[1;33m \u001b[0mp_seq\u001b[0m\u001b[1;33m.\u001b[0m\u001b[0mreverse_complement\u001b[0m\u001b[1;33m(\u001b[0m\u001b[1;33m)\u001b[0m\u001b[1;33m\u001b[0m\u001b[1;33m\u001b[0m\u001b[0m\n\u001b[0m",
      "\u001b[1;32mC:\\ProgramData\\Anaconda3\\lib\\site-packages\\Bio\\Seq.py\u001b[0m in \u001b[0;36mreverse_complement\u001b[1;34m(self)\u001b[0m\n\u001b[0;32m    946\u001b[0m         \"\"\"\n\u001b[0;32m    947\u001b[0m         \u001b[1;31m# Use -1 stride/step to reverse the complement\u001b[0m\u001b[1;33m\u001b[0m\u001b[1;33m\u001b[0m\u001b[1;33m\u001b[0m\u001b[0m\n\u001b[1;32m--> 948\u001b[1;33m         \u001b[1;32mreturn\u001b[0m \u001b[0mself\u001b[0m\u001b[1;33m.\u001b[0m\u001b[0mcomplement\u001b[0m\u001b[1;33m(\u001b[0m\u001b[1;33m)\u001b[0m\u001b[1;33m[\u001b[0m\u001b[1;33m:\u001b[0m\u001b[1;33m:\u001b[0m\u001b[1;33m-\u001b[0m\u001b[1;36m1\u001b[0m\u001b[1;33m]\u001b[0m\u001b[1;33m\u001b[0m\u001b[1;33m\u001b[0m\u001b[0m\n\u001b[0m\u001b[0;32m    949\u001b[0m \u001b[1;33m\u001b[0m\u001b[0m\n\u001b[0;32m    950\u001b[0m     \u001b[1;32mdef\u001b[0m \u001b[0mtranscribe\u001b[0m\u001b[1;33m(\u001b[0m\u001b[0mself\u001b[0m\u001b[1;33m)\u001b[0m\u001b[1;33m:\u001b[0m\u001b[1;33m\u001b[0m\u001b[1;33m\u001b[0m\u001b[0m\n",
      "\u001b[1;32mC:\\ProgramData\\Anaconda3\\lib\\site-packages\\Bio\\Seq.py\u001b[0m in \u001b[0;36mcomplement\u001b[1;34m(self)\u001b[0m\n\u001b[0;32m    896\u001b[0m         \u001b[0mbase\u001b[0m \u001b[1;33m=\u001b[0m \u001b[0mAlphabet\u001b[0m\u001b[1;33m.\u001b[0m\u001b[0m_get_base_alphabet\u001b[0m\u001b[1;33m(\u001b[0m\u001b[0mself\u001b[0m\u001b[1;33m.\u001b[0m\u001b[0malphabet\u001b[0m\u001b[1;33m)\u001b[0m\u001b[1;33m\u001b[0m\u001b[1;33m\u001b[0m\u001b[0m\n\u001b[0;32m    897\u001b[0m         \u001b[1;32mif\u001b[0m \u001b[0misinstance\u001b[0m\u001b[1;33m(\u001b[0m\u001b[0mbase\u001b[0m\u001b[1;33m,\u001b[0m \u001b[0mAlphabet\u001b[0m\u001b[1;33m.\u001b[0m\u001b[0mProteinAlphabet\u001b[0m\u001b[1;33m)\u001b[0m\u001b[1;33m:\u001b[0m\u001b[1;33m\u001b[0m\u001b[1;33m\u001b[0m\u001b[0m\n\u001b[1;32m--> 898\u001b[1;33m             \u001b[1;32mraise\u001b[0m \u001b[0mValueError\u001b[0m\u001b[1;33m(\u001b[0m\u001b[1;34m\"Proteins do not have complements!\"\u001b[0m\u001b[1;33m)\u001b[0m\u001b[1;33m\u001b[0m\u001b[1;33m\u001b[0m\u001b[0m\n\u001b[0m\u001b[0;32m    899\u001b[0m         \u001b[1;32mif\u001b[0m \u001b[0misinstance\u001b[0m\u001b[1;33m(\u001b[0m\u001b[0mbase\u001b[0m\u001b[1;33m,\u001b[0m \u001b[0mAlphabet\u001b[0m\u001b[1;33m.\u001b[0m\u001b[0mDNAAlphabet\u001b[0m\u001b[1;33m)\u001b[0m\u001b[1;33m:\u001b[0m\u001b[1;33m\u001b[0m\u001b[1;33m\u001b[0m\u001b[0m\n\u001b[0;32m    900\u001b[0m             \u001b[0mttable\u001b[0m \u001b[1;33m=\u001b[0m \u001b[0m_dna_complement_table\u001b[0m\u001b[1;33m\u001b[0m\u001b[1;33m\u001b[0m\u001b[0m\n",
      "\u001b[1;31mValueError\u001b[0m: Proteins do not have complements!"
     ]
    }
   ],
   "source": [
    "p_seq = Seq(\"EVRNAK\", IUPAC.protein)\n",
    "p_seq.reverse_complement()"
   ]
  },
  {
   "cell_type": "code",
   "execution_count": 17,
   "metadata": {},
   "outputs": [
    {
     "data": {
      "text/plain": [
       "SeqRecord(seq=Seq('AGTACACTGGT', IUPACUnambiguousDNA()), id='<unknown id>', name='<unknown name>', description='<unknown description>', dbxrefs=[])"
      ]
     },
     "execution_count": 17,
     "metadata": {},
     "output_type": "execute_result"
    }
   ],
   "source": [
    "from Bio.SeqRecord import SeqRecord\n",
    "simple_seq_r = SeqRecord(my_seq)\n",
    "simple_seq_r"
   ]
  },
  {
   "cell_type": "code",
   "execution_count": 18,
   "metadata": {},
   "outputs": [
    {
     "name": "stdout",
     "output_type": "stream",
     "text": [
      "NZ_ADRZ01000932.1\n",
      "Seq('GAGTTTTATCGCTTCCATGACGCAGAAGTTAACACTTTCGGATATTTCTGATGA...GCA', SingleLetterAlphabet())\n",
      "5386\n",
      "0\n"
     ]
    }
   ],
   "source": [
    "from Bio import SeqIO\n",
    "for seq_record in SeqIO.parse(\"DNA.fa\",\"fasta\"):\n",
    "    print(seq_record.id)\n",
    "    print(repr(seq_record.seq))\n",
    "    print(len(seq_record))\n",
    "    print(len(seq_record.features))"
   ]
  },
  {
   "cell_type": "code",
   "execution_count": 19,
   "metadata": {},
   "outputs": [
    {
     "data": {
      "text/plain": [
       "['NZ_ADRZ01000932.1']"
      ]
     },
     "execution_count": 19,
     "metadata": {},
     "output_type": "execute_result"
    }
   ],
   "source": [
    "identifiers = [seq_record.id for seq_record in SeqIO.parse(\"DNA.fa\",\"fasta\")]\n",
    "identifiers"
   ]
  },
  {
   "cell_type": "code",
   "execution_count": 20,
   "metadata": {},
   "outputs": [
    {
     "data": {
      "text/plain": [
       "[SeqRecord(seq=Seq('GAGTTTTATCGCTTCCATGACGCAGAAGTTAACACTTTCGGATATTTCTGATGA...GCA', SingleLetterAlphabet()), id='NZ_ADRZ01000932.1', name='NZ_ADRZ01000932.1', description='NZ_ADRZ01000932.1 Yersinia pestis biovar Antiqua str. E1979001 Contig_E1979001_19275, whole genome shotgun sequence', dbxrefs=[])]"
      ]
     },
     "execution_count": 20,
     "metadata": {},
     "output_type": "execute_result"
    }
   ],
   "source": [
    "records = list(SeqIO.parse(\"DNA.fa\",\"fasta\"))\n",
    "records[:50]"
   ]
  },
  {
   "cell_type": "code",
   "execution_count": 21,
   "metadata": {},
   "outputs": [
    {
     "data": {
      "text/plain": [
       "dict_keys(['NZ_ADRZ01000932.1'])"
      ]
     },
     "execution_count": 21,
     "metadata": {},
     "output_type": "execute_result"
    }
   ],
   "source": [
    "records_dict = SeqIO.to_dict(SeqIO.parse(\"DNA.fa\",\"fasta\"))\n",
    "records_dict.keys()"
   ]
  },
  {
   "cell_type": "code",
   "execution_count": 22,
   "metadata": {},
   "outputs": [
    {
     "data": {
      "text/plain": [
       "SeqRecord(seq=Seq('GAGTTTTATCGCTTCCATGACGCAGAAGTTAACACTTTCGGATATTTCTGATGA...GCA', SingleLetterAlphabet()), id='NZ_ADRZ01000932.1', name='NZ_ADRZ01000932.1', description='NZ_ADRZ01000932.1 Yersinia pestis biovar Antiqua str. E1979001 Contig_E1979001_19275, whole genome shotgun sequence', dbxrefs=[])"
      ]
     },
     "execution_count": 22,
     "metadata": {},
     "output_type": "execute_result"
    }
   ],
   "source": [
    "records_dict['NZ_ADRZ01000932.1']"
   ]
  },
  {
   "cell_type": "code",
   "execution_count": 23,
   "metadata": {},
   "outputs": [
    {
     "data": {
      "text/plain": [
       "['NZ_ADRZ01000932.1']"
      ]
     },
     "execution_count": 23,
     "metadata": {},
     "output_type": "execute_result"
    }
   ],
   "source": [
    "records_dict = SeqIO.index(\"DNA.fa\",\"fasta\")\n",
    "list(records_dict.keys())"
   ]
  },
  {
   "cell_type": "code",
   "execution_count": 24,
   "metadata": {},
   "outputs": [
    {
     "data": {
      "text/plain": [
       "SeqRecord(seq=Seq('GAGTTTTATCGCTTCCATGACGCAGAAGTTAACACTTTCGGATATTTCTGATGA...GCA', SingleLetterAlphabet()), id='NZ_ADRZ01000932.1', name='NZ_ADRZ01000932.1', description='NZ_ADRZ01000932.1 Yersinia pestis biovar Antiqua str. E1979001 Contig_E1979001_19275, whole genome shotgun sequence', dbxrefs=[])"
      ]
     },
     "execution_count": 24,
     "metadata": {},
     "output_type": "execute_result"
    }
   ],
   "source": [
    "records_dict['NZ_ADRZ01000932.1']"
   ]
  },
  {
   "cell_type": "markdown",
   "metadata": {},
   "source": [
    "# PARSING FASTA-FILES"
   ]
  },
  {
   "cell_type": "code",
   "execution_count": 25,
   "metadata": {},
   "outputs": [
    {
     "name": "stdout",
     "output_type": "stream",
     "text": [
      "['>NP_001273979.1 stabilizer of axonemal microtubules 1 isoform c [Homo '\n",
      " 'sapiens]\\n',\n",
      " '\\n',\n",
      " 'ATGAAAACCAAATGCATTTGCGAACTGTGCAGCTGCGGCCGCCATCATTGCCCGCATCTG\\n',\n",
      " 'CCGACCAAAATTTATGATAAAACCGAAAAACCGTGCCTGCTGAGCGAATATACCGAAAAC\\n',\n",
      " 'TATCCGTTTTATCATAGCTATCTGCCGCGCGAAAGCTTTAAACCGCGCCGCGAATATCAG\\n',\n",
      " 'AAAGGCCCGATTCCGATGGAAGGCCTGACCACCAGCAGC\\n',\n",
      " '\\n',\n",
      " '\\n',\n",
      " '\\n',\n",
      " '>NP_001017978.1 kita-kyushu lung cancer antigen 1 [Homo sapiens]\\n',\n",
      " '\\n',\n",
      " 'ATGAACTTTTATCTGCTGCTGGCGAGCAGCATTCTGTGCGCGCTGATTGTGTTTTGGAAA\\n',\n",
      " 'TATCGCCGCTTTCAGCGCAACACCGGCGAAATGAGCAGCAACAGCACCGCGCTGGCGCTG\\n',\n",
      " 'GTGCGCCCGAGCAGCAGCGGCCTGATTAACAGCAACACCGATAACAACCTGGCGGTGTAT\\n',\n",
      " 'GATCTGAGCCGCGATATTCTGAACAACTTTCCGCATAGCATTGCGCGCCAGAAACGCATT\\n',\n",
      " 'CTGGTGAACCTGAGCATGGTGGAAAACAAACTGGTGGAACTGGAACATACCCTGCTGAGC\\n',\n",
      " 'AAAGGCTTTCGCGGCGCGAGCCCGCATCGCAAAAGCACC\\n',\n",
      " '\\n',\n",
      " '\\n',\n",
      " '>sp|Q5H943.1|KKLC1_HUMAN RecName: Full=Kita-kyushu lung cancer antigen 1; '\n",
      " 'Short=KK-LC-1; AltName: Full=Cancer/testis antigen 83\\n',\n",
      " '\\n',\n",
      " 'ATGAACTTTTATCTGCTGCTGGCGAGCAGCATTCTGTGCGCGCTGATTGTGTTTTGGAAA\\n',\n",
      " 'TATCGCCGCTTTCAGCGCAACACCGGCGAAATGAGCAGCAACAGCACCGCGCTGGCGCTG\\n',\n",
      " 'GTGCGCCCGAGCAGCAGCGGCCTGATTAACAGCAACACCGATAACAACCTGGCGGTGTAT\\n',\n",
      " 'GATCTGAGCCGCGATATTCTGAACAACTTTCCGCATAGCATTGCGCGCCAGAAACGCATT\\n',\n",
      " 'CTGGTGAACCTGAGCATGGTGGAAAACAAACTGGTGGAACTGGAACATACCCTGCTGAGC\\n',\n",
      " 'AAAGGCTTTCGCGGCGCGAGCCCGCATCGCAAAAGCACC\\n',\n",
      " '\\n',\n",
      " '\\n',\n",
      " '>AAC35497.1 lung cancer candidate FUS1 [Homo sapiens]\\n',\n",
      " '\\n',\n",
      " 'ATGGGCGCGAGCGGCAGCAAAGCGCGCGGCCTGTGGCCGTTTGCGAGCGCGGCGGGCGGC\\n',\n",
      " 'GGCGGCAGCGAAGCGGCGGGCGCGGAACAGGCGCTGGTGCGCCCGCGCGGCCGCGCGGTG\\n',\n",
      " 'CCGCCGTTTGTGTTTACCCGCCGCGGCAGCATGTTTTATGATGAAGATGGCGATCTGGCG\\n',\n",
      " 'CATGAATTTTATGAAGAAACCATTGTGACCAAAAACGGCCAGAAACGCGCGAAACTGCGC\\n',\n",
      " 'CGCGTGCATAAAAACCTGATTCCGCAGGGCATTGTGAAACTGGATCATCCGCGCATTCAT\\n',\n",
      " 'GTGGATTTTCCGGTGATTCTGTATGAAGTG\\n',\n",
      " '\\n',\n",
      " '\\n',\n",
      " '>XP_002699503.1 kita-kyushu lung cancer antigen 1 [Bos taurus]\\n',\n",
      " '\\n',\n",
      " 'ATGAGCTTTCTGTTTCTGCTGGTGAGCAGCATTCTGTTTGCGTTTATGTTTGTGTTTTGG\\n',\n",
      " 'AAAACCTGGTTTCAGCGCAACACCGGCGAAATGAGCAGCAACAGCACCAGCCTGGCGCTG\\n',\n",
      " 'GTGCGCAGCAGCAGCAGCACCCAGAGCACCAAAAGCAACATTGATAAAAGCCTGCTGGTG\\n',\n",
      " 'AACAGCCTGAGCCGCGATATTCTGATTAACTTTCCGCATAGCATTGCGATGCAGCGCCGC\\n',\n",
      " 'ATTCTGGTGAACCTGCGCATTGTGGATTATAAACTGGCGGAACTGGAACAGTTTCTGGTG\\n',\n",
      " 'ACCAAAGGCCTGAACGGCGCGCTGGTGAACCGCAAAAGCACCGATAAACCGACCGAAGTG\\n',\n",
      " '\\n',\n",
      " '\\n',\n",
      " '>sp|Q4R717.1|KKLC1_MACFA RecName: Full=Kita-kyushu lung cancer antigen 1 '\n",
      " 'homolog\\n',\n",
      " '\\n',\n",
      " 'ATGAACGTGTATCTGCTGCTGGCGAGCGGCATTCTGTGCGCGCTGATGACCGTGTTTTGG\\n',\n",
      " 'AAATATCGCCGCTTTCAGCGCAACACCGGCGAAATGAGCAGCAACAGCACCGCGCTGGCG\\n',\n",
      " 'CTGGTGCGCCCGAGCAGCACCGGCCTGATTAACAGCAACACCGATAACAACCTGAGCGTG\\n',\n",
      " 'TATGATCTGAGCCGCGATATTCTGAACAACTTTCCGCATAGCATTGCGATGCAGAAACGC\\n',\n",
      " 'ATTCTGGTGAACCTGACCACCGTGGAAAACAAACTGGTGGAACTGGAACATATTCTGGTG\\n',\n",
      " 'AGCAAAGGCTTTCGCAGCGCGAGCGCGCATCGCAAAAGCACC\\n',\n",
      " '\\n',\n",
      " '\\n',\n",
      " '\\n',\n",
      " '>AAN12271.1 lung cancer oncogene 5 [Homo sapiens]\\n',\n",
      " '\\n',\n",
      " 'ATGCTGCTGACCCGCTTTGAACAGAAAAACGGCCATCTGGCGCAGGTGGAAGTGGATGAA\\n',\n",
      " 'GTGTTTGGCTTTATGTGCCATATTACCACCGAAGTGCCGCCGCATGATGCGATGCCGGGC\\n',\n",
      " 'GGCATTGTGCTGCTGGTGAAATTTCTGCTGGATATGAGCCGCAACGTGCTGCTGTATGTG\\n',\n",
      " 'GTGTTTCTGCAGCGCCTGAGCAGCGCGCTGCATCGCGTGCTGCTGCATCTGTTTCGCCAT\\n',\n",
      " 'GTGCGCATTTTTGATCATGGCCTGAGCGTGGCGCATGGCTATCGCGGCGAAGGCGGCTGG\\n',\n",
      " 'CCGACCGCGACCGTGAGCTGGGGCCGCTGC\\n',\n",
      " '\\n',\n",
      " '\\n',\n",
      " '>NP_001270680.1 kita-kyushu lung cancer antigen 1 homolog [Macaca '\n",
      " 'fascicularis]\\n',\n",
      " '\\n',\n",
      " 'ATGAACGTGTATCTGCTGCTGGCGAGCGGCATTCTGTGCGCGCTGATGACCGTGTTTTGG\\n',\n",
      " 'AAATATCGCCGCTTTCAGCGCAACACCGGCGAAATGAGCAGCAACAGCACCGCGCTGGCG\\n',\n",
      " 'CTGGTGCGCCCGAGCAGCACCGGCCTGATTAACAGCAACACCGATAACAACCTGAGCGTG\\n',\n",
      " 'TATGATCTGAGCCGCGATATTCTGAACAACTTTCCGCATAGCATTGCGATGCAGAAACGC\\n',\n",
      " 'ATTCTGGTGAACCTGACCACCGTGGAAAACAAACTGGTGGAACTGGAACATATTCTGGTG\\n',\n",
      " 'AGCAAAGGCTTTCGCAGCGCGAGCGCGCATCGCAAAAGCACC\\n',\n",
      " '\\n',\n",
      " '\\n',\n",
      " '>Sp|P63244.3|Rack1_Human Recname: Full=Receptor Of Activated Protein C '\n",
      " 'Kinase 1; Altname: Full=Cell Proliferation-Inducing Gene 21 Protein; '\n",
      " 'Altname: Full=Guanine Nucleotide-Binding Protein Subunit Beta-2-Like 1; '\n",
      " 'Altname: Full=Guanine Nucleotide-Binding Protein Subunit Beta-Like Protein '\n",
      " '12.3; Altname: Full=Human Lung Cancer Oncogene 7 Protein; Short=Hlc-7; '\n",
      " 'Altname: Full=Receptor For Activated C Kinase; Altname: Full=Small Ribosomal '\n",
      " 'Subunit Protein Rack1; Contains: Recname: Full=Receptor Of Activated Protein '\n",
      " 'C Kinase 1, N-Terminally Processed; Altname: Full=Guanine Nucleotide-Binding '\n",
      " 'Protein Subunit Beta-2-Like 1, N-Terminally Processed\\n',\n",
      " '\\n',\n",
      " 'ATGACCGAACAGATGACCCTGCGCGGCACCCTGAAAGGCCATAACGGCTGGGTGACCCAG\\n',\n",
      " 'ATTGCGACCACCCCGCAGTTTCCGGATATGATTCTGAGCGCGAGCCGCGATAAAACCATT\\n',\n",
      " 'ATTATGTGGAAACTGACCCGCGATGAAACCAACTATGGCATTCCGCAGCGCGCGCTGCGC\\n',\n",
      " 'GGCCATAGCCATTTTGTGAGCGATGTGGTGATTAGCAGCGATGGCCAGTTTGCGCTGAGC\\n',\n",
      " 'GGCAGCTGGGATGGCACCCTGCGCCTGTGGGATCTGACCACCGGCACCACCACCCGCCGC\\n',\n",
      " 'TTTGTGGGCCATACCAAAGATGTGCTGAGCGTGGCGTTTAGCAGCGATAACCGCCAGATT\\n',\n",
      " 'GTGAGCGGCAGCCGCGATAAAACCATTAAACTGTGGAACACCCTGGGCGTGTGCAAATAT\\n',\n",
      " 'ACCGTGCAGGATGAAAGCCATAGCGAATGGGTGAGCTGCGTGCGCTTTAGCCCGAACAGC\\n',\n",
      " 'AGCAACCCGATTATTGTGAGCTGCGGCTGGGATAAACTGGTGAAAGTGTGGAACCTGGCG\\n',\n",
      " 'AACTGCAAACTGAAAACCAACCATATTGGCCATACCGGCTATCTGAACACCGTGACCGTG\\n',\n",
      " 'AGCCCGGATGGCAGCCTGTGCGCGAGCGGCGGCAAAGATGGCCAGGCGATGCTGTGGGAT\\n',\n",
      " 'CTGAACGAAGGCAAACATCTGTATACCCTGGATGGCGGCGATATTATTAACGCGCTGTGC\\n',\n",
      " 'TTTAGCCCGAACCGCTATTGGCTGTGCGCGGCGACCGGCCCGAGCATTAAAATTTGGGAT\\n',\n",
      " 'CTGGAAGGCAAAATTATTGTGGATGAACTGAAACAGGAAGTGATTAGCACCAGCAGCAAA\\n',\n",
      " 'GAACCGCCGCAGTGCACCAGCCTGGCGTGGAGCGCGGATGGCCAGACCCTGTTTGCGGGC\\n',\n",
      " 'TATACCGATAACCTGGTGCGCGTGTGGCAGGTGACCATTGGCACCCGC\\n',\n",
      " '\\n',\n",
      " '>XP_027389897.1 kita-kyushu lung cancer antigen 1 [Bos indicus x Bos '\n",
      " 'taurus]\\n',\n",
      " '\\n',\n",
      " 'ATGAGCTTTCTGTTTCTGCTGGTGAGCAGCATTCTGTTTGCGTTTATGTTTGTGTTTTGG\\n',\n",
      " 'AAAACCTGGTTTCAGCGCAACACCGGCGAAATGAGCAGCAACAGCACCAGCCTGGCGCTG\\n',\n",
      " 'GTGCGCAGCAGCAGCAGCACCCAGAGCACCAAAAGCAACATTGATAAAAGCCTGCTGGTG\\n',\n",
      " 'AACAGCCTGAGCCGCGATATTCTGATTAACTTTCCGCATAGCATTGCGATGCAGCGCCGC\\n',\n",
      " 'ATTCTGGTGAACCTGCGCATTGTGGATTATAAACTGGCGGAACTGGAACAGTTTCTGGTG\\n',\n",
      " 'ACCAAAGGCCTGAACGGCGCGCTGGTGAACCGCAAAAGCACCGATAAACCGACCGAAGTG\\n',\n",
      " '\\n',\n",
      " '\\n',\n",
      " '>XP_007647427.1 kita-kyushu lung cancer antigen 1 [Cricetulus griseus]\\n',\n",
      " '\\n',\n",
      " 'ATGAACATTCTGTTTATTCTGGTGGGCAGCATTATTTTTGCGAGCATTTTTAGCATTTTT\\n',\n",
      " 'AAAGTGGTGTTTCAGATTCCGGATCATGAACGCCCGAGCAACCCGACCAGCCCGACCCTG\\n',\n",
      " 'CTGCGCGCGAACAGCTTTTGGAGCTATCGCAACACCGGCCTGAGCTTTCCGGGCAACAGC\\n',\n",
      " 'TATAACCAGGATATGATGAACAACTTTCCGCGCACCCTGGCGCTGCATAAACGCATTCTG\\n',\n",
      " 'GTGAACCTGAACATTATGGAATGCCAGCTGACCAAACTGGAACAGTTTCTGAGCAGCAAA\\n',\n",
      " 'AACCCGCAGGGCCATACCAAACATCGCCGCCGCGCGACCGTGCGCATTCCGATGGAAAGC\\n',\n",
      " 'GATAGCGGCAGCAACCAG\\n',\n",
      " '\\n',\n",
      " '\\n',\n",
      " '>XP_014918346.1 kita-kyushu lung cancer antigen 1 [Acinonyx jubatus]\\n',\n",
      " '\\n',\n",
      " 'ATGAGCATGCTGCTGCTGCTGCTGAGCTTTATTGTGTTTACCCTGCTGCTGGTGGTGTGG\\n',\n",
      " 'AAAAGCCGCTTTCAGAGCAGCGTGGGCGAAATGAGCAGCAACAGCACCAGCCTGGCGCTG\\n',\n",
      " 'GTGCGCGCGACCAGCAGCACCGGCAGCACCAAAAGCAACACCGATAAAAACCTGAGCGTG\\n',\n",
      " 'GATAGCATTAGCCGCGGCATTCTGATTAACAGCCCGCATACCATTGCGATGCAGAAACGC\\n',\n",
      " 'ATTCTGATTAACCTGCGCATTGTGGAATATAAACTGGCGGAACTGGAATATTTTCTGATT\\n',\n",
      " 'ATTAAAGGCCTGAACGGCACCCTGGCGAACTGCAAAAGCACCGATCGCCTGCGCGAATGC\\n',\n",
      " 'AACGAAAGCGAAGGCAACCAT\\n',\n",
      " '\\n',\n",
      " '>XP_0026997503.1 kita-kyushu lung cancer antigen 1 [Bos taurus]\\n',\n",
      " '\\n',\n",
      " 'ATGAGCTTTCTGTTTCTGCTGGTGAGCAGCATTCTGTTTGCGTTTATGTTTGTGTTTTGG\\n',\n",
      " 'AAAACCTGGTTTCAGCGCAACACCGGCGAAATGAGCAGCAACAGCACCAGCCTGGCGCTG\\n',\n",
      " 'GTGCGCAGCAGCAGCAGCACCCAGAGCACCAAAAGCAACATTGATAAAAGCCTGCTGGTG\\n',\n",
      " 'AACAGCCTGAGCCGCGATATTCTGATTAACTTTCCGCATAGCATTGCGATGCAGCGCCGC\\n',\n",
      " 'ATTCTGGTGAACCTGCGCATTGTGGATTATAAACTGGCGGAACTGGAACAGTTTCTGGTG\\n',\n",
      " 'ACCAAAGGCCTGAACGGCGCGCTGGTGAACCGCAAAAGCACCGATAAACCGACCGAAGTG\\n',\n",
      " '\\n',\n",
      " '>XP_002699603.1 kita-kyushu lung cancer antigen 1 [Bos taurus]\\n',\n",
      " '\\n',\n",
      " 'ATGAGCTTTCTGTTTCTGCTGGTGAGCAGCATTCTGTTTGCGTTTATGTTTGTGTTTTGG\\n',\n",
      " 'AAAACCTGGTTTCAGCGCAACACCGGCGAAATGAGCAGCAACAGCACCAGCAGCCATTAT\\n',\n",
      " 'CGCGCGTGCGTGGTGGTGGTGGGCCATAAACTGAGCCTGAGCAAATTTAACTTTAACTTT\\n',\n",
      " 'TGGCATCAGCGCGTGAAA\\n',\n",
      " '\\n',\n",
      " '>XP_004699503.1 kita-kyushu lung cancer antigen 1 [Bos taurus]\\n',\n",
      " '\\n',\n",
      " 'ATGAGCTTTCTGTTTCTGCTGGTGAGCAGCATTCTGTTTGCGTTTATGTTTGTGTTTTGG\\n',\n",
      " 'AAAACCTGGTTTCAGCGCAACACCGGCGAAATGAGCAGCAACAGCGATAAACCGACCGAA\\n',\n",
      " 'GTGAACGGCGCGCTGGTGAACCGCAAAAGC\\n']\n"
     ]
    }
   ],
   "source": [
    "\"\"\"Display Identifiers and Nucleotides along with Trailing Newline-Characters\"\"\"\n",
    "#The pprint module provides a capability to “pretty-print” arbitrary Python data structures in a form \n",
    "#which can be used as input to the interpreter.\n",
    "from pprint import pprint\n",
    "\n",
    "fasta_file = \"DNA.fasta\"\n",
    "\n",
    "def parse_fasta(fname):\n",
    "    contents = []\n",
    "    with open(fname, \"r\") as fh:\n",
    "        for line in fh:\n",
    "            contents.append(line)\n",
    "    return contents\n",
    "\n",
    "fasta = parse_fasta(fasta_file)\n",
    "pprint(fasta)"
   ]
  },
  {
   "cell_type": "code",
   "execution_count": 26,
   "metadata": {},
   "outputs": [
    {
     "name": "stdout",
     "output_type": "stream",
     "text": [
      "['>NP_001273979.1 stabilizer of axonemal microtubules 1 isoform c [Homo '\n",
      " 'sapiens]\\n',\n",
      " '>NP_001017978.1 kita-kyushu lung cancer antigen 1 [Homo sapiens]\\n',\n",
      " '>sp|Q5H943.1|KKLC1_HUMAN RecName: Full=Kita-kyushu lung cancer antigen 1; '\n",
      " 'Short=KK-LC-1; AltName: Full=Cancer/testis antigen 83\\n',\n",
      " '>AAC35497.1 lung cancer candidate FUS1 [Homo sapiens]\\n',\n",
      " '>XP_002699503.1 kita-kyushu lung cancer antigen 1 [Bos taurus]\\n',\n",
      " '>sp|Q4R717.1|KKLC1_MACFA RecName: Full=Kita-kyushu lung cancer antigen 1 '\n",
      " 'homolog\\n',\n",
      " '>AAN12271.1 lung cancer oncogene 5 [Homo sapiens]\\n',\n",
      " '>NP_001270680.1 kita-kyushu lung cancer antigen 1 homolog [Macaca '\n",
      " 'fascicularis]\\n',\n",
      " '>Sp|P63244.3|Rack1_Human Recname: Full=Receptor Of Activated Protein C '\n",
      " 'Kinase 1; Altname: Full=Cell Proliferation-Inducing Gene 21 Protein; '\n",
      " 'Altname: Full=Guanine Nucleotide-Binding Protein Subunit Beta-2-Like 1; '\n",
      " 'Altname: Full=Guanine Nucleotide-Binding Protein Subunit Beta-Like Protein '\n",
      " '12.3; Altname: Full=Human Lung Cancer Oncogene 7 Protein; Short=Hlc-7; '\n",
      " 'Altname: Full=Receptor For Activated C Kinase; Altname: Full=Small Ribosomal '\n",
      " 'Subunit Protein Rack1; Contains: Recname: Full=Receptor Of Activated Protein '\n",
      " 'C Kinase 1, N-Terminally Processed; Altname: Full=Guanine Nucleotide-Binding '\n",
      " 'Protein Subunit Beta-2-Like 1, N-Terminally Processed\\n',\n",
      " '>XP_027389897.1 kita-kyushu lung cancer antigen 1 [Bos indicus x Bos '\n",
      " 'taurus]\\n',\n",
      " '>XP_007647427.1 kita-kyushu lung cancer antigen 1 [Cricetulus griseus]\\n',\n",
      " '>XP_014918346.1 kita-kyushu lung cancer antigen 1 [Acinonyx jubatus]\\n',\n",
      " '>XP_0026997503.1 kita-kyushu lung cancer antigen 1 [Bos taurus]\\n',\n",
      " '>XP_002699603.1 kita-kyushu lung cancer antigen 1 [Bos taurus]\\n',\n",
      " '>XP_004699503.1 kita-kyushu lung cancer antigen 1 [Bos taurus]\\n']\n"
     ]
    }
   ],
   "source": [
    "\"\"\"Display Only Identifiers with > \"\"\"\n",
    "#The pprint module provides a capability to “pretty-print” arbitrary Python data structures in a form \n",
    "#which can be used as input to the interpreter.\n",
    "from pprint import pprint\n",
    "\n",
    "fasta_file = \"DNA.fasta\"\n",
    "\n",
    "def parse_fasta(fname):\n",
    "    identifiers = []\n",
    "    with open(fname, \"r\") as fh:\n",
    "        for line in fh:\n",
    "            if line.startswith(\">\"):\n",
    "                identifiers.append(line)\n",
    "    return identifiers\n",
    "\n",
    "fasta = parse_fasta(fasta_file)\n",
    "pprint(fasta)"
   ]
  },
  {
   "cell_type": "code",
   "execution_count": 27,
   "metadata": {},
   "outputs": [
    {
     "name": "stdout",
     "output_type": "stream",
     "text": [
      "('>NP_001273979.1 stabilizer of axonemal microtubules 1 isoform c [Homo '\n",
      " 'sapiens]',\n",
      " ['',\n",
      "  'ATGAAAACCAAATGCATTTGCGAACTGTGCAGCTGCGGCCGCCATCATTGCCCGCATCTG',\n",
      "  'CCGACCAAAATTTATGATAAAACCGAAAAACCGTGCCTGCTGAGCGAATATACCGAAAAC',\n",
      "  'TATCCGTTTTATCATAGCTATCTGCCGCGCGAAAGCTTTAAACCGCGCCGCGAATATCAG',\n",
      "  'AAAGGCCCGATTCCGATGGAAGGCCTGACCACCAGCAGC',\n",
      "  '',\n",
      "  '',\n",
      "  ''])\n",
      "('>NP_001017978.1 kita-kyushu lung cancer antigen 1 [Homo sapiens]',\n",
      " ['',\n",
      "  'ATGAACTTTTATCTGCTGCTGGCGAGCAGCATTCTGTGCGCGCTGATTGTGTTTTGGAAA',\n",
      "  'TATCGCCGCTTTCAGCGCAACACCGGCGAAATGAGCAGCAACAGCACCGCGCTGGCGCTG',\n",
      "  'GTGCGCCCGAGCAGCAGCGGCCTGATTAACAGCAACACCGATAACAACCTGGCGGTGTAT',\n",
      "  'GATCTGAGCCGCGATATTCTGAACAACTTTCCGCATAGCATTGCGCGCCAGAAACGCATT',\n",
      "  'CTGGTGAACCTGAGCATGGTGGAAAACAAACTGGTGGAACTGGAACATACCCTGCTGAGC',\n",
      "  'AAAGGCTTTCGCGGCGCGAGCCCGCATCGCAAAAGCACC',\n",
      "  '',\n",
      "  ''])\n",
      "('>sp|Q5H943.1|KKLC1_HUMAN RecName: Full=Kita-kyushu lung cancer antigen 1; '\n",
      " 'Short=KK-LC-1; AltName: Full=Cancer/testis antigen 83',\n",
      " ['',\n",
      "  'ATGAACTTTTATCTGCTGCTGGCGAGCAGCATTCTGTGCGCGCTGATTGTGTTTTGGAAA',\n",
      "  'TATCGCCGCTTTCAGCGCAACACCGGCGAAATGAGCAGCAACAGCACCGCGCTGGCGCTG',\n",
      "  'GTGCGCCCGAGCAGCAGCGGCCTGATTAACAGCAACACCGATAACAACCTGGCGGTGTAT',\n",
      "  'GATCTGAGCCGCGATATTCTGAACAACTTTCCGCATAGCATTGCGCGCCAGAAACGCATT',\n",
      "  'CTGGTGAACCTGAGCATGGTGGAAAACAAACTGGTGGAACTGGAACATACCCTGCTGAGC',\n",
      "  'AAAGGCTTTCGCGGCGCGAGCCCGCATCGCAAAAGCACC',\n",
      "  '',\n",
      "  ''])\n",
      "('>AAC35497.1 lung cancer candidate FUS1 [Homo sapiens]',\n",
      " ['',\n",
      "  'ATGGGCGCGAGCGGCAGCAAAGCGCGCGGCCTGTGGCCGTTTGCGAGCGCGGCGGGCGGC',\n",
      "  'GGCGGCAGCGAAGCGGCGGGCGCGGAACAGGCGCTGGTGCGCCCGCGCGGCCGCGCGGTG',\n",
      "  'CCGCCGTTTGTGTTTACCCGCCGCGGCAGCATGTTTTATGATGAAGATGGCGATCTGGCG',\n",
      "  'CATGAATTTTATGAAGAAACCATTGTGACCAAAAACGGCCAGAAACGCGCGAAACTGCGC',\n",
      "  'CGCGTGCATAAAAACCTGATTCCGCAGGGCATTGTGAAACTGGATCATCCGCGCATTCAT',\n",
      "  'GTGGATTTTCCGGTGATTCTGTATGAAGTG',\n",
      "  '',\n",
      "  ''])\n",
      "('>XP_002699503.1 kita-kyushu lung cancer antigen 1 [Bos taurus]',\n",
      " ['',\n",
      "  'ATGAGCTTTCTGTTTCTGCTGGTGAGCAGCATTCTGTTTGCGTTTATGTTTGTGTTTTGG',\n",
      "  'AAAACCTGGTTTCAGCGCAACACCGGCGAAATGAGCAGCAACAGCACCAGCCTGGCGCTG',\n",
      "  'GTGCGCAGCAGCAGCAGCACCCAGAGCACCAAAAGCAACATTGATAAAAGCCTGCTGGTG',\n",
      "  'AACAGCCTGAGCCGCGATATTCTGATTAACTTTCCGCATAGCATTGCGATGCAGCGCCGC',\n",
      "  'ATTCTGGTGAACCTGCGCATTGTGGATTATAAACTGGCGGAACTGGAACAGTTTCTGGTG',\n",
      "  'ACCAAAGGCCTGAACGGCGCGCTGGTGAACCGCAAAAGCACCGATAAACCGACCGAAGTG',\n",
      "  '',\n",
      "  ''])\n",
      "('>sp|Q4R717.1|KKLC1_MACFA RecName: Full=Kita-kyushu lung cancer antigen 1 '\n",
      " 'homolog',\n",
      " ['',\n",
      "  'ATGAACGTGTATCTGCTGCTGGCGAGCGGCATTCTGTGCGCGCTGATGACCGTGTTTTGG',\n",
      "  'AAATATCGCCGCTTTCAGCGCAACACCGGCGAAATGAGCAGCAACAGCACCGCGCTGGCG',\n",
      "  'CTGGTGCGCCCGAGCAGCACCGGCCTGATTAACAGCAACACCGATAACAACCTGAGCGTG',\n",
      "  'TATGATCTGAGCCGCGATATTCTGAACAACTTTCCGCATAGCATTGCGATGCAGAAACGC',\n",
      "  'ATTCTGGTGAACCTGACCACCGTGGAAAACAAACTGGTGGAACTGGAACATATTCTGGTG',\n",
      "  'AGCAAAGGCTTTCGCAGCGCGAGCGCGCATCGCAAAAGCACC',\n",
      "  '',\n",
      "  '',\n",
      "  ''])\n",
      "('>AAN12271.1 lung cancer oncogene 5 [Homo sapiens]',\n",
      " ['',\n",
      "  'ATGCTGCTGACCCGCTTTGAACAGAAAAACGGCCATCTGGCGCAGGTGGAAGTGGATGAA',\n",
      "  'GTGTTTGGCTTTATGTGCCATATTACCACCGAAGTGCCGCCGCATGATGCGATGCCGGGC',\n",
      "  'GGCATTGTGCTGCTGGTGAAATTTCTGCTGGATATGAGCCGCAACGTGCTGCTGTATGTG',\n",
      "  'GTGTTTCTGCAGCGCCTGAGCAGCGCGCTGCATCGCGTGCTGCTGCATCTGTTTCGCCAT',\n",
      "  'GTGCGCATTTTTGATCATGGCCTGAGCGTGGCGCATGGCTATCGCGGCGAAGGCGGCTGG',\n",
      "  'CCGACCGCGACCGTGAGCTGGGGCCGCTGC',\n",
      "  '',\n",
      "  ''])\n",
      "('>NP_001270680.1 kita-kyushu lung cancer antigen 1 homolog [Macaca '\n",
      " 'fascicularis]',\n",
      " ['',\n",
      "  'ATGAACGTGTATCTGCTGCTGGCGAGCGGCATTCTGTGCGCGCTGATGACCGTGTTTTGG',\n",
      "  'AAATATCGCCGCTTTCAGCGCAACACCGGCGAAATGAGCAGCAACAGCACCGCGCTGGCG',\n",
      "  'CTGGTGCGCCCGAGCAGCACCGGCCTGATTAACAGCAACACCGATAACAACCTGAGCGTG',\n",
      "  'TATGATCTGAGCCGCGATATTCTGAACAACTTTCCGCATAGCATTGCGATGCAGAAACGC',\n",
      "  'ATTCTGGTGAACCTGACCACCGTGGAAAACAAACTGGTGGAACTGGAACATATTCTGGTG',\n",
      "  'AGCAAAGGCTTTCGCAGCGCGAGCGCGCATCGCAAAAGCACC',\n",
      "  '',\n",
      "  ''])\n",
      "('>Sp|P63244.3|Rack1_Human Recname: Full=Receptor Of Activated Protein C '\n",
      " 'Kinase 1; Altname: Full=Cell Proliferation-Inducing Gene 21 Protein; '\n",
      " 'Altname: Full=Guanine Nucleotide-Binding Protein Subunit Beta-2-Like 1; '\n",
      " 'Altname: Full=Guanine Nucleotide-Binding Protein Subunit Beta-Like Protein '\n",
      " '12.3; Altname: Full=Human Lung Cancer Oncogene 7 Protein; Short=Hlc-7; '\n",
      " 'Altname: Full=Receptor For Activated C Kinase; Altname: Full=Small Ribosomal '\n",
      " 'Subunit Protein Rack1; Contains: Recname: Full=Receptor Of Activated Protein '\n",
      " 'C Kinase 1, N-Terminally Processed; Altname: Full=Guanine Nucleotide-Binding '\n",
      " 'Protein Subunit Beta-2-Like 1, N-Terminally Processed',\n",
      " ['',\n",
      "  'ATGACCGAACAGATGACCCTGCGCGGCACCCTGAAAGGCCATAACGGCTGGGTGACCCAG',\n",
      "  'ATTGCGACCACCCCGCAGTTTCCGGATATGATTCTGAGCGCGAGCCGCGATAAAACCATT',\n",
      "  'ATTATGTGGAAACTGACCCGCGATGAAACCAACTATGGCATTCCGCAGCGCGCGCTGCGC',\n",
      "  'GGCCATAGCCATTTTGTGAGCGATGTGGTGATTAGCAGCGATGGCCAGTTTGCGCTGAGC',\n",
      "  'GGCAGCTGGGATGGCACCCTGCGCCTGTGGGATCTGACCACCGGCACCACCACCCGCCGC',\n",
      "  'TTTGTGGGCCATACCAAAGATGTGCTGAGCGTGGCGTTTAGCAGCGATAACCGCCAGATT',\n",
      "  'GTGAGCGGCAGCCGCGATAAAACCATTAAACTGTGGAACACCCTGGGCGTGTGCAAATAT',\n",
      "  'ACCGTGCAGGATGAAAGCCATAGCGAATGGGTGAGCTGCGTGCGCTTTAGCCCGAACAGC',\n",
      "  'AGCAACCCGATTATTGTGAGCTGCGGCTGGGATAAACTGGTGAAAGTGTGGAACCTGGCG',\n",
      "  'AACTGCAAACTGAAAACCAACCATATTGGCCATACCGGCTATCTGAACACCGTGACCGTG',\n",
      "  'AGCCCGGATGGCAGCCTGTGCGCGAGCGGCGGCAAAGATGGCCAGGCGATGCTGTGGGAT',\n",
      "  'CTGAACGAAGGCAAACATCTGTATACCCTGGATGGCGGCGATATTATTAACGCGCTGTGC',\n",
      "  'TTTAGCCCGAACCGCTATTGGCTGTGCGCGGCGACCGGCCCGAGCATTAAAATTTGGGAT',\n",
      "  'CTGGAAGGCAAAATTATTGTGGATGAACTGAAACAGGAAGTGATTAGCACCAGCAGCAAA',\n",
      "  'GAACCGCCGCAGTGCACCAGCCTGGCGTGGAGCGCGGATGGCCAGACCCTGTTTGCGGGC',\n",
      "  'TATACCGATAACCTGGTGCGCGTGTGGCAGGTGACCATTGGCACCCGC',\n",
      "  ''])\n",
      "('>XP_027389897.1 kita-kyushu lung cancer antigen 1 [Bos indicus x Bos taurus]',\n",
      " ['',\n",
      "  'ATGAGCTTTCTGTTTCTGCTGGTGAGCAGCATTCTGTTTGCGTTTATGTTTGTGTTTTGG',\n",
      "  'AAAACCTGGTTTCAGCGCAACACCGGCGAAATGAGCAGCAACAGCACCAGCCTGGCGCTG',\n",
      "  'GTGCGCAGCAGCAGCAGCACCCAGAGCACCAAAAGCAACATTGATAAAAGCCTGCTGGTG',\n",
      "  'AACAGCCTGAGCCGCGATATTCTGATTAACTTTCCGCATAGCATTGCGATGCAGCGCCGC',\n",
      "  'ATTCTGGTGAACCTGCGCATTGTGGATTATAAACTGGCGGAACTGGAACAGTTTCTGGTG',\n",
      "  'ACCAAAGGCCTGAACGGCGCGCTGGTGAACCGCAAAAGCACCGATAAACCGACCGAAGTG',\n",
      "  '',\n",
      "  ''])\n",
      "('>XP_007647427.1 kita-kyushu lung cancer antigen 1 [Cricetulus griseus]',\n",
      " ['',\n",
      "  'ATGAACATTCTGTTTATTCTGGTGGGCAGCATTATTTTTGCGAGCATTTTTAGCATTTTT',\n",
      "  'AAAGTGGTGTTTCAGATTCCGGATCATGAACGCCCGAGCAACCCGACCAGCCCGACCCTG',\n",
      "  'CTGCGCGCGAACAGCTTTTGGAGCTATCGCAACACCGGCCTGAGCTTTCCGGGCAACAGC',\n",
      "  'TATAACCAGGATATGATGAACAACTTTCCGCGCACCCTGGCGCTGCATAAACGCATTCTG',\n",
      "  'GTGAACCTGAACATTATGGAATGCCAGCTGACCAAACTGGAACAGTTTCTGAGCAGCAAA',\n",
      "  'AACCCGCAGGGCCATACCAAACATCGCCGCCGCGCGACCGTGCGCATTCCGATGGAAAGC',\n",
      "  'GATAGCGGCAGCAACCAG',\n",
      "  '',\n",
      "  ''])\n",
      "('>XP_014918346.1 kita-kyushu lung cancer antigen 1 [Acinonyx jubatus]',\n",
      " ['',\n",
      "  'ATGAGCATGCTGCTGCTGCTGCTGAGCTTTATTGTGTTTACCCTGCTGCTGGTGGTGTGG',\n",
      "  'AAAAGCCGCTTTCAGAGCAGCGTGGGCGAAATGAGCAGCAACAGCACCAGCCTGGCGCTG',\n",
      "  'GTGCGCGCGACCAGCAGCACCGGCAGCACCAAAAGCAACACCGATAAAAACCTGAGCGTG',\n",
      "  'GATAGCATTAGCCGCGGCATTCTGATTAACAGCCCGCATACCATTGCGATGCAGAAACGC',\n",
      "  'ATTCTGATTAACCTGCGCATTGTGGAATATAAACTGGCGGAACTGGAATATTTTCTGATT',\n",
      "  'ATTAAAGGCCTGAACGGCACCCTGGCGAACTGCAAAAGCACCGATCGCCTGCGCGAATGC',\n",
      "  'AACGAAAGCGAAGGCAACCAT',\n",
      "  ''])\n",
      "('>XP_0026997503.1 kita-kyushu lung cancer antigen 1 [Bos taurus]',\n",
      " ['',\n",
      "  'ATGAGCTTTCTGTTTCTGCTGGTGAGCAGCATTCTGTTTGCGTTTATGTTTGTGTTTTGG',\n",
      "  'AAAACCTGGTTTCAGCGCAACACCGGCGAAATGAGCAGCAACAGCACCAGCCTGGCGCTG',\n",
      "  'GTGCGCAGCAGCAGCAGCACCCAGAGCACCAAAAGCAACATTGATAAAAGCCTGCTGGTG',\n",
      "  'AACAGCCTGAGCCGCGATATTCTGATTAACTTTCCGCATAGCATTGCGATGCAGCGCCGC',\n",
      "  'ATTCTGGTGAACCTGCGCATTGTGGATTATAAACTGGCGGAACTGGAACAGTTTCTGGTG',\n",
      "  'ACCAAAGGCCTGAACGGCGCGCTGGTGAACCGCAAAAGCACCGATAAACCGACCGAAGTG',\n",
      "  ''])\n",
      "('>XP_002699603.1 kita-kyushu lung cancer antigen 1 [Bos taurus]',\n",
      " ['',\n",
      "  'ATGAGCTTTCTGTTTCTGCTGGTGAGCAGCATTCTGTTTGCGTTTATGTTTGTGTTTTGG',\n",
      "  'AAAACCTGGTTTCAGCGCAACACCGGCGAAATGAGCAGCAACAGCACCAGCAGCCATTAT',\n",
      "  'CGCGCGTGCGTGGTGGTGGTGGGCCATAAACTGAGCCTGAGCAAATTTAACTTTAACTTT',\n",
      "  'TGGCATCAGCGCGTGAAA',\n",
      "  ''])\n"
     ]
    }
   ],
   "source": [
    "\"\"\"Display Identifiers and Nucleotides as Individual Sequence without Trailing Newline Characters\"\"\"\n",
    "#The pprint module provides a capability to “pretty-print” arbitrary Python data structures in a form \n",
    "#which can be used as input to the interpreter.\n",
    "from pprint import pprint\n",
    "\n",
    "fasta_file = \"DNA.fasta\"\n",
    "\n",
    "def parse_fasta(fname):\n",
    "    with open(fname, \"r\") as fh:\n",
    "\n",
    "        # Create variables for storing the identifiers and the sequence.\n",
    "        identifier = None\n",
    "        sequence = []\n",
    "\n",
    "        for line in fh:\n",
    "            line = line.strip()  # Remove trailing newline characters.\n",
    "            if line.startswith(\">\"):\n",
    "                if identifier is None:\n",
    "                    # This only happens when the first line of the\n",
    "                    # FASTA file is parsed.\n",
    "                    identifier = line\n",
    "                else:\n",
    "                    # This happens every time a new FASTA record is\n",
    "                    # encountered.\n",
    "\n",
    "                    # Start by yielding the entry that has been built up.\n",
    "                    yield identifier, sequence\n",
    "\n",
    "                    # Then reinitialise the identifier and sequence\n",
    "                    # variables to build up a new record.\n",
    "                    identifier = line\n",
    "                    sequence = []\n",
    "            else:\n",
    "                # This happens every time a sequence line is encountered.\n",
    "                sequence.append(line)\n",
    "\n",
    "for entry in parse_fasta(fasta_file):\n",
    "    pprint(entry)"
   ]
  },
  {
   "cell_type": "code",
   "execution_count": 28,
   "metadata": {},
   "outputs": [
    {
     "name": "stdout",
     "output_type": "stream",
     "text": [
      "('>NP_001273979.1 stabilizer of axonemal microtubules 1 isoform c [Homo sapiens]', ['A', 'T', 'G', 'A', 'A', 'A', 'A', 'C', 'C', 'A', 'A', 'A', 'T', 'G', 'C', 'A', 'T', 'T', 'T', 'G', 'C', 'G', 'A', 'A', 'C', 'T', 'G', 'T', 'G', 'C', 'A', 'G', 'C', 'T', 'G', 'C', 'G', 'G', 'C', 'C', 'G', 'C', 'C', 'A', 'T', 'C', 'A', 'T', 'T', 'G', 'C', 'C', 'C', 'G', 'C', 'A', 'T', 'C', 'T', 'G', 'C', 'C', 'G', 'A', 'C', 'C', 'A', 'A', 'A', 'A', 'T', 'T', 'T', 'A', 'T', 'G', 'A', 'T', 'A', 'A', 'A', 'A', 'C', 'C', 'G', 'A', 'A', 'A', 'A', 'A', 'C', 'C', 'G', 'T', 'G', 'C', 'C', 'T', 'G', 'C', 'T', 'G', 'A', 'G', 'C', 'G', 'A', 'A', 'T', 'A', 'T', 'A', 'C', 'C', 'G', 'A', 'A', 'A', 'A', 'C', 'T', 'A', 'T', 'C', 'C', 'G', 'T', 'T', 'T', 'T', 'A', 'T', 'C', 'A', 'T', 'A', 'G', 'C', 'T', 'A', 'T', 'C', 'T', 'G', 'C', 'C', 'G', 'C', 'G', 'C', 'G', 'A', 'A', 'A', 'G', 'C', 'T', 'T', 'T', 'A', 'A', 'A', 'C', 'C', 'G', 'C', 'G', 'C', 'C', 'G', 'C', 'G', 'A', 'A', 'T', 'A', 'T', 'C', 'A', 'G', 'A', 'A', 'A', 'G', 'G', 'C', 'C', 'C', 'G', 'A', 'T', 'T', 'C', 'C', 'G', 'A', 'T', 'G', 'G', 'A', 'A', 'G', 'G', 'C', 'C', 'T', 'G', 'A', 'C', 'C', 'A', 'C', 'C', 'A', 'G', 'C', 'A', 'G', 'C'])\n",
      "('>NP_001017978.1 kita-kyushu lung cancer antigen 1 [Homo sapiens]', ['A', 'T', 'G', 'A', 'A', 'C', 'T', 'T', 'T', 'T', 'A', 'T', 'C', 'T', 'G', 'C', 'T', 'G', 'C', 'T', 'G', 'G', 'C', 'G', 'A', 'G', 'C', 'A', 'G', 'C', 'A', 'T', 'T', 'C', 'T', 'G', 'T', 'G', 'C', 'G', 'C', 'G', 'C', 'T', 'G', 'A', 'T', 'T', 'G', 'T', 'G', 'T', 'T', 'T', 'T', 'G', 'G', 'A', 'A', 'A', 'T', 'A', 'T', 'C', 'G', 'C', 'C', 'G', 'C', 'T', 'T', 'T', 'C', 'A', 'G', 'C', 'G', 'C', 'A', 'A', 'C', 'A', 'C', 'C', 'G', 'G', 'C', 'G', 'A', 'A', 'A', 'T', 'G', 'A', 'G', 'C', 'A', 'G', 'C', 'A', 'A', 'C', 'A', 'G', 'C', 'A', 'C', 'C', 'G', 'C', 'G', 'C', 'T', 'G', 'G', 'C', 'G', 'C', 'T', 'G', 'G', 'T', 'G', 'C', 'G', 'C', 'C', 'C', 'G', 'A', 'G', 'C', 'A', 'G', 'C', 'A', 'G', 'C', 'G', 'G', 'C', 'C', 'T', 'G', 'A', 'T', 'T', 'A', 'A', 'C', 'A', 'G', 'C', 'A', 'A', 'C', 'A', 'C', 'C', 'G', 'A', 'T', 'A', 'A', 'C', 'A', 'A', 'C', 'C', 'T', 'G', 'G', 'C', 'G', 'G', 'T', 'G', 'T', 'A', 'T', 'G', 'A', 'T', 'C', 'T', 'G', 'A', 'G', 'C', 'C', 'G', 'C', 'G', 'A', 'T', 'A', 'T', 'T', 'C', 'T', 'G', 'A', 'A', 'C', 'A', 'A', 'C', 'T', 'T', 'T', 'C', 'C', 'G', 'C', 'A', 'T', 'A', 'G', 'C', 'A', 'T', 'T', 'G', 'C', 'G', 'C', 'G', 'C', 'C', 'A', 'G', 'A', 'A', 'A', 'C', 'G', 'C', 'A', 'T', 'T', 'C', 'T', 'G', 'G', 'T', 'G', 'A', 'A', 'C', 'C', 'T', 'G', 'A', 'G', 'C', 'A', 'T', 'G', 'G', 'T', 'G', 'G', 'A', 'A', 'A', 'A', 'C', 'A', 'A', 'A', 'C', 'T', 'G', 'G', 'T', 'G', 'G', 'A', 'A', 'C', 'T', 'G', 'G', 'A', 'A', 'C', 'A', 'T', 'A', 'C', 'C', 'C', 'T', 'G', 'C', 'T', 'G', 'A', 'G', 'C', 'A', 'A', 'A', 'G', 'G', 'C', 'T', 'T', 'T', 'C', 'G', 'C', 'G', 'G', 'C', 'G', 'C', 'G', 'A', 'G', 'C', 'C', 'C', 'G', 'C', 'A', 'T', 'C', 'G', 'C', 'A', 'A', 'A', 'A', 'G', 'C', 'A', 'C', 'C'])\n",
      "('>sp|Q5H943.1|KKLC1_HUMAN RecName: Full=Kita-kyushu lung cancer antigen 1; Short=KK-LC-1; AltName: Full=Cancer/testis antigen 83', ['A', 'T', 'G', 'A', 'A', 'C', 'T', 'T', 'T', 'T', 'A', 'T', 'C', 'T', 'G', 'C', 'T', 'G', 'C', 'T', 'G', 'G', 'C', 'G', 'A', 'G', 'C', 'A', 'G', 'C', 'A', 'T', 'T', 'C', 'T', 'G', 'T', 'G', 'C', 'G', 'C', 'G', 'C', 'T', 'G', 'A', 'T', 'T', 'G', 'T', 'G', 'T', 'T', 'T', 'T', 'G', 'G', 'A', 'A', 'A', 'T', 'A', 'T', 'C', 'G', 'C', 'C', 'G', 'C', 'T', 'T', 'T', 'C', 'A', 'G', 'C', 'G', 'C', 'A', 'A', 'C', 'A', 'C', 'C', 'G', 'G', 'C', 'G', 'A', 'A', 'A', 'T', 'G', 'A', 'G', 'C', 'A', 'G', 'C', 'A', 'A', 'C', 'A', 'G', 'C', 'A', 'C', 'C', 'G', 'C', 'G', 'C', 'T', 'G', 'G', 'C', 'G', 'C', 'T', 'G', 'G', 'T', 'G', 'C', 'G', 'C', 'C', 'C', 'G', 'A', 'G', 'C', 'A', 'G', 'C', 'A', 'G', 'C', 'G', 'G', 'C', 'C', 'T', 'G', 'A', 'T', 'T', 'A', 'A', 'C', 'A', 'G', 'C', 'A', 'A', 'C', 'A', 'C', 'C', 'G', 'A', 'T', 'A', 'A', 'C', 'A', 'A', 'C', 'C', 'T', 'G', 'G', 'C', 'G', 'G', 'T', 'G', 'T', 'A', 'T', 'G', 'A', 'T', 'C', 'T', 'G', 'A', 'G', 'C', 'C', 'G', 'C', 'G', 'A', 'T', 'A', 'T', 'T', 'C', 'T', 'G', 'A', 'A', 'C', 'A', 'A', 'C', 'T', 'T', 'T', 'C', 'C', 'G', 'C', 'A', 'T', 'A', 'G', 'C', 'A', 'T', 'T', 'G', 'C', 'G', 'C', 'G', 'C', 'C', 'A', 'G', 'A', 'A', 'A', 'C', 'G', 'C', 'A', 'T', 'T', 'C', 'T', 'G', 'G', 'T', 'G', 'A', 'A', 'C', 'C', 'T', 'G', 'A', 'G', 'C', 'A', 'T', 'G', 'G', 'T', 'G', 'G', 'A', 'A', 'A', 'A', 'C', 'A', 'A', 'A', 'C', 'T', 'G', 'G', 'T', 'G', 'G', 'A', 'A', 'C', 'T', 'G', 'G', 'A', 'A', 'C', 'A', 'T', 'A', 'C', 'C', 'C', 'T', 'G', 'C', 'T', 'G', 'A', 'G', 'C', 'A', 'A', 'A', 'G', 'G', 'C', 'T', 'T', 'T', 'C', 'G', 'C', 'G', 'G', 'C', 'G', 'C', 'G', 'A', 'G', 'C', 'C', 'C', 'G', 'C', 'A', 'T', 'C', 'G', 'C', 'A', 'A', 'A', 'A', 'G', 'C', 'A', 'C', 'C'])\n",
      "('>AAC35497.1 lung cancer candidate FUS1 [Homo sapiens]', ['A', 'T', 'G', 'G', 'G', 'C', 'G', 'C', 'G', 'A', 'G', 'C', 'G', 'G', 'C', 'A', 'G', 'C', 'A', 'A', 'A', 'G', 'C', 'G', 'C', 'G', 'C', 'G', 'G', 'C', 'C', 'T', 'G', 'T', 'G', 'G', 'C', 'C', 'G', 'T', 'T', 'T', 'G', 'C', 'G', 'A', 'G', 'C', 'G', 'C', 'G', 'G', 'C', 'G', 'G', 'G', 'C', 'G', 'G', 'C', 'G', 'G', 'C', 'G', 'G', 'C', 'A', 'G', 'C', 'G', 'A', 'A', 'G', 'C', 'G', 'G', 'C', 'G', 'G', 'G', 'C', 'G', 'C', 'G', 'G', 'A', 'A', 'C', 'A', 'G', 'G', 'C', 'G', 'C', 'T', 'G', 'G', 'T', 'G', 'C', 'G', 'C', 'C', 'C', 'G', 'C', 'G', 'C', 'G', 'G', 'C', 'C', 'G', 'C', 'G', 'C', 'G', 'G', 'T', 'G', 'C', 'C', 'G', 'C', 'C', 'G', 'T', 'T', 'T', 'G', 'T', 'G', 'T', 'T', 'T', 'A', 'C', 'C', 'C', 'G', 'C', 'C', 'G', 'C', 'G', 'G', 'C', 'A', 'G', 'C', 'A', 'T', 'G', 'T', 'T', 'T', 'T', 'A', 'T', 'G', 'A', 'T', 'G', 'A', 'A', 'G', 'A', 'T', 'G', 'G', 'C', 'G', 'A', 'T', 'C', 'T', 'G', 'G', 'C', 'G', 'C', 'A', 'T', 'G', 'A', 'A', 'T', 'T', 'T', 'T', 'A', 'T', 'G', 'A', 'A', 'G', 'A', 'A', 'A', 'C', 'C', 'A', 'T', 'T', 'G', 'T', 'G', 'A', 'C', 'C', 'A', 'A', 'A', 'A', 'A', 'C', 'G', 'G', 'C', 'C', 'A', 'G', 'A', 'A', 'A', 'C', 'G', 'C', 'G', 'C', 'G', 'A', 'A', 'A', 'C', 'T', 'G', 'C', 'G', 'C', 'C', 'G', 'C', 'G', 'T', 'G', 'C', 'A', 'T', 'A', 'A', 'A', 'A', 'A', 'C', 'C', 'T', 'G', 'A', 'T', 'T', 'C', 'C', 'G', 'C', 'A', 'G', 'G', 'G', 'C', 'A', 'T', 'T', 'G', 'T', 'G', 'A', 'A', 'A', 'C', 'T', 'G', 'G', 'A', 'T', 'C', 'A', 'T', 'C', 'C', 'G', 'C', 'G', 'C', 'A', 'T', 'T', 'C', 'A', 'T', 'G', 'T', 'G', 'G', 'A', 'T', 'T', 'T', 'T', 'C', 'C', 'G', 'G', 'T', 'G', 'A', 'T', 'T', 'C', 'T', 'G', 'T', 'A', 'T', 'G', 'A', 'A', 'G', 'T', 'G'])\n",
      "('>XP_002699503.1 kita-kyushu lung cancer antigen 1 [Bos taurus]', ['A', 'T', 'G', 'A', 'G', 'C', 'T', 'T', 'T', 'C', 'T', 'G', 'T', 'T', 'T', 'C', 'T', 'G', 'C', 'T', 'G', 'G', 'T', 'G', 'A', 'G', 'C', 'A', 'G', 'C', 'A', 'T', 'T', 'C', 'T', 'G', 'T', 'T', 'T', 'G', 'C', 'G', 'T', 'T', 'T', 'A', 'T', 'G', 'T', 'T', 'T', 'G', 'T', 'G', 'T', 'T', 'T', 'T', 'G', 'G', 'A', 'A', 'A', 'A', 'C', 'C', 'T', 'G', 'G', 'T', 'T', 'T', 'C', 'A', 'G', 'C', 'G', 'C', 'A', 'A', 'C', 'A', 'C', 'C', 'G', 'G', 'C', 'G', 'A', 'A', 'A', 'T', 'G', 'A', 'G', 'C', 'A', 'G', 'C', 'A', 'A', 'C', 'A', 'G', 'C', 'A', 'C', 'C', 'A', 'G', 'C', 'C', 'T', 'G', 'G', 'C', 'G', 'C', 'T', 'G', 'G', 'T', 'G', 'C', 'G', 'C', 'A', 'G', 'C', 'A', 'G', 'C', 'A', 'G', 'C', 'A', 'G', 'C', 'A', 'C', 'C', 'C', 'A', 'G', 'A', 'G', 'C', 'A', 'C', 'C', 'A', 'A', 'A', 'A', 'G', 'C', 'A', 'A', 'C', 'A', 'T', 'T', 'G', 'A', 'T', 'A', 'A', 'A', 'A', 'G', 'C', 'C', 'T', 'G', 'C', 'T', 'G', 'G', 'T', 'G', 'A', 'A', 'C', 'A', 'G', 'C', 'C', 'T', 'G', 'A', 'G', 'C', 'C', 'G', 'C', 'G', 'A', 'T', 'A', 'T', 'T', 'C', 'T', 'G', 'A', 'T', 'T', 'A', 'A', 'C', 'T', 'T', 'T', 'C', 'C', 'G', 'C', 'A', 'T', 'A', 'G', 'C', 'A', 'T', 'T', 'G', 'C', 'G', 'A', 'T', 'G', 'C', 'A', 'G', 'C', 'G', 'C', 'C', 'G', 'C', 'A', 'T', 'T', 'C', 'T', 'G', 'G', 'T', 'G', 'A', 'A', 'C', 'C', 'T', 'G', 'C', 'G', 'C', 'A', 'T', 'T', 'G', 'T', 'G', 'G', 'A', 'T', 'T', 'A', 'T', 'A', 'A', 'A', 'C', 'T', 'G', 'G', 'C', 'G', 'G', 'A', 'A', 'C', 'T', 'G', 'G', 'A', 'A', 'C', 'A', 'G', 'T', 'T', 'T', 'C', 'T', 'G', 'G', 'T', 'G', 'A', 'C', 'C', 'A', 'A', 'A', 'G', 'G', 'C', 'C', 'T', 'G', 'A', 'A', 'C', 'G', 'G', 'C', 'G', 'C', 'G', 'C', 'T', 'G', 'G', 'T', 'G', 'A', 'A', 'C', 'C', 'G', 'C', 'A', 'A', 'A', 'A', 'G', 'C', 'A', 'C', 'C', 'G', 'A', 'T', 'A', 'A', 'A', 'C', 'C', 'G', 'A', 'C', 'C', 'G', 'A', 'A', 'G', 'T', 'G'])\n",
      "('>sp|Q4R717.1|KKLC1_MACFA RecName: Full=Kita-kyushu lung cancer antigen 1 homolog', ['A', 'T', 'G', 'A', 'A', 'C', 'G', 'T', 'G', 'T', 'A', 'T', 'C', 'T', 'G', 'C', 'T', 'G', 'C', 'T', 'G', 'G', 'C', 'G', 'A', 'G', 'C', 'G', 'G', 'C', 'A', 'T', 'T', 'C', 'T', 'G', 'T', 'G', 'C', 'G', 'C', 'G', 'C', 'T', 'G', 'A', 'T', 'G', 'A', 'C', 'C', 'G', 'T', 'G', 'T', 'T', 'T', 'T', 'G', 'G', 'A', 'A', 'A', 'T', 'A', 'T', 'C', 'G', 'C', 'C', 'G', 'C', 'T', 'T', 'T', 'C', 'A', 'G', 'C', 'G', 'C', 'A', 'A', 'C', 'A', 'C', 'C', 'G', 'G', 'C', 'G', 'A', 'A', 'A', 'T', 'G', 'A', 'G', 'C', 'A', 'G', 'C', 'A', 'A', 'C', 'A', 'G', 'C', 'A', 'C', 'C', 'G', 'C', 'G', 'C', 'T', 'G', 'G', 'C', 'G', 'C', 'T', 'G', 'G', 'T', 'G', 'C', 'G', 'C', 'C', 'C', 'G', 'A', 'G', 'C', 'A', 'G', 'C', 'A', 'C', 'C', 'G', 'G', 'C', 'C', 'T', 'G', 'A', 'T', 'T', 'A', 'A', 'C', 'A', 'G', 'C', 'A', 'A', 'C', 'A', 'C', 'C', 'G', 'A', 'T', 'A', 'A', 'C', 'A', 'A', 'C', 'C', 'T', 'G', 'A', 'G', 'C', 'G', 'T', 'G', 'T', 'A', 'T', 'G', 'A', 'T', 'C', 'T', 'G', 'A', 'G', 'C', 'C', 'G', 'C', 'G', 'A', 'T', 'A', 'T', 'T', 'C', 'T', 'G', 'A', 'A', 'C', 'A', 'A', 'C', 'T', 'T', 'T', 'C', 'C', 'G', 'C', 'A', 'T', 'A', 'G', 'C', 'A', 'T', 'T', 'G', 'C', 'G', 'A', 'T', 'G', 'C', 'A', 'G', 'A', 'A', 'A', 'C', 'G', 'C', 'A', 'T', 'T', 'C', 'T', 'G', 'G', 'T', 'G', 'A', 'A', 'C', 'C', 'T', 'G', 'A', 'C', 'C', 'A', 'C', 'C', 'G', 'T', 'G', 'G', 'A', 'A', 'A', 'A', 'C', 'A', 'A', 'A', 'C', 'T', 'G', 'G', 'T', 'G', 'G', 'A', 'A', 'C', 'T', 'G', 'G', 'A', 'A', 'C', 'A', 'T', 'A', 'T', 'T', 'C', 'T', 'G', 'G', 'T', 'G', 'A', 'G', 'C', 'A', 'A', 'A', 'G', 'G', 'C', 'T', 'T', 'T', 'C', 'G', 'C', 'A', 'G', 'C', 'G', 'C', 'G', 'A', 'G', 'C', 'G', 'C', 'G', 'C', 'A', 'T', 'C', 'G', 'C', 'A', 'A', 'A', 'A', 'G', 'C', 'A', 'C', 'C'])\n",
      "('>AAN12271.1 lung cancer oncogene 5 [Homo sapiens]', ['A', 'T', 'G', 'C', 'T', 'G', 'C', 'T', 'G', 'A', 'C', 'C', 'C', 'G', 'C', 'T', 'T', 'T', 'G', 'A', 'A', 'C', 'A', 'G', 'A', 'A', 'A', 'A', 'A', 'C', 'G', 'G', 'C', 'C', 'A', 'T', 'C', 'T', 'G', 'G', 'C', 'G', 'C', 'A', 'G', 'G', 'T', 'G', 'G', 'A', 'A', 'G', 'T', 'G', 'G', 'A', 'T', 'G', 'A', 'A', 'G', 'T', 'G', 'T', 'T', 'T', 'G', 'G', 'C', 'T', 'T', 'T', 'A', 'T', 'G', 'T', 'G', 'C', 'C', 'A', 'T', 'A', 'T', 'T', 'A', 'C', 'C', 'A', 'C', 'C', 'G', 'A', 'A', 'G', 'T', 'G', 'C', 'C', 'G', 'C', 'C', 'G', 'C', 'A', 'T', 'G', 'A', 'T', 'G', 'C', 'G', 'A', 'T', 'G', 'C', 'C', 'G', 'G', 'G', 'C', 'G', 'G', 'C', 'A', 'T', 'T', 'G', 'T', 'G', 'C', 'T', 'G', 'C', 'T', 'G', 'G', 'T', 'G', 'A', 'A', 'A', 'T', 'T', 'T', 'C', 'T', 'G', 'C', 'T', 'G', 'G', 'A', 'T', 'A', 'T', 'G', 'A', 'G', 'C', 'C', 'G', 'C', 'A', 'A', 'C', 'G', 'T', 'G', 'C', 'T', 'G', 'C', 'T', 'G', 'T', 'A', 'T', 'G', 'T', 'G', 'G', 'T', 'G', 'T', 'T', 'T', 'C', 'T', 'G', 'C', 'A', 'G', 'C', 'G', 'C', 'C', 'T', 'G', 'A', 'G', 'C', 'A', 'G', 'C', 'G', 'C', 'G', 'C', 'T', 'G', 'C', 'A', 'T', 'C', 'G', 'C', 'G', 'T', 'G', 'C', 'T', 'G', 'C', 'T', 'G', 'C', 'A', 'T', 'C', 'T', 'G', 'T', 'T', 'T', 'C', 'G', 'C', 'C', 'A', 'T', 'G', 'T', 'G', 'C', 'G', 'C', 'A', 'T', 'T', 'T', 'T', 'T', 'G', 'A', 'T', 'C', 'A', 'T', 'G', 'G', 'C', 'C', 'T', 'G', 'A', 'G', 'C', 'G', 'T', 'G', 'G', 'C', 'G', 'C', 'A', 'T', 'G', 'G', 'C', 'T', 'A', 'T', 'C', 'G', 'C', 'G', 'G', 'C', 'G', 'A', 'A', 'G', 'G', 'C', 'G', 'G', 'C', 'T', 'G', 'G', 'C', 'C', 'G', 'A', 'C', 'C', 'G', 'C', 'G', 'A', 'C', 'C', 'G', 'T', 'G', 'A', 'G', 'C', 'T', 'G', 'G', 'G', 'G', 'C', 'C', 'G', 'C', 'T', 'G', 'C'])\n",
      "('>NP_001270680.1 kita-kyushu lung cancer antigen 1 homolog [Macaca fascicularis]', ['A', 'T', 'G', 'A', 'A', 'C', 'G', 'T', 'G', 'T', 'A', 'T', 'C', 'T', 'G', 'C', 'T', 'G', 'C', 'T', 'G', 'G', 'C', 'G', 'A', 'G', 'C', 'G', 'G', 'C', 'A', 'T', 'T', 'C', 'T', 'G', 'T', 'G', 'C', 'G', 'C', 'G', 'C', 'T', 'G', 'A', 'T', 'G', 'A', 'C', 'C', 'G', 'T', 'G', 'T', 'T', 'T', 'T', 'G', 'G', 'A', 'A', 'A', 'T', 'A', 'T', 'C', 'G', 'C', 'C', 'G', 'C', 'T', 'T', 'T', 'C', 'A', 'G', 'C', 'G', 'C', 'A', 'A', 'C', 'A', 'C', 'C', 'G', 'G', 'C', 'G', 'A', 'A', 'A', 'T', 'G', 'A', 'G', 'C', 'A', 'G', 'C', 'A', 'A', 'C', 'A', 'G', 'C', 'A', 'C', 'C', 'G', 'C', 'G', 'C', 'T', 'G', 'G', 'C', 'G', 'C', 'T', 'G', 'G', 'T', 'G', 'C', 'G', 'C', 'C', 'C', 'G', 'A', 'G', 'C', 'A', 'G', 'C', 'A', 'C', 'C', 'G', 'G', 'C', 'C', 'T', 'G', 'A', 'T', 'T', 'A', 'A', 'C', 'A', 'G', 'C', 'A', 'A', 'C', 'A', 'C', 'C', 'G', 'A', 'T', 'A', 'A', 'C', 'A', 'A', 'C', 'C', 'T', 'G', 'A', 'G', 'C', 'G', 'T', 'G', 'T', 'A', 'T', 'G', 'A', 'T', 'C', 'T', 'G', 'A', 'G', 'C', 'C', 'G', 'C', 'G', 'A', 'T', 'A', 'T', 'T', 'C', 'T', 'G', 'A', 'A', 'C', 'A', 'A', 'C', 'T', 'T', 'T', 'C', 'C', 'G', 'C', 'A', 'T', 'A', 'G', 'C', 'A', 'T', 'T', 'G', 'C', 'G', 'A', 'T', 'G', 'C', 'A', 'G', 'A', 'A', 'A', 'C', 'G', 'C', 'A', 'T', 'T', 'C', 'T', 'G', 'G', 'T', 'G', 'A', 'A', 'C', 'C', 'T', 'G', 'A', 'C', 'C', 'A', 'C', 'C', 'G', 'T', 'G', 'G', 'A', 'A', 'A', 'A', 'C', 'A', 'A', 'A', 'C', 'T', 'G', 'G', 'T', 'G', 'G', 'A', 'A', 'C', 'T', 'G', 'G', 'A', 'A', 'C', 'A', 'T', 'A', 'T', 'T', 'C', 'T', 'G', 'G', 'T', 'G', 'A', 'G', 'C', 'A', 'A', 'A', 'G', 'G', 'C', 'T', 'T', 'T', 'C', 'G', 'C', 'A', 'G', 'C', 'G', 'C', 'G', 'A', 'G', 'C', 'G', 'C', 'G', 'C', 'A', 'T', 'C', 'G', 'C', 'A', 'A', 'A', 'A', 'G', 'C', 'A', 'C', 'C'])\n",
      "('>Sp|P63244.3|Rack1_Human Recname: Full=Receptor Of Activated Protein C Kinase 1; Altname: Full=Cell Proliferation-Inducing Gene 21 Protein; Altname: Full=Guanine Nucleotide-Binding Protein Subunit Beta-2-Like 1; Altname: Full=Guanine Nucleotide-Binding Protein Subunit Beta-Like Protein 12.3; Altname: Full=Human Lung Cancer Oncogene 7 Protein; Short=Hlc-7; Altname: Full=Receptor For Activated C Kinase; Altname: Full=Small Ribosomal Subunit Protein Rack1; Contains: Recname: Full=Receptor Of Activated Protein C Kinase 1, N-Terminally Processed; Altname: Full=Guanine Nucleotide-Binding Protein Subunit Beta-2-Like 1, N-Terminally Processed', ['A', 'T', 'G', 'A', 'C', 'C', 'G', 'A', 'A', 'C', 'A', 'G', 'A', 'T', 'G', 'A', 'C', 'C', 'C', 'T', 'G', 'C', 'G', 'C', 'G', 'G', 'C', 'A', 'C', 'C', 'C', 'T', 'G', 'A', 'A', 'A', 'G', 'G', 'C', 'C', 'A', 'T', 'A', 'A', 'C', 'G', 'G', 'C', 'T', 'G', 'G', 'G', 'T', 'G', 'A', 'C', 'C', 'C', 'A', 'G', 'A', 'T', 'T', 'G', 'C', 'G', 'A', 'C', 'C', 'A', 'C', 'C', 'C', 'C', 'G', 'C', 'A', 'G', 'T', 'T', 'T', 'C', 'C', 'G', 'G', 'A', 'T', 'A', 'T', 'G', 'A', 'T', 'T', 'C', 'T', 'G', 'A', 'G', 'C', 'G', 'C', 'G', 'A', 'G', 'C', 'C', 'G', 'C', 'G', 'A', 'T', 'A', 'A', 'A', 'A', 'C', 'C', 'A', 'T', 'T', 'A', 'T', 'T', 'A', 'T', 'G', 'T', 'G', 'G', 'A', 'A', 'A', 'C', 'T', 'G', 'A', 'C', 'C', 'C', 'G', 'C', 'G', 'A', 'T', 'G', 'A', 'A', 'A', 'C', 'C', 'A', 'A', 'C', 'T', 'A', 'T', 'G', 'G', 'C', 'A', 'T', 'T', 'C', 'C', 'G', 'C', 'A', 'G', 'C', 'G', 'C', 'G', 'C', 'G', 'C', 'T', 'G', 'C', 'G', 'C', 'G', 'G', 'C', 'C', 'A', 'T', 'A', 'G', 'C', 'C', 'A', 'T', 'T', 'T', 'T', 'G', 'T', 'G', 'A', 'G', 'C', 'G', 'A', 'T', 'G', 'T', 'G', 'G', 'T', 'G', 'A', 'T', 'T', 'A', 'G', 'C', 'A', 'G', 'C', 'G', 'A', 'T', 'G', 'G', 'C', 'C', 'A', 'G', 'T', 'T', 'T', 'G', 'C', 'G', 'C', 'T', 'G', 'A', 'G', 'C', 'G', 'G', 'C', 'A', 'G', 'C', 'T', 'G', 'G', 'G', 'A', 'T', 'G', 'G', 'C', 'A', 'C', 'C', 'C', 'T', 'G', 'C', 'G', 'C', 'C', 'T', 'G', 'T', 'G', 'G', 'G', 'A', 'T', 'C', 'T', 'G', 'A', 'C', 'C', 'A', 'C', 'C', 'G', 'G', 'C', 'A', 'C', 'C', 'A', 'C', 'C', 'A', 'C', 'C', 'C', 'G', 'C', 'C', 'G', 'C', 'T', 'T', 'T', 'G', 'T', 'G', 'G', 'G', 'C', 'C', 'A', 'T', 'A', 'C', 'C', 'A', 'A', 'A', 'G', 'A', 'T', 'G', 'T', 'G', 'C', 'T', 'G', 'A', 'G', 'C', 'G', 'T', 'G', 'G', 'C', 'G', 'T', 'T', 'T', 'A', 'G', 'C', 'A', 'G', 'C', 'G', 'A', 'T', 'A', 'A', 'C', 'C', 'G', 'C', 'C', 'A', 'G', 'A', 'T', 'T', 'G', 'T', 'G', 'A', 'G', 'C', 'G', 'G', 'C', 'A', 'G', 'C', 'C', 'G', 'C', 'G', 'A', 'T', 'A', 'A', 'A', 'A', 'C', 'C', 'A', 'T', 'T', 'A', 'A', 'A', 'C', 'T', 'G', 'T', 'G', 'G', 'A', 'A', 'C', 'A', 'C', 'C', 'C', 'T', 'G', 'G', 'G', 'C', 'G', 'T', 'G', 'T', 'G', 'C', 'A', 'A', 'A', 'T', 'A', 'T', 'A', 'C', 'C', 'G', 'T', 'G', 'C', 'A', 'G', 'G', 'A', 'T', 'G', 'A', 'A', 'A', 'G', 'C', 'C', 'A', 'T', 'A', 'G', 'C', 'G', 'A', 'A', 'T', 'G', 'G', 'G', 'T', 'G', 'A', 'G', 'C', 'T', 'G', 'C', 'G', 'T', 'G', 'C', 'G', 'C', 'T', 'T', 'T', 'A', 'G', 'C', 'C', 'C', 'G', 'A', 'A', 'C', 'A', 'G', 'C', 'A', 'G', 'C', 'A', 'A', 'C', 'C', 'C', 'G', 'A', 'T', 'T', 'A', 'T', 'T', 'G', 'T', 'G', 'A', 'G', 'C', 'T', 'G', 'C', 'G', 'G', 'C', 'T', 'G', 'G', 'G', 'A', 'T', 'A', 'A', 'A', 'C', 'T', 'G', 'G', 'T', 'G', 'A', 'A', 'A', 'G', 'T', 'G', 'T', 'G', 'G', 'A', 'A', 'C', 'C', 'T', 'G', 'G', 'C', 'G', 'A', 'A', 'C', 'T', 'G', 'C', 'A', 'A', 'A', 'C', 'T', 'G', 'A', 'A', 'A', 'A', 'C', 'C', 'A', 'A', 'C', 'C', 'A', 'T', 'A', 'T', 'T', 'G', 'G', 'C', 'C', 'A', 'T', 'A', 'C', 'C', 'G', 'G', 'C', 'T', 'A', 'T', 'C', 'T', 'G', 'A', 'A', 'C', 'A', 'C', 'C', 'G', 'T', 'G', 'A', 'C', 'C', 'G', 'T', 'G', 'A', 'G', 'C', 'C', 'C', 'G', 'G', 'A', 'T', 'G', 'G', 'C', 'A', 'G', 'C', 'C', 'T', 'G', 'T', 'G', 'C', 'G', 'C', 'G', 'A', 'G', 'C', 'G', 'G', 'C', 'G', 'G', 'C', 'A', 'A', 'A', 'G', 'A', 'T', 'G', 'G', 'C', 'C', 'A', 'G', 'G', 'C', 'G', 'A', 'T', 'G', 'C', 'T', 'G', 'T', 'G', 'G', 'G', 'A', 'T', 'C', 'T', 'G', 'A', 'A', 'C', 'G', 'A', 'A', 'G', 'G', 'C', 'A', 'A', 'A', 'C', 'A', 'T', 'C', 'T', 'G', 'T', 'A', 'T', 'A', 'C', 'C', 'C', 'T', 'G', 'G', 'A', 'T', 'G', 'G', 'C', 'G', 'G', 'C', 'G', 'A', 'T', 'A', 'T', 'T', 'A', 'T', 'T', 'A', 'A', 'C', 'G', 'C', 'G', 'C', 'T', 'G', 'T', 'G', 'C', 'T', 'T', 'T', 'A', 'G', 'C', 'C', 'C', 'G', 'A', 'A', 'C', 'C', 'G', 'C', 'T', 'A', 'T', 'T', 'G', 'G', 'C', 'T', 'G', 'T', 'G', 'C', 'G', 'C', 'G', 'G', 'C', 'G', 'A', 'C', 'C', 'G', 'G', 'C', 'C', 'C', 'G', 'A', 'G', 'C', 'A', 'T', 'T', 'A', 'A', 'A', 'A', 'T', 'T', 'T', 'G', 'G', 'G', 'A', 'T', 'C', 'T', 'G', 'G', 'A', 'A', 'G', 'G', 'C', 'A', 'A', 'A', 'A', 'T', 'T', 'A', 'T', 'T', 'G', 'T', 'G', 'G', 'A', 'T', 'G', 'A', 'A', 'C', 'T', 'G', 'A', 'A', 'A', 'C', 'A', 'G', 'G', 'A', 'A', 'G', 'T', 'G', 'A', 'T', 'T', 'A', 'G', 'C', 'A', 'C', 'C', 'A', 'G', 'C', 'A', 'G', 'C', 'A', 'A', 'A', 'G', 'A', 'A', 'C', 'C', 'G', 'C', 'C', 'G', 'C', 'A', 'G', 'T', 'G', 'C', 'A', 'C', 'C', 'A', 'G', 'C', 'C', 'T', 'G', 'G', 'C', 'G', 'T', 'G', 'G', 'A', 'G', 'C', 'G', 'C', 'G', 'G', 'A', 'T', 'G', 'G', 'C', 'C', 'A', 'G', 'A', 'C', 'C', 'C', 'T', 'G', 'T', 'T', 'T', 'G', 'C', 'G', 'G', 'G', 'C', 'T', 'A', 'T', 'A', 'C', 'C', 'G', 'A', 'T', 'A', 'A', 'C', 'C', 'T', 'G', 'G', 'T', 'G', 'C', 'G', 'C', 'G', 'T', 'G', 'T', 'G', 'G', 'C', 'A', 'G', 'G', 'T', 'G', 'A', 'C', 'C', 'A', 'T', 'T', 'G', 'G', 'C', 'A', 'C', 'C', 'C', 'G', 'C'])\n",
      "('>XP_027389897.1 kita-kyushu lung cancer antigen 1 [Bos indicus x Bos taurus]', ['A', 'T', 'G', 'A', 'G', 'C', 'T', 'T', 'T', 'C', 'T', 'G', 'T', 'T', 'T', 'C', 'T', 'G', 'C', 'T', 'G', 'G', 'T', 'G', 'A', 'G', 'C', 'A', 'G', 'C', 'A', 'T', 'T', 'C', 'T', 'G', 'T', 'T', 'T', 'G', 'C', 'G', 'T', 'T', 'T', 'A', 'T', 'G', 'T', 'T', 'T', 'G', 'T', 'G', 'T', 'T', 'T', 'T', 'G', 'G', 'A', 'A', 'A', 'A', 'C', 'C', 'T', 'G', 'G', 'T', 'T', 'T', 'C', 'A', 'G', 'C', 'G', 'C', 'A', 'A', 'C', 'A', 'C', 'C', 'G', 'G', 'C', 'G', 'A', 'A', 'A', 'T', 'G', 'A', 'G', 'C', 'A', 'G', 'C', 'A', 'A', 'C', 'A', 'G', 'C', 'A', 'C', 'C', 'A', 'G', 'C', 'C', 'T', 'G', 'G', 'C', 'G', 'C', 'T', 'G', 'G', 'T', 'G', 'C', 'G', 'C', 'A', 'G', 'C', 'A', 'G', 'C', 'A', 'G', 'C', 'A', 'G', 'C', 'A', 'C', 'C', 'C', 'A', 'G', 'A', 'G', 'C', 'A', 'C', 'C', 'A', 'A', 'A', 'A', 'G', 'C', 'A', 'A', 'C', 'A', 'T', 'T', 'G', 'A', 'T', 'A', 'A', 'A', 'A', 'G', 'C', 'C', 'T', 'G', 'C', 'T', 'G', 'G', 'T', 'G', 'A', 'A', 'C', 'A', 'G', 'C', 'C', 'T', 'G', 'A', 'G', 'C', 'C', 'G', 'C', 'G', 'A', 'T', 'A', 'T', 'T', 'C', 'T', 'G', 'A', 'T', 'T', 'A', 'A', 'C', 'T', 'T', 'T', 'C', 'C', 'G', 'C', 'A', 'T', 'A', 'G', 'C', 'A', 'T', 'T', 'G', 'C', 'G', 'A', 'T', 'G', 'C', 'A', 'G', 'C', 'G', 'C', 'C', 'G', 'C', 'A', 'T', 'T', 'C', 'T', 'G', 'G', 'T', 'G', 'A', 'A', 'C', 'C', 'T', 'G', 'C', 'G', 'C', 'A', 'T', 'T', 'G', 'T', 'G', 'G', 'A', 'T', 'T', 'A', 'T', 'A', 'A', 'A', 'C', 'T', 'G', 'G', 'C', 'G', 'G', 'A', 'A', 'C', 'T', 'G', 'G', 'A', 'A', 'C', 'A', 'G', 'T', 'T', 'T', 'C', 'T', 'G', 'G', 'T', 'G', 'A', 'C', 'C', 'A', 'A', 'A', 'G', 'G', 'C', 'C', 'T', 'G', 'A', 'A', 'C', 'G', 'G', 'C', 'G', 'C', 'G', 'C', 'T', 'G', 'G', 'T', 'G', 'A', 'A', 'C', 'C', 'G', 'C', 'A', 'A', 'A', 'A', 'G', 'C', 'A', 'C', 'C', 'G', 'A', 'T', 'A', 'A', 'A', 'C', 'C', 'G', 'A', 'C', 'C', 'G', 'A', 'A', 'G', 'T', 'G'])\n",
      "('>XP_007647427.1 kita-kyushu lung cancer antigen 1 [Cricetulus griseus]', ['A', 'T', 'G', 'A', 'A', 'C', 'A', 'T', 'T', 'C', 'T', 'G', 'T', 'T', 'T', 'A', 'T', 'T', 'C', 'T', 'G', 'G', 'T', 'G', 'G', 'G', 'C', 'A', 'G', 'C', 'A', 'T', 'T', 'A', 'T', 'T', 'T', 'T', 'T', 'G', 'C', 'G', 'A', 'G', 'C', 'A', 'T', 'T', 'T', 'T', 'T', 'A', 'G', 'C', 'A', 'T', 'T', 'T', 'T', 'T', 'A', 'A', 'A', 'G', 'T', 'G', 'G', 'T', 'G', 'T', 'T', 'T', 'C', 'A', 'G', 'A', 'T', 'T', 'C', 'C', 'G', 'G', 'A', 'T', 'C', 'A', 'T', 'G', 'A', 'A', 'C', 'G', 'C', 'C', 'C', 'G', 'A', 'G', 'C', 'A', 'A', 'C', 'C', 'C', 'G', 'A', 'C', 'C', 'A', 'G', 'C', 'C', 'C', 'G', 'A', 'C', 'C', 'C', 'T', 'G', 'C', 'T', 'G', 'C', 'G', 'C', 'G', 'C', 'G', 'A', 'A', 'C', 'A', 'G', 'C', 'T', 'T', 'T', 'T', 'G', 'G', 'A', 'G', 'C', 'T', 'A', 'T', 'C', 'G', 'C', 'A', 'A', 'C', 'A', 'C', 'C', 'G', 'G', 'C', 'C', 'T', 'G', 'A', 'G', 'C', 'T', 'T', 'T', 'C', 'C', 'G', 'G', 'G', 'C', 'A', 'A', 'C', 'A', 'G', 'C', 'T', 'A', 'T', 'A', 'A', 'C', 'C', 'A', 'G', 'G', 'A', 'T', 'A', 'T', 'G', 'A', 'T', 'G', 'A', 'A', 'C', 'A', 'A', 'C', 'T', 'T', 'T', 'C', 'C', 'G', 'C', 'G', 'C', 'A', 'C', 'C', 'C', 'T', 'G', 'G', 'C', 'G', 'C', 'T', 'G', 'C', 'A', 'T', 'A', 'A', 'A', 'C', 'G', 'C', 'A', 'T', 'T', 'C', 'T', 'G', 'G', 'T', 'G', 'A', 'A', 'C', 'C', 'T', 'G', 'A', 'A', 'C', 'A', 'T', 'T', 'A', 'T', 'G', 'G', 'A', 'A', 'T', 'G', 'C', 'C', 'A', 'G', 'C', 'T', 'G', 'A', 'C', 'C', 'A', 'A', 'A', 'C', 'T', 'G', 'G', 'A', 'A', 'C', 'A', 'G', 'T', 'T', 'T', 'C', 'T', 'G', 'A', 'G', 'C', 'A', 'G', 'C', 'A', 'A', 'A', 'A', 'A', 'C', 'C', 'C', 'G', 'C', 'A', 'G', 'G', 'G', 'C', 'C', 'A', 'T', 'A', 'C', 'C', 'A', 'A', 'A', 'C', 'A', 'T', 'C', 'G', 'C', 'C', 'G', 'C', 'C', 'G', 'C', 'G', 'C', 'G', 'A', 'C', 'C', 'G', 'T', 'G', 'C', 'G', 'C', 'A', 'T', 'T', 'C', 'C', 'G', 'A', 'T', 'G', 'G', 'A', 'A', 'A', 'G', 'C', 'G', 'A', 'T', 'A', 'G', 'C', 'G', 'G', 'C', 'A', 'G', 'C', 'A', 'A', 'C', 'C', 'A', 'G'])\n",
      "('>XP_014918346.1 kita-kyushu lung cancer antigen 1 [Acinonyx jubatus]', ['A', 'T', 'G', 'A', 'G', 'C', 'A', 'T', 'G', 'C', 'T', 'G', 'C', 'T', 'G', 'C', 'T', 'G', 'C', 'T', 'G', 'C', 'T', 'G', 'A', 'G', 'C', 'T', 'T', 'T', 'A', 'T', 'T', 'G', 'T', 'G', 'T', 'T', 'T', 'A', 'C', 'C', 'C', 'T', 'G', 'C', 'T', 'G', 'C', 'T', 'G', 'G', 'T', 'G', 'G', 'T', 'G', 'T', 'G', 'G', 'A', 'A', 'A', 'A', 'G', 'C', 'C', 'G', 'C', 'T', 'T', 'T', 'C', 'A', 'G', 'A', 'G', 'C', 'A', 'G', 'C', 'G', 'T', 'G', 'G', 'G', 'C', 'G', 'A', 'A', 'A', 'T', 'G', 'A', 'G', 'C', 'A', 'G', 'C', 'A', 'A', 'C', 'A', 'G', 'C', 'A', 'C', 'C', 'A', 'G', 'C', 'C', 'T', 'G', 'G', 'C', 'G', 'C', 'T', 'G', 'G', 'T', 'G', 'C', 'G', 'C', 'G', 'C', 'G', 'A', 'C', 'C', 'A', 'G', 'C', 'A', 'G', 'C', 'A', 'C', 'C', 'G', 'G', 'C', 'A', 'G', 'C', 'A', 'C', 'C', 'A', 'A', 'A', 'A', 'G', 'C', 'A', 'A', 'C', 'A', 'C', 'C', 'G', 'A', 'T', 'A', 'A', 'A', 'A', 'A', 'C', 'C', 'T', 'G', 'A', 'G', 'C', 'G', 'T', 'G', 'G', 'A', 'T', 'A', 'G', 'C', 'A', 'T', 'T', 'A', 'G', 'C', 'C', 'G', 'C', 'G', 'G', 'C', 'A', 'T', 'T', 'C', 'T', 'G', 'A', 'T', 'T', 'A', 'A', 'C', 'A', 'G', 'C', 'C', 'C', 'G', 'C', 'A', 'T', 'A', 'C', 'C', 'A', 'T', 'T', 'G', 'C', 'G', 'A', 'T', 'G', 'C', 'A', 'G', 'A', 'A', 'A', 'C', 'G', 'C', 'A', 'T', 'T', 'C', 'T', 'G', 'A', 'T', 'T', 'A', 'A', 'C', 'C', 'T', 'G', 'C', 'G', 'C', 'A', 'T', 'T', 'G', 'T', 'G', 'G', 'A', 'A', 'T', 'A', 'T', 'A', 'A', 'A', 'C', 'T', 'G', 'G', 'C', 'G', 'G', 'A', 'A', 'C', 'T', 'G', 'G', 'A', 'A', 'T', 'A', 'T', 'T', 'T', 'T', 'C', 'T', 'G', 'A', 'T', 'T', 'A', 'T', 'T', 'A', 'A', 'A', 'G', 'G', 'C', 'C', 'T', 'G', 'A', 'A', 'C', 'G', 'G', 'C', 'A', 'C', 'C', 'C', 'T', 'G', 'G', 'C', 'G', 'A', 'A', 'C', 'T', 'G', 'C', 'A', 'A', 'A', 'A', 'G', 'C', 'A', 'C', 'C', 'G', 'A', 'T', 'C', 'G', 'C', 'C', 'T', 'G', 'C', 'G', 'C', 'G', 'A', 'A', 'T', 'G', 'C', 'A', 'A', 'C', 'G', 'A', 'A', 'A', 'G', 'C', 'G', 'A', 'A', 'G', 'G', 'C', 'A', 'A', 'C', 'C', 'A', 'T'])\n",
      "('>XP_0026997503.1 kita-kyushu lung cancer antigen 1 [Bos taurus]', ['A', 'T', 'G', 'A', 'G', 'C', 'T', 'T', 'T', 'C', 'T', 'G', 'T', 'T', 'T', 'C', 'T', 'G', 'C', 'T', 'G', 'G', 'T', 'G', 'A', 'G', 'C', 'A', 'G', 'C', 'A', 'T', 'T', 'C', 'T', 'G', 'T', 'T', 'T', 'G', 'C', 'G', 'T', 'T', 'T', 'A', 'T', 'G', 'T', 'T', 'T', 'G', 'T', 'G', 'T', 'T', 'T', 'T', 'G', 'G', 'A', 'A', 'A', 'A', 'C', 'C', 'T', 'G', 'G', 'T', 'T', 'T', 'C', 'A', 'G', 'C', 'G', 'C', 'A', 'A', 'C', 'A', 'C', 'C', 'G', 'G', 'C', 'G', 'A', 'A', 'A', 'T', 'G', 'A', 'G', 'C', 'A', 'G', 'C', 'A', 'A', 'C', 'A', 'G', 'C', 'A', 'C', 'C', 'A', 'G', 'C', 'C', 'T', 'G', 'G', 'C', 'G', 'C', 'T', 'G', 'G', 'T', 'G', 'C', 'G', 'C', 'A', 'G', 'C', 'A', 'G', 'C', 'A', 'G', 'C', 'A', 'G', 'C', 'A', 'C', 'C', 'C', 'A', 'G', 'A', 'G', 'C', 'A', 'C', 'C', 'A', 'A', 'A', 'A', 'G', 'C', 'A', 'A', 'C', 'A', 'T', 'T', 'G', 'A', 'T', 'A', 'A', 'A', 'A', 'G', 'C', 'C', 'T', 'G', 'C', 'T', 'G', 'G', 'T', 'G', 'A', 'A', 'C', 'A', 'G', 'C', 'C', 'T', 'G', 'A', 'G', 'C', 'C', 'G', 'C', 'G', 'A', 'T', 'A', 'T', 'T', 'C', 'T', 'G', 'A', 'T', 'T', 'A', 'A', 'C', 'T', 'T', 'T', 'C', 'C', 'G', 'C', 'A', 'T', 'A', 'G', 'C', 'A', 'T', 'T', 'G', 'C', 'G', 'A', 'T', 'G', 'C', 'A', 'G', 'C', 'G', 'C', 'C', 'G', 'C', 'A', 'T', 'T', 'C', 'T', 'G', 'G', 'T', 'G', 'A', 'A', 'C', 'C', 'T', 'G', 'C', 'G', 'C', 'A', 'T', 'T', 'G', 'T', 'G', 'G', 'A', 'T', 'T', 'A', 'T', 'A', 'A', 'A', 'C', 'T', 'G', 'G', 'C', 'G', 'G', 'A', 'A', 'C', 'T', 'G', 'G', 'A', 'A', 'C', 'A', 'G', 'T', 'T', 'T', 'C', 'T', 'G', 'G', 'T', 'G', 'A', 'C', 'C', 'A', 'A', 'A', 'G', 'G', 'C', 'C', 'T', 'G', 'A', 'A', 'C', 'G', 'G', 'C', 'G', 'C', 'G', 'C', 'T', 'G', 'G', 'T', 'G', 'A', 'A', 'C', 'C', 'G', 'C', 'A', 'A', 'A', 'A', 'G', 'C', 'A', 'C', 'C', 'G', 'A', 'T', 'A', 'A', 'A', 'C', 'C', 'G', 'A', 'C', 'C', 'G', 'A', 'A', 'G', 'T', 'G'])\n",
      "('>XP_002699603.1 kita-kyushu lung cancer antigen 1 [Bos taurus]', ['A', 'T', 'G', 'A', 'G', 'C', 'T', 'T', 'T', 'C', 'T', 'G', 'T', 'T', 'T', 'C', 'T', 'G', 'C', 'T', 'G', 'G', 'T', 'G', 'A', 'G', 'C', 'A', 'G', 'C', 'A', 'T', 'T', 'C', 'T', 'G', 'T', 'T', 'T', 'G', 'C', 'G', 'T', 'T', 'T', 'A', 'T', 'G', 'T', 'T', 'T', 'G', 'T', 'G', 'T', 'T', 'T', 'T', 'G', 'G', 'A', 'A', 'A', 'A', 'C', 'C', 'T', 'G', 'G', 'T', 'T', 'T', 'C', 'A', 'G', 'C', 'G', 'C', 'A', 'A', 'C', 'A', 'C', 'C', 'G', 'G', 'C', 'G', 'A', 'A', 'A', 'T', 'G', 'A', 'G', 'C', 'A', 'G', 'C', 'A', 'A', 'C', 'A', 'G', 'C', 'A', 'C', 'C', 'A', 'G', 'C', 'A', 'G', 'C', 'C', 'A', 'T', 'T', 'A', 'T', 'C', 'G', 'C', 'G', 'C', 'G', 'T', 'G', 'C', 'G', 'T', 'G', 'G', 'T', 'G', 'G', 'T', 'G', 'G', 'T', 'G', 'G', 'G', 'C', 'C', 'A', 'T', 'A', 'A', 'A', 'C', 'T', 'G', 'A', 'G', 'C', 'C', 'T', 'G', 'A', 'G', 'C', 'A', 'A', 'A', 'T', 'T', 'T', 'A', 'A', 'C', 'T', 'T', 'T', 'A', 'A', 'C', 'T', 'T', 'T', 'T', 'G', 'G', 'C', 'A', 'T', 'C', 'A', 'G', 'C', 'G', 'C', 'G', 'T', 'G', 'A', 'A', 'A'])\n"
     ]
    }
   ],
   "source": [
    "\"\"\"Display Identifiers and Nucleotides as Separate Sequences with ,\"\"\"\n",
    "#The pprint module provides a capability to “pretty-print” arbitrary Python data structures in a form \n",
    "#which can be used as input to the interpreter.\n",
    "fasta_file = \"DNA.fasta\"\n",
    "\n",
    "def parse_fasta(fname):\n",
    "    with open(fname, \"r\") as fh:\n",
    "\n",
    "        # Create variables for storing the identifiers and the sequence.\n",
    "        identifier = None\n",
    "        sequence = []\n",
    "\n",
    "        for line in fh:\n",
    "            line = line.strip()  # Remove trailing newline characters.\n",
    "            if line.startswith(\">\"):\n",
    "                if identifier is None:\n",
    "                    # This only happens when the first line of the\n",
    "                    # FASTA file is parsed.\n",
    "                    identifier = line\n",
    "                else:\n",
    "                    # This happens every time a new FASTA record is\n",
    "                    # encountered.\n",
    "\n",
    "                    # Start by yielding the entry that has been built up.\n",
    "                    yield identifier, sequence\n",
    "\n",
    "                    # Then reinitialise the identifier and sequence\n",
    "                    # variables to build up a new record.\n",
    "                    identifier = line\n",
    "                    sequence = []\n",
    "            else:\n",
    "                # This happens every time a sequence line is encountered.\n",
    "                seq_on_line = list(line)\n",
    "                sequence.extend(seq_on_line)\n",
    "\n",
    "for entry in parse_fasta(fasta_file):\n",
    "    print(entry)"
   ]
  },
  {
   "cell_type": "code",
   "execution_count": 29,
   "metadata": {},
   "outputs": [
    {
     "data": {
      "text/plain": [
       "'MKTKCICELCSCGRHHCPHLPTKIYDKTEKPCLLSEYTENYPFYHSYLPRESFKPRREYQKGPIPMEGLTTSSMNFYLLLASSILCALIVFWKYRRFQRNTGEMSSNSTALALVRPSSSGLINSNTDNNLAVYDLSRDILNNFPHSIARQKRILVNLSMVENKLVELEHTLLSKGFRGASPHRKSTMNFYLLLASSILCALIVFWKYRRFQRNTGEMSSNSTALALVRPSSSGLINSNTDNNLAVYDLSRDILNNFPHSIARQKRILVNLSMVENKLVELEHTLLSKGFRGASPHRKSTMGASGSKARGLWPFASAAGGGGSEAAGAEQALVRPRGRAVPPFVFTRRGSMFYDEDGDLAHEFYEETIVTKNGQKRAKLRRVHKNLIPQGIVKLDHPRIHVDFPVILYEVMSFLFLLVSSILFAFMFVFWKTWFQRNTGEMSSNSTSLALVRSSSSTQSTKSNIDKSLLVNSLSRDILINFPHSIAMQRRILVNLRIVDYKLAELEQFLVTKGLNGALVNRKSTDKPTEVMNVYLLLASGILCALMTVFWKYRRFQRNTGEMSSNSTALALVRPSSTGLINSNTDNNLSVYDLSRDILNNFPHSIAMQKRILVNLTTVENKLVELEHILVSKGFRSASAHRKSTMLLTRFEQKNGHLAQVEVDEVFGFMCHITTEVPPHDAMPGGIVLLVKFLLDMSRNVLLYVVFLQRLSSALHRVLLHLFRHVRIFDHGLSVAHGYRGEGGWPTATVSWGRCMNVYLLLASGILCALMTVFWKYRRFQRNTGEMSSNSTALALVRPSSTGLINSNTDNNLSVYDLSRDILNNFPHSIAMQKRILVNLTTVENKLVELEHILVSKGFRSASAHRKSTMTEQMTLRGTLKGHNGWVTQIATTPQFPDMILSASRDKTIIMWKLTRDETNYGIPQRALRGHSHFVSDVVISSDGQFALSGSWDGTLRLWDLTTGTTTRRFVGHTKDVLSVAFSSDNRQIVSGSRDKTIKLWNTLGVCKYTVQDESHSEWVSCVRFSPNSSNPIIVSCGWDKLVKVWNLANCKLKTNHIGHTGYLNTVTVSPDGSLCASGGKDGQAMLWDLNEGKHLYTLDGGDIINALCFSPNRYWLCAATGPSIKIWDLEGKIIVDELKQEVISTSSKAEPPQCTSLAWSADGQTLFAGYTDNLVRVWQVTIGTRMSFLFLLVSSILFAFMFVFWKTWFQRNTGEMSSNSTSLALVRSSSSTQSTKSNIDKSLLVNSLSRDILINFPHSIAMQRRILVNLRIVDYKLAELEQFLVTKGLNGALVNRKSTDKPTEVMNILFILVGSIIFASIFSIFKVVFQIPDHERPSNPTSPTLLRANSFWSYRNTGLSFPGNSYNQDMMNNFPRTLALHKRILVNLNIMECQLTKLEQFLSSKNPQGHTKHRRRATVRIPMESDSGSNQMSMLLLLLSFIVFTLLLVVWKSRFQSSVGEMSSNSTSLALVRATSSTGSTKSNTDKNLSVDSISRGILINSPHTIAMQKRILINLRIVEYKLAELEYFLIIKGLNGTLANCKSTDRLRECNESEGNHMSFLFLLVSSILFAFMFVFWKTWFQRNTGEMSSNSTSLALVRSSSSTQSTKSNIDKSLLVNSLSRDILINFPHSIAMQRRILVNLRIVDYKLAELEQFLVTKGLNGALVNRKSTDKPTEVMSFLFLLVSSILFAFMFVFWKTWFQRNTGEMSSNSTSSHYRACVBVBVBVGHJKLSLSKFNFNFWHQRVKMSFLFLLVSSILFAFMFVFWKTWFQRNTGEMSSNSDKPTEVNGALVNRKS'"
      ]
     },
     "execution_count": 29,
     "metadata": {},
     "output_type": "execute_result"
    }
   ],
   "source": [
    "\"\"\"Display all Protein Sequences as Whole\"\"\"\n",
    "def readGenome(filename):\n",
    "    genome = ''\n",
    "    with open(filename, 'r') as f:\n",
    "        for line in f:\n",
    "            # ignore header line with genome information\n",
    "            if not line[0] == '>':\n",
    "                genome += line.rstrip()\n",
    "    return genome\n",
    "genome = readGenome('dataset.fa')\n",
    "genome[0:]"
   ]
  },
  {
   "cell_type": "code",
   "execution_count": 10,
   "metadata": {},
   "outputs": [
    {
     "data": {
      "text/plain": [
       "'ATGAAAACCAAATGCATTTGCGAACTGTGCAGCTGCGGCCGCCATCATTGCCCGCATCTGCCGACCAAAATTTATGATAAAACCGAAAAACCGTGCCTGCTGAGCGAATATACCGAAAACTATCCGTTTTATCATAGCTATCTGCCGCGCGAAAGCTTTAAACCGCGCCGCGAATATCAGAAAGGCCCGATTCCGATGGAAGGCCTGACCACCAGCAGCATGAACTTTTATCTGCTGCTGGCGAGCAGCATTCTGTGCGCGCTGATTGTGTTTTGGAAATATCGCCGCTTTCAGCGCAACACCGGCGAAATGAGCAGCAACAGCACCGCGCTGGCGCTGGTGCGCCCGAGCAGCAGCGGCCTGATTAACAGCAACACCGATAACAACCTGGCGGTGTATGATCTGAGCCGCGATATTCTGAACAACTTTCCGCATAGCATTGCGCGCCAGAAACGCATTCTGGTGAACCTGAGCATGGTGGAAAACAAACTGGTGGAACTGGAACATACCCTGCTGAGCAAAGGCTTTCGCGGCGCGAGCCCGCATCGCAAAAGCACCATGAACTTTTATCTGCTGCTGGCGAGCAGCATTCTGTGCGCGCTGATTGTGTTTTGGAAATATCGCCGCTTTCAGCGCAACACCGGCGAAATGAGCAGCAACAGCACCGCGCTGGCGCTGGTGCGCCCGAGCAGCAGCGGCCTGATTAACAGCAACACCGATAACAACCTGGCGGTGTATGATCTGAGCCGCGATATTCTGAACAACTTTCCGCATAGCATTGCGCGCCAGAAACGCATTCTGGTGAACCTGAGCATGGTGGAAAACAAACTGGTGGAACTGGAACATACCCTGCTGAGCAAAGGCTTTCGCGGCGCGAGCCCGCATCGCAAAAGCACCATGGGCGCGAGCGGCAGCAAAGCGCGCGGCCTGTGGCCGTTTGCGAGCGCGGCGGGCGGCGGCGGCAGCGAAGCGGCGGGCGCGGAACAGGCGCTGGTGCGCCCGCGCGGCCGCGCGGTGCCGCCGTTTGTGTTTACCCGCCGCGGCAGCATGTTTTATGATGAAGATGGCGATCTGGCGCATGAATTTTATGAAGAAACCATTGTGACCAAAAACGGCCAGAAACGCGCGAAACTGCGCCGCGTGCATAAAAACCTGATTCCGCAGGGCATTGTGAAACTGGATCATCCGCGCATTCATGTGGATTTTCCGGTGATTCTGTATGAAGTGATGAGCTTTCTGTTTCTGCTGGTGAGCAGCATTCTGTTTGCGTTTATGTTTGTGTTTTGGAAAACCTGGTTTCAGCGCAACACCGGCGAAATGAGCAGCAACAGCACCAGCCTGGCGCTGGTGCGCAGCAGCAGCAGCACCCAGAGCACCAAAAGCAACATTGATAAAAGCCTGCTGGTGAACAGCCTGAGCCGCGATATTCTGATTAACTTTCCGCATAGCATTGCGATGCAGCGCCGCATTCTGGTGAACCTGCGCATTGTGGATTATAAACTGGCGGAACTGGAACAGTTTCTGGTGACCAAAGGCCTGAACGGCGCGCTGGTGAACCGCAAAAGCACCGATAAACCGACCGAAGTGATGAACGTGTATCTGCTGCTGGCGAGCGGCATTCTGTGCGCGCTGATGACCGTGTTTTGGAAATATCGCCGCTTTCAGCGCAACACCGGCGAAATGAGCAGCAACAGCACCGCGCTGGCGCTGGTGCGCCCGAGCAGCACCGGCCTGATTAACAGCAACACCGATAACAACCTGAGCGTGTATGATCTGAGCCGCGATATTCTGAACAACTTTCCGCATAGCATTGCGATGCAGAAACGCATTCTGGTGAACCTGACCACCGTGGAAAACAAACTGGTGGAACTGGAACATATTCTGGTGAGCAAAGGCTTTCGCAGCGCGAGCGCGCATCGCAAAAGCACCATGCTGCTGACCCGCTTTGAACAGAAAAACGGCCATCTGGCGCAGGTGGAAGTGGATGAAGTGTTTGGCTTTATGTGCCATATTACCACCGAAGTGCCGCCGCATGATGCGATGCCGGGCGGCATTGTGCTGCTGGTGAAATTTCTGCTGGATATGAGCCGCAACGTGCTGCTGTATGTGGTGTTTCTGCAGCGCCTGAGCAGCGCGCTGCATCGCGTGCTGCTGCATCTGTTTCGCCATGTGCGCATTTTTGATCATGGCCTGAGCGTGGCGCATGGCTATCGCGGCGAAGGCGGCTGGCCGACCGCGACCGTGAGCTGGGGCCGCTGCATGAACGTGTATCTGCTGCTGGCGAGCGGCATTCTGTGCGCGCTGATGACCGTGTTTTGGAAATATCGCCGCTTTCAGCGCAACACCGGCGAAATGAGCAGCAACAGCACCGCGCTGGCGCTGGTGCGCCCGAGCAGCACCGGCCTGATTAACAGCAACACCGATAACAACCTGAGCGTGTATGATCTGAGCCGCGATATTCTGAACAACTTTCCGCATAGCATTGCGATGCAGAAACGCATTCTGGTGAACCTGACCACCGTGGAAAACAAACTGGTGGAACTGGAACATATTCTGGTGAGCAAAGGCTTTCGCAGCGCGAGCGCGCATCGCAAAAGCACCATGACCGAACAGATGACCCTGCGCGGCACCCTGAAAGGCCATAACGGCTGGGTGACCCAGATTGCGACCACCCCGCAGTTTCCGGATATGATTCTGAGCGCGAGCCGCGATAAAACCATTATTATGTGGAAACTGACCCGCGATGAAACCAACTATGGCATTCCGCAGCGCGCGCTGCGCGGCCATAGCCATTTTGTGAGCGATGTGGTGATTAGCAGCGATGGCCAGTTTGCGCTGAGCGGCAGCTGGGATGGCACCCTGCGCCTGTGGGATCTGACCACCGGCACCACCACCCGCCGCTTTGTGGGCCATACCAAAGATGTGCTGAGCGTGGCGTTTAGCAGCGATAACCGCCAGATTGTGAGCGGCAGCCGCGATAAAACCATTAAACTGTGGAACACCCTGGGCGTGTGCAAATATACCGTGCAGGATGAAAGCCATAGCGAATGGGTGAGCTGCGTGCGCTTTAGCCCGAACAGCAGCAACCCGATTATTGTGAGCTGCGGCTGGGATAAACTGGTGAAAGTGTGGAACCTGGCGAACTGCAAACTGAAAACCAACCATATTGGCCATACCGGCTATCTGAACACCGTGACCGTGAGCCCGGATGGCAGCCTGTGCGCGAGCGGCGGCAAAGATGGCCAGGCGATGCTGTGGGATCTGAACGAAGGCAAACATCTGTATACCCTGGATGGCGGCGATATTATTAACGCGCTGTGCTTTAGCCCGAACCGCTATTGGCTGTGCGCGGCGACCGGCCCGAGCATTAAAATTTGGGATCTGGAAGGCAAAATTATTGTGGATGAACTGAAACAGGAAGTGATTAGCACCAGCAGCAAAGAACCGCCGCAGTGCACCAGCCTGGCGTGGAGCGCGGATGGCCAGACCCTGTTTGCGGGCTATACCGATAACCTGGTGCGCGTGTGGCAGGTGACCATTGGCACCCGCATGAGCTTTCTGTTTCTGCTGGTGAGCAGCATTCTGTTTGCGTTTATGTTTGTGTTTTGGAAAACCTGGTTTCAGCGCAACACCGGCGAAATGAGCAGCAACAGCACCAGCCTGGCGCTGGTGCGCAGCAGCAGCAGCACCCAGAGCACCAAAAGCAACATTGATAAAAGCCTGCTGGTGAACAGCCTGAGCCGCGATATTCTGATTAACTTTCCGCATAGCATTGCGATGCAGCGCCGCATTCTGGTGAACCTGCGCATTGTGGATTATAAACTGGCGGAACTGGAACAGTTTCTGGTGACCAAAGGCCTGAACGGCGCGCTGGTGAACCGCAAAAGCACCGATAAACCGACCGAAGTGATGAACATTCTGTTTATTCTGGTGGGCAGCATTATTTTTGCGAGCATTTTTAGCATTTTTAAAGTGGTGTTTCAGATTCCGGATCATGAACGCCCGAGCAACCCGACCAGCCCGACCCTGCTGCGCGCGAACAGCTTTTGGAGCTATCGCAACACCGGCCTGAGCTTTCCGGGCAACAGCTATAACCAGGATATGATGAACAACTTTCCGCGCACCCTGGCGCTGCATAAACGCATTCTGGTGAACCTGAACATTATGGAATGCCAGCTGACCAAACTGGAACAGTTTCTGAGCAGCAAAAACCCGCAGGGCCATACCAAACATCGCCGCCGCGCGACCGTGCGCATTCCGATGGAAAGCGATAGCGGCAGCAACCAGATGAGCATGCTGCTGCTGCTGCTGAGCTTTATTGTGTTTACCCTGCTGCTGGTGGTGTGGAAAAGCCGCTTTCAGAGCAGCGTGGGCGAAATGAGCAGCAACAGCACCAGCCTGGCGCTGGTGCGCGCGACCAGCAGCACCGGCAGCACCAAAAGCAACACCGATAAAAACCTGAGCGTGGATAGCATTAGCCGCGGCATTCTGATTAACAGCCCGCATACCATTGCGATGCAGAAACGCATTCTGATTAACCTGCGCATTGTGGAATATAAACTGGCGGAACTGGAATATTTTCTGATTATTAAAGGCCTGAACGGCACCCTGGCGAACTGCAAAAGCACCGATCGCCTGCGCGAATGCAACGAAAGCGAAGGCAACCATATGAGCTTTCTGTTTCTGCTGGTGAGCAGCATTCTGTTTGCGTTTATGTTTGTGTTTTGGAAAACCTGGTTTCAGCGCAACACCGGCGAAATGAGCAGCAACAGCACCAGCCTGGCGCTGGTGCGCAGCAGCAGCAGCACCCAGAGCACCAAAAGCAACATTGATAAAAGCCTGCTGGTGAACAGCCTGAGCCGCGATATTCTGATTAACTTTCCGCATAGCATTGCGATGCAGCGCCGCATTCTGGTGAACCTGCGCATTGTGGATTATAAACTGGCGGAACTGGAACAGTTTCTGGTGACCAAAGGCCTGAACGGCGCGCTGGTGAACCGCAAAAGCACCGATAAACCGACCGAAGTGATGAGCTTTCTGTTTCTGCTGGTGAGCAGCATTCTGTTTGCGTTTATGTTTGTGTTTTGGAAAACCTGGTTTCAGCGCAACACCGGCGAAATGAGCAGCAACAGCACCAGCAGCCATTATCGCGCGTGCGTGGTGGTGGTGGGCCATAAACTGAGCCTGAGCAAATTTAACTTTAACTTTTGGCATCAGCGCGTGAAAATGAGCTTTCTGTTTCTGCTGGTGAGCAGCATTCTGTTTGCGTTTATGTTTGTGTTTTGGAAAACCTGGTTTCAGCGCAACACCGGCGAAATGAGCAGCAACAGCGATAAACCGACCGAAGTGAACGGCGCGCTGGTGAACCGCAAAAGC'"
      ]
     },
     "execution_count": 10,
     "metadata": {},
     "output_type": "execute_result"
    }
   ],
   "source": [
    "\"\"\"Display all DNA Sequences as Whole\"\"\"\n",
    "def readGenome(filename):\n",
    "    genome = ''\n",
    "    with open(filename, 'r') as f:\n",
    "        for line in f:\n",
    "            # ignore header line with genome information\n",
    "            if not line[0] == '>':\n",
    "                genome += line.rstrip()\n",
    "    return genome\n",
    "genome = readGenome('DNA.fasta')\n",
    "genome[0:]"
   ]
  },
  {
   "cell_type": "code",
   "execution_count": 30,
   "metadata": {},
   "outputs": [
    {
     "data": {
      "text/plain": [
       "'ATGAARACNAARTGYATHTGYGARYTNTGYWSNTGYGGNMGNCAYCAYTGYCCNCAYYTNCCNACNAARATHTAYGAYAARACNGARAARCCNTGYYTNYTNWSNGARTAYACNGARAAYTAYCCNTTYTAYCAYWSNTAYYTNCCNMGNGARWSNTTYAARCCNMGNMGNGARTAYCARAARGGNCCNATHCCNATGGARGGNYTNACNACNWSNWSNATGAAYTTYTAYYTNYTNYTNGCNWSNWSNATHYTNTGYGCNYTNATHGTNTTYTGGAARTAYMGNMGNTTYCARMGNAAYACNGGNGARATGWSNWSNAAYWSNACNGCNYTNGCNYTNGTNMGNCCNWSNWSNWSNGGNYTNATHAAYWSNAAYACNGAYAAYAAYYTNGCNGTNTAYGAYYTNWSNMGNGAYATHYTNAAYAAYTTYCCNCAYWSNATHGCNMGNCARAARMGNATHYTNGTNAAYYTNWSNATGGTNGARAAYAARYTNGTNGARYTNGARCAYACNYTNYTNWSNAARGGNTTYMGNGGNGCNWSNCCNCAYMGNAARWSNACNATGAAYTTYTAYYTNYTNYTNGCNWSNWSNATHYTNTGYGCNYTNATHGTNTTYTGGAARTAYMGNMGNTTYCARMGNAAYACNGGNGARATGWSNWSNAAYWSNACNGCNYTNGCNYTNGTNMGNCCNWSNWSNWSNGGNYTNATHAAYWSNAAYACNGAYAAYAAYYTNGCNGTNTAYGAYYTNWSNMGNGAYATHYTNAAYAAYTTYCCNCAYWSNATHGCNMGNCARAARMGNATHYTNGTNAAYYTNWSNATGGTNGARAAYAARYTNGTNGARYTNGARCAYACNYTNYTNWSNAARGGNTTYMGNGGNGCNWSNCCNCAYMGNAARWSNACNATGGGNGCNWSNGGNWSNAARGCNMGNGGNYTNTGGCCNTTYGCNWSNGCNGCNGGNGGNGGNGGNWSNGARGCNGCNGGNGCNGARCARGCNYTNGTNMGNCCNMGNGGNMGNGCNGTNCCNCCNTTYGTNTTYACNMGNMGNGGNWSNATGTTYTAYGAYGARGAYGGNGAYYTNGCNCAYGARTTYTAYGARGARACNATHGTNACNAARAAYGGNCARAARMGNGCNAARYTNMGNMGNGTNCAYAARAAYYTNATHCCNCARGGNATHGTNAARYTNGAYCAYCCNMGNATHCAYGTNGAYTTYCCNGTNATHYTNTAYGARGTNATGWSNTTYYTNTTYYTNYTNGTNWSNWSNATHYTNTTYGCNTTYATGTTYGTNTTYTGGAARACNTGGTTYCARMGNAAYACNGGNGARATGWSNWSNAAYWSNACNWSNYTNGCNYTNGTNMGNWSNWSNWSNWSNACNCARWSNACNAARWSNAAYATHGAYAARWSNYTNYTNGTNAAYWSNYTNWSNMGNGAYATHYTNATHAAYTTYCCNCAYWSNATHGCNATGCARMGNMGNATHYTNGTNAAYYTNMGNATHGTNGAYTAYAARYTNGCNGARYTNGARCARTTYYTNGTNACNAARGGNYTNAAYGGNGCNYTNGTNAAYMGNAARWSNACNGAYAARCCNACNGARGTNATGAAYGTNTAYYTNYTNYTNGCNWSNGGNATHYTNTGYGCNYTNATGACNGTNTTYTGGAARTAYMGNMGNTTYCARMGNAAYACNGGNGARATGWSNWSNAAYWSNACNGCNYTNGCNYTNGTNMGNCCNWSNWSNACNGGNYTNATHAAYWSNAAYACNGAYAAYAAYYTNWSNGTNTAYGAYYTNWSNMGNGAYATHYTNAAYAAYTTYCCNCAYWSNATHGCNATGCARAARMGNATHYTNGTNAAYYTNACNACNGTNGARAAYAARYTNGTNGARYTNGARCAYATHYTNGTNWSNAARGGNTTYMGNWSNGCNWSNGCNCAYMGNAARWSNACNATGYTNYTNACNMGNTTYGARCARAARAAYGGNCAYYTNGCNCARGTNGARGTNGAYGARGTNTTYGGNTTYATGTGYCAYATHACNACNGARGTNCCNCCNCAYGAYGCNATGCCNGGNGGNATHGTNYTNYTNGTNAARTTYYTNYTNGAYATGWSNMGNAAYGTNYTNYTNTAYGTNGTNTTYYTNCARMGNYTNWSNWSNGCNYTNCAYMGNGTNYTNYTNCAYYTNTTYMGNCAYGTNMGNATHTTYGAYCAYGGNYTNWSNGTNGCNCAYGGNTAYMGNGGNGARGGNGGNTGGCCNACNGCNACNGTNWSNTGGGGNMGNTGYATGAAYGTNTAYYTNYTNYTNGCNWSNGGNATHYTNTGYGCNYTNATGACNGTNTTYTGGAARTAYMGNMGNTTYCARMGNAAYACNGGNGARATGWSNWSNAAYWSNACNGCNYTNGCNYTNGTNMGNCCNWSNWSNACNGGNYTNATHAAYWSNAAYACNGAYAAYAAYYTNWSNGTNTAYGAYYTNWSNMGNGAYATHYTNAAYAAYTTYCCNCAYWSNATHGCNATGCARAARMGNATHYTNGTNAAYYTNACNACNGTNGARAAYAARYTNGTNGARYTNGARCAYATHYTNGTNWSNAARGGNTTYMGNWSNGCNWSNGCNCAYMGNAARWSNACNATGACNGARCARATGACNYTNMGNGGNACNYTNAARGGNCAYAAYGGNTGGGTNACNCARATHGCNACNACNCCNCARTTYCCNGAYATGATHYTNWSNGCNWSNMGNGAYAARACNATHATHATGTGGAARYTNACNMGNGAYGARACNAAYTAYGGNATHCCNCARMGNGCNYTNMGNGGNCAYWSNCAYTTYGTNWSNGAYGTNGTNATHWSNWSNGAYGGNCARTTYGCNYTNWSNGGNWSNTGGGAYGGNACNYTNMGNYTNTGGGAYYTNACNACNGGNACNACNACNMGNMGNTTYGTNGGNCAYACNAARGAYGTNYTNWSNGTNGCNTTYWSNWSNGAYAAYMGNCARATHGTNWSNGGNWSNMGNGAYAARACNATHAARYTNTGGAAYACNYTNGGNGTNTGYAARTAYACNGTNCARGAYGARWSNCAYWSNGARTGGGTNWSNTGYGTNMGNTTYWSNCCNAAYWSNWSNAAYCCNATHATHGTNWSNTGYGGNTGGGAYAARYTNGTNAARGTNTGGAAYYTNGCNAAYTGYAARYTNAARACNAAYCAYATHGGNCAYACNGGNTAYYTNAAYACNGTNACNGTNWSNCCNGAYGGNWSNYTNTGYGCNWSNGGNGGNAARGAYGGNCARGCNATGYTNTGGGAYYTNAAYGARGGNAARCAYYTNTAYACNYTNGAYGGNGGNGAYATHATHAAYGCNYTNTGYTTYWSNCCNAAYMGNTAYTGGYTNTGYGCNGCNACNGGNCCNWSNATHAARATHTGGGAYYTNGARGGNAARATHATHGTNGAYGARYTNAARCARGARGTNATHWSNACNWSNWSNAARGARCCNCCNCARTGYACNWSNYTNGCNTGGWSNGCNGAYGGNCARACNYTNTTYGCNGGNTAYACNGAYAAYYTNGTNMGNGTNTGGCARGTNACNATHGGNACNMGNATGWSNTTYYTNTTYYTNYTNGTNWSNWSNATHYTNTTYGCNTTYATGTTYGTNTTYTGGAARACNTGGTTYCARMGNAAYACNGGNGARATGWSNWSNAAYWSNACNWSNYTNGCNYTNGTNMGNWSNWSNWSNWSNACNCARWSNACNAARWSNAAYATHGAYAARWSNYTNYTNGTNAAYWSNYTNWSNMGNGAYATHYTNATHAAYTTYCCNCAYWSNATHGCNATGCARMGNMGNATHYTNGTNAAYYTNMGNATHGTNGAYTAYAARYTNGCNGARYTNGARCARTTYYTNGTNACNAARGGNYTNAAYGGNGCNYTNGTNAAYMGNAARWSNACNGAYAARCCNACNGARGTNATGAAYATHYTNTTYATHYTNGTNGGNWSNATHATHTTYGCNWSNATHTTYWSNATHTTYAARGTNGTNTTYCARATHCCNGAYCAYGARMGNCCNWSNAAYCCNACNWSNCCNACNYTNYTNMGNGCNAAYWSNTTYTGGWSNTAYMGNAAYACNGGNYTNWSNTTYCCNGGNAAYWSNTAYAAYCARGAYATGATGAAYAAYTTYCCNMGNACNYTNGCNYTNCAYAARMGNATHYTNGTNAAYYTNAAYATHATGGARTGYCARYTNACNAARYTNGARCARTTYYTNWSNWSNAARAAYCCNCARGGNCAYACNAARCAYMGNMGNMGNGCNACNGTNMGNATHCCNATGGARWSNGAYWSNGGNWSNAAYCARATGWSNATGYTNYTNYTNYTNYTNWSNTTYATHGTNTTYACNYTNYTNYTNGTNGTNTGGAARWSNMGNTTYCARWSNWSNGTNGGNGARATGWSNWSNAAYWSNACNWSNYTNGCNYTNGTNMGNGCNACNWSNWSNACNGGNWSNACNAARWSNAAYACNGAYAARAAYYTNWSNGTNGAYWSNATHWSNMGNGGNATHYTNATHAAYWSNCCNCAYACNATHGCNATGCARAARMGNATHYTNATHAAYYTNMGNATHGTNGARTAYAARYTNGCNGARYTNGARTAYTTYYTNATHATHAARGGNYTNAAYGGNACNYTNGCNAAYTGYAARWSNACNGAYMGNYTNMGNGARTGYAAYGARWSNGARGGNAAYCAYATGWSNTTYYTNTTYYTNYTNGTNWSNWSNATHYTNTTYGCNTTYATGTTYGTNTTYTGGAARACNTGGTTYCARMGNAAYACNGGNGARATGWSNWSNAAYWSNACNWSNYTNGCNYTNGTNMGNWSNWSNWSNWSNACNCARWSNACNAARWSNAAYATHGAYAARWSNYTNYTNGTNAAYWSNYTNWSNMGNGAYATHYTNATHAAYTTYCCNCAYWSNATHGCNATGCARMGNMGNATHYTNGTNAAYYTNMGNATHGTNGAYTAYAARYTNGCNGARYTNGARCARTTYYTNGTNACNAARGGNYTNAAYGGNGCNYTNGTNAAYMGNAARWSNACNGAYAARCCNACNGARGTNATGWSNTTYYTNTTYYTNYTNGTNWSNWSNATHYTNTTYGCNTTYATGTTYGTNTTYTGGAARACNTGGTTYCARMGNAAYACNGGNGARATGWSNWSNAAYWSNACNWSNWSNCAYTAYMGNGCNTGYGTNGTNGTNGTNGGNCAYAARYTNWSNYTNWSNAARTTYAAYTTYAAYTTYTGGCAYCARMGNGTNAARATGWSNTTYYTNTTYYTNYTNGTNWSNWSNATHYTNTTYGCNTTYATGTTYGTNTTYTGGAARACNTGGTTYCARMGNAAYACNGGNGARATGWSNWSNAAYWSNGAYAARCCNACNGARGTNAAYGGNGCNYTNGTNAAYMGNAARWSN'"
      ]
     },
     "execution_count": 30,
     "metadata": {},
     "output_type": "execute_result"
    }
   ],
   "source": [
    "\"\"\"Display all Cancer affected-DNA Sequences as Whole\"\"\"\n",
    "def readGenome(filename):\n",
    "    genome = ''\n",
    "    with open(filename, 'r') as f:\n",
    "        for line in f:\n",
    "            # ignore header line with genome information\n",
    "            if not line[0] == '>':\n",
    "                genome += line.rstrip()\n",
    "    return genome\n",
    "genome = readGenome('Mutated.fasta')\n",
    "genome[0:]"
   ]
  },
  {
   "cell_type": "markdown",
   "metadata": {},
   "source": [
    "# Import FASTA Files"
   ]
  },
  {
   "cell_type": "code",
   "execution_count": 31,
   "metadata": {},
   "outputs": [
    {
     "name": "stdout",
     "output_type": "stream",
     "text": [
      "NP_001273979.1\n",
      "Seq('ATGAAAACCAAATGCATTTGCGAACTGTGCAGCTGCGGCCGCCATCATTGCCCG...AGC', SingleLetterAlphabet())\n",
      "219\n",
      "NP_001017978.1\n",
      "Seq('ATGAACTTTTATCTGCTGCTGGCGAGCAGCATTCTGTGCGCGCTGATTGTGTTT...ACC', SingleLetterAlphabet())\n",
      "339\n",
      "sp|Q5H943.1|KKLC1_HUMAN\n",
      "Seq('ATGAACTTTTATCTGCTGCTGGCGAGCAGCATTCTGTGCGCGCTGATTGTGTTT...ACC', SingleLetterAlphabet())\n",
      "339\n",
      "AAC35497.1\n",
      "Seq('ATGGGCGCGAGCGGCAGCAAAGCGCGCGGCCTGTGGCCGTTTGCGAGCGCGGCG...GTG', SingleLetterAlphabet())\n",
      "330\n",
      "XP_002699503.1\n",
      "Seq('ATGAGCTTTCTGTTTCTGCTGGTGAGCAGCATTCTGTTTGCGTTTATGTTTGTG...GTG', SingleLetterAlphabet())\n",
      "360\n",
      "sp|Q4R717.1|KKLC1_MACFA\n",
      "Seq('ATGAACGTGTATCTGCTGCTGGCGAGCGGCATTCTGTGCGCGCTGATGACCGTG...ACC', SingleLetterAlphabet())\n",
      "342\n",
      "AAN12271.1\n",
      "Seq('ATGCTGCTGACCCGCTTTGAACAGAAAAACGGCCATCTGGCGCAGGTGGAAGTG...TGC', SingleLetterAlphabet())\n",
      "330\n",
      "NP_001270680.1\n",
      "Seq('ATGAACGTGTATCTGCTGCTGGCGAGCGGCATTCTGTGCGCGCTGATGACCGTG...ACC', SingleLetterAlphabet())\n",
      "342\n",
      "Sp|P63244.3|Rack1_Human\n",
      "Seq('ATGACCGAACAGATGACCCTGCGCGGCACCCTGAAAGGCCATAACGGCTGGGTG...CGC', SingleLetterAlphabet())\n",
      "948\n",
      "XP_027389897.1\n",
      "Seq('ATGAGCTTTCTGTTTCTGCTGGTGAGCAGCATTCTGTTTGCGTTTATGTTTGTG...GTG', SingleLetterAlphabet())\n",
      "360\n",
      "XP_007647427.1\n",
      "Seq('ATGAACATTCTGTTTATTCTGGTGGGCAGCATTATTTTTGCGAGCATTTTTAGC...CAG', SingleLetterAlphabet())\n",
      "378\n",
      "XP_014918346.1\n",
      "Seq('ATGAGCATGCTGCTGCTGCTGCTGAGCTTTATTGTGTTTACCCTGCTGCTGGTG...CAT', SingleLetterAlphabet())\n",
      "381\n",
      "XP_0026997503.1\n",
      "Seq('ATGAGCTTTCTGTTTCTGCTGGTGAGCAGCATTCTGTTTGCGTTTATGTTTGTG...GTG', SingleLetterAlphabet())\n",
      "360\n",
      "XP_002699603.1\n",
      "Seq('ATGAGCTTTCTGTTTCTGCTGGTGAGCAGCATTCTGTTTGCGTTTATGTTTGTG...AAA', SingleLetterAlphabet())\n",
      "198\n",
      "XP_004699503.1\n",
      "Seq('ATGAGCTTTCTGTTTCTGCTGGTGAGCAGCATTCTGTTTGCGTTTATGTTTGTG...AGC', SingleLetterAlphabet())\n",
      "150\n"
     ]
    }
   ],
   "source": [
    "from Bio import SeqIO\n",
    "for seq_record in SeqIO.parse(open('DNA.fasta'),'fasta'):\n",
    "    print(seq_record.id)\n",
    "    print(repr(seq_record.seq))\n",
    "    print(len(seq_record))"
   ]
  },
  {
   "cell_type": "code",
   "execution_count": 32,
   "metadata": {},
   "outputs": [
    {
     "name": "stdout",
     "output_type": "stream",
     "text": [
      "NP_001273979.1\n",
      "NP_001273979.1 stabilizer of axonemal microtubules 1 isoform c [Homo sapiens]\n"
     ]
    }
   ],
   "source": [
    "from Bio import SeqIO\n",
    "record_iterator = SeqIO.parse(\"DNA.fasta\", \"fasta\")\n",
    "first_record = next(record_iterator)\n",
    "print(first_record.id)\n",
    "print(first_record.description)\n",
    "#second_record = next(record_iterator)\n",
    "#print(second_record.id)\n",
    "#print(second_record.description)"
   ]
  },
  {
   "cell_type": "code",
   "execution_count": 33,
   "metadata": {},
   "outputs": [
    {
     "name": "stdout",
     "output_type": "stream",
     "text": [
      "Found 15 records\n",
      "The last record\n",
      "XP_004699503.1\n",
      "Seq('ATGAGCTTTCTGTTTCTGCTGGTGAGCAGCATTCTGTTTGCGTTTATGTTTGTG...AGC', SingleLetterAlphabet())\n",
      "150\n",
      "The first record\n",
      "NP_001273979.1\n",
      "Seq('ATGAAAACCAAATGCATTTGCGAACTGTGCAGCTGCGGCCGCCATCATTGCCCG...AGC', SingleLetterAlphabet())\n",
      "219\n"
     ]
    }
   ],
   "source": [
    "from Bio import SeqIO\n",
    "records = list(SeqIO.parse(\"DNA.fasta\", \"fasta\"))\n",
    "print(\"Found %i records\" % len(records))\n",
    "print(\"The last record\")\n",
    "last_record = records[-1] #using Python's list tricks\n",
    "print(last_record.id)\n",
    "print(repr(last_record.seq))\n",
    "print(len(last_record))\n",
    "print(\"The first record\")\n",
    "first_record = records[0] #remember, Python counts from zero\n",
    "print(first_record.id)\n",
    "print(repr(first_record.seq))\n",
    "print(len(first_record))"
   ]
  },
  {
   "cell_type": "code",
   "execution_count": 34,
   "metadata": {},
   "outputs": [
    {
     "name": "stdout",
     "output_type": "stream",
     "text": [
      "ID: NP_001273979.1\n",
      "Name: NP_001273979.1\n",
      "Description: NP_001273979.1 stabilizer of axonemal microtubules 1 isoform c [Homo sapiens]\n",
      "Number of features: 0\n",
      "Seq('ATGAAAACCAAATGCATTTGCGAACTGTGCAGCTGCGGCCGCCATCATTGCCCG...AGC', SingleLetterAlphabet())\n",
      "{}\n",
      "dict_keys([])\n",
      "dict_values([])\n"
     ]
    }
   ],
   "source": [
    "from Bio import SeqIO\n",
    "record_iterator = SeqIO.parse(\"DNA.fasta\", \"fasta\")\n",
    "first_record = next(record_iterator)\n",
    "print(first_record)\n",
    "print(first_record.annotations)\n",
    "print(first_record.annotations.keys())\n",
    "print(first_record.annotations.values())\n",
    "#print(first_record.annotations[\"source\"])\n",
    "#print(first_record.annotations[\"organism\"])"
   ]
  },
  {
   "cell_type": "code",
   "execution_count": 35,
   "metadata": {},
   "outputs": [
    {
     "name": "stdout",
     "output_type": "stream",
     "text": [
      "['stabilizer']\n",
      "['stabilizer', 'kita-kyushu']\n",
      "['stabilizer', 'kita-kyushu', 'RecName:']\n",
      "['stabilizer', 'kita-kyushu', 'RecName:', 'lung']\n",
      "['stabilizer', 'kita-kyushu', 'RecName:', 'lung', 'kita-kyushu']\n",
      "['stabilizer', 'kita-kyushu', 'RecName:', 'lung', 'kita-kyushu', 'RecName:']\n",
      "['stabilizer', 'kita-kyushu', 'RecName:', 'lung', 'kita-kyushu', 'RecName:', 'lung']\n",
      "['stabilizer', 'kita-kyushu', 'RecName:', 'lung', 'kita-kyushu', 'RecName:', 'lung', 'kita-kyushu']\n",
      "['stabilizer', 'kita-kyushu', 'RecName:', 'lung', 'kita-kyushu', 'RecName:', 'lung', 'kita-kyushu', 'Recname:']\n",
      "['stabilizer', 'kita-kyushu', 'RecName:', 'lung', 'kita-kyushu', 'RecName:', 'lung', 'kita-kyushu', 'Recname:', 'kita-kyushu']\n",
      "['stabilizer', 'kita-kyushu', 'RecName:', 'lung', 'kita-kyushu', 'RecName:', 'lung', 'kita-kyushu', 'Recname:', 'kita-kyushu', 'kita-kyushu']\n",
      "['stabilizer', 'kita-kyushu', 'RecName:', 'lung', 'kita-kyushu', 'RecName:', 'lung', 'kita-kyushu', 'Recname:', 'kita-kyushu', 'kita-kyushu', 'kita-kyushu']\n",
      "['stabilizer', 'kita-kyushu', 'RecName:', 'lung', 'kita-kyushu', 'RecName:', 'lung', 'kita-kyushu', 'Recname:', 'kita-kyushu', 'kita-kyushu', 'kita-kyushu', 'kita-kyushu']\n",
      "['stabilizer', 'kita-kyushu', 'RecName:', 'lung', 'kita-kyushu', 'RecName:', 'lung', 'kita-kyushu', 'Recname:', 'kita-kyushu', 'kita-kyushu', 'kita-kyushu', 'kita-kyushu', 'kita-kyushu']\n",
      "['stabilizer', 'kita-kyushu', 'RecName:', 'lung', 'kita-kyushu', 'RecName:', 'lung', 'kita-kyushu', 'Recname:', 'kita-kyushu', 'kita-kyushu', 'kita-kyushu', 'kita-kyushu', 'kita-kyushu', 'kita-kyushu']\n"
     ]
    }
   ],
   "source": [
    "from Bio import SeqIO\n",
    "all_species = []\n",
    "for seq_record in SeqIO.parse(\"DNA.fasta\", \"fasta\"):\n",
    "    all_species.append(seq_record.description.split()[1])\n",
    "    print(all_species)"
   ]
  },
  {
   "cell_type": "markdown",
   "metadata": {},
   "source": [
    "# Import SeqFeatures"
   ]
  },
  {
   "cell_type": "code",
   "execution_count": 36,
   "metadata": {},
   "outputs": [
    {
     "name": "stdout",
     "output_type": "stream",
     "text": [
      "[>5:(8^9)]\n",
      "[5:9]\n"
     ]
    },
    {
     "data": {
      "text/plain": [
       "5"
      ]
     },
     "execution_count": 36,
     "metadata": {},
     "output_type": "execute_result"
    }
   ],
   "source": [
    "from Bio import SeqFeature\n",
    "start_pos = SeqFeature.AfterPosition(5)\n",
    "end_pos = SeqFeature.BetweenPosition(9, left=8, right=9)\n",
    "my_location = SeqFeature.FeatureLocation(start_pos, end_pos)\n",
    "print(my_location)\n",
    "my_location.start\n",
    "my_location.end\n",
    "int(my_location.start)\n",
    "int(my_location.end)\n",
    "my_location.nofuzzy_start\n",
    "my_location.nofuzzy_end\n",
    "exact_location = SeqFeature.FeatureLocation(5, 9)\n",
    "print(exact_location)\n",
    "exact_location.start\n",
    "int(exact_location.start)\n",
    "exact_location.nofuzzy_start"
   ]
  },
  {
   "cell_type": "markdown",
   "metadata": {},
   "source": [
    "# Adding New Sequences"
   ]
  },
  {
   "cell_type": "code",
   "execution_count": 37,
   "metadata": {},
   "outputs": [
    {
     "data": {
      "text/plain": [
       "Seq('EVRNAKACGT')"
      ]
     },
     "execution_count": 37,
     "metadata": {},
     "output_type": "execute_result"
    }
   ],
   "source": [
    "from Bio.Alphabet import IUPAC\n",
    "from Bio.Seq import Seq\n",
    "protein_seq = Seq(\"EVRNAK\", IUPAC.protein)\n",
    "dna_seq = Seq(\"ACGT\", IUPAC.unambiguous_dna)\n",
    "#protein_seq + dna_seq\n",
    "from Bio.Alphabet import generic_alphabet\n",
    "protein_seq.alphabet = generic_alphabet\n",
    "dna_seq.alphabet = generic_alphabet\n",
    "protein_seq + dna_seq"
   ]
  },
  {
   "cell_type": "code",
   "execution_count": 38,
   "metadata": {},
   "outputs": [
    {
     "data": {
      "text/plain": [
       "Seq('GATCGATGCACGT', NucleotideAlphabet())"
      ]
     },
     "execution_count": 38,
     "metadata": {},
     "output_type": "execute_result"
    }
   ],
   "source": [
    "from Bio.Seq import Seq\n",
    "from Bio.Alphabet import generic_nucleotide\n",
    "from Bio.Alphabet import IUPAC\n",
    "nuc_seq = Seq(\"GATCGATGC\", generic_nucleotide)\n",
    "dna_seq = Seq(\"ACGT\", IUPAC.unambiguous_dna)\n",
    "nuc_seq\n",
    "dna_seq\n",
    "nuc_seq + dna_seq"
   ]
  },
  {
   "cell_type": "code",
   "execution_count": 39,
   "metadata": {},
   "outputs": [
    {
     "data": {
      "text/plain": [
       "Seq('ACGTAACCGGTT', DNAAlphabet())"
      ]
     },
     "execution_count": 39,
     "metadata": {},
     "output_type": "execute_result"
    }
   ],
   "source": [
    "from Bio.Seq import Seq\n",
    "from Bio.Alphabet import generic_dna\n",
    "list_of_seqs = [Seq(\"ACGT\", generic_dna), Seq(\"AACC\", generic_dna), Seq(\"GGTT\", generic_dna)]\n",
    "concatenated = Seq(\"\", generic_dna)\n",
    "for s in list_of_seqs:\n",
    "    concatenated += s\n",
    "from Bio.Seq import Seq\n",
    "from Bio.Alphabet import generic_dna\n",
    "list_of_seqs = [Seq(\"ACGT\", generic_dna), Seq(\"AACC\", generic_dna), Seq(\"GGTT\", generic_dna)]\n",
    "sum(list_of_seqs, Seq(\"\", generic_dna))"
   ]
  },
  {
   "cell_type": "markdown",
   "metadata": {},
   "source": [
    "# Finding Complements"
   ]
  },
  {
   "cell_type": "code",
   "execution_count": 40,
   "metadata": {},
   "outputs": [
    {
     "data": {
      "text/plain": [
       "True"
      ]
     },
     "execution_count": 40,
     "metadata": {},
     "output_type": "execute_result"
    }
   ],
   "source": [
    "from Bio.Seq import Seq\n",
    "from Bio.Alphabet import generic_dna\n",
    "dna_seq = Seq(\"acgtACGT\", generic_dna)\n",
    "dna_seq\n",
    "dna_seq.upper()\n",
    "dna_seq.lower()\n",
    "\"GTAC\" in dna_seq\n",
    "\"GTAC\" in dna_seq.upper()"
   ]
  },
  {
   "cell_type": "code",
   "execution_count": 41,
   "metadata": {},
   "outputs": [
    {
     "data": {
      "text/plain": [
       "Seq('ATGGCCATTGTAATGGGCCGCTGAAAGGGTGCCCGATAG', IUPACUnambiguousDNA())"
      ]
     },
     "execution_count": 41,
     "metadata": {},
     "output_type": "execute_result"
    }
   ],
   "source": [
    "from Bio.Seq import Seq\n",
    "from Bio.Alphabet import IUPAC\n",
    "dna_seq = Seq(\"ACGT\", IUPAC.unambiguous_dna)\n",
    "dna_seq\n",
    "dna_seq.lower()\n",
    "from Bio.Seq import Seq\n",
    "from Bio.Alphabet import IUPAC\n",
    "my_seq = Seq(\"GATCGATGGGCCTATATAGGATCGAAAATCGC\", IUPAC.unambiguous_dna)\n",
    "my_seq\n",
    "my_seq.complement()\n",
    "my_seq.reverse_complement()\n",
    "my_seq[::-1]\n",
    "from Bio.Seq import Seq\n",
    "from Bio.Alphabet import IUPAC\n",
    "protein_seq = Seq(\"EVRNAK\", IUPAC.protein)\n",
    "#protein_seq.complement()\n",
    "from Bio.Seq import Seq\n",
    "from Bio.Alphabet import IUPAC\n",
    "coding_dna = Seq(\"ATGGCCATTGTAATGGGCCGCTGAAAGGGTGCCCGATAG\", IUPAC.unambiguous_dna)\n",
    "coding_dna"
   ]
  },
  {
   "cell_type": "code",
   "execution_count": 42,
   "metadata": {},
   "outputs": [
    {
     "data": {
      "text/plain": [
       "Seq('ATGGCCATTGTAATGGGCCGCTGAAAGGGTGCCCGATAG', IUPACUnambiguousDNA())"
      ]
     },
     "execution_count": 42,
     "metadata": {},
     "output_type": "execute_result"
    }
   ],
   "source": [
    "messenger_rna = coding_dna.transcribe()\n",
    "messenger_rna\n",
    "#template_dna.reverse_complement().transcribe()\n",
    "from Bio.Seq import Seq\n",
    "from Bio.Alphabet import IUPAC\n",
    "messenger_rna = Seq(\"AUGGCCAUUGUAAUGGGCCGCUGAAAGGGUGCCCGAUAG\", IUPAC.unambiguous_rna)\n",
    "messenger_rna\n",
    "messenger_rna.back_transcribe()\n",
    "from Bio.Seq import Seq\n",
    "from Bio.Alphabet import IUPAC\n",
    "messenger_rna = Seq(\"AUGGCCAUUGUAAUGGGCCGCUGAAAGGGUGCCCGAUAG\", IUPAC.unambiguous_rna)\n",
    "messenger_rna\n",
    "messenger_rna.translate()\n",
    "from Bio.Seq import Seq\n",
    "from Bio.Alphabet import IUPAC\n",
    "coding_dna = Seq(\"ATGGCCATTGTAATGGGCCGCTGAAAGGGTGCCCGATAG\", IUPAC.unambiguous_dna)\n",
    "coding_dna"
   ]
  },
  {
   "cell_type": "code",
   "execution_count": 43,
   "metadata": {},
   "outputs": [
    {
     "name": "stdout",
     "output_type": "stream",
     "text": [
      "O23729\n",
      "CHS3_BROFI\n",
      "RecName: Full=Chalcone synthase 3; EC=2.3.1.74; AltName: Full=Naringenin-chalcone synthase 3;\n",
      "Seq('MAPAMEEIRQAQRAEGPAAVLAIGTSTPPNALYQADYPDYYFRITKSEHLTELK...GAE', ProteinAlphabet())\n",
      "Length 394\n",
      "['Acyltransferase', 'Flavonoid biosynthesis', 'Transferase']\n"
     ]
    }
   ],
   "source": [
    "from Bio import ExPASy\n",
    "from Bio import SeqIO\n",
    "with ExPASy.get_sprot_raw(\"O23729\") as handle:\n",
    "    seq_record = SeqIO.read(handle, \"swiss\")\n",
    "print(seq_record.id)\n",
    "print(seq_record.name)\n",
    "print(seq_record.description)\n",
    "print(repr(seq_record.seq))\n",
    "print(\"Length %i\" % len(seq_record))\n",
    "print(seq_record.annotations[\"keywords\"])"
   ]
  },
  {
   "cell_type": "code",
   "execution_count": 5,
   "metadata": {},
   "outputs": [
    {
     "data": {
      "text/plain": [
       "[SeqRecord(seq=Seq('ATGAAAACCAAATGCATTTGCGAACTGTGCAGCTGCGGCCGCCATCATTGCCCG...AGC', SingleLetterAlphabet()), id='NP_001273979.1', name='NP_001273979.1', description='NP_001273979.1 stabilizer of axonemal microtubules 1 isoform c [Homo sapiens]', dbxrefs=[]),\n",
       " SeqRecord(seq=Seq('ATGAACTTTTATCTGCTGCTGGCGAGCAGCATTCTGTGCGCGCTGATTGTGTTT...ACC', SingleLetterAlphabet()), id='NP_001017978.1', name='NP_001017978.1', description='NP_001017978.1 kita-kyushu lung cancer antigen 1 [Homo sapiens]', dbxrefs=[]),\n",
       " SeqRecord(seq=Seq('ATGAACTTTTATCTGCTGCTGGCGAGCAGCATTCTGTGCGCGCTGATTGTGTTT...ACC', SingleLetterAlphabet()), id='sp|Q5H943.1|KKLC1_HUMAN', name='sp|Q5H943.1|KKLC1_HUMAN', description='sp|Q5H943.1|KKLC1_HUMAN RecName: Full=Kita-kyushu lung cancer antigen 1; Short=KK-LC-1; AltName: Full=Cancer/testis antigen 83', dbxrefs=[]),\n",
       " SeqRecord(seq=Seq('ATGGGCGCGAGCGGCAGCAAAGCGCGCGGCCTGTGGCCGTTTGCGAGCGCGGCG...GTG', SingleLetterAlphabet()), id='AAC35497.1', name='AAC35497.1', description='AAC35497.1 lung cancer candidate FUS1 [Homo sapiens]', dbxrefs=[]),\n",
       " SeqRecord(seq=Seq('ATGAGCTTTCTGTTTCTGCTGGTGAGCAGCATTCTGTTTGCGTTTATGTTTGTG...GTG', SingleLetterAlphabet()), id='XP_002699503.1', name='XP_002699503.1', description='XP_002699503.1 kita-kyushu lung cancer antigen 1 [Bos taurus]', dbxrefs=[]),\n",
       " SeqRecord(seq=Seq('ATGAACGTGTATCTGCTGCTGGCGAGCGGCATTCTGTGCGCGCTGATGACCGTG...ACC', SingleLetterAlphabet()), id='sp|Q4R717.1|KKLC1_MACFA', name='sp|Q4R717.1|KKLC1_MACFA', description='sp|Q4R717.1|KKLC1_MACFA RecName: Full=Kita-kyushu lung cancer antigen 1 homolog', dbxrefs=[]),\n",
       " SeqRecord(seq=Seq('ATGCTGCTGACCCGCTTTGAACAGAAAAACGGCCATCTGGCGCAGGTGGAAGTG...TGC', SingleLetterAlphabet()), id='AAN12271.1', name='AAN12271.1', description='AAN12271.1 lung cancer oncogene 5 [Homo sapiens]', dbxrefs=[]),\n",
       " SeqRecord(seq=Seq('ATGAACGTGTATCTGCTGCTGGCGAGCGGCATTCTGTGCGCGCTGATGACCGTG...ACC', SingleLetterAlphabet()), id='NP_001270680.1', name='NP_001270680.1', description='NP_001270680.1 kita-kyushu lung cancer antigen 1 homolog [Macaca fascicularis]', dbxrefs=[]),\n",
       " SeqRecord(seq=Seq('ATGACCGAACAGATGACCCTGCGCGGCACCCTGAAAGGCCATAACGGCTGGGTG...CGC', SingleLetterAlphabet()), id='Sp|P63244.3|Rack1_Human', name='Sp|P63244.3|Rack1_Human', description='Sp|P63244.3|Rack1_Human Recname: Full=Receptor Of Activated Protein C Kinase 1; Altname: Full=Cell Proliferation-Inducing Gene 21 Protein; Altname: Full=Guanine Nucleotide-Binding Protein Subunit Beta-2-Like 1; Altname: Full=Guanine Nucleotide-Binding Protein Subunit Beta-Like Protein 12.3; Altname: Full=Human Lung Cancer Oncogene 7 Protein; Short=Hlc-7; Altname: Full=Receptor For Activated C Kinase; Altname: Full=Small Ribosomal Subunit Protein Rack1; Contains: Recname: Full=Receptor Of Activated Protein C Kinase 1, N-Terminally Processed; Altname: Full=Guanine Nucleotide-Binding Protein Subunit Beta-2-Like 1, N-Terminally Processed', dbxrefs=[]),\n",
       " SeqRecord(seq=Seq('ATGAGCTTTCTGTTTCTGCTGGTGAGCAGCATTCTGTTTGCGTTTATGTTTGTG...GTG', SingleLetterAlphabet()), id='XP_027389897.1', name='XP_027389897.1', description='XP_027389897.1 kita-kyushu lung cancer antigen 1 [Bos indicus x Bos taurus]', dbxrefs=[]),\n",
       " SeqRecord(seq=Seq('ATGAACATTCTGTTTATTCTGGTGGGCAGCATTATTTTTGCGAGCATTTTTAGC...CAG', SingleLetterAlphabet()), id='XP_007647427.1', name='XP_007647427.1', description='XP_007647427.1 kita-kyushu lung cancer antigen 1 [Cricetulus griseus]', dbxrefs=[]),\n",
       " SeqRecord(seq=Seq('ATGAGCATGCTGCTGCTGCTGCTGAGCTTTATTGTGTTTACCCTGCTGCTGGTG...CAT', SingleLetterAlphabet()), id='XP_014918346.1', name='XP_014918346.1', description='XP_014918346.1 kita-kyushu lung cancer antigen 1 [Acinonyx jubatus]', dbxrefs=[]),\n",
       " SeqRecord(seq=Seq('ATGAGCTTTCTGTTTCTGCTGGTGAGCAGCATTCTGTTTGCGTTTATGTTTGTG...GTG', SingleLetterAlphabet()), id='XP_0026997503.1', name='XP_0026997503.1', description='XP_0026997503.1 kita-kyushu lung cancer antigen 1 [Bos taurus]', dbxrefs=[]),\n",
       " SeqRecord(seq=Seq('ATGAGCTTTCTGTTTCTGCTGGTGAGCAGCATTCTGTTTGCGTTTATGTTTGTG...AAA', SingleLetterAlphabet()), id='XP_002699603.1', name='XP_002699603.1', description='XP_002699603.1 kita-kyushu lung cancer antigen 1 [Bos taurus]', dbxrefs=[]),\n",
       " SeqRecord(seq=Seq('ATGAGCTTTCTGTTTCTGCTGGTGAGCAGCATTCTGTTTGCGTTTATGTTTGTG...AGC', SingleLetterAlphabet()), id='XP_004699503.1', name='XP_004699503.1', description='XP_004699503.1 kita-kyushu lung cancer antigen 1 [Bos taurus]', dbxrefs=[])]"
      ]
     },
     "execution_count": 5,
     "metadata": {},
     "output_type": "execute_result"
    }
   ],
   "source": [
    "from Bio import SeqIO\n",
    "data_fasta = SeqIO.to_dict(SeqIO.parse(\"DNA.fasta\", \"fasta\"))\n",
    "len(data_fasta)\n",
    "list(data_fasta.keys())\n",
    "list(data_fasta.values())\n",
    "#print(data_fasta.description)\n",
    "#print(repr(data_fasta.seq))"
   ]
  },
  {
   "cell_type": "markdown",
   "metadata": {},
   "source": [
    "# Adding New Records to FASTA file"
   ]
  },
  {
   "cell_type": "code",
   "execution_count": 6,
   "metadata": {},
   "outputs": [],
   "source": [
    "from Bio.Seq import Seq\n",
    "from Bio.SeqRecord import SeqRecord\n",
    "from Bio.Alphabet import generic_protein\n",
    "rec1 = SeqRecord(Seq(\"MMYQQGCFAGGTVLRLAKDLAENNRGARVLVVCSEITAVTFRGPSETHLDSMVGQALFGD\" \\\n",
    "+\"GAGAVIVGSDPDLSVERPLYELVWTGATLLPDSEGAIDGHLREVGLTFHLLKDVPGLISK\" \\\n",
    "+\"NIEKSLKEAFTPLGISDWNSTFWIAHPGGPAILDQVEAKLGLKEEKMRATREVLSEYGNM\" \\\n",
    "+\"SSAC\", generic_protein),\n",
    "id=\"gi|14150838|gb|AAK54648.1|AF376133_1\",\n",
    "description=\"chalcone synthase [Cucumis sativus]\")\n",
    "\n",
    "rec2 = SeqRecord(Seq(\"YPDYYFRITNREHKAELKEKFQRMCDKSMIKKRYMYLTEEILKENPSMCEYMAPSLDARQ\" \\\n",
    "+\"DMVVVEIPKLGKEAAVKAIKEWGQ\", generic_protein),\n",
    "id=\"gi|13919613|gb|AAK33142.1|\",\n",
    "description=\"chalcone synthase [Fragaria vesca subsp. bracteata]\")\n",
    "\n",
    "rec3 = SeqRecord(Seq(\"MVTVEEFRRAQCAEGPATVMAIGTATPSNCVDQSTYPDYYFRITNSEHKVELKEKFKRMC\" \\\n",
    "+\"EKSMIKKRYMHLTEEILKENPNICAYMAPSLDARQDIVVVEVPKLGKEAAQKAIKEWGQP\" \\\n",
    "+\"KSKITHLVFCTTSGVDMPGCDYQLTKLLGLRPSVKRFMMYQQGCFAGGTVLRMAKDLAEN\" \\\n",
    "+\"NKGARVLVVCSEITAVTFRGPNDTHLDSLVGQALFGDGAAAVIIGSDPIPEVERPLFELV\" \\\n",
    "+\"SAAQTLLPDSEGAIDGHLREVGLTFHLLKDVPGLISKNIEKSLVEAFQPLGISDWNSLFW\" \\\n",
    "+\"IAHPGGPAILDQVELKLGLKQEKLKATRKVLSNYGNMSSACVLFILDEMRKASAKEGLGT\" \\\n",
    "+\"TGEGLEWGVLFGFGPGLTVETVVLHSVAT\", generic_protein),\n",
    "id=\"gi|13925890|gb|AAK49457.1|\",\n",
    "description=\"chalcone synthase [Nicotiana tabacum]\")"
   ]
  },
  {
   "cell_type": "code",
   "execution_count": 7,
   "metadata": {},
   "outputs": [
    {
     "data": {
      "text/plain": [
       "3"
      ]
     },
     "execution_count": 7,
     "metadata": {},
     "output_type": "execute_result"
    }
   ],
   "source": [
    "my_records = [rec1, rec2, rec3]\n",
    "from Bio import SeqIO\n",
    "SeqIO.write(my_records, \"ADDED.fa\", \"fasta\")"
   ]
  },
  {
   "cell_type": "code",
   "execution_count": 8,
   "metadata": {},
   "outputs": [
    {
     "name": "stdout",
     "output_type": "stream",
     "text": [
      "Converted 15 records\n"
     ]
    }
   ],
   "source": [
    "from Bio import SeqIO\n",
    "records = SeqIO.parse(\"DNA.fasta\", \"fasta\")\n",
    "count = SeqIO.write(records, \"my_example.fasta\", \"fasta\")\n",
    "print(\"Converted %i records\" % count)"
   ]
  },
  {
   "cell_type": "code",
   "execution_count": 9,
   "metadata": {},
   "outputs": [
    {
     "name": "stdout",
     "output_type": "stream",
     "text": [
      "Help on function convert in module Bio.SeqIO:\n",
      "\n",
      "convert(in_file, in_format, out_file, out_format, alphabet=None)\n",
      "    Convert between two sequence file formats, return number of records.\n",
      "    \n",
      "    Arguments:\n",
      "     - in_file - an input handle or filename\n",
      "     - in_format - input file format, lower case string\n",
      "     - out_file - an output handle or filename\n",
      "     - out_format - output file format, lower case string\n",
      "     - alphabet - optional alphabet to assume\n",
      "    \n",
      "    **NOTE** - If you provide an output filename, it will be opened which will\n",
      "    overwrite any existing file without warning. This may happen if even\n",
      "    the conversion is aborted (e.g. an invalid out_format name is given).\n",
      "    \n",
      "    For example, going from a filename to a handle:\n",
      "    \n",
      "    >>> from Bio import SeqIO\n",
      "    >>> try:\n",
      "    ...     from StringIO import StringIO # Python 2\n",
      "    ... except ImportError:\n",
      "    ...     from io import StringIO # Python 3\n",
      "    ...\n",
      "    >>> handle = StringIO(\"\")\n",
      "    >>> SeqIO.convert(\"Quality/example.fastq\", \"fastq\", handle, \"fasta\")\n",
      "    3\n",
      "    >>> print(handle.getvalue())\n",
      "    >EAS54_6_R1_2_1_413_324\n",
      "    CCCTTCTTGTCTTCAGCGTTTCTCC\n",
      "    >EAS54_6_R1_2_1_540_792\n",
      "    TTGGCAGGCCAAGGCCGATGGATCA\n",
      "    >EAS54_6_R1_2_1_443_348\n",
      "    GTTGCTTCTGGCGTGGGTGGGGGGG\n",
      "    <BLANKLINE>\n",
      "\n"
     ]
    }
   ],
   "source": [
    "from Bio import SeqIO\n",
    "help(SeqIO.convert)"
   ]
  },
  {
   "cell_type": "markdown",
   "metadata": {},
   "source": [
    "# COUNT LENGTH"
   ]
  },
  {
   "cell_type": "code",
   "execution_count": 10,
   "metadata": {},
   "outputs": [
    {
     "name": "stdout",
     "output_type": "stream",
     "text": [
      "15 records with total sequence length 5376\n"
     ]
    }
   ],
   "source": [
    "from Bio.SeqIO.FastaIO import SimpleFastaParser\n",
    "count = 0\n",
    "total_len = 0\n",
    "with open(\"DNA.fasta\") as in_handle:\n",
    "    for title, seq in SimpleFastaParser(in_handle):\n",
    "        count += 1\n",
    "        total_len += len(seq)\n",
    "print(\"%i records with total sequence length %i\" % (count, total_len))"
   ]
  },
  {
   "cell_type": "code",
   "execution_count": 11,
   "metadata": {},
   "outputs": [
    {
     "name": "stdout",
     "output_type": "stream",
     "text": [
      "1000 records with total sequence length 100000\n"
     ]
    }
   ],
   "source": [
    "from Bio.SeqIO.QualityIO import FastqGeneralIterator\n",
    "count = 0\n",
    "total_len = 0\n",
    "with open(\"AlternateDNA.fastq\") as in_handle:\n",
    "    for title, seq, qual in FastqGeneralIterator(in_handle):\n",
    "        count += 1\n",
    "        total_len += len(seq)\n",
    "print(\"%i records with total sequence length %i\" % (count, total_len))"
   ]
  },
  {
   "cell_type": "markdown",
   "metadata": {},
   "source": [
    "# COUNTING & FIND PROBABILITY-Importing Time Counter"
   ]
  },
  {
   "cell_type": "code",
   "execution_count": 12,
   "metadata": {},
   "outputs": [
    {
     "name": "stdout",
     "output_type": "stream",
     "text": [
      "0.07080912590026855\n"
     ]
    }
   ],
   "source": [
    "import time\n",
    "\n",
    "def dCounter():\n",
    "    tic = time.time()\n",
    "    file = open('DNA.fa', 'r')\n",
    "    dMonoDict = {}\n",
    "    dDiDict = {}\n",
    "    seq = file.read().replace(\"\\n\", \"\").upper()\n",
    "    seq = seq.replace(\"N\", \"\")\n",
    "    \n",
    "    for i in range(5, len(seq)-1):\n",
    "        sMono = seq[i]\n",
    "        sDi = seq[i:i+2]\n",
    "        \n",
    "        # Mononucleotide\n",
    "        try:\n",
    "            if \"N\" not in sMono:\n",
    "                dMonoDict[sMono] += 1\n",
    "        except KeyError:\n",
    "            dMonoDict[sMono] = 1\n",
    "            \n",
    "        # Dinucleotides\n",
    "        try:\n",
    "            if \"N\" not in sDi:\n",
    "                dDiDict[sDi] += 1\n",
    "        except KeyError:\n",
    "            dDiDict[sDi] = 1\n",
    "    \n",
    "    file.close()\n",
    "    toc = time.time()\n",
    "    print(toc-tic)\n",
    "    \n",
    "    return dDiDict, dMonoDict\n",
    "\n",
    "dDiDict, dMonoDict = dCounter()"
   ]
  },
  {
   "cell_type": "code",
   "execution_count": 13,
   "metadata": {},
   "outputs": [
    {
     "data": {
      "text/plain": [
       "{'R': 4,\n",
       " 'Z': 1,\n",
       " '0': 8,\n",
       " '1': 7,\n",
       " '9': 6,\n",
       " '3': 1,\n",
       " '2': 2,\n",
       " '.': 2,\n",
       " ' ': 11,\n",
       " 'Y': 1,\n",
       " 'E': 10,\n",
       " 'S': 6,\n",
       " 'I': 6,\n",
       " 'A': 1294,\n",
       " 'P': 1,\n",
       " 'T': 1689,\n",
       " 'B': 1,\n",
       " 'O': 5,\n",
       " 'V': 1,\n",
       " 'Q': 2,\n",
       " 'U': 3,\n",
       " '7': 3,\n",
       " 'C': 1159,\n",
       " 'G': 1257,\n",
       " '_': 2,\n",
       " '5': 1,\n",
       " ',': 1,\n",
       " 'W': 1,\n",
       " 'H': 2,\n",
       " 'L': 1,\n",
       " 'M': 1}"
      ]
     },
     "execution_count": 13,
     "metadata": {},
     "output_type": "execute_result"
    }
   ],
   "source": [
    "dMonoDict"
   ]
  },
  {
   "cell_type": "code",
   "execution_count": 14,
   "metadata": {},
   "outputs": [
    {
     "data": {
      "text/plain": [
       "{'RZ': 1,\n",
       " 'Z0': 1,\n",
       " '01': 3,\n",
       " '10': 1,\n",
       " '00': 4,\n",
       " '09': 1,\n",
       " '93': 1,\n",
       " '32': 1,\n",
       " '2.': 1,\n",
       " '.1': 1,\n",
       " '1 ': 2,\n",
       " ' Y': 1,\n",
       " 'YE': 1,\n",
       " 'ER': 1,\n",
       " 'RS': 1,\n",
       " 'SI': 1,\n",
       " 'II': 1,\n",
       " 'IA': 1,\n",
       " 'A ': 2,\n",
       " ' P': 1,\n",
       " 'PE': 1,\n",
       " 'ES': 1,\n",
       " 'ST': 2,\n",
       " 'TI': 3,\n",
       " 'IS': 1,\n",
       " 'S ': 1,\n",
       " ' B': 1,\n",
       " 'BI': 1,\n",
       " 'IO': 1,\n",
       " 'OV': 1,\n",
       " 'VA': 1,\n",
       " 'AR': 1,\n",
       " 'R ': 1,\n",
       " ' A': 1,\n",
       " 'AT': 384,\n",
       " 'IQ': 1,\n",
       " 'QU': 2,\n",
       " 'UA': 1,\n",
       " ' S': 3,\n",
       " 'TR': 1,\n",
       " 'R.': 1,\n",
       " '. ': 1,\n",
       " ' E': 1,\n",
       " 'E1': 2,\n",
       " '19': 3,\n",
       " '97': 2,\n",
       " '79': 2,\n",
       " '90': 2,\n",
       " ' C': 1,\n",
       " 'CO': 1,\n",
       " 'OT': 2,\n",
       " 'IG': 1,\n",
       " 'G_': 1,\n",
       " '_E': 1,\n",
       " '1_': 1,\n",
       " '_1': 1,\n",
       " '92': 1,\n",
       " '27': 1,\n",
       " '75': 1,\n",
       " '5,': 1,\n",
       " ', ': 1,\n",
       " ' W': 1,\n",
       " 'WH': 1,\n",
       " 'HO': 2,\n",
       " 'OL': 1,\n",
       " 'LE': 1,\n",
       " 'E ': 2,\n",
       " ' G': 1,\n",
       " 'GE': 1,\n",
       " 'EO': 1,\n",
       " 'OM': 1,\n",
       " 'ME': 1,\n",
       " 'SH': 1,\n",
       " 'TG': 481,\n",
       " 'GU': 1,\n",
       " 'U ': 1,\n",
       " 'SE': 1,\n",
       " 'EQ': 1,\n",
       " 'UE': 1,\n",
       " 'EC': 1,\n",
       " 'CE': 1,\n",
       " 'EG': 1,\n",
       " 'GA': 327,\n",
       " 'AG': 251,\n",
       " 'GT': 325,\n",
       " 'TT': 572,\n",
       " 'TA': 312,\n",
       " 'TC': 320,\n",
       " 'CG': 267,\n",
       " 'GC': 347,\n",
       " 'CT': 404,\n",
       " 'CC': 229,\n",
       " 'CA': 257,\n",
       " 'AC': 261,\n",
       " 'AA': 395,\n",
       " 'GG': 255}"
      ]
     },
     "execution_count": 14,
     "metadata": {},
     "output_type": "execute_result"
    }
   ],
   "source": [
    "dDiDict"
   ]
  },
  {
   "cell_type": "code",
   "execution_count": 15,
   "metadata": {},
   "outputs": [
    {
     "data": {
      "text/plain": [
       "{'R': Decimal('0.00073'),\n",
       " 'Z': Decimal('0.00018'),\n",
       " '0': Decimal('0.0015'),\n",
       " '1': Decimal('0.0013'),\n",
       " '9': Decimal('0.0011'),\n",
       " '3': Decimal('0.00018'),\n",
       " '2': Decimal('0.00036'),\n",
       " '.': Decimal('0.00036'),\n",
       " ' ': Decimal('0.0020'),\n",
       " 'Y': Decimal('0.00018'),\n",
       " 'E': Decimal('0.0018'),\n",
       " 'S': Decimal('0.0011'),\n",
       " 'I': Decimal('0.0011'),\n",
       " 'A': Decimal('0.24'),\n",
       " 'P': Decimal('0.00018'),\n",
       " 'T': Decimal('0.31'),\n",
       " 'B': Decimal('0.00018'),\n",
       " 'O': Decimal('0.00091'),\n",
       " 'V': Decimal('0.00018'),\n",
       " 'Q': Decimal('0.00036'),\n",
       " 'U': Decimal('0.00055'),\n",
       " '7': Decimal('0.00055'),\n",
       " 'C': Decimal('0.21'),\n",
       " 'G': Decimal('0.23'),\n",
       " '_': Decimal('0.00036'),\n",
       " '5': Decimal('0.00018'),\n",
       " ',': Decimal('0.00018'),\n",
       " 'W': Decimal('0.00018'),\n",
       " 'H': Decimal('0.00036'),\n",
       " 'L': Decimal('0.00018'),\n",
       " 'M': Decimal('0.00018')}"
      ]
     },
     "execution_count": 15,
     "metadata": {},
     "output_type": "execute_result"
    }
   ],
   "source": [
    "from decimal import *\n",
    "\n",
    "getcontext().prec = 2\n",
    "monoSum = sum(dMonoDict.values())\n",
    "dMonoDictRatio = {key:Decimal(value)/monoSum for key, value in dMonoDict.items()}\n",
    "dMonoDictRatio"
   ]
  },
  {
   "cell_type": "code",
   "execution_count": 16,
   "metadata": {},
   "outputs": [
    {
     "data": {
      "text/plain": [
       "{'RZ': Decimal('0.00018'),\n",
       " 'Z0': Decimal('0.00018'),\n",
       " '01': Decimal('0.00055'),\n",
       " '10': Decimal('0.00018'),\n",
       " '00': Decimal('0.00073'),\n",
       " '09': Decimal('0.00018'),\n",
       " '93': Decimal('0.00018'),\n",
       " '32': Decimal('0.00018'),\n",
       " '2.': Decimal('0.00018'),\n",
       " '.1': Decimal('0.00018'),\n",
       " '1 ': Decimal('0.00036'),\n",
       " ' Y': Decimal('0.00018'),\n",
       " 'YE': Decimal('0.00018'),\n",
       " 'ER': Decimal('0.00018'),\n",
       " 'RS': Decimal('0.00018'),\n",
       " 'SI': Decimal('0.00018'),\n",
       " 'II': Decimal('0.00018'),\n",
       " 'IA': Decimal('0.00018'),\n",
       " 'A ': Decimal('0.00036'),\n",
       " ' P': Decimal('0.00018'),\n",
       " 'PE': Decimal('0.00018'),\n",
       " 'ES': Decimal('0.00018'),\n",
       " 'ST': Decimal('0.00036'),\n",
       " 'TI': Decimal('0.00055'),\n",
       " 'IS': Decimal('0.00018'),\n",
       " 'S ': Decimal('0.00018'),\n",
       " ' B': Decimal('0.00018'),\n",
       " 'BI': Decimal('0.00018'),\n",
       " 'IO': Decimal('0.00018'),\n",
       " 'OV': Decimal('0.00018'),\n",
       " 'VA': Decimal('0.00018'),\n",
       " 'AR': Decimal('0.00018'),\n",
       " 'R ': Decimal('0.00018'),\n",
       " ' A': Decimal('0.00018'),\n",
       " 'AT': Decimal('0.070'),\n",
       " 'IQ': Decimal('0.00018'),\n",
       " 'QU': Decimal('0.00036'),\n",
       " 'UA': Decimal('0.00018'),\n",
       " ' S': Decimal('0.00055'),\n",
       " 'TR': Decimal('0.00018'),\n",
       " 'R.': Decimal('0.00018'),\n",
       " '. ': Decimal('0.00018'),\n",
       " ' E': Decimal('0.00018'),\n",
       " 'E1': Decimal('0.00036'),\n",
       " '19': Decimal('0.00055'),\n",
       " '97': Decimal('0.00036'),\n",
       " '79': Decimal('0.00036'),\n",
       " '90': Decimal('0.00036'),\n",
       " ' C': Decimal('0.00018'),\n",
       " 'CO': Decimal('0.00018'),\n",
       " 'OT': Decimal('0.00036'),\n",
       " 'IG': Decimal('0.00018'),\n",
       " 'G_': Decimal('0.00018'),\n",
       " '_E': Decimal('0.00018'),\n",
       " '1_': Decimal('0.00018'),\n",
       " '_1': Decimal('0.00018'),\n",
       " '92': Decimal('0.00018'),\n",
       " '27': Decimal('0.00018'),\n",
       " '75': Decimal('0.00018'),\n",
       " '5,': Decimal('0.00018'),\n",
       " ', ': Decimal('0.00018'),\n",
       " ' W': Decimal('0.00018'),\n",
       " 'WH': Decimal('0.00018'),\n",
       " 'HO': Decimal('0.00036'),\n",
       " 'OL': Decimal('0.00018'),\n",
       " 'LE': Decimal('0.00018'),\n",
       " 'E ': Decimal('0.00036'),\n",
       " ' G': Decimal('0.00018'),\n",
       " 'GE': Decimal('0.00018'),\n",
       " 'EO': Decimal('0.00018'),\n",
       " 'OM': Decimal('0.00018'),\n",
       " 'ME': Decimal('0.00018'),\n",
       " 'SH': Decimal('0.00018'),\n",
       " 'TG': Decimal('0.088'),\n",
       " 'GU': Decimal('0.00018'),\n",
       " 'U ': Decimal('0.00018'),\n",
       " 'SE': Decimal('0.00018'),\n",
       " 'EQ': Decimal('0.00018'),\n",
       " 'UE': Decimal('0.00018'),\n",
       " 'EC': Decimal('0.00018'),\n",
       " 'CE': Decimal('0.00018'),\n",
       " 'EG': Decimal('0.00018'),\n",
       " 'GA': Decimal('0.060'),\n",
       " 'AG': Decimal('0.046'),\n",
       " 'GT': Decimal('0.059'),\n",
       " 'TT': Decimal('0.10'),\n",
       " 'TA': Decimal('0.057'),\n",
       " 'TC': Decimal('0.058'),\n",
       " 'CG': Decimal('0.049'),\n",
       " 'GC': Decimal('0.063'),\n",
       " 'CT': Decimal('0.074'),\n",
       " 'CC': Decimal('0.042'),\n",
       " 'CA': Decimal('0.047'),\n",
       " 'AC': Decimal('0.048'),\n",
       " 'AA': Decimal('0.072'),\n",
       " 'GG': Decimal('0.046')}"
      ]
     },
     "execution_count": 16,
     "metadata": {},
     "output_type": "execute_result"
    }
   ],
   "source": [
    "getcontext().prec = 2\n",
    "diSum = sum(dDiDict.values())\n",
    "dDiDictRatio = {key:Decimal(value)/diSum for key, value in dDiDict.items()}\n",
    "dDiDictRatio"
   ]
  },
  {
   "cell_type": "code",
   "execution_count": 17,
   "metadata": {},
   "outputs": [
    {
     "data": {
      "text/plain": [
       "Decimal('0.032')"
      ]
     },
     "execution_count": 17,
     "metadata": {},
     "output_type": "execute_result"
    }
   ],
   "source": [
    "dMonoDictRatio['C']*dMonoDictRatio['T']/2"
   ]
  },
  {
   "cell_type": "markdown",
   "metadata": {},
   "source": [
    "# SEQUENCE MANIPULATION--COMPLEMENT"
   ]
  },
  {
   "cell_type": "code",
   "execution_count": 18,
   "metadata": {},
   "outputs": [
    {
     "data": {
      "text/plain": [
       "True"
      ]
     },
     "execution_count": 18,
     "metadata": {},
     "output_type": "execute_result"
    }
   ],
   "source": [
    "from Bio.Seq import Seq\n",
    "from Bio.Alphabet import generic_dna\n",
    "dna_seq = Seq(\"acgtACGT\", generic_dna)\n",
    "dna_seq\n",
    "dna_seq.upper()\n",
    "dna_seq.lower()\n",
    "\"GTAC\" in dna_seq\n",
    "\"GTAC\" in dna_seq.upper()"
   ]
  },
  {
   "cell_type": "code",
   "execution_count": 19,
   "metadata": {},
   "outputs": [
    {
     "data": {
      "text/plain": [
       "Seq('ATGGCCATTGTAATGGGCCGCTGAAAGGGTGCCCGATAG', IUPACUnambiguousDNA())"
      ]
     },
     "execution_count": 19,
     "metadata": {},
     "output_type": "execute_result"
    }
   ],
   "source": [
    "from Bio.Seq import Seq\n",
    "from Bio.Alphabet import IUPAC\n",
    "dna_seq = Seq(\"ACGT\", IUPAC.unambiguous_dna)\n",
    "dna_seq\n",
    "dna_seq.lower()\n",
    "from Bio.Seq import Seq\n",
    "from Bio.Alphabet import IUPAC\n",
    "my_seq = Seq(\"GATCGATGGGCCTATATAGGATCGAAAATCGC\", IUPAC.unambiguous_dna)\n",
    "my_seq\n",
    "my_seq.complement()\n",
    "my_seq.reverse_complement()\n",
    "my_seq[::-1]\n",
    "from Bio.Seq import Seq\n",
    "from Bio.Alphabet import IUPAC\n",
    "protein_seq = Seq(\"EVRNAK\", IUPAC.protein)\n",
    "#protein_seq.complement()\n",
    "from Bio.Seq import Seq\n",
    "from Bio.Alphabet import IUPAC\n",
    "coding_dna = Seq(\"ATGGCCATTGTAATGGGCCGCTGAAAGGGTGCCCGATAG\", IUPAC.unambiguous_dna)\n",
    "coding_dna"
   ]
  },
  {
   "cell_type": "code",
   "execution_count": 20,
   "metadata": {},
   "outputs": [
    {
     "data": {
      "text/plain": [
       "Seq('ATGGCCATTGTAATGGGCCGCTGAAAGGGTGCCCGATAG', IUPACUnambiguousDNA())"
      ]
     },
     "execution_count": 20,
     "metadata": {},
     "output_type": "execute_result"
    }
   ],
   "source": [
    "messenger_rna = coding_dna.transcribe()\n",
    "messenger_rna\n",
    "#template_dna.reverse_complement().transcribe()\n",
    "from Bio.Seq import Seq\n",
    "from Bio.Alphabet import IUPAC\n",
    "messenger_rna = Seq(\"AUGGCCAUUGUAAUGGGCCGCUGAAAGGGUGCCCGAUAG\", IUPAC.unambiguous_rna)\n",
    "messenger_rna\n",
    "messenger_rna.back_transcribe()\n",
    "from Bio.Seq import Seq\n",
    "from Bio.Alphabet import IUPAC\n",
    "messenger_rna = Seq(\"AUGGCCAUUGUAAUGGGCCGCUGAAAGGGUGCCCGAUAG\", IUPAC.unambiguous_rna)\n",
    "messenger_rna\n",
    "messenger_rna.translate()\n",
    "from Bio.Seq import Seq\n",
    "from Bio.Alphabet import IUPAC\n",
    "coding_dna = Seq(\"ATGGCCATTGTAATGGGCCGCTGAAAGGGTGCCCGATAG\", IUPAC.unambiguous_dna)\n",
    "coding_dna"
   ]
  },
  {
   "cell_type": "code",
   "execution_count": 21,
   "metadata": {},
   "outputs": [
    {
     "name": "stdout",
     "output_type": "stream",
     "text": [
      "O23729\n",
      "CHS3_BROFI\n",
      "RecName: Full=Chalcone synthase 3; EC=2.3.1.74; AltName: Full=Naringenin-chalcone synthase 3;\n",
      "Seq('MAPAMEEIRQAQRAEGPAAVLAIGTSTPPNALYQADYPDYYFRITKSEHLTELK...GAE', ProteinAlphabet())\n",
      "Length 394\n",
      "['Acyltransferase', 'Flavonoid biosynthesis', 'Transferase']\n"
     ]
    }
   ],
   "source": [
    "from Bio import ExPASy\n",
    "from Bio import SeqIO\n",
    "with ExPASy.get_sprot_raw(\"O23729\") as handle:\n",
    "    seq_record = SeqIO.read(handle, \"swiss\")\n",
    "print(seq_record.id)\n",
    "print(seq_record.name)\n",
    "print(seq_record.description)\n",
    "print(repr(seq_record.seq))\n",
    "print(\"Length %i\" % len(seq_record))\n",
    "print(seq_record.annotations[\"keywords\"])"
   ]
  },
  {
   "cell_type": "markdown",
   "metadata": {},
   "source": [
    "# SEQUENCE MANIPULATION--REVERSE COMPLEMENT"
   ]
  },
  {
   "cell_type": "code",
   "execution_count": 22,
   "metadata": {},
   "outputs": [
    {
     "name": "stdout",
     "output_type": "stream",
     "text": [
      "NZ_ADRZ01000932.1 Yersinia pestis biovar Antiqua str. E1979001 Contig_E1979001_19275, whole genome shotgun sequence\n",
      "5386\n",
      "GAGTTTTATCGCTTCCATGACGCAGAAGTTAACACTTTCGGATATTTCTGATGAGTCGAAAAATTATCTTGATAAAGCAGGAATTACTACTGCTTGTTTACGAATTAAATCGAAGTGGACTGCTGGCGGAAAATGAGAAAATTCGACCTATCCTTGCGCAGCTCGAGAAGCTCTTACTTTGCGACCTTTCGCCATCAACTAACGATTCTGTCAAAAACTGACGCGTTGGATGAGGAGAAGTGGCTTAATATGCTTGGCACGTTCGTCAAGGACTGGTTTAGATATGAGTCACATTTTGTTCATGGTAGAGATTCTCTTGTTGACATTTTAAAAGAGCGTGGATTACTATCTGAGTCCGATGCTGTTCAACCACTAATAGGTAAGAAATCATGAGTCAAGTTACTGAACAATCCGTACGTTTCCAGACCGCTTTGGCCTCTATTAAGCTCATTCAGGCTTCTGCCGTTTTGGATTTAACCGAAGATGATTTCGATTTTCTGACGAGTAACAAAGTTTGGATTGCTACTGACCGCTCTCGTGCTCGTCGCTGCGTTGAGGCTTGCGTTTATGGTACGCTGGACTTTGTGGGATACCCTCGCTTTCCTGCTCCTGTTGAGTTTATTGCTGCCGTCATTGCTTATTATGTTCATCCCGTCAACATTCAAACGGCCTGTCTCATCATGGAAGGCGCTGAATTTACGGAAAACATTATTAATGGCGTCGAGCGTCCGGTTAAAGCCGCTGAATTGTTCGCGTTTACCTTGCGTGTACGCGCAGGAAACACTGACGTTCTTACTGACGCAGAAGAAAACGTGCGTCAAAAATTACGTGCGGAAGGAGTGATGTAATGTCTAAAGGTAAAAAACGTTCTGGCGCTCGCCCTGGTCGTCCGCAGCCGTTGCGAGGTACTAAAGGCAAGCGTAAAGGCGCTCGTCTTTGGTATGTAGGTGGTCAACAATTTTAATTGCAGGGGCTTCGGCCCCTTACTTGAGGATAAATTATGTCTAATATTCAAACTGGCGCCGAGCGTATGCCGCATGACCTTTCCCATCTTGGCTTCCTTGCTGGTCAGATTGGTCGTCTTATTACCATTTCAACTACTCCGGTTATCGCTGGCGACTCCTTCGAGATGGACGCCGTTGGCGCTCTCCGTCTTTCTCCATTGCGTCGTGGCCTTGCTATTGACTCTACTGTAGACATTTTTACTTTTTATGTCCCTCATCGTCACGTTTATGGTGAACAGTGGATTAAGTTCATGAAGGATGGTGTTAATGCCACTCCTCTCCCGACTGTTAACACTACTGGTTATATTGACCATGCCGCTTTTCTTGGCACGATTAACCCTGATACCAATAAAATCCCTAAGCATTTGTTTCAGGGTTATTTGAATATCTATAACAACTATTTTAAAGCGCCGTGGATGCCTGACCGTACCGAGGCTAACCCTAATGAGCTTAATCAAGATGATGCTCGTTATGGTTTCCGTTGCTGCCATCTCAAAAACATTTGGACTGCTCCGCTTCCTCCTGAGACTGAGCTTTCTCGCCAAATGACGACTTCTACCACATCTATTGACATTATGGGTCTGCAAGCTGCTTATGCTAATTTGCATACTGACCAAGAACGTGATTACTTCATGCAGCGTTACCATGATGTTATTTCTTCATTTGGAGGTAAAACCTCTTATGACGCTGACAACCGTCCTTTACTTGTCATGCGCTCTAATCTCTGGGCATCTGGCTATGATGTTGATGGAACTGACCAAACGTCGTTAGGCCAGTTTTCTGGTCGTGTTCAACAGACCTATAAACATTCTGTGCCGCGTTTCTTTGTTCCTGAGCATGGCACTATGTTTACTCTTGCGCTTGTTCGTTTTCCGCCTACTGCGACTAAAGAGATTCAGTACCTTAACGCTAAAGGTGCTTTGACTTATACCGATATTGCTGGCGACCCTGTTTTGTATGGCAACTTGCCGCCGCGTGAAATTTCTATGAAGGATGTTTTCCGTTCTGGTGATTCGTCTAAGAAGTTTAAGATTGCTGAGGGTCAGTGGTATCGTTATGCGCCTTCGTATGTTTCTCCTGCTTATCACCTTCTTGAAGGCTTCCCATTCATTCAGGAACCGCCTTCTGGTGATTTGCAAGAACGCGTACTTATTCGCCACCATGATTATGACCAGTGTTTCCAGTCCGTTCAGTTGTTGCAGTGGAATAGTCAGGTTAAATTTAATGTGACCGTTTATCGCAATCTGCCGACCACTCGCGATTCAATCATGACTTCGTGATAAAAGATTGAGTGTGAGGTTATAACGCCGAAGCGGTAAAAATTTTAATTTTTGCCGCTGAGGGGTTGACCAAGCGAAGCGCGGTAGGTTTTCTGCTTAGGAGTTTAATCATGTTTCAGACTTTTATTTCTCGCCATAATTCAAACTTTTTTTCTGATAAGCTGGTTCTCACTTCTGTTACTCCAGCTTCTTCGGCACCTGTTTTACAGACACCTAAAGCTACATCGTCAACGTTATATTTTGATAGTTTGACGGTTAATGCTGGTAATGGTGGTTTTCTTCATTGCATTCAGATGGATACATCTGTCAACGCCGCTAATCAGGTTGTTTCTGTTGGTGCTGATATTGCTTTTGATGCCGACCCTAAATTTTTTGCCTGTTTGGTTCGCTTTGAGTCTTCTTCGGTTCCGACTACCCTCCCGACTGCCTATGATGTTTATCCTTTGAATGGTCGCCATGATGGTGGTTATTATACCGTCAAGGACTGTGTGACTATTGACGTCCTTCCCCGTACGCCGGGCAATAACGTTTATGTTGGTTTCATGGTTTGGTCTAACTTTACCGCTACTAAATGCCGCGGATTGGTTTCGCTGAATCAGGTTATTAAAGAGATTATTTGTCTCCAGCCACTTAAGTGAGGTGATTTATGTTTGGTGCTATTGCTGGCGGTATTGCTTCTGCTCTTGCTGGTGGCGCCATGTCTAAATTGTTTGGAGGCGGTCAAAAAGCCGCCTCCGGTGGCATTCAAGGTGATGTGCTTGCTACCGATAACAATACTGTAGGCATGGGTGATGCTGGTATTAAATCTGCCATTCAAGGCTCTAATGTTCCTAACCCTGATGAGGCCGCCCCTAGTTTTGTTTCTGGTGCTATGGCTAAAGCTGGTAAAGGACTTCTTGAAGGTACGTTGCAGGCTGGCACTTCTGCCGTTTCTGATAAGTTGCTTGATTTGGTTGGACTTGGTGGCAAGTCTGCCGCTGATAAAGGAAAGGATACTCGTGATTATCTTGCTGCTGCATTTCCTGAGCTTAATGCTTGGGAGCGTGCTGGTGCTGATGCTTCCTCTGCTGGTATGGTTGACGCCGGATTTGAGAATCAAAAAGAGCTTACTAAAATGCAACTGGACAATCAGAAAGAGATTGCCGAGATGCAAAATGAGACTCAAAAAGAGATTGCTGGCATTCAGTCGGCGACTTCACGCCAGAATACGAAAGACCAGGTATATGCACAAAATGAGATGCTTGCTTATCAACAGAAGGAGTCTACTGCTCGCGTTGCGTCTATTATGGAAAACACCAATCTTTCCAAGCAACAGCAGGTTTCCGAGATTATGCGCCAAATGCTTACTCAAGCTCAAACGGCTGGTCAGTATTTTACCAATGACCAAATCAAAGAAATGACTCGCAAGGTTAGTGCTGAGGTTGACTTAGTTCATCAGCAAACGCAGAATCAGCGGTATGGCTCTTCTCATATTGGCGCTACTGCAAAGGATATTTCTAATGTCGTCACTGATGCTGCTTCTGGTGTGGTTGATATTTTTCATGGTATTGATAAAGCTGTTGCCGATACTTGGAACAATTTCTGGAAAGACGGTAAAGCTGATGGTATTGGCTCTAATTTGTCTAGGAAATAACCGTCAGGATTGACACCCTCCCAATTGTATGTTTTCATGCCTCCAAATCTTGGAGGCTTTTTTATGGTTCGTTCTTATTACCCTTCTGAATGTCACGCTGATTATTTTGACTTTGAGCGTATCGAGGCTCTTAAACCTGCTATTGAGGCTTGTGGCATTTCTACTCTTTCTCAATCCCCAATGCTTGGCTTCCATAAGCAGATGGATAACCGCATCAAGCTCTTGGAAGAGATTCTGTCTTTTCGTATGCAGGGCGTTGAGTTCGATAATGGTGATATGTATGTTGACGGCCATAAGGCTGCTTCTGACGTTCGTGATGAGTTTGTATCTGTTACTGAGAAGTTAATGGATGAATTGGCACAATGCTACAATGTGCTCCCCCAACTTGATATTAATAACACTATAGACCACCGCCCCGAAGGGGACGAAAAATGGTTTTTAGAGAACGAGAAGACGGTTACGCAGTTTTGCCGCAAGCTGGCTGCTGAACGCCCTCTTAAGGATATTCGCGATGAGTATAATTACCCCAAAAAGAAAGGTATTAAGGATGAGTGTTCAAGATTGCTGGAGGCCTCCACTATGAAATCGCGTAGAGGCTTTGCTATTCAGCGTTTGATGAATGCAATGCGACAGGCTCATGCTGATGGTTGGTTTATCGTTTTTGACACTCTCACGTTGGCTGACGACCGATTAGAGGCGTTTTATGATAATCCCAATGCTTTGCGTGACTATTTTCGTGATATTGGTCGTATGGTTCTTGCTGCCGAGGGTCGCAAGGCTAATGATTCACACGCCGACTGCTATCAGTATTTTTGTGTGCCTGAGTATGGTACAGCTAATGGCCGTCTTCATTTCCATGCGGTGCACTTTATGCGGACACTTCCTACAGGTAGCGTTGACCCTAATTTTGGTCGTCGGGTACGCAATCGCCGCCAGTTAAATAGCTTGCAAAATACGTGGCCTTATGGTTACAGTATGCCCATCGCAGTTCGCTACACGCAGGACGCTTTTTCACGTTCTGGTTGGTTGTGGCCTGTTGATGCTAAAGGTGAGCCGCTTAAAGCTACCAGTTATATGGCTGTTGGTTTCTATGTGGCTAAATACGTTAACAAAAAGTCAGATATGGACCTTGCTGCTAAAGGTCTAGGAGCTAAAGAATGGAACAACTCACTAAAAACCAAGCTGTCGCTACTTCCCAAGAAGCTGTTCAGAATCAGAATGAGCCGCAACTTCGGGATGAAAATGCTCACAATGACAAATCTGTCCACGGAGTGCTTAATCCAACTTACCAAGCTGGGTTACGACGCGACGCCGTTCAACCAGATATTGAAGCAGAACGCAAAAAGAGAGATGAGATTGAGGCTGGGAAAAGTTACTGTAGCCGACGTTTTGGCGGCGCAACCTGTGACGACAAATCTGCTCAAATTTATGCGCGCTTCGATAAAAATGATTGGCGTATCCAACCTGCA\n",
      "TGCAGGTTGGATACGCCAATCATTTTTATCGAAGCGCGCATAAATTTGAGCAGATTTGTCGTCACAGGTTGCGCCGCCAAAACGTCGGCTACAGTAACTTTTCCCAGCCTCAATCTCATCTCTCTTTTTGCGTTCTGCTTCAATATCTGGTTGAACGGCGTCGCGTCGTAACCCAGCTTGGTAAGTTGGATTAAGCACTCCGTGGACAGATTTGTCATTGTGAGCATTTTCATCCCGAAGTTGCGGCTCATTCTGATTCTGAACAGCTTCTTGGGAAGTAGCGACAGCTTGGTTTTTAGTGAGTTGTTCCATTCTTTAGCTCCTAGACCTTTAGCAGCAAGGTCCATATCTGACTTTTTGTTAACGTATTTAGCCACATAGAAACCAACAGCCATATAACTGGTAGCTTTAAGCGGCTCACCTTTAGCATCAACAGGCCACAACCAACCAGAACGTGAAAAAGCGTCCTGCGTGTAGCGAACTGCGATGGGCATACTGTAACCATAAGGCCACGTATTTTGCAAGCTATTTAACTGGCGGCGATTGCGTACCCGACGACCAAAATTAGGGTCAACGCTACCTGTAGGAAGTGTCCGCATAAAGTGCACCGCATGGAAATGAAGACGGCCATTAGCTGTACCATACTCAGGCACACAAAAATACTGATAGCAGTCGGCGTGTGAATCATTAGCCTTGCGACCCTCGGCAGCAAGAACCATACGACCAATATCACGAAAATAGTCACGCAAAGCATTGGGATTATCATAAAACGCCTCTAATCGGTCGTCAGCCAACGTGAGAGTGTCAAAAACGATAAACCAACCATCAGCATGAGCCTGTCGCATTGCATTCATCAAACGCTGAATAGCAAAGCCTCTACGCGATTTCATAGTGGAGGCCTCCAGCAATCTTGAACACTCATCCTTAATACCTTTCTTTTTGGGGTAATTATACTCATCGCGAATATCCTTAAGAGGGCGTTCAGCAGCCAGCTTGCGGCAAAACTGCGTAACCGTCTTCTCGTTCTCTAAAAACCATTTTTCGTCCCCTTCGGGGCGGTGGTCTATAGTGTTATTAATATCAAGTTGGGGGAGCACATTGTAGCATTGTGCCAATTCATCCATTAACTTCTCAGTAACAGATACAAACTCATCACGAACGTCAGAAGCAGCCTTATGGCCGTCAACATACATATCACCATTATCGAACTCAACGCCCTGCATACGAAAAGACAGAATCTCTTCCAAGAGCTTGATGCGGTTATCCATCTGCTTATGGAAGCCAAGCATTGGGGATTGAGAAAGAGTAGAAATGCCACAAGCCTCAATAGCAGGTTTAAGAGCCTCGATACGCTCAAAGTCAAAATAATCAGCGTGACATTCAGAAGGGTAATAAGAACGAACCATAAAAAAGCCTCCAAGATTTGGAGGCATGAAAACATACAATTGGGAGGGTGTCAATCCTGACGGTTATTTCCTAGACAAATTAGAGCCAATACCATCAGCTTTACCGTCTTTCCAGAAATTGTTCCAAGTATCGGCAACAGCTTTATCAATACCATGAAAAATATCAACCACACCAGAAGCAGCATCAGTGACGACATTAGAAATATCCTTTGCAGTAGCGCCAATATGAGAAGAGCCATACCGCTGATTCTGCGTTTGCTGATGAACTAAGTCAACCTCAGCACTAACCTTGCGAGTCATTTCTTTGATTTGGTCATTGGTAAAATACTGACCAGCCGTTTGAGCTTGAGTAAGCATTTGGCGCATAATCTCGGAAACCTGCTGTTGCTTGGAAAGATTGGTGTTTTCCATAATAGACGCAACGCGAGCAGTAGACTCCTTCTGTTGATAAGCAAGCATCTCATTTTGTGCATATACCTGGTCTTTCGTATTCTGGCGTGAAGTCGCCGACTGAATGCCAGCAATCTCTTTTTGAGTCTCATTTTGCATCTCGGCAATCTCTTTCTGATTGTCCAGTTGCATTTTAGTAAGCTCTTTTTGATTCTCAAATCCGGCGTCAACCATACCAGCAGAGGAAGCATCAGCACCAGCACGCTCCCAAGCATTAAGCTCAGGAAATGCAGCAGCAAGATAATCACGAGTATCCTTTCCTTTATCAGCGGCAGACTTGCCACCAAGTCCAACCAAATCAAGCAACTTATCAGAAACGGCAGAAGTGCCAGCCTGCAACGTACCTTCAAGAAGTCCTTTACCAGCTTTAGCCATAGCACCAGAAACAAAACTAGGGGCGGCCTCATCAGGGTTAGGAACATTAGAGCCTTGAATGGCAGATTTAATACCAGCATCACCCATGCCTACAGTATTGTTATCGGTAGCAAGCACATCACCTTGAATGCCACCGGAGGCGGCTTTTTGACCGCCTCCAAACAATTTAGACATGGCGCCACCAGCAAGAGCAGAAGCAATACCGCCAGCAATAGCACCAAACATAAATCACCTCACTTAAGTGGCTGGAGACAAATAATCTCTTTAATAACCTGATTCAGCGAAACCAATCCGCGGCATTTAGTAGCGGTAAAGTTAGACCAAACCATGAAACCAACATAAACGTTATTGCCCGGCGTACGGGGAAGGACGTCAATAGTCACACAGTCCTTGACGGTATAATAACCACCATCATGGCGACCATTCAAAGGATAAACATCATAGGCAGTCGGGAGGGTAGTCGGAACCGAAGAAGACTCAAAGCGAACCAAACAGGCAAAAAATTTAGGGTCGGCATCAAAAGCAATATCAGCACCAACAGAAACAACCTGATTAGCGGCGTTGACAGATGTATCCATCTGAATGCAATGAAGAAAACCACCATTACCAGCATTAACCGTCAAACTATCAAAATATAACGTTGACGATGTAGCTTTAGGTGTCTGTAAAACAGGTGCCGAAGAAGCTGGAGTAACAGAAGTGAGAACCAGCTTATCAGAAAAAAAGTTTGAATTATGGCGAGAAATAAAAGTCTGAAACATGATTAAACTCCTAAGCAGAAAACCTACCGCGCTTCGCTTGGTCAACCCCTCAGCGGCAAAAATTAAAATTTTTACCGCTTCGGCGTTATAACCTCACACTCAATCTTTTATCACGAAGTCATGATTGAATCGCGAGTGGTCGGCAGATTGCGATAAACGGTCACATTAAATTTAACCTGACTATTCCACTGCAACAACTGAACGGACTGGAAACACTGGTCATAATCATGGTGGCGAATAAGTACGCGTTCTTGCAAATCACCAGAAGGCGGTTCCTGAATGAATGGGAAGCCTTCAAGAAGGTGATAAGCAGGAGAAACATACGAAGGCGCATAACGATACCACTGACCCTCAGCAATCTTAAACTTCTTAGACGAATCACCAGAACGGAAAACATCCTTCATAGAAATTTCACGCGGCGGCAAGTTGCCATACAAAACAGGGTCGCCAGCAATATCGGTATAAGTCAAAGCACCTTTAGCGTTAAGGTACTGAATCTCTTTAGTCGCAGTAGGCGGAAAACGAACAAGCGCAAGAGTAAACATAGTGCCATGCTCAGGAACAAAGAAACGCGGCACAGAATGTTTATAGGTCTGTTGAACACGACCAGAAAACTGGCCTAACGACGTTTGGTCAGTTCCATCAACATCATAGCCAGATGCCCAGAGATTAGAGCGCATGACAAGTAAAGGACGGTTGTCAGCGTCATAAGAGGTTTTACCTCCAAATGAAGAAATAACATCATGGTAACGCTGCATGAAGTAATCACGTTCTTGGTCAGTATGCAAATTAGCATAAGCAGCTTGCAGACCCATAATGTCAATAGATGTGGTAGAAGTCGTCATTTGGCGAGAAAGCTCAGTCTCAGGAGGAAGCGGAGCAGTCCAAATGTTTTTGAGATGGCAGCAACGGAAACCATAACGAGCATCATCTTGATTAAGCTCATTAGGGTTAGCCTCGGTACGGTCAGGCATCCACGGCGCTTTAAAATAGTTGTTATAGATATTCAAATAACCCTGAAACAAATGCTTAGGGATTTTATTGGTATCAGGGTTAATCGTGCCAAGAAAAGCGGCATGGTCAATATAACCAGTAGTGTTAACAGTCGGGAGAGGAGTGGCATTAACACCATCCTTCATGAACTTAATCCACTGTTCACCATAAACGTGACGATGAGGGACATAAAAAGTAAAAATGTCTACAGTAGAGTCAATAGCAAGGCCACGACGCAATGGAGAAAGACGGAGAGCGCCAACGGCGTCCATCTCGAAGGAGTCGCCAGCGATAACCGGAGTAGTTGAAATGGTAATAAGACGACCAATCTGACCAGCAAGGAAGCCAAGATGGGAAAGGTCATGCGGCATACGCTCGGCGCCAGTTTGAATATTAGACATAATTTATCCTCAAGTAAGGGGCCGAAGCCCCTGCAATTAAAATTGTTGACCACCTACATACCAAAGACGAGCGCCTTTACGCTTGCCTTTAGTACCTCGCAACGGCTGCGGACGACCAGGGCGAGCGCCAGAACGTTTTTTACCTTTAGACATTACATCACTCCTTCCGCACGTAATTTTTGACGCACGTTTTCTTCTGCGTCAGTAAGAACGTCAGTGTTTCCTGCGCGTACACGCAAGGTAAACGCGAACAATTCAGCGGCTTTAACCGGACGCTCGACGCCATTAATAATGTTTTCCGTAAATTCAGCGCCTTCCATGATGAGACAGGCCGTTTGAATGTTGACGGGATGAACATAATAAGCAATGACGGCAGCAATAAACTCAACAGGAGCAGGAAAGCGAGGGTATCCCACAAAGTCCAGCGTACCATAAACGCAAGCCTCAACGCAGCGACGAGCACGAGAGCGGTCAGTAGCAATCCAAACTTTGTTACTCGTCAGAAAATCGAAATCATCTTCGGTTAAATCCAAAACGGCAGAAGCCTGAATGAGCTTAATAGAGGCCAAAGCGGTCTGGAAACGTACGGATTGTTCAGTAACTTGACTCATGATTTCTTACCTATTAGTGGTTGAACAGCATCGGACTCAGATAGTAATCCACGCTCTTTTAAAATGTCAACAAGAGAATCTCTACCATGAACAAAATGTGACTCATATCTAAACCAGTCCTTGACGAACGTGCCAAGCATATTAAGCCACTTCTCCTCATCCAACGCGTCAGTTTTTGACAGAATCGTTAGTTGATGGCGAAAGGTCGCAAAGTAAGAGCTTCTCGAGCTGCGCAAGGATAGGTCGAATTTTCTCATTTTCCGCCAGCAGTCCACTTCGATTTAATTCGTAAACAAGCAGTAGTAATTCCTGCTTTATCAAGATAATTTTTCGACTCATCAGAAATATCCGAAAGTGTTAACTTCTGCGTCATGGAAGCGATAAAACTC\n"
     ]
    }
   ],
   "source": [
    "#Finding Reverse Complement\n",
    "\n",
    "from Bio import SeqIO\n",
    "from Bio.Seq import Seq\n",
    "\n",
    "genome =\"\"\n",
    "#This is compatible with multiple fasta files too\n",
    "for seq_record in SeqIO.parse(\"DNA.fa\", \"fasta\"):\n",
    "    print(seq_record.description)\n",
    "    genome = str(seq_record.seq)\n",
    "    print(len(seq_record))\n",
    "    print(genome)\n",
    "    \n",
    "\n",
    "#Making a seq object out of the genome enables seq manipulation functions\n",
    "rc_genome = Seq(genome).reverse_complement()\n",
    "print(rc_genome)"
   ]
  },
  {
   "cell_type": "code",
   "execution_count": 23,
   "metadata": {},
   "outputs": [
    {
     "name": "stdout",
     "output_type": "stream",
     "text": [
      "NP_001273979.1\n",
      "GCTGCTGGTGGTCAGGCCTTCCATCGGAATCGGGCCTTTCTGATATTCGCGGCGCGGTTTAAAGCTTTCGCGCGGCAGATAGCTATGATAAAACGGATAGTTTTCGGTATATTCGCTCAGCAGGCACGGTTTTTCGGTTTTATCATAAATTTTGGTCGGCAGATGCGGGCAATGATGGCGGCCGCAGCTGCACAGTTCGCAAATGCATTTGGTTTTCAT\n",
      "NP_001017978.1\n",
      "GGTGCTTTTGCGATGCGGGCTCGCGCCGCGAAAGCCTTTGCTCAGCAGGGTATGTTCCAGTTCCACCAGTTTGTTTTCCACCATGCTCAGGTTCACCAGAATGCGTTTCTGGCGCGCAATGCTATGCGGAAAGTTGTTCAGAATATCGCGGCTCAGATCATACACCGCCAGGTTGTTATCGGTGTTGCTGTTAATCAGGCCGCTGCTGCTCGGGCGCACCAGCGCCAGCGCGGTGCTGTTGCTGCTCATTTCGCCGGTGTTGCGCTGAAAGCGGCGATATTTCCAAAACACAATCAGCGCGCACAGAATGCTGCTCGCCAGCAGCAGATAAAAGTTCAT\n",
      "sp|Q5H943.1|KKLC1_HUMAN\n",
      "GGTGCTTTTGCGATGCGGGCTCGCGCCGCGAAAGCCTTTGCTCAGCAGGGTATGTTCCAGTTCCACCAGTTTGTTTTCCACCATGCTCAGGTTCACCAGAATGCGTTTCTGGCGCGCAATGCTATGCGGAAAGTTGTTCAGAATATCGCGGCTCAGATCATACACCGCCAGGTTGTTATCGGTGTTGCTGTTAATCAGGCCGCTGCTGCTCGGGCGCACCAGCGCCAGCGCGGTGCTGTTGCTGCTCATTTCGCCGGTGTTGCGCTGAAAGCGGCGATATTTCCAAAACACAATCAGCGCGCACAGAATGCTGCTCGCCAGCAGCAGATAAAAGTTCAT\n",
      "AAC35497.1\n",
      "CACTTCATACAGAATCACCGGAAAATCCACATGAATGCGCGGATGATCCAGTTTCACAATGCCCTGCGGAATCAGGTTTTTATGCACGCGGCGCAGTTTCGCGCGTTTCTGGCCGTTTTTGGTCACAATGGTTTCTTCATAAAATTCATGCGCCAGATCGCCATCTTCATCATAAAACATGCTGCCGCGGCGGGTAAACACAAACGGCGGCACCGCGCGGCCGCGCGGGCGCACCAGCGCCTGTTCCGCGCCCGCCGCTTCGCTGCCGCCGCCGCCCGCCGCGCTCGCAAACGGCCACAGGCCGCGCGCTTTGCTGCCGCTCGCGCCCAT\n",
      "XP_002699503.1\n",
      "CACTTCGGTCGGTTTATCGGTGCTTTTGCGGTTCACCAGCGCGCCGTTCAGGCCTTTGGTCACCAGAAACTGTTCCAGTTCCGCCAGTTTATAATCCACAATGCGCAGGTTCACCAGAATGCGGCGCTGCATCGCAATGCTATGCGGAAAGTTAATCAGAATATCGCGGCTCAGGCTGTTCACCAGCAGGCTTTTATCAATGTTGCTTTTGGTGCTCTGGGTGCTGCTGCTGCTGCGCACCAGCGCCAGGCTGGTGCTGTTGCTGCTCATTTCGCCGGTGTTGCGCTGAAACCAGGTTTTCCAAAACACAAACATAAACGCAAACAGAATGCTGCTCACCAGCAGAAACAGAAAGCTCAT\n",
      "sp|Q4R717.1|KKLC1_MACFA\n",
      "GGTGCTTTTGCGATGCGCGCTCGCGCTGCGAAAGCCTTTGCTCACCAGAATATGTTCCAGTTCCACCAGTTTGTTTTCCACGGTGGTCAGGTTCACCAGAATGCGTTTCTGCATCGCAATGCTATGCGGAAAGTTGTTCAGAATATCGCGGCTCAGATCATACACGCTCAGGTTGTTATCGGTGTTGCTGTTAATCAGGCCGGTGCTGCTCGGGCGCACCAGCGCCAGCGCGGTGCTGTTGCTGCTCATTTCGCCGGTGTTGCGCTGAAAGCGGCGATATTTCCAAAACACGGTCATCAGCGCGCACAGAATGCCGCTCGCCAGCAGCAGATACACGTTCAT\n",
      "AAN12271.1\n",
      "GCAGCGGCCCCAGCTCACGGTCGCGGTCGGCCAGCCGCCTTCGCCGCGATAGCCATGCGCCACGCTCAGGCCATGATCAAAAATGCGCACATGGCGAAACAGATGCAGCAGCACGCGATGCAGCGCGCTGCTCAGGCGCTGCAGAAACACCACATACAGCAGCACGTTGCGGCTCATATCCAGCAGAAATTTCACCAGCAGCACAATGCCGCCCGGCATCGCATCATGCGGCGGCACTTCGGTGGTAATATGGCACATAAAGCCAAACACTTCATCCACTTCCACCTGCGCCAGATGGCCGTTTTTCTGTTCAAAGCGGGTCAGCAGCAT\n",
      "NP_001270680.1\n",
      "GGTGCTTTTGCGATGCGCGCTCGCGCTGCGAAAGCCTTTGCTCACCAGAATATGTTCCAGTTCCACCAGTTTGTTTTCCACGGTGGTCAGGTTCACCAGAATGCGTTTCTGCATCGCAATGCTATGCGGAAAGTTGTTCAGAATATCGCGGCTCAGATCATACACGCTCAGGTTGTTATCGGTGTTGCTGTTAATCAGGCCGGTGCTGCTCGGGCGCACCAGCGCCAGCGCGGTGCTGTTGCTGCTCATTTCGCCGGTGTTGCGCTGAAAGCGGCGATATTTCCAAAACACGGTCATCAGCGCGCACAGAATGCCGCTCGCCAGCAGCAGATACACGTTCAT\n",
      "Sp|P63244.3|Rack1_Human\n",
      "GCGGGTGCCAATGGTCACCTGCCACACGCGCACCAGGTTATCGGTATAGCCCGCAAACAGGGTCTGGCCATCCGCGCTCCACGCCAGGCTGGTGCACTGCGGCGGTTCTTTGCTGCTGGTGCTAATCACTTCCTGTTTCAGTTCATCCACAATAATTTTGCCTTCCAGATCCCAAATTTTAATGCTCGGGCCGGTCGCCGCGCACAGCCAATAGCGGTTCGGGCTAAAGCACAGCGCGTTAATAATATCGCCGCCATCCAGGGTATACAGATGTTTGCCTTCGTTCAGATCCCACAGCATCGCCTGGCCATCTTTGCCGCCGCTCGCGCACAGGCTGCCATCCGGGCTCACGGTCACGGTGTTCAGATAGCCGGTATGGCCAATATGGTTGGTTTTCAGTTTGCAGTTCGCCAGGTTCCACACTTTCACCAGTTTATCCCAGCCGCAGCTCACAATAATCGGGTTGCTGCTGTTCGGGCTAAAGCGCACGCAGCTCACCCATTCGCTATGGCTTTCATCCTGCACGGTATATTTGCACACGCCCAGGGTGTTCCACAGTTTAATGGTTTTATCGCGGCTGCCGCTCACAATCTGGCGGTTATCGCTGCTAAACGCCACGCTCAGCACATCTTTGGTATGGCCCACAAAGCGGCGGGTGGTGGTGCCGGTGGTCAGATCCCACAGGCGCAGGGTGCCATCCCAGCTGCCGCTCAGCGCAAACTGGCCATCGCTGCTAATCACCACATCGCTCACAAAATGGCTATGGCCGCGCAGCGCGCGCTGCGGAATGCCATAGTTGGTTTCATCGCGGGTCAGTTTCCACATAATAATGGTTTTATCGCGGCTCGCGCTCAGAATCATATCCGGAAACTGCGGGGTGGTCGCAATCTGGGTCACCCAGCCGTTATGGCCTTTCAGGGTGCCGCGCAGGGTCATCTGTTCGGTCAT\n",
      "XP_027389897.1\n",
      "CACTTCGGTCGGTTTATCGGTGCTTTTGCGGTTCACCAGCGCGCCGTTCAGGCCTTTGGTCACCAGAAACTGTTCCAGTTCCGCCAGTTTATAATCCACAATGCGCAGGTTCACCAGAATGCGGCGCTGCATCGCAATGCTATGCGGAAAGTTAATCAGAATATCGCGGCTCAGGCTGTTCACCAGCAGGCTTTTATCAATGTTGCTTTTGGTGCTCTGGGTGCTGCTGCTGCTGCGCACCAGCGCCAGGCTGGTGCTGTTGCTGCTCATTTCGCCGGTGTTGCGCTGAAACCAGGTTTTCCAAAACACAAACATAAACGCAAACAGAATGCTGCTCACCAGCAGAAACAGAAAGCTCAT\n",
      "XP_007647427.1\n",
      "CTGGTTGCTGCCGCTATCGCTTTCCATCGGAATGCGCACGGTCGCGCGGCGGCGATGTTTGGTATGGCCCTGCGGGTTTTTGCTGCTCAGAAACTGTTCCAGTTTGGTCAGCTGGCATTCCATAATGTTCAGGTTCACCAGAATGCGTTTATGCAGCGCCAGGGTGCGCGGAAAGTTGTTCATCATATCCTGGTTATAGCTGTTGCCCGGAAAGCTCAGGCCGGTGTTGCGATAGCTCCAAAAGCTGTTCGCGCGCAGCAGGGTCGGGCTGGTCGGGTTGCTCGGGCGTTCATGATCCGGAATCTGAAACACCACTTTAAAAATGCTAAAAATGCTCGCAAAAATAATGCTGCCCACCAGAATAAACAGAATGTTCAT\n",
      "XP_014918346.1\n",
      "ATGGTTGCCTTCGCTTTCGTTGCATTCGCGCAGGCGATCGGTGCTTTTGCAGTTCGCCAGGGTGCCGTTCAGGCCTTTAATAATCAGAAAATATTCCAGTTCCGCCAGTTTATATTCCACAATGCGCAGGTTAATCAGAATGCGTTTCTGCATCGCAATGGTATGCGGGCTGTTAATCAGAATGCCGCGGCTAATGCTATCCACGCTCAGGTTTTTATCGGTGTTGCTTTTGGTGCTGCCGGTGCTGCTGGTCGCGCGCACCAGCGCCAGGCTGGTGCTGTTGCTGCTCATTTCGCCCACGCTGCTCTGAAAGCGGCTTTTCCACACCACCAGCAGCAGGGTAAACACAATAAAGCTCAGCAGCAGCAGCAGCATGCTCAT\n",
      "XP_0026997503.1\n",
      "CACTTCGGTCGGTTTATCGGTGCTTTTGCGGTTCACCAGCGCGCCGTTCAGGCCTTTGGTCACCAGAAACTGTTCCAGTTCCGCCAGTTTATAATCCACAATGCGCAGGTTCACCAGAATGCGGCGCTGCATCGCAATGCTATGCGGAAAGTTAATCAGAATATCGCGGCTCAGGCTGTTCACCAGCAGGCTTTTATCAATGTTGCTTTTGGTGCTCTGGGTGCTGCTGCTGCTGCGCACCAGCGCCAGGCTGGTGCTGTTGCTGCTCATTTCGCCGGTGTTGCGCTGAAACCAGGTTTTCCAAAACACAAACATAAACGCAAACAGAATGCTGCTCACCAGCAGAAACAGAAAGCTCAT\n",
      "XP_002699603.1\n",
      "TTTCACGCGCTGATGCCAAAAGTTAAAGTTAAATTTGCTCAGGCTCAGTTTATGGCCCACCACCACCACGCACGCGCGATAATGGCTGCTGGTGCTGTTGCTGCTCATTTCGCCGGTGTTGCGCTGAAACCAGGTTTTCCAAAACACAAACATAAACGCAAACAGAATGCTGCTCACCAGCAGAAACAGAAAGCTCAT\n",
      "XP_004699503.1\n",
      "GCTTTTGCGGTTCACCAGCGCGCCGTTCACTTCGGTCGGTTTATCGCTGTTGCTGCTCATTTCGCCGGTGTTGCGCTGAAACCAGGTTTTCCAAAACACAAACATAAACGCAAACAGAATGCTGCTCACCAGCAGAAACAGAAAGCTCAT\n"
     ]
    }
   ],
   "source": [
    "from Bio import SeqIO\n",
    "for record in SeqIO.parse(\"DNA.fasta\", \"fasta\"):\n",
    "   print(record.id)\n",
    "   print(record.seq.reverse_complement())"
   ]
  },
  {
   "cell_type": "code",
   "execution_count": 24,
   "metadata": {},
   "outputs": [
    {
     "data": {
      "text/plain": [
       "15"
      ]
     },
     "execution_count": 24,
     "metadata": {},
     "output_type": "execute_result"
    }
   ],
   "source": [
    "from Bio import SeqIO\n",
    "records = [rec.reverse_complement(id=\"rc_\"+rec.id, description = \"reverse complement\") \n",
    " for rec in SeqIO.parse(\"DNA.fasta\", \"fasta\")]\n",
    "len(records)"
   ]
  },
  {
   "cell_type": "code",
   "execution_count": 1,
   "metadata": {},
   "outputs": [
    {
     "name": "stdout",
     "output_type": "stream",
     "text": [
      ">NP_001273979.1 stabilizer of axonemal microtubules 1 isoform c [Homo sapiens]\n",
      "ATGAAAACCAAATGCATTTGCGAACTGTGCAGCTGCGGCCGCCATCATTGCCCGCATCTG\n",
      "CCGACCAAAATTTATGATAAAACCGAAAAACCGTGCCTGCTGAGCGAATATACCGAAAAC\n",
      "TATCCGTTTTATCATAGCTATCTGCCGCGCGAAAGCTTTAAACCGCGCCGCGAATATCAG\n",
      "AAAGGCCCGATTCCGATGGAAGGCCTGACCACCAGCAGC\n",
      ">NP_001017978.1 kita-kyushu lung cancer antigen 1 [Homo sapiens]\n",
      "ATGAACTTTTATCTGCTGCTGGCGAGCAGCATTCTGTGCGCGCTGATTGTGTTTTGGAAA\n",
      "TATCGCCGCTTTCAGCGCAACACCGGCGAAATGAGCAGCAACAGCACCGCGCTGGCGCTG\n",
      "GTGCGCCCGAGCAGCAGCGGCCTGATTAACAGCAACACCGATAACAACCTGGCGGTGTAT\n",
      "GATCTGAGCCGCGATATTCTGAACAACTTTCCGCATAGCATTGCGCGCCAGAAACGCATT\n",
      "CTGGTGAACCTGAGCATGGTGGAAAACAAACTGGTGGAACTGGAACATACCCTGCTGAGC\n",
      "AAAGGCTTTCGCGGCGCGAGCCCGCATCGCAAAAGCACC\n",
      ">sp|Q5H943.1|KKLC1_HUMAN RecName: Full=Kita-kyushu lung cancer antigen 1; Short=KK-LC-1; AltName: Full=Cancer/testis antigen 83\n",
      "ATGAACTTTTATCTGCTGCTGGCGAGCAGCATTCTGTGCGCGCTGATTGTGTTTTGGAAA\n",
      "TATCGCCGCTTTCAGCGCAACACCGGCGAAATGAGCAGCAACAGCACCGCGCTGGCGCTG\n",
      "GTGCGCCCGAGCAGCAGCGGCCTGATTAACAGCAACACCGATAACAACCTGGCGGTGTAT\n",
      "GATCTGAGCCGCGATATTCTGAACAACTTTCCGCATAGCATTGCGCGCCAGAAACGCATT\n",
      "CTGGTGAACCTGAGCATGGTGGAAAACAAACTGGTGGAACTGGAACATACCCTGCTGAGC\n",
      "AAAGGCTTTCGCGGCGCGAGCCCGCATCGCAAAAGCACC\n",
      ">AAC35497.1 lung cancer candidate FUS1 [Homo sapiens]\n",
      "ATGGGCGCGAGCGGCAGCAAAGCGCGCGGCCTGTGGCCGTTTGCGAGCGCGGCGGGCGGC\n",
      "GGCGGCAGCGAAGCGGCGGGCGCGGAACAGGCGCTGGTGCGCCCGCGCGGCCGCGCGGTG\n",
      "CCGCCGTTTGTGTTTACCCGCCGCGGCAGCATGTTTTATGATGAAGATGGCGATCTGGCG\n",
      "CATGAATTTTATGAAGAAACCATTGTGACCAAAAACGGCCAGAAACGCGCGAAACTGCGC\n",
      "CGCGTGCATAAAAACCTGATTCCGCAGGGCATTGTGAAACTGGATCATCCGCGCATTCAT\n",
      "GTGGATTTTCCGGTGATTCTGTATGAAGTG\n",
      ">XP_002699503.1 kita-kyushu lung cancer antigen 1 [Bos taurus]\n",
      "ATGAGCTTTCTGTTTCTGCTGGTGAGCAGCATTCTGTTTGCGTTTATGTTTGTGTTTTGG\n",
      "AAAACCTGGTTTCAGCGCAACACCGGCGAAATGAGCAGCAACAGCACCAGCCTGGCGCTG\n",
      "GTGCGCAGCAGCAGCAGCACCCAGAGCACCAAAAGCAACATTGATAAAAGCCTGCTGGTG\n",
      "AACAGCCTGAGCCGCGATATTCTGATTAACTTTCCGCATAGCATTGCGATGCAGCGCCGC\n",
      "ATTCTGGTGAACCTGCGCATTGTGGATTATAAACTGGCGGAACTGGAACAGTTTCTGGTG\n",
      "ACCAAAGGCCTGAACGGCGCGCTGGTGAACCGCAAAAGCACCGATAAACCGACCGAAGTG\n",
      ">sp|Q4R717.1|KKLC1_MACFA RecName: Full=Kita-kyushu lung cancer antigen 1 homolog\n",
      "ATGAACGTGTATCTGCTGCTGGCGAGCGGCATTCTGTGCGCGCTGATGACCGTGTTTTGG\n",
      "AAATATCGCCGCTTTCAGCGCAACACCGGCGAAATGAGCAGCAACAGCACCGCGCTGGCG\n",
      "CTGGTGCGCCCGAGCAGCACCGGCCTGATTAACAGCAACACCGATAACAACCTGAGCGTG\n",
      "TATGATCTGAGCCGCGATATTCTGAACAACTTTCCGCATAGCATTGCGATGCAGAAACGC\n",
      "ATTCTGGTGAACCTGACCACCGTGGAAAACAAACTGGTGGAACTGGAACATATTCTGGTG\n",
      "AGCAAAGGCTTTCGCAGCGCGAGCGCGCATCGCAAAAGCACC\n",
      ">AAN12271.1 lung cancer oncogene 5 [Homo sapiens]\n",
      "ATGCTGCTGACCCGCTTTGAACAGAAAAACGGCCATCTGGCGCAGGTGGAAGTGGATGAA\n",
      "GTGTTTGGCTTTATGTGCCATATTACCACCGAAGTGCCGCCGCATGATGCGATGCCGGGC\n",
      "GGCATTGTGCTGCTGGTGAAATTTCTGCTGGATATGAGCCGCAACGTGCTGCTGTATGTG\n",
      "GTGTTTCTGCAGCGCCTGAGCAGCGCGCTGCATCGCGTGCTGCTGCATCTGTTTCGCCAT\n",
      "GTGCGCATTTTTGATCATGGCCTGAGCGTGGCGCATGGCTATCGCGGCGAAGGCGGCTGG\n",
      "CCGACCGCGACCGTGAGCTGGGGCCGCTGC\n",
      ">NP_001270680.1 kita-kyushu lung cancer antigen 1 homolog [Macaca fascicularis]\n",
      "ATGAACGTGTATCTGCTGCTGGCGAGCGGCATTCTGTGCGCGCTGATGACCGTGTTTTGG\n",
      "AAATATCGCCGCTTTCAGCGCAACACCGGCGAAATGAGCAGCAACAGCACCGCGCTGGCG\n",
      "CTGGTGCGCCCGAGCAGCACCGGCCTGATTAACAGCAACACCGATAACAACCTGAGCGTG\n",
      "TATGATCTGAGCCGCGATATTCTGAACAACTTTCCGCATAGCATTGCGATGCAGAAACGC\n",
      "ATTCTGGTGAACCTGACCACCGTGGAAAACAAACTGGTGGAACTGGAACATATTCTGGTG\n",
      "AGCAAAGGCTTTCGCAGCGCGAGCGCGCATCGCAAAAGCACC\n",
      ">Sp|P63244.3|Rack1_Human Recname: Full=Receptor Of Activated Protein C Kinase 1; Altname: Full=Cell Proliferation-Inducing Gene 21 Protein; Altname: Full=Guanine Nucleotide-Binding Protein Subunit Beta-2-Like 1; Altname: Full=Guanine Nucleotide-Binding Protein Subunit Beta-Like Protein 12.3; Altname: Full=Human Lung Cancer Oncogene 7 Protein; Short=Hlc-7; Altname: Full=Receptor For Activated C Kinase; Altname: Full=Small Ribosomal Subunit Protein Rack1; Contains: Recname: Full=Receptor Of Activated Protein C Kinase 1, N-Terminally Processed; Altname: Full=Guanine Nucleotide-Binding Protein Subunit Beta-2-Like 1, N-Terminally Processed\n",
      "ATGACCGAACAGATGACCCTGCGCGGCACCCTGAAAGGCCATAACGGCTGGGTGACCCAG\n",
      "ATTGCGACCACCCCGCAGTTTCCGGATATGATTCTGAGCGCGAGCCGCGATAAAACCATT\n",
      "ATTATGTGGAAACTGACCCGCGATGAAACCAACTATGGCATTCCGCAGCGCGCGCTGCGC\n",
      "GGCCATAGCCATTTTGTGAGCGATGTGGTGATTAGCAGCGATGGCCAGTTTGCGCTGAGC\n",
      "GGCAGCTGGGATGGCACCCTGCGCCTGTGGGATCTGACCACCGGCACCACCACCCGCCGC\n",
      "TTTGTGGGCCATACCAAAGATGTGCTGAGCGTGGCGTTTAGCAGCGATAACCGCCAGATT\n",
      "GTGAGCGGCAGCCGCGATAAAACCATTAAACTGTGGAACACCCTGGGCGTGTGCAAATAT\n",
      "ACCGTGCAGGATGAAAGCCATAGCGAATGGGTGAGCTGCGTGCGCTTTAGCCCGAACAGC\n",
      "AGCAACCCGATTATTGTGAGCTGCGGCTGGGATAAACTGGTGAAAGTGTGGAACCTGGCG\n",
      "AACTGCAAACTGAAAACCAACCATATTGGCCATACCGGCTATCTGAACACCGTGACCGTG\n",
      "AGCCCGGATGGCAGCCTGTGCGCGAGCGGCGGCAAAGATGGCCAGGCGATGCTGTGGGAT\n",
      "CTGAACGAAGGCAAACATCTGTATACCCTGGATGGCGGCGATATTATTAACGCGCTGTGC\n",
      "TTTAGCCCGAACCGCTATTGGCTGTGCGCGGCGACCGGCCCGAGCATTAAAATTTGGGAT\n",
      "CTGGAAGGCAAAATTATTGTGGATGAACTGAAACAGGAAGTGATTAGCACCAGCAGCAAA\n",
      "GAACCGCCGCAGTGCACCAGCCTGGCGTGGAGCGCGGATGGCCAGACCCTGTTTGCGGGC\n",
      "TATACCGATAACCTGGTGCGCGTGTGGCAGGTGACCATTGGCACCCGC\n",
      ">XP_027389897.1 kita-kyushu lung cancer antigen 1 [Bos indicus x Bos taurus]\n",
      "ATGAGCTTTCTGTTTCTGCTGGTGAGCAGCATTCTGTTTGCGTTTATGTTTGTGTTTTGG\n",
      "AAAACCTGGTTTCAGCGCAACACCGGCGAAATGAGCAGCAACAGCACCAGCCTGGCGCTG\n",
      "GTGCGCAGCAGCAGCAGCACCCAGAGCACCAAAAGCAACATTGATAAAAGCCTGCTGGTG\n",
      "AACAGCCTGAGCCGCGATATTCTGATTAACTTTCCGCATAGCATTGCGATGCAGCGCCGC\n",
      "ATTCTGGTGAACCTGCGCATTGTGGATTATAAACTGGCGGAACTGGAACAGTTTCTGGTG\n",
      "ACCAAAGGCCTGAACGGCGCGCTGGTGAACCGCAAAAGCACCGATAAACCGACCGAAGTG\n",
      ">XP_007647427.1 kita-kyushu lung cancer antigen 1 [Cricetulus griseus]\n",
      "ATGAACATTCTGTTTATTCTGGTGGGCAGCATTATTTTTGCGAGCATTTTTAGCATTTTT\n",
      "AAAGTGGTGTTTCAGATTCCGGATCATGAACGCCCGAGCAACCCGACCAGCCCGACCCTG\n",
      "CTGCGCGCGAACAGCTTTTGGAGCTATCGCAACACCGGCCTGAGCTTTCCGGGCAACAGC\n",
      "TATAACCAGGATATGATGAACAACTTTCCGCGCACCCTGGCGCTGCATAAACGCATTCTG\n",
      "GTGAACCTGAACATTATGGAATGCCAGCTGACCAAACTGGAACAGTTTCTGAGCAGCAAA\n",
      "AACCCGCAGGGCCATACCAAACATCGCCGCCGCGCGACCGTGCGCATTCCGATGGAAAGC\n",
      "GATAGCGGCAGCAACCAG\n",
      ">XP_014918346.1 kita-kyushu lung cancer antigen 1 [Acinonyx jubatus]\n",
      "ATGAGCATGCTGCTGCTGCTGCTGAGCTTTATTGTGTTTACCCTGCTGCTGGTGGTGTGG\n",
      "AAAAGCCGCTTTCAGAGCAGCGTGGGCGAAATGAGCAGCAACAGCACCAGCCTGGCGCTG\n",
      "GTGCGCGCGACCAGCAGCACCGGCAGCACCAAAAGCAACACCGATAAAAACCTGAGCGTG\n",
      "GATAGCATTAGCCGCGGCATTCTGATTAACAGCCCGCATACCATTGCGATGCAGAAACGC\n",
      "ATTCTGATTAACCTGCGCATTGTGGAATATAAACTGGCGGAACTGGAATATTTTCTGATT\n",
      "ATTAAAGGCCTGAACGGCACCCTGGCGAACTGCAAAAGCACCGATCGCCTGCGCGAATGC\n",
      "AACGAAAGCGAAGGCAACCAT\n",
      ">XP_0026997503.1 kita-kyushu lung cancer antigen 1 [Bos taurus]\n",
      "ATGAGCTTTCTGTTTCTGCTGGTGAGCAGCATTCTGTTTGCGTTTATGTTTGTGTTTTGG\n",
      "AAAACCTGGTTTCAGCGCAACACCGGCGAAATGAGCAGCAACAGCACCAGCCTGGCGCTG\n",
      "GTGCGCAGCAGCAGCAGCACCCAGAGCACCAAAAGCAACATTGATAAAAGCCTGCTGGTG\n",
      "AACAGCCTGAGCCGCGATATTCTGATTAACTTTCCGCATAGCATTGCGATGCAGCGCCGC\n",
      "ATTCTGGTGAACCTGCGCATTGTGGATTATAAACTGGCGGAACTGGAACAGTTTCTGGTG\n",
      "ACCAAAGGCCTGAACGGCGCGCTGGTGAACCGCAAAAGCACCGATAAACCGACCGAAGTG\n",
      ">XP_002699603.1 kita-kyushu lung cancer antigen 1 [Bos taurus]\n",
      "ATGAGCTTTCTGTTTCTGCTGGTGAGCAGCATTCTGTTTGCGTTTATGTTTGTGTTTTGG\n",
      "AAAACCTGGTTTCAGCGCAACACCGGCGAAATGAGCAGCAACAGCACCAGCAGCCATTAT\n",
      "CGCGCGTGCGTGGTGGTGGTGGGCCATAAACTGAGCCTGAGCAAATTTAACTTTAACTTT\n",
      "TGGCATCAGCGCGTGAAA\n",
      ">XP_004699503.1 kita-kyushu lung cancer antigen 1 [Bos taurus]\n",
      "ATGAGCTTTCTGTTTCTGCTGGTGAGCAGCATTCTGTTTGCGTTTATGTTTGTGTTTTGG\n",
      "AAAACCTGGTTTCAGCGCAACACCGGCGAAATGAGCAGCAACAGCGATAAACCGACCGAA\n",
      "GTGAACGGCGCGCTGGTGAACCGCAAAAGC\n",
      "\n"
     ]
    }
   ],
   "source": [
    "from Bio import SeqIO\n",
    "from io import StringIO\n",
    "records = SeqIO.parse(\"DNA.fasta\", \"fasta\")\n",
    "out_handle = StringIO()\n",
    "SeqIO.write(records, out_handle, \"fasta\")\n",
    "fasta_data = out_handle.getvalue()\n",
    "print(fasta_data)\n",
    "\n",
    "def reverseComplement(s):\n",
    "    complement = {'A': 'T', 'C': 'G', 'G': 'C', 'T': 'A'}\n",
    "    t = ''\n",
    "    for base in s:\n",
    "        t = complement[base] + t\n",
    "    return t\n",
    "\n",
    "def match(s1, s2):\n",
    "    if not len(s1) == len(s2):\n",
    "        return False\n",
    "    for i in range(0, len(s1)):\n",
    "        if not s1[i] == s2[i]:\n",
    "            return False\n",
    "    return True"
   ]
  },
  {
   "cell_type": "markdown",
   "metadata": {},
   "source": [
    "# NAIVE-MATCHING"
   ]
  },
  {
   "cell_type": "code",
   "execution_count": 2,
   "metadata": {},
   "outputs": [],
   "source": [
    "def readFastq(filename):\n",
    "    sequences = []\n",
    "    qualities = []\n",
    "    with open(filename) as fh:\n",
    "        while True:\n",
    "            fh.readline() # skip name line\n",
    "            seq = fh.readline().rstrip() # read base sequence\n",
    "            fh.readline() # skip placeholder line\n",
    "            qual = fh.readline().rstrip() #base quality line\n",
    "            if len(seq) == 0:\n",
    "                break\n",
    "            sequences.append(seq)\n",
    "            qualities.append(qual)\n",
    "    return sequences, qualities"
   ]
  },
  {
   "cell_type": "code",
   "execution_count": 3,
   "metadata": {},
   "outputs": [],
   "source": [
    "def readGenome(filename):\n",
    "    genome = ''\n",
    "    with open(filename, 'r') as f:\n",
    "        for line in f:\n",
    "            # ignore header line with genome information\n",
    "            if not line[0] == '>':\n",
    "                genome += line.rstrip()\n",
    "    return genome"
   ]
  },
  {
   "cell_type": "code",
   "execution_count": 4,
   "metadata": {},
   "outputs": [],
   "source": [
    "def naive(p, t):\n",
    "    occurrences = []\n",
    "    for i in range(len(t) - len(p) + 1):\n",
    "        match = True\n",
    "        for j in range(len(p)):\n",
    "            if t[i+j] != p[j]:\n",
    "                match = False\n",
    "                break\n",
    "        if match:\n",
    "            occurrences.append(i)\n",
    "    return occurrences"
   ]
  },
  {
   "cell_type": "code",
   "execution_count": 4,
   "metadata": {},
   "outputs": [],
   "source": [
    "healthy_gene = readGenome('DNA.fa')"
   ]
  },
  {
   "cell_type": "code",
   "execution_count": 11,
   "metadata": {},
   "outputs": [
    {
     "name": "stdout",
     "output_type": "stream",
     "text": [
      "[377, 855, 903, 945, 1671, 1917, 2216, 2300, 2369, 2605, 2881, 2921, 3031, 3184, 3501, 3600, 3690, 3702, 4453, 4804, 4963, 5056]\n",
      "22\n"
     ]
    }
   ],
   "source": [
    "print(naive('AGGT', healthy_gene))\n",
    "print(len(naive('AGGT', healthy_gene)))"
   ]
  },
  {
   "cell_type": "code",
   "execution_count": 12,
   "metadata": {},
   "outputs": [
    {
     "name": "stdout",
     "output_type": "stream",
     "text": [
      "ACCT\n",
      "14\n"
     ]
    }
   ],
   "source": [
    "reverse_complement_AGGT = reverseComplement('AGGT')\n",
    "print(reverse_complement_AGGT)\n",
    "print(len(naive(reverse_complement_AGGT,healthy_gene)))"
   ]
  },
  {
   "cell_type": "code",
   "execution_count": 13,
   "metadata": {},
   "outputs": [
    {
     "name": "stdout",
     "output_type": "stream",
     "text": [
      "[28, 104, 244, 327, 441, 473, 711, 732, 960, 1247, 1268, 1292, 1337, 1406, 1454, 1907, 2030, 2219, 2225, 2328, 2388, 2539, 2887, 2914, 3084, 3312, 4047, 4259, 4308, 4413, 4458, 4853, 4974, 5022, 5192]\n",
      "35\n"
     ]
    }
   ],
   "source": [
    "print(naive('TTAA', healthy_gene))\n",
    "print(len(naive('TTAA', healthy_gene)))"
   ]
  },
  {
   "cell_type": "code",
   "execution_count": 14,
   "metadata": {},
   "outputs": [
    {
     "name": "stdout",
     "output_type": "stream",
     "text": [
      "TTAA\n",
      "35\n"
     ]
    }
   ],
   "source": [
    "reverse_complement_TTAA = reverseComplement('TTAA')\n",
    "print(reverse_complement_TTAA)\n",
    "print(len(naive(reverse_complement_TTAA,healthy_gene)))"
   ]
  },
  {
   "cell_type": "code",
   "execution_count": 15,
   "metadata": {},
   "outputs": [
    {
     "name": "stdout",
     "output_type": "stream",
     "text": [
      "[]\n",
      "[3708]\n"
     ]
    }
   ],
   "source": [
    "print(naive('ACTAAGT', healthy_gene))\n",
    "complement = reverseComplement('ACTAAGT')\n",
    "print(naive(complement, healthy_gene))"
   ]
  },
  {
   "cell_type": "code",
   "execution_count": 16,
   "metadata": {},
   "outputs": [
    {
     "name": "stdout",
     "output_type": "stream",
     "text": [
      "[53]\n",
      "[]\n"
     ]
    }
   ],
   "source": [
    "print(naive('AGTCGA', healthy_gene))\n",
    "complement = reverseComplement('AGTCGA')\n",
    "print(naive(complement, healthy_gene))"
   ]
  },
  {
   "cell_type": "code",
   "execution_count": 17,
   "metadata": {},
   "outputs": [],
   "source": [
    "def hamming_distance(s1,s2):\n",
    "    count = 0\n",
    "    for i in range(len(s1)):\n",
    "        if s1[i]!=s2[i]:\n",
    "            count +=1\n",
    "    return count"
   ]
  },
  {
   "cell_type": "code",
   "execution_count": 18,
   "metadata": {},
   "outputs": [
    {
     "name": "stdout",
     "output_type": "stream",
     "text": [
      "[0, 4]\n"
     ]
    }
   ],
   "source": [
    "def naive_2mm(p, t):\n",
    "    occurrences = []\n",
    "    for i in range(len(t) - len(p) + 1):\n",
    "        subset_dna = t[i:i+len(p)]\n",
    "        ham_dist = hamming_distance(subset_dna,p)\n",
    "        if ham_dist <= 2:\n",
    "            occurrences.append(i)\n",
    "    return occurrences\n",
    "print(naive_2mm('ACTTTA', 'ACTTACTTGATAAAGT'))"
   ]
  },
  {
   "cell_type": "code",
   "execution_count": 19,
   "metadata": {},
   "outputs": [
    {
     "name": "stdout",
     "output_type": "stream",
     "text": [
      "32\n"
     ]
    }
   ],
   "source": [
    "print(len(naive_2mm('TTCAAGCC',healthy_gene)))"
   ]
  },
  {
   "cell_type": "code",
   "execution_count": 20,
   "metadata": {},
   "outputs": [
    {
     "name": "stdout",
     "output_type": "stream",
     "text": [
      "[945, 968, 1259, 1448, 1649, 1668, 1742, 1892, 1917, 1994, 2023, 2024, 2297, 2366, 2382, 2443, 2552, 2602, 2605, 2713, 2744, 2878, 2890, 2921, 2998, 3384, 3417, 3450, 3540, 3597, 3699, 3771, 3967, 4143, 4167, 4233, 4368, 4416, 4611, 4917, 5062, 5267]\n"
     ]
    }
   ],
   "source": [
    "print(naive_2mm('AGGAGGTT',healthy_gene))"
   ]
  },
  {
   "cell_type": "markdown",
   "metadata": {},
   "source": [
    "# NAIVE-MATCHING ON FASTA FILE"
   ]
  },
  {
   "cell_type": "code",
   "execution_count": 21,
   "metadata": {},
   "outputs": [
    {
     "name": "stdout",
     "output_type": "stream",
     "text": [
      "[18, 25, 28, 31, 33, 34, 36, 37, 48, 50, 59, 91, 100, 102, 143, 145, 147, 161, 163, 166, 168, 183, 201, 214, 233, 239, 241, 244, 253, 255, 257, 280, 283, 292, 303, 310, 313, 321, 324, 326, 332, 338, 340, 342, 346, 349, 352, 354, 355, 357, 389, 392, 403, 406, 408, 428, 440, 442, 451, 461, 469, 476, 491, 494, 500, 514, 522, 526, 528, 529, 531, 533, 535, 537, 539, 544, 552, 572, 578, 580, 583, 592, 594, 596, 619, 622, 631, 642, 649, 652, 660, 663, 665, 671, 677, 679, 681, 685, 688, 691, 693, 694, 696, 728, 731, 742, 745, 747, 767, 779, 781, 790, 800, 808, 815, 830, 833, 839, 853, 861, 865, 867, 868, 870, 872, 874, 876, 878, 883, 891, 898, 900, 902, 904, 906, 907, 909, 910, 917, 919, 921, 922, 924, 929, 931, 932, 938, 940, 942, 944, 945, 947, 949, 951, 952, 954, 955, 957, 958, 960, 961, 963, 966, 968, 969, 971, 973, 975, 977, 980, 986, 992, 994, 996, 998, 1000, 1002, 1003, 1005, 1006, 1008, 1010, 1013, 1016, 1019, 1033, 1036, 1038, 1039, 1041, 1042, 1065, 1073, 1113, 1120, 1122, 1124, 1132, 1135, 1137, 1139, 1157, 1162, 1164, 1178, 1184, 1186, 1208, 1228, 1247, 1249, 1252, 1265, 1300, 1311, 1318, 1321, 1329, 1340, 1346, 1348, 1351, 1354, 1357, 1360, 1362, 1369, 1371, 1403, 1414, 1417, 1419, 1439, 1451, 1454, 1457, 1459, 1462, 1472, 1480, 1502, 1505, 1511, 1523, 1533, 1542, 1544, 1550, 1555, 1563, 1601, 1607, 1609, 1611, 1612, 1614, 1621, 1623, 1625, 1651, 1654, 1663, 1674, 1681, 1684, 1692, 1695, 1697, 1703, 1709, 1711, 1713, 1717, 1720, 1722, 1728, 1759, 1761, 1774, 1777, 1779, 1799, 1811, 1814, 1822, 1832, 1862, 1865, 1871, 1883, 1885, 1893, 1897, 1900, 1902, 1904, 1906, 1908, 1910, 1915, 1923, 1931, 1937, 1939, 1959, 1967, 1973, 1995, 2002, 2021, 2024, 2027, 2034, 2036, 2039, 2042, 2044, 2046, 2047, 2049, 2054, 2057, 2063, 2083, 2086, 2093, 2096, 2108, 2117, 2119, 2125, 2128, 2130, 2132, 2135, 2140, 2142, 2144, 2147, 2150, 2161, 2168, 2170, 2187, 2191, 2193, 2196, 2198, 2205, 2209, 2211, 2212, 2214, 2220, 2221, 2223, 2227, 2228, 2232, 2234, 2242, 2248, 2249, 2250, 2251, 2254, 2273, 2279, 2281, 2283, 2284, 2286, 2293, 2295, 2297, 2323, 2326, 2335, 2346, 2353, 2356, 2364, 2367, 2369, 2375, 2381, 2383, 2385, 2389, 2392, 2394, 2400, 2431, 2433, 2446, 2449, 2451, 2471, 2483, 2486, 2494, 2504, 2534, 2537, 2543, 2555, 2557, 2565, 2569, 2572, 2574, 2576, 2578, 2580, 2582, 2587, 2595, 2615, 2620, 2622, 2623, 2625, 2637, 2646, 2651, 2654, 2663, 2672, 2695, 2697, 2699, 2701, 2704, 2706, 2735, 2737, 2739, 2757, 2762, 2765, 2767, 2769, 2771, 2774, 2776, 2778, 2779, 2781, 2797, 2799, 2807, 2815, 2817, 2823, 2831, 2836, 2838, 2839, 2841, 2842, 2853, 2860, 2870, 2883, 2893, 2896, 2905, 2906, 2907, 2921, 2926, 2928, 2931, 2933, 2941, 2943, 2950, 2962, 2964, 2965, 2967, 2968, 2971, 2973, 2995, 3004, 3006, 3010, 3023, 3042, 3050, 3052, 3055, 3057, 3059, 3061, 3069, 3079, 3097, 3100, 3102, 3103, 3105, 3119, 3130, 3137, 3168, 3177, 3199, 3201, 3210, 3211, 3217, 3219, 3221, 3223, 3225, 3226, 3228, 3229, 3231, 3240, 3245, 3248, 3257, 3270, 3294, 3295, 3297, 3309, 3311, 3316, 3324, 3331, 3340, 3343, 3345, 3347, 3348, 3350, 3357, 3361, 3377, 3387, 3426, 3433, 3443, 3446, 3451, 3453, 3464, 3469, 3471, 3473, 3480, 3485, 3494, 3496, 3498, 3515, 3517, 3519, 3524, 3526, 3530, 3540, 3544, 3550, 3569, 3571, 3574, 3587, 3622, 3633, 3640, 3643, 3651, 3662, 3668, 3670, 3673, 3676, 3679, 3682, 3684, 3691, 3693, 3725, 3736, 3739, 3741, 3761, 3773, 3776, 3779, 3781, 3784, 3794, 3802, 3824, 3827, 3833, 3845, 3855, 3864, 3866, 3872, 3877, 3885, 3929, 3931, 3933, 3934, 3947, 3949, 3974, 3989, 3997, 3999, 4003, 4017, 4022, 4028, 4030, 4032, 4034, 4048, 4054, 4065, 4069, 4078, 4080, 4115, 4117, 4119, 4127, 4130, 4138, 4148, 4187, 4198, 4201, 4211, 4216, 4217, 4218, 4231, 4234, 4237, 4239, 4241, 4247, 4249, 4266, 4272, 4273, 4275, 4276, 4288, 4295, 4298, 4301, 4304, 4309, 4331, 4337, 4340, 4351, 4360, 4363, 4365, 4369, 4371, 4378, 4381, 4389, 4400, 4406, 4408, 4410, 4412, 4420, 4422, 4428, 4429, 4431, 4459, 4461, 4477, 4479, 4480, 4482, 4497, 4499, 4511, 4514, 4522, 4540, 4562, 4565, 4593, 4602, 4610, 4623, 4630, 4636, 4638, 4653, 4659, 4669, 4688, 4690, 4693, 4706, 4741, 4752, 4759, 4762, 4770, 4781, 4787, 4789, 4792, 4795, 4798, 4801, 4803, 4810, 4812, 4844, 4855, 4858, 4860, 4880, 4892, 4895, 4898, 4900, 4903, 4913, 4921, 4943, 4946, 4952, 4964, 4974, 4983, 4985, 4991, 4996, 5004, 5029, 5048, 5050, 5053, 5066, 5101, 5112, 5119, 5122, 5130, 5137, 5146, 5148, 5150, 5152, 5154, 5159, 5162, 5165, 5167, 5168, 5169, 5179, 5185, 5209, 5215, 5217, 5227, 5246, 5248, 5251, 5264, 5299, 5310, 5317, 5320, 5328, 5352, 5354, 5360, 5365]\n",
      "792\n"
     ]
    }
   ],
   "source": [
    "#function for parsing fasta file\n",
    "def readGenome(filename):\n",
    "    genome = ''\n",
    "    with open(filename, 'r') as f:\n",
    "        for line in f:\n",
    "            # ignore header line with genome information\n",
    "            if not line[0] == '>':\n",
    "                genome += line.rstrip()\n",
    "    return genome\n",
    "genome = readGenome('DNA.fasta')\n",
    "genome[:100]\n",
    "p = 'GGCGC'\n",
    "t = genome\n",
    "print(naive_2mm(p,t))\n",
    "print(len(naive_2mm(p,t)))"
   ]
  },
  {
   "cell_type": "code",
   "execution_count": 22,
   "metadata": {},
   "outputs": [
    {
     "name": "stdout",
     "output_type": "stream",
     "text": [
      "Wall time: 0 ns\n"
     ]
    }
   ],
   "source": [
    "%%time\n",
    "p = 'shake spea'\n",
    "t = 'Shakespear'\n",
    "naive_2mm(p,t)"
   ]
  },
  {
   "cell_type": "markdown",
   "metadata": {},
   "source": [
    "# CREATING GENERIC SEQUENCE"
   ]
  },
  {
   "cell_type": "code",
   "execution_count": 6,
   "metadata": {},
   "outputs": [
    {
     "name": "stdout",
     "output_type": "stream",
     "text": [
      "<class 'Bio.Seq.Seq'>\n",
      "['alphabet', 'back_transcribe', 'complement', 'count', 'count_overlap', 'endswith', 'find', 'lower', 'lstrip', 'reverse_complement', 'rfind', 'rsplit', 'rstrip', 'split', 'startswith', 'strip', 'tomutable', 'tostring', 'transcribe', 'translate', 'ungap', 'upper']\n"
     ]
    }
   ],
   "source": [
    "#let's make a generic sequence\n",
    "\n",
    "from Bio.Seq import Seq\n",
    "\n",
    "my_seq = Seq(\"CCCGGAGAGA\")\n",
    "print(type(my_seq))\n",
    "#let's see what attributes this object has\n",
    "attributes = [a for a in dir(my_seq) if not a.startswith(\"_\")]\n",
    "print(attributes)"
   ]
  },
  {
   "cell_type": "code",
   "execution_count": 7,
   "metadata": {},
   "outputs": [
    {
     "name": "stdout",
     "output_type": "stream",
     "text": [
      "Alphabet()\n"
     ]
    }
   ],
   "source": [
    "#right now it has just a generic alphabet\n",
    "print(my_seq.alphabet)"
   ]
  },
  {
   "cell_type": "code",
   "execution_count": 8,
   "metadata": {},
   "outputs": [],
   "source": [
    "from Bio.Alphabet import generic_dna, generic_protein, generic_rna\n",
    "\n",
    "my_dna = Seq(\"CCCGGAGAG\", generic_dna)\n",
    "my_rna = Seq(\"ACCCGUUGU\", generic_rna)\n",
    "my_protein = Seq(\"AKKKGGGUUULL\", generic_protein)"
   ]
  },
  {
   "cell_type": "code",
   "execution_count": 9,
   "metadata": {},
   "outputs": [
    {
     "name": "stdout",
     "output_type": "stream",
     "text": [
      "ACUAGCAGCGGA\n",
      "RNAAlphabet()\n",
      "TSSG\n",
      "ExtendedIUPACProtein()\n"
     ]
    }
   ],
   "source": [
    "my_gene = Seq(\"ACTAGCAGCGGA\", generic_dna)\n",
    "\n",
    "#get the mRNA\n",
    "\n",
    "my_transcript = my_gene.transcribe()\n",
    "print(my_transcript)\n",
    "print(my_transcript.alphabet)\n",
    "\n",
    "\n",
    "#get the protein from the mRNA\n",
    "my_protein = my_transcript.translate()\n",
    "print(my_protein)\n",
    "print(my_protein.alphabet)"
   ]
  },
  {
   "cell_type": "code",
   "execution_count": 10,
   "metadata": {},
   "outputs": [
    {
     "name": "stdout",
     "output_type": "stream",
     "text": [
      "MAIVMGR*KGAR*\n"
     ]
    }
   ],
   "source": [
    "coding_dna = Seq(\"ATGGCCATTGTAATGGGCCGCTGAAAGGGTGCCCGATAG\", generic_dna)\n",
    "myprot = coding_dna.translate()\n",
    "print(myprot)"
   ]
  },
  {
   "cell_type": "code",
   "execution_count": 11,
   "metadata": {},
   "outputs": [
    {
     "data": {
      "text/plain": [
       "Seq('MAIVM', ExtendedIUPACProtein())"
      ]
     },
     "execution_count": 11,
     "metadata": {},
     "output_type": "execute_result"
    }
   ],
   "source": [
    "gene = Seq(\"ATGGCCATTGTAATGTAG\", generic_dna)\n",
    "gene.translate(cds=True)"
   ]
  },
  {
   "cell_type": "code",
   "execution_count": 12,
   "metadata": {},
   "outputs": [
    {
     "data": {
      "text/plain": [
       "Seq('AAACGGAGGAGAT', DNAAlphabet())"
      ]
     },
     "execution_count": 12,
     "metadata": {},
     "output_type": "execute_result"
    }
   ],
   "source": [
    "seq1 = Seq(\"AAACGGA\", generic_dna)\n",
    "seq2 = Seq(\"GGAGAT\", generic_dna)\n",
    "\n",
    "seq1 + seq2"
   ]
  },
  {
   "cell_type": "code",
   "execution_count": 13,
   "metadata": {},
   "outputs": [
    {
     "data": {
      "text/plain": [
       "MutableSeq('AAACGGA', DNAAlphabet())"
      ]
     },
     "execution_count": 13,
     "metadata": {},
     "output_type": "execute_result"
    }
   ],
   "source": [
    "mut_seq = seq1.tomutable()\n",
    "mut_seq"
   ]
  },
  {
   "cell_type": "code",
   "execution_count": 14,
   "metadata": {},
   "outputs": [
    {
     "name": "stdout",
     "output_type": "stream",
     "text": [
      "GAACGGA\n"
     ]
    }
   ],
   "source": [
    "mut_seq[0] = \"G\"\n",
    "print(mut_seq)"
   ]
  },
  {
   "cell_type": "code",
   "execution_count": 15,
   "metadata": {},
   "outputs": [
    {
     "name": "stdout",
     "output_type": "stream",
     "text": [
      "3\n",
      "2\n"
     ]
    }
   ],
   "source": [
    "myseq = Seq(\"CCAGAAACCCGGAA\", generic_dna)\n",
    "\n",
    "#find the first occurence of the pattern\n",
    "print(myseq.find(\"GAA\"))\n",
    "\n",
    "#find the number of non-overlapping occurrences of a pattern\n",
    "print(myseq.count(\"GAA\"))"
   ]
  },
  {
   "cell_type": "code",
   "execution_count": 16,
   "metadata": {},
   "outputs": [],
   "source": [
    "from Bio.Blast import NCBIWWW\n",
    "\n",
    "result_handle = NCBIWWW.qblast(\"blastn\", \"nt\", Seq(\"AAAAGGAGAGAGAGTTTATA\", generic_dna))"
   ]
  },
  {
   "cell_type": "code",
   "execution_count": 17,
   "metadata": {},
   "outputs": [],
   "source": [
    "from Bio.Blast import NCBIXML\n",
    "blast_records = NCBIXML.parse(result_handle)"
   ]
  },
  {
   "cell_type": "code",
   "execution_count": 18,
   "metadata": {},
   "outputs": [
    {
     "name": "stdout",
     "output_type": "stream",
     "text": [
      "****Alignment****\n",
      "sequence: gi|1395234831|gb|CP026251.1| Scophthalmus maximus chromosome 9\n",
      "length: 25242470\n",
      "e value: 3.49484\n",
      "AAAAGGAGAGAGAGTTTATA...\n",
      "||||||||||||||||||||...\n",
      "AAAAGGAGAGAGAGTTTATA...\n"
     ]
    }
   ],
   "source": [
    "for b in blast_records:\n",
    "    for alignment in b.alignments:\n",
    "        for hsp in alignment.hsps:\n",
    "            print('****Alignment****')\n",
    "            print('sequence:', alignment.title)\n",
    "            print('length:', alignment.length)\n",
    "            print('e value:', hsp.expect)\n",
    "            print(hsp.query[0:75] + '...')\n",
    "            print(hsp.match[0:75] + '...')\n",
    "            print(hsp.sbjct[0:75] + '...')"
   ]
  },
  {
   "cell_type": "code",
   "execution_count": 19,
   "metadata": {},
   "outputs": [
    {
     "name": "stdout",
     "output_type": "stream",
     "text": [
      "Length of Sequence A: 21\n",
      "\n",
      "Length of Sequence B: 21\n",
      "\n",
      "TGGAGGCAATGGCGGCCAGCA\n",
      "||||||||| |||||||||  \n",
      "GACTCCTCCTCCTCCTGCTCA\n"
     ]
    }
   ],
   "source": [
    "seq_a = \"TGGAGGCAATGGCGGCCAGCA\"\n",
    "seq_b = \"GACTCCTCCTCCTCCTGCTCA\"    \n",
    "len_a = len(seq_a)    \n",
    "len_b = len(seq_b)    \n",
    "print(\"Length of Sequence A: \" + str(len_a))    \n",
    "print()    \n",
    "print(\"Length of Sequence B: \" + str(len_b))\n",
    "print()\n",
    "\n",
    "def sequence_compare(seq_a, seq_b):\n",
    "        len1 = len(seq_a)\n",
    "        len2 = len(seq_b)\n",
    "        mismatches = []\n",
    "        for pos in range (0, min(len1, len2)) :\n",
    "              if seq_a[pos] != seq_b[pos]:\n",
    "                       mismatches.append('|')\n",
    "              else:\n",
    "                       mismatches.append(' ')\n",
    "        print (seq_a)\n",
    "        print (\"\".join(mismatches))\n",
    "        print (seq_b)\n",
    "sequence_compare(seq_a,seq_b)"
   ]
  },
  {
   "cell_type": "markdown",
   "metadata": {},
   "source": [
    "# HISTOGRAM--VISUALISATION"
   ]
  },
  {
   "cell_type": "code",
   "execution_count": 20,
   "metadata": {},
   "outputs": [
    {
     "data": {
      "text/plain": [
       "'ATGAAAACCAAATGCATTTGCGAACTGTGCAGCTGCGGCCGCCATCATTGCCCGCATCTGCCGACCAAAATTTATGATAAAACCGAAAAACCGTGCCTGCTGAGCGAATATACCGAAAACTATCCGTTTTATCATAGCTATCTGCCGCGCGAAAGCTTTAAACCGCGCCGCGAATATCAGAAAGGCCCGATTCCGATGGAAGGCCTGACCACCAGCAGCATGAACTTTTATCTGCTGCTGGCGAGCAGCATTCTGTGCGCGCTGATTGTGTTTTGGAAATATCGCCGCTTTCAGCGCAACACCGGCGAAATGAGCAGCAACAGCACCGCGCTGGCGCTGGTGCGCCCGAGCAGCAGCGGCCTGATTAACAGCAACACCGATAACAACCTGGCGGTGTATGATCTGAGCCGCGATATTCTGAACAACTTTCCGCATAGCATTGCGCGCCAGAAACGCATTCTGGTGAACCTGAGCATGGTGGAAAACAAACTGGTGGAACTGGAACATACCCTGCTGAGCAAAGGCTTTCGCGGCGCGAGCCCGCATCGCAAAAGCACCATGAACTTTTATCTGCTGCTGGCGAGCAGCATTCTGTGCGCGCTGATTGTGTTTTGGAAATATCGCCGCTTTCAGCGCAACACCGGCGAAATGAGCAGCAACAGCACCGCGCTGGCGCTGGTGCGCCCGAGCAGCAGCGGCCTGATTAACAGCAACACCGATAACAACCTGGCGGTGTATGATCTGAGCCGCGATATTCTGAACAACTTTCCGCATAGCATTGCGCGCCAGAAACGCATTCTGGTGAACCTGAGCATGGTGGAAAACAAACTGGTGGAACTGGAACATACCCTGCTGAGCAAAGGCTTTCGCGGCGCGAGCCCGCATCGCAAAAGCACCATGGGCGCGAGCGGCAGCAAAGCGCGCGGCCTGTGGCCGTTTGCGAGCGCGGCGGGCGGCGGCGGCAGCGAAGCGGCGGGCGCGGAACAGGCGCTGGTGCGCCCGCGCGGCCGCGCGGTGCCGCCGTTTGTGTTTACCCGCCGCGGCAGCATGTTTTATGATGAAGATGGCGATCTGGCGCATGAATTTTATGAAGAAACCATTGTGACCAAAAACGGCCAGAAACGCGCGAAACTGCGCCGCGTGCATAAAAACCTGATTCCGCAGGGCATTGTGAAACTGGATCATCCGCGCATTCATGTGGATTTTCCGGTGATTCTGTATGAAGTGATGAGCTTTCTGTTTCTGCTGGTGAGCAGCATTCTGTTTGCGTTTATGTTTGTGTTTTGGAAAACCTGGTTTCAGCGCAACACCGGCGAAATGAGCAGCAACAGCACCAGCCTGGCGCTGGTGCGCAGCAGCAGCAGCACCCAGAGCACCAAAAGCAACATTGATAAAAGCCTGCTGGTGAACAGCCTGAGCCGCGATATTCTGATTAACTTTCCGCATAGCATTGCGATGCAGCGCCGCATTCTGGTGAACCTGCGCATTGTGGATTATAAACTGGCGGAACTGGAACAGTTTCTGGTGACCAAAGGCCTGAACGGCGCGCTGGTGAACCGCAAAAGCACCGATAAACCGACCGAAGTGATGAACGTGTATCTGCTGCTGGCGAGCGGCATTCTGTGCGCGCTGATGACCGTGTTTTGGAAATATCGCCGCTTTCAGCGCAACACCGGCGAAATGAGCAGCAACAGCACCGCGCTGGCGCTGGTGCGCCCGAGCAGCACCGGCCTGATTAACAGCAACACCGATAACAACCTGAGCGTGTATGATCTGAGCCGCGATATTCTGAACAACTTTCCGCATAGCATTGCGATGCAGAAACGCATTCTGGTGAACCTGACCACCGTGGAAAACAAACTGGTGGAACTGGAACATATTCTGGTGAGCAAAGGCTTTCGCAGCGCGAGCGCGCATCGCAAAAGCACCATGCTGCTGACCCGCTTTGAACAGAAAAACGGCCATCTGGCGCAGGTGGAAGTGGATGAAGTGTTTGGCTTTATGTGCCATATTACCACCGAAGTGCCGCCGCATGATGCGATGCCGGGCGGCATTGTGCTGCTGGTGAAATTTCTGCTGGATATGAGCCGCAACGTGCTGCTGTATGTGGTGTTTCTGCAGCGCCTGAGCAGCGCGCTGCATCGCGTGCTGCTGCATCTGTTTCGCCATGTGCGCATTTTTGATCATGGCCTGAGCGTGGCGCATGGCTATCGCGGCGAAGGCGGCTGGCCGACCGCGACCGTGAGCTGGGGCCGCTGCATGAACGTGTATCTGCTGCTGGCGAGCGGCATTCTGTGCGCGCTGATGACCGTGTTTTGGAAATATCGCCGCTTTCAGCGCAACACCGGCGAAATGAGCAGCAACAGCACCGCGCTGGCGCTGGTGCGCCCGAGCAGCACCGGCCTGATTAACAGCAACACCGATAACAACCTGAGCGTGTATGATCTGAGCCGCGATATTCTGAACAACTTTCCGCATAGCATTGCGATGCAGAAACGCATTCTGGTGAACCTGACCACCGTGGAAAACAAACTGGTGGAACTGGAACATATTCTGGTGAGCAAAGGCTTTCGCAGCGCGAGCGCGCATCGCAAAAGCACCATGACCGAACAGATGACCCTGCGCGGCACCCTGAAAGGCCATAACGGCTGGGTGACCCAGATTGCGACCACCCCGCAGTTTCCGGATATGATTCTGAGCGCGAGCCGCGATAAAACCATTATTATGTGGAAACTGACCCGCGATGAAACCAACTATGGCATTCCGCAGCGCGCGCTGCGCGGCCATAGCCATTTTGTGAGCGATGTGGTGATTAGCAGCGATGGCCAGTTTGCGCTGAGCGGCAGCTGGGATGGCACCCTGCGCCTGTGGGATCTGACCACCGGCACCACCACCCGCCGCTTTGTGGGCCATACCAAAGATGTGCTGAGCGTGGCGTTTAGCAGCGATAACCGCCAGATTGTGAGCGGCAGCCGCGATAAAACCATTAAACTGTGGAACACCCTGGGCGTGTGCAAATATACCGTGCAGGATGAAAGCCATAGCGAATGGGTGAGCTGCGTGCGCTTTAGCCCGAACAGCAGCAACCCGATTATTGTGAGCTGCGGCTGGGATAAACTGGTGAAAGTGTGGAACCTGGCGAACTGCAAACTGAAAACCAACCATATTGGCCATACCGGCTATCTGAACACCGTGACCGTGAGCCCGGATGGCAGCCTGTGCGCGAGCGGCGGCAAAGATGGCCAGGCGATGCTGTGGGATCTGAACGAAGGCAAACATCTGTATACCCTGGATGGCGGCGATATTATTAACGCGCTGTGCTTTAGCCCGAACCGCTATTGGCTGTGCGCGGCGACCGGCCCGAGCATTAAAATTTGGGATCTGGAAGGCAAAATTATTGTGGATGAACTGAAACAGGAAGTGATTAGCACCAGCAGCAAAGAACCGCCGCAGTGCACCAGCCTGGCGTGGAGCGCGGATGGCCAGACCCTGTTTGCGGGCTATACCGATAACCTGGTGCGCGTGTGGCAGGTGACCATTGGCACCCGCATGAGCTTTCTGTTTCTGCTGGTGAGCAGCATTCTGTTTGCGTTTATGTTTGTGTTTTGGAAAACCTGGTTTCAGCGCAACACCGGCGAAATGAGCAGCAACAGCACCAGCCTGGCGCTGGTGCGCAGCAGCAGCAGCACCCAGAGCACCAAAAGCAACATTGATAAAAGCCTGCTGGTGAACAGCCTGAGCCGCGATATTCTGATTAACTTTCCGCATAGCATTGCGATGCAGCGCCGCATTCTGGTGAACCTGCGCATTGTGGATTATAAACTGGCGGAACTGGAACAGTTTCTGGTGACCAAAGGCCTGAACGGCGCGCTGGTGAACCGCAAAAGCACCGATAAACCGACCGAAGTGATGAACATTCTGTTTATTCTGGTGGGCAGCATTATTTTTGCGAGCATTTTTAGCATTTTTAAAGTGGTGTTTCAGATTCCGGATCATGAACGCCCGAGCAACCCGACCAGCCCGACCCTGCTGCGCGCGAACAGCTTTTGGAGCTATCGCAACACCGGCCTGAGCTTTCCGGGCAACAGCTATAACCAGGATATGATGAACAACTTTCCGCGCACCCTGGCGCTGCATAAACGCATTCTGGTGAACCTGAACATTATGGAATGCCAGCTGACCAAACTGGAACAGTTTCTGAGCAGCAAAAACCCGCAGGGCCATACCAAACATCGCCGCCGCGCGACCGTGCGCATTCCGATGGAAAGCGATAGCGGCAGCAACCAGATGAGCATGCTGCTGCTGCTGCTGAGCTTTATTGTGTTTACCCTGCTGCTGGTGGTGTGGAAAAGCCGCTTTCAGAGCAGCGTGGGCGAAATGAGCAGCAACAGCACCAGCCTGGCGCTGGTGCGCGCGACCAGCAGCACCGGCAGCACCAAAAGCAACACCGATAAAAACCTGAGCGTGGATAGCATTAGCCGCGGCATTCTGATTAACAGCCCGCATACCATTGCGATGCAGAAACGCATTCTGATTAACCTGCGCATTGTGGAATATAAACTGGCGGAACTGGAATATTTTCTGATTATTAAAGGCCTGAACGGCACCCTGGCGAACTGCAAAAGCACCGATCGCCTGCGCGAATGCAACGAAAGCGAAGGCAACCATATGAGCTTTCTGTTTCTGCTGGTGAGCAGCATTCTGTTTGCGTTTATGTTTGTGTTTTGGAAAACCTGGTTTCAGCGCAACACCGGCGAAATGAGCAGCAACAGCACCAGCCTGGCGCTGGTGCGCAGCAGCAGCAGCACCCAGAGCACCAAAAGCAACATTGATAAAAGCCTGCTGGTGAACAGCCTGAGCCGCGATATTCTGATTAACTTTCCGCATAGCATTGCGATGCAGCGCCGCATTCTGGTGAACCTGCGCATTGTGGATTATAAACTGGCGGAACTGGAACAGTTTCTGGTGACCAAAGGCCTGAACGGCGCGCTGGTGAACCGCAAAAGCACCGATAAACCGACCGAAGTGATGAGCTTTCTGTTTCTGCTGGTGAGCAGCATTCTGTTTGCGTTTATGTTTGTGTTTTGGAAAACCTGGTTTCAGCGCAACACCGGCGAAATGAGCAGCAACAGCACCAGCAGCCATTATCGCGCGTGCGTGGTGGTGGTGGGCCATAAACTGAGCCTGAGCAAATTTAACTTTAACTTTTGGCATCAGCGCGTGAAAATGAGCTTTCTGTTTCTGCTGGTGAGCAGCATTCTGTTTGCGTTTATGTTTGTGTTTTGGAAAACCTGGTTTCAGCGCAACACCGGCGAAATGAGCAGCAACAGCGATAAACCGACCGAAGTGAACGGCGCGCTGGTGAACCGCAAAAGC'"
      ]
     },
     "execution_count": 20,
     "metadata": {},
     "output_type": "execute_result"
    }
   ],
   "source": [
    "def readGenome(filename):\n",
    "    genome = ''\n",
    "    with open(filename, 'r') as f:\n",
    "        for line in f:\n",
    "            # ignore header line with genome information\n",
    "            if not line[0] == '>':\n",
    "                genome += line.rstrip()\n",
    "    return genome\n",
    "genome = readGenome('DNA.fasta')\n",
    "genome[0:]"
   ]
  },
  {
   "cell_type": "code",
   "execution_count": 21,
   "metadata": {},
   "outputs": [
    {
     "name": "stdout",
     "output_type": "stream",
     "text": [
      "{'A': 1321, 'C': 1411, 'G': 1522, 'T': 1122}\n"
     ]
    }
   ],
   "source": [
    "# Count the number of occurences of each base\n",
    "counts = {'A': 0, 'C': 0, 'G': 0, 'T': 0}\n",
    "for base in genome:\n",
    "    counts[base] += 1\n",
    "print(counts)"
   ]
  },
  {
   "cell_type": "code",
   "execution_count": 22,
   "metadata": {},
   "outputs": [
    {
     "data": {
      "text/plain": [
       "Counter({'A': 1321, 'T': 1122, 'G': 1522, 'C': 1411})"
      ]
     },
     "execution_count": 22,
     "metadata": {},
     "output_type": "execute_result"
    }
   ],
   "source": [
    "import collections\n",
    "collections.Counter(genome)"
   ]
  },
  {
   "cell_type": "code",
   "execution_count": 23,
   "metadata": {},
   "outputs": [],
   "source": [
    "def readFastq(filename):\n",
    "    sequences = []\n",
    "    qualities = []\n",
    "    with open(filename) as fh:\n",
    "        while True:\n",
    "            fh.readline() # skip name line\n",
    "            seq = fh.readline().rstrip() # read base sequence\n",
    "            fh.readline() # skip placeholder line\n",
    "            qual = fh.readline().rstrip() #base quality line\n",
    "            if len(seq) == 0:\n",
    "                break\n",
    "            sequences.append(seq)\n",
    "            qualities.append(qual)\n",
    "    return sequences, qualities\n",
    "seqs, quals = readFastq('DNA.fastq')"
   ]
  },
  {
   "cell_type": "code",
   "execution_count": 24,
   "metadata": {},
   "outputs": [],
   "source": [
    "def phred33ToQ(qual):\n",
    "    return ord(qual) - 33"
   ]
  },
  {
   "cell_type": "code",
   "execution_count": 25,
   "metadata": {},
   "outputs": [
    {
     "name": "stdout",
     "output_type": "stream",
     "text": [
      "[0, 0, 6178, 0, 0, 54, 108, 574, 345, 83, 193, 124, 79, 165, 49, 236, 184, 327, 514, 238, 531, 254, 313, 798, 992, 888, 1396, 1488, 993, 1752, 3387, 4487, 3248, 5476, 8375, 11814, 4243, 7827, 6579, 8179, 9349, 8180, 0, 0, 0, 0, 0, 0, 0, 0]\n"
     ]
    }
   ],
   "source": [
    "def createHist(qualities):\n",
    "    # Create a histogram of quality scores\n",
    "    hist = [0]*50\n",
    "    for qual in qualities:\n",
    "        for phred in qual:\n",
    "            q = phred33ToQ(phred)\n",
    "            hist[q] += 1\n",
    "    return hist\n",
    "h = createHist(quals)\n",
    "print(h)"
   ]
  },
  {
   "cell_type": "code",
   "execution_count": 26,
   "metadata": {},
   "outputs": [
    {
     "data": {
      "image/png": "[encoded data removed]",
      "text/plain": [
       "<Figure size 432x288 with 1 Axes>"
      ]
     },
     "metadata": {
      "needs_background": "light"
     },
     "output_type": "display_data"
    }
   ],
   "source": [
    "# Plot the histogram\n",
    "%matplotlib inline\n",
    "import matplotlib.pyplot as plt\n",
    "plt.plot(range(len(h)), h)\n",
    "plt.show()"
   ]
  },
  {
   "cell_type": "code",
   "execution_count": 27,
   "metadata": {},
   "outputs": [
    {
     "data": {
      "image/png": "[encoded data removed]",
      "text/plain": [
       "<Figure size 432x288 with 1 Axes>"
      ]
     },
     "metadata": {
      "needs_background": "light"
     },
     "output_type": "display_data"
    }
   ],
   "source": [
    "def findGCByPos(reads):\n",
    "    ''' Find the GC ratio at each position in the read '''\n",
    "    # Keep track of the number of G/C bases and the total number of bases at each position\n",
    "    gc = [0] * 100\n",
    "    totals = [0] * 100\n",
    "    for read in reads:\n",
    "        for i in range(len(read)):\n",
    "            if read[i] == 'C' or read[i] == 'G':\n",
    "                gc[i] += 1\n",
    "            totals[i] += 1\n",
    "    # Divide G/C counts by total counts to get the average at each position\n",
    "    for i in range(len(gc)):\n",
    "        if totals[i] > 0:\n",
    "            gc[i] /= float(totals[i])\n",
    "    return gc\n",
    "\n",
    "gc = findGCByPos(seqs)\n",
    "plt.plot(range(len(gc)), gc)\n",
    "plt.show()"
   ]
  },
  {
   "cell_type": "code",
   "execution_count": 28,
   "metadata": {},
   "outputs": [
    {
     "data": {
      "text/plain": [
       "Counter({'T': 21836, 'A': 21132, 'C': 28272, 'G': 28742, 'N': 18})"
      ]
     },
     "execution_count": 28,
     "metadata": {},
     "output_type": "execute_result"
    }
   ],
   "source": [
    "import collections\n",
    "count = collections.Counter()\n",
    "for seq in seqs:\n",
    "    count.update(seq)\n",
    "count"
   ]
  },
  {
   "cell_type": "code",
   "execution_count": 29,
   "metadata": {},
   "outputs": [],
   "source": [
    "def readGenome(filename):\n",
    "    genome = ''\n",
    "    with open(filename, 'r') as f:\n",
    "        for line in f:\n",
    "            # ignore header line with genome information\n",
    "            if not line[0] == '>':\n",
    "                genome += line.rstrip()\n",
    "    return genome"
   ]
  },
  {
   "cell_type": "code",
   "execution_count": 30,
   "metadata": {},
   "outputs": [],
   "source": [
    "genome = readGenome('DNA.fa')"
   ]
  },
  {
   "cell_type": "code",
   "execution_count": 31,
   "metadata": {},
   "outputs": [],
   "source": [
    "def naive(p, t):\n",
    "    occurrences = []\n",
    "    for i in range(len(t) - len(p) + 1):\n",
    "        match = True\n",
    "        for j in range(len(p)):\n",
    "            if t[i+j] != p[j]:\n",
    "                match = False\n",
    "                break\n",
    "        if match:\n",
    "            occurrences.append(i)\n",
    "    return occurrences"
   ]
  },
  {
   "cell_type": "code",
   "execution_count": 32,
   "metadata": {},
   "outputs": [
    {
     "data": {
      "text/plain": [
       "[0, 5, 9]"
      ]
     },
     "execution_count": 32,
     "metadata": {},
     "output_type": "execute_result"
    }
   ],
   "source": [
    "t = 'AGCTTAGATAGC'\n",
    "p = 'AG'\n",
    "naive(p, t)"
   ]
  },
  {
   "cell_type": "code",
   "execution_count": 33,
   "metadata": {},
   "outputs": [],
   "source": [
    "import random\n",
    "def generateReads(genome, numReads, readLen):\n",
    "    ''' Generate reads from random positions in the given genome. '''\n",
    "    reads = []\n",
    "    for _ in range(numReads):\n",
    "        start = random.randint(0, len(genome)-readLen) - 1\n",
    "        reads.append(genome[start : start+readLen])\n",
    "    return reads"
   ]
  },
  {
   "cell_type": "code",
   "execution_count": 34,
   "metadata": {},
   "outputs": [
    {
     "name": "stdout",
     "output_type": "stream",
     "text": [
      "100 / 100 reads matched the genome exactly!\n"
     ]
    }
   ],
   "source": [
    "# Generate 100 reads of length 100\n",
    "reads = generateReads(genome, 100, 100)\n",
    "\n",
    "# Count how many reads match the genome exactly\n",
    "numMatched = 0\n",
    "for r in reads:\n",
    "    matches = naive(r, genome)\n",
    "    if len(matches) > 0:\n",
    "        numMatched += 1\n",
    "print('%d / %d reads matched the genome exactly!' % (numMatched, len(reads)))"
   ]
  },
  {
   "cell_type": "code",
   "execution_count": 35,
   "metadata": {},
   "outputs": [],
   "source": [
    "def readFastq(filename):\n",
    "    sequences = []\n",
    "    with open(filename) as fh:\n",
    "        while True:\n",
    "            fh.readline() # skip name line\n",
    "            seq = fh.readline().rstrip() # read base sequence\n",
    "            fh.readline() # skip placeholder line\n",
    "            fh.readline() # skip base quality line\n",
    "            if len(seq) == 0:\n",
    "                break\n",
    "            sequences.append(seq)\n",
    "    return sequences"
   ]
  },
  {
   "cell_type": "code",
   "execution_count": 36,
   "metadata": {},
   "outputs": [
    {
     "data": {
      "text/plain": [
       "Counter({'T': 30531, 'A': 28426, 'C': 21890, 'G': 19147, 'N': 6})"
      ]
     },
     "execution_count": 36,
     "metadata": {},
     "output_type": "execute_result"
    }
   ],
   "source": [
    "import collections\n",
    "phix_reads = readFastq('AlternateDNA.fastq')\n",
    "count = collections.Counter()\n",
    "for read in phix_reads:\n",
    "    count.update(read)\n",
    "count"
   ]
  },
  {
   "cell_type": "code",
   "execution_count": 37,
   "metadata": {},
   "outputs": [
    {
     "name": "stdout",
     "output_type": "stream",
     "text": [
      "7 / 1000 reads matched the genome exactly!\n"
     ]
    }
   ],
   "source": [
    "numMatched = 0\n",
    "n = 0\n",
    "for r in phix_reads:\n",
    "    matches = naive(r, genome)\n",
    "    n += 1\n",
    "    if len(matches) > 0:\n",
    "        numMatched += 1\n",
    "print('%d / %d reads matched the genome exactly!' % (numMatched, n))"
   ]
  },
  {
   "cell_type": "code",
   "execution_count": 38,
   "metadata": {},
   "outputs": [
    {
     "name": "stdout",
     "output_type": "stream",
     "text": [
      "459 / 1000 reads matched the genome exactly!\n"
     ]
    }
   ],
   "source": [
    "# Now let's try matching just the first 30 bases of each read\n",
    "numMatched = 0\n",
    "n = 0\n",
    "for r in phix_reads:\n",
    "    r = r[:30]  # just taking the first 30 bases\n",
    "    matches = naive(r, genome)\n",
    "    n += 1\n",
    "    if len(matches) > 0:\n",
    "        numMatched += 1\n",
    "print('%d / %d reads matched the genome exactly!' % (numMatched, n))"
   ]
  },
  {
   "cell_type": "code",
   "execution_count": 31,
   "metadata": {},
   "outputs": [],
   "source": [
    "def reverseComplement(s):\n",
    "    complement = {'A': 'T', 'C': 'G', 'G': 'C', 'T': 'A', 'N': 'N'}\n",
    "    t = ''\n",
    "    for base in s:\n",
    "        t = complement[base] + t\n",
    "    return t"
   ]
  },
  {
   "cell_type": "code",
   "execution_count": 32,
   "metadata": {},
   "outputs": [
    {
     "name": "stdout",
     "output_type": "stream",
     "text": [
      "932 / 1000 reads matched the genome exactly!\n"
     ]
    }
   ],
   "source": [
    "numMatched = 0\n",
    "n = 0\n",
    "for r in phix_reads:\n",
    "    r = r[:30]  # just taking the first 30 bases\n",
    "    matches = naive(r, genome)\n",
    "    matches.extend(naive(reverseComplement(r), genome))\n",
    "    n += 1\n",
    "    if len(matches) > 0:\n",
    "        numMatched += 1\n",
    "print('%d / %d reads matched the genome exactly!' % (numMatched, n))"
   ]
  },
  {
   "cell_type": "markdown",
   "metadata": {},
   "source": [
    "# PREPROCESSING--Z ALGO & BOYER-MOORE"
   ]
  },
  {
   "cell_type": "code",
   "execution_count": 33,
   "metadata": {},
   "outputs": [],
   "source": [
    "import string\n",
    "\n",
    "def z_array(s):\n",
    "    \"\"\" Use Z algorithm (Gusfield theorem 1.4.1) to preprocess s \"\"\"\n",
    "    assert len(s) > 1\n",
    "    z = [len(s)] + [0] * (len(s)-1)\n",
    "    # Initial comparison of s[1:] with prefix\n",
    "    for i in range(1, len(s)):\n",
    "        if s[i] == s[i-1]:\n",
    "            z[1] += 1\n",
    "        else:\n",
    "            break\n",
    "    r, l = 0, 0\n",
    "    if z[1] > 0:\n",
    "        r, l = z[1], 1\n",
    "    for k in range(2, len(s)):\n",
    "        assert z[k] == 0\n",
    "        if k > r:\n",
    "            # Case 1\n",
    "            for i in range(k, len(s)):\n",
    "                if s[i] == s[i-k]:\n",
    "                    z[k] += 1\n",
    "                else:\n",
    "                    break\n",
    "            r, l = k + z[k] - 1, k\n",
    "        else:\n",
    "            # Case 2\n",
    "            # Calculate length of beta\n",
    "            nbeta = r - k + 1\n",
    "            zkp = z[k - l]\n",
    "            if nbeta > zkp:\n",
    "                # Case 2a: Zkp wins\n",
    "                z[k] = zkp\n",
    "            else:\n",
    "                # Case 2b: Compare characters just past r\n",
    "                nmatch = 0\n",
    "                for i in range(r+1, len(s)):\n",
    "                    if s[i] == s[i - k]:\n",
    "                        nmatch += 1\n",
    "                    else:\n",
    "                        break\n",
    "                l, r = k, r + nmatch\n",
    "                z[k] = r - k + 1\n",
    "    return z\n",
    "\n",
    "\n",
    "def n_array(s):\n",
    "    \"\"\" Compile the N array (Gusfield theorem 2.2.2) from the Z array \"\"\"\n",
    "    return z_array(s[::-1])[::-1]\n",
    "\n",
    "\n",
    "def big_l_prime_array(p, n):\n",
    "    \"\"\" Compile L' array (Gusfield theorem 2.2.2) using p and N array.\n",
    "        L'[i] = largest index j less than n such that N[j] = |P[i:]| \"\"\"\n",
    "    lp = [0] * len(p)\n",
    "    for j in range(len(p)-1):\n",
    "        i = len(p) - n[j]\n",
    "        if i < len(p):\n",
    "            lp[i] = j + 1\n",
    "    return lp\n",
    "\n",
    "\n",
    "def big_l_array(p, lp):\n",
    "    \"\"\" Compile L array (Gusfield theorem 2.2.2) using p and L' array.\n",
    "        L[i] = largest index j less than n such that N[j] >= |P[i:]| \"\"\"\n",
    "    l = [0] * len(p)\n",
    "    l[1] = lp[1]\n",
    "    for i in range(2, len(p)):\n",
    "        l[i] = max(l[i-1], lp[i])\n",
    "    return l\n",
    "\n",
    "\n",
    "def small_l_prime_array(n):\n",
    "    \"\"\" Compile lp' array (Gusfield theorem 2.2.4) using N array. \"\"\"\n",
    "    small_lp = [0] * len(n)\n",
    "    for i in range(len(n)):\n",
    "        if n[i] == i+1:  # prefix matching a suffix\n",
    "            small_lp[len(n)-i-1] = i+1\n",
    "    for i in range(len(n)-2, -1, -1):  # \"smear\" them out to the left\n",
    "        if small_lp[i] == 0:\n",
    "            small_lp[i] = small_lp[i+1]\n",
    "    return small_lp\n",
    "\n",
    "\n",
    "def good_suffix_table(p):\n",
    "    \"\"\" Return tables needed to apply good suffix rule. \"\"\"\n",
    "    n = n_array(p)\n",
    "    lp = big_l_prime_array(p, n)\n",
    "    return lp, big_l_array(p, lp), small_l_prime_array(n)\n",
    "\n",
    "\n",
    "def good_suffix_mismatch(i, big_l_prime, small_l_prime):\n",
    "    \"\"\" Given a mismatch at offset i, and given L/L' and l' arrays,\n",
    "        return amount to shift as determined by good suffix rule. \"\"\"\n",
    "    length = len(big_l_prime)\n",
    "    assert i < length\n",
    "    if i == length - 1:\n",
    "        return 0\n",
    "    i += 1  # i points to leftmost matching position of P\n",
    "    if big_l_prime[i] > 0:\n",
    "        return length - big_l_prime[i]\n",
    "    return length - small_l_prime[i]\n",
    "\n",
    "\n",
    "def good_suffix_match(small_l_prime):\n",
    "    \"\"\" Given a full match of P to T, return amount to shift as\n",
    "        determined by good suffix rule. \"\"\"\n",
    "    return len(small_l_prime) - small_l_prime[1]\n",
    "\n",
    "\n",
    "def dense_bad_char_tab(p, amap):\n",
    "    \"\"\" Given pattern string and list with ordered alphabet characters, create\n",
    "        and return a dense bad character table.  Table is indexed by offset\n",
    "        then by character. \"\"\"\n",
    "    tab = []\n",
    "    nxt = [0] * len(amap)\n",
    "    for i in range(0, len(p)):\n",
    "        c = p[i]\n",
    "        assert c in amap\n",
    "        tab.append(nxt[:])\n",
    "        nxt[amap[c]] = i+1\n",
    "    return tab\n",
    "\n",
    "\n",
    "class BoyerMoore(object):\n",
    "    \"\"\" Encapsulates pattern and associated Boyer-Moore preprocessing. \"\"\"\n",
    "    \n",
    "    def __init__(self, p, alphabet='ACGT'):\n",
    "        self.p = p\n",
    "        self.alphabet = alphabet\n",
    "        # Create map from alphabet characters to integers\n",
    "        self.amap = {}\n",
    "        for i in range(len(self.alphabet)):\n",
    "            self.amap[self.alphabet[i]] = i\n",
    "        # Make bad character rule table\n",
    "        self.bad_char = dense_bad_char_tab(p, self.amap)\n",
    "        # Create good suffix rule table\n",
    "        _, self.big_l, self.small_l_prime = good_suffix_table(p)\n",
    "    \n",
    "    def bad_character_rule(self, i, c):\n",
    "        \"\"\" Return # skips given by bad character rule at offset i \"\"\"\n",
    "        assert c in self.amap\n",
    "        ci = self.amap[c]\n",
    "        assert i > (self.bad_char[i][ci]-1)\n",
    "        return i - (self.bad_char[i][ci]-1)\n",
    "    \n",
    "    def good_suffix_rule(self, i):\n",
    "        \"\"\" Given a mismatch at offset i, return amount to shift\n",
    "            as determined by (weak) good suffix rule. \"\"\"\n",
    "        length = len(self.big_l)\n",
    "        assert i < length\n",
    "        if i == length - 1:\n",
    "            return 0\n",
    "        i += 1  # i points to leftmost matching position of P\n",
    "        if self.big_l[i] > 0:\n",
    "            return length - self.big_l[i]\n",
    "        return length - self.small_l_prime[i]\n",
    "    \n",
    "    def match_skip(self):\n",
    "        \"\"\" Return amount to shift in case where P matches T \"\"\"\n",
    "        return len(self.small_l_prime) - self.small_l_prime[1]"
   ]
  },
  {
   "cell_type": "code",
   "execution_count": 34,
   "metadata": {},
   "outputs": [
    {
     "data": {
      "text/plain": [
       "2"
      ]
     },
     "execution_count": 34,
     "metadata": {},
     "output_type": "execute_result"
    }
   ],
   "source": [
    "# GCTAGCTCTACGAGTCTA\n",
    "p = 'TCAA'\n",
    "p_bm = BoyerMoore(p, alphabet='ACGT')\n",
    "p_bm.bad_character_rule(2, 'T')"
   ]
  },
  {
   "cell_type": "code",
   "execution_count": 35,
   "metadata": {},
   "outputs": [
    {
     "data": {
      "text/plain": [
       "3"
      ]
     },
     "execution_count": 35,
     "metadata": {},
     "output_type": "execute_result"
    }
   ],
   "source": [
    "# GCTAGCTCTACGAGTCTA\n",
    "# ACTA\n",
    "p = 'ACTA'\n",
    "p_bm = BoyerMoore(p, alphabet='ACGT')\n",
    "p_bm.good_suffix_rule(0)"
   ]
  },
  {
   "cell_type": "code",
   "execution_count": 36,
   "metadata": {},
   "outputs": [
    {
     "data": {
      "text/plain": [
       "2"
      ]
     },
     "execution_count": 36,
     "metadata": {},
     "output_type": "execute_result"
    }
   ],
   "source": [
    "# ACACGCTCTACGAGTCTA\n",
    "# ACAC\n",
    "p = 'ACAC'\n",
    "p_bm = BoyerMoore(p, alphabet='ACGT')\n",
    "p_bm.match_skip()"
   ]
  },
  {
   "cell_type": "code",
   "execution_count": 38,
   "metadata": {},
   "outputs": [],
   "source": [
    "def boyer_moore(p, p_bm, t):\n",
    "    \"\"\" Do Boyer-Moore matching \"\"\"\n",
    "    i = 0\n",
    "    occurrences = []\n",
    "    while i < len(t) - len(p) + 1:\n",
    "        shift = 1\n",
    "        mismatched = False\n",
    "        for j in range(len(p)-1, -1, -1):\n",
    "            if p[j] != t[i+j]:\n",
    "                skip_bc = p_bm.bad_character_rule(j, t[i+j])\n",
    "                skip_gs = p_bm.good_suffix_rule(j)\n",
    "                shift = max(shift, skip_bc, skip_gs)\n",
    "                mismatched = True\n",
    "                break\n",
    "        if not mismatched:\n",
    "            occurrences.append(i)\n",
    "            skip_gs = p_bm.match_skip()\n",
    "            shift = max(shift, skip_gs)\n",
    "        i += shift\n",
    "    return occurrences"
   ]
  },
  {
   "cell_type": "code",
   "execution_count": 39,
   "metadata": {},
   "outputs": [],
   "source": [
    "t = 'GCTAGCTCTACGAGTCTA'\n",
    "p = 'TCTA'\n",
    "p_bm = BoyerMoore(p, alphabet='ACGT')"
   ]
  },
  {
   "cell_type": "code",
   "execution_count": 40,
   "metadata": {},
   "outputs": [
    {
     "data": {
      "text/plain": [
       "[6, 14]"
      ]
     },
     "execution_count": 40,
     "metadata": {},
     "output_type": "execute_result"
    }
   ],
   "source": [
    "boyer_moore(p, p_bm, t)"
   ]
  },
  {
   "cell_type": "markdown",
   "metadata": {},
   "source": [
    "# K-MER INDEXING"
   ]
  },
  {
   "cell_type": "code",
   "execution_count": 39,
   "metadata": {},
   "outputs": [],
   "source": [
    "import bisect\n",
    "import sys"
   ]
  },
  {
   "cell_type": "code",
   "execution_count": 42,
   "metadata": {},
   "outputs": [],
   "source": [
    "class Index(object):\n",
    "    def __init__(self, t, k):\n",
    "        ''' Create index from all substrings of size 'length' '''\n",
    "        self.k = k  # k-mer length (k)\n",
    "        self.index = []\n",
    "        for i in range(len(t) - k + 1):  # for each k-mer\n",
    "            self.index.append((t[i:i+k], i))  # add (k-mer, offset) pair\n",
    "        self.index.sort()  # alphabetize by k-mer\n",
    "    \n",
    "    def query(self, p):\n",
    "        ''' Return index hits for first k-mer of P '''\n",
    "        kmer = p[:self.k]  # query with first k-mer\n",
    "        i = bisect.bisect_left(self.index, (kmer, -1))  # binary search\n",
    "        hits = []\n",
    "        while i < len(self.index):  # collect matching index entries\n",
    "            if self.index[i][0] != kmer:\n",
    "                break\n",
    "            hits.append(self.index[i][1])\n",
    "            i += 1\n",
    "        return hits"
   ]
  },
  {
   "cell_type": "code",
   "execution_count": 43,
   "metadata": {},
   "outputs": [],
   "source": [
    "def queryIndex(p, t, index):\n",
    "    k = index.k\n",
    "    offsets = []\n",
    "    for i in index.query(p):\n",
    "        if p[k:] == t[i+k:i+len(p)]:  # verify that rest of P matches\n",
    "            offsets.append(i)\n",
    "    return offsets"
   ]
  },
  {
   "cell_type": "code",
   "execution_count": 44,
   "metadata": {},
   "outputs": [],
   "source": [
    "t = 'ACTTGGAGATCTTTGAGGCTAGGTATTCGGGATCGAAGCTCATTTCGGGGATCGATTACGATATGGTGGGTATTCGGGA'#p found at 21st and 68th Start-position\n",
    "p = 'GGTATTCGGGA'"
   ]
  },
  {
   "cell_type": "code",
   "execution_count": 45,
   "metadata": {},
   "outputs": [
    {
     "name": "stdout",
     "output_type": "stream",
     "text": [
      "[21, 68]\n"
     ]
    }
   ],
   "source": [
    "index = Index(t, 4)\n",
    "print(queryIndex(p, t, index))"
   ]
  },
  {
   "cell_type": "markdown",
   "metadata": {},
   "source": [
    "# BOYER-MOORE & APPROXIMATE MATCHING"
   ]
  },
  {
   "cell_type": "code",
   "execution_count": 46,
   "metadata": {},
   "outputs": [],
   "source": [
    "import string\n",
    "\n",
    "def z_array(s):\n",
    "    \"\"\" Use Z algorithm (Gusfield theorem 1.4.1) to preprocess s \"\"\"\n",
    "    assert len(s) > 1\n",
    "    z = [len(s)] + [0] * (len(s)-1)\n",
    "    # Initial comparison of s[1:] with prefix\n",
    "    for i in range(1, len(s)):\n",
    "        if s[i] == s[i-1]:\n",
    "            z[1] += 1\n",
    "        else:\n",
    "            break\n",
    "    r, l = 0, 0\n",
    "    if z[1] > 0:\n",
    "        r, l = z[1], 1\n",
    "    for k in range(2, len(s)):\n",
    "        assert z[k] == 0\n",
    "        if k > r:\n",
    "            # Case 1\n",
    "            for i in range(k, len(s)):\n",
    "                if s[i] == s[i-k]:\n",
    "                    z[k] += 1\n",
    "                else:\n",
    "                    break\n",
    "            r, l = k + z[k] - 1, k\n",
    "        else:\n",
    "            # Case 2\n",
    "            # Calculate length of beta\n",
    "            nbeta = r - k + 1\n",
    "            zkp = z[k - l]\n",
    "            if nbeta > zkp:\n",
    "                # Case 2a: Zkp wins\n",
    "                z[k] = zkp\n",
    "            else:\n",
    "                # Case 2b: Compare characters just past r\n",
    "                nmatch = 0\n",
    "                for i in range(r+1, len(s)):\n",
    "                    if s[i] == s[i - k]:\n",
    "                        nmatch += 1\n",
    "                    else:\n",
    "                        break\n",
    "                l, r = k, r + nmatch\n",
    "                z[k] = r - k + 1\n",
    "    return z\n",
    "\n",
    "\n",
    "def n_array(s):\n",
    "    \"\"\" Compile the N array (Gusfield theorem 2.2.2) from the Z array \"\"\"\n",
    "    return z_array(s[::-1])[::-1]\n",
    "\n",
    "\n",
    "def big_l_prime_array(p, n):\n",
    "    \"\"\" Compile L' array (Gusfield theorem 2.2.2) using p and N array.\n",
    "        L'[i] = largest index j less than n such that N[j] = |P[i:]| \"\"\"\n",
    "    lp = [0] * len(p)\n",
    "    for j in range(len(p)-1):\n",
    "        i = len(p) - n[j]\n",
    "        if i < len(p):\n",
    "            lp[i] = j + 1\n",
    "    return lp\n",
    "\n",
    "\n",
    "def big_l_array(p, lp):\n",
    "    \"\"\" Compile L array (Gusfield theorem 2.2.2) using p and L' array.\n",
    "        L[i] = largest index j less than n such that N[j] >= |P[i:]| \"\"\"\n",
    "    l = [0] * len(p)\n",
    "    l[1] = lp[1]\n",
    "    for i in range(2, len(p)):\n",
    "        l[i] = max(l[i-1], lp[i])\n",
    "    return l\n",
    "\n",
    "\n",
    "def small_l_prime_array(n):\n",
    "    \"\"\" Compile lp' array (Gusfield theorem 2.2.4) using N array. \"\"\"\n",
    "    small_lp = [0] * len(n)\n",
    "    for i in range(len(n)):\n",
    "        if n[i] == i+1:  # prefix matching a suffix\n",
    "            small_lp[len(n)-i-1] = i+1\n",
    "    for i in range(len(n)-2, -1, -1):  # \"smear\" them out to the left\n",
    "        if small_lp[i] == 0:\n",
    "            small_lp[i] = small_lp[i+1]\n",
    "    return small_lp\n",
    "\n",
    "\n",
    "def good_suffix_table(p):\n",
    "    \"\"\" Return tables needed to apply good suffix rule. \"\"\"\n",
    "    n = n_array(p)\n",
    "    lp = big_l_prime_array(p, n)\n",
    "    return lp, big_l_array(p, lp), small_l_prime_array(n)\n",
    "\n",
    "\n",
    "def good_suffix_mismatch(i, big_l_prime, small_l_prime):\n",
    "    \"\"\" Given a mismatch at offset i, and given L/L' and l' arrays,\n",
    "        return amount to shift as determined by good suffix rule. \"\"\"\n",
    "    length = len(big_l_prime)\n",
    "    assert i < length\n",
    "    if i == length - 1:\n",
    "        return 0\n",
    "    i += 1  # i points to leftmost matching position of P\n",
    "    if big_l_prime[i] > 0:\n",
    "        return length - big_l_prime[i]\n",
    "    return length - small_l_prime[i]\n",
    "\n",
    "\n",
    "def good_suffix_match(small_l_prime):\n",
    "    \"\"\" Given a full match of P to T, return amount to shift as\n",
    "        determined by good suffix rule. \"\"\"\n",
    "    return len(small_l_prime) - small_l_prime[1]\n",
    "\n",
    "\n",
    "def dense_bad_char_tab(p, amap):\n",
    "    \"\"\" Given pattern string and list with ordered alphabet characters, create\n",
    "        and return a dense bad character table.  Table is indexed by offset\n",
    "        then by character. \"\"\"\n",
    "    tab = []\n",
    "    nxt = [0] * len(amap)\n",
    "    for i in range(0, len(p)):\n",
    "        c = p[i]\n",
    "        assert c in amap\n",
    "        tab.append(nxt[:])\n",
    "        nxt[amap[c]] = i+1\n",
    "    return tab\n",
    "\n",
    "\n",
    "class BoyerMoore(object):\n",
    "    \"\"\" Encapsulates pattern and associated Boyer-Moore preprocessing. \"\"\"\n",
    "    \n",
    "    def __init__(self, p, alphabet='ACGT'):\n",
    "        self.p = p\n",
    "        self.alphabet = alphabet\n",
    "        # Create map from alphabet characters to integers\n",
    "        self.amap = {}\n",
    "        for i in range(len(self.alphabet)):\n",
    "            self.amap[self.alphabet[i]] = i\n",
    "        # Make bad character rule table\n",
    "        self.bad_char = dense_bad_char_tab(p, self.amap)\n",
    "        # Create good suffix rule table\n",
    "        _, self.big_l, self.small_l_prime = good_suffix_table(p)\n",
    "    \n",
    "    def bad_character_rule(self, i, c):\n",
    "        \"\"\" Return # skips given by bad character rule at offset i \"\"\"\n",
    "        assert c in self.amap\n",
    "        ci = self.amap[c]\n",
    "        assert i > (self.bad_char[i][ci]-1)\n",
    "        return i - (self.bad_char[i][ci]-1)\n",
    "    \n",
    "    def good_suffix_rule(self, i):\n",
    "        \"\"\" Given a mismatch at offset i, return amount to shift\n",
    "            as determined by (weak) good suffix rule. \"\"\"\n",
    "        length = len(self.big_l)\n",
    "        assert i < length\n",
    "        if i == length - 1:\n",
    "            return 0\n",
    "        i += 1  # i points to leftmost matching position of P\n",
    "        if self.big_l[i] > 0:\n",
    "            return length - self.big_l[i]\n",
    "        return length - self.small_l_prime[i]\n",
    "    \n",
    "    def match_skip(self):\n",
    "        \"\"\" Return amount to shift in case where P matches T \"\"\"\n",
    "        return len(self.small_l_prime) - self.small_l_prime[1]"
   ]
  },
  {
   "cell_type": "code",
   "execution_count": 47,
   "metadata": {},
   "outputs": [],
   "source": [
    "def boyer_moore(p, p_bm, t):\n",
    "    \"\"\" Do Boyer-Moore matching \"\"\"\n",
    "    i = 0\n",
    "    occurrences = []\n",
    "    while i < len(t) - len(p) + 1:\n",
    "        shift = 1\n",
    "        mismatched = False\n",
    "        for j in range(len(p)-1, -1, -1):\n",
    "            if p[j] != t[i+j]:\n",
    "                skip_bc = p_bm.bad_character_rule(j, t[i+j])\n",
    "                skip_gs = p_bm.good_suffix_rule(j)\n",
    "                shift = max(shift, skip_bc, skip_gs)\n",
    "                mismatched = True\n",
    "                break\n",
    "        if not mismatched:\n",
    "            occurrences.append(i)\n",
    "            skip_gs = p_bm.match_skip()\n",
    "            shift = max(shift, skip_gs)\n",
    "        i += shift\n",
    "    return occurrences"
   ]
  },
  {
   "cell_type": "code",
   "execution_count": 48,
   "metadata": {},
   "outputs": [],
   "source": [
    "def approximate_match(p, t, n):\n",
    "    segment_length = int(round(len(p) / (n+1)))\n",
    "    all_matches = set()\n",
    "    for i in range(n+1):\n",
    "        start = i*segment_length\n",
    "        end = min((i+1)*segment_length, len(p))\n",
    "        p_bm = BoyerMoore(p[start:end], alphabet='ACGT')\n",
    "        matches = boyer_moore(p[start:end], p_bm, t)\n",
    "        # Extend matching segments to see if whole p matches\n",
    "        for m in matches:\n",
    "            if m < start or m-start+len(p) > len(t):\n",
    "                continue\n",
    "            mismatches = 0\n",
    "            for j in range(0, start):\n",
    "                if not p[j] == t[m-start+j]:\n",
    "                    mismatches += 1\n",
    "                    if mismatches > n:\n",
    "                        break\n",
    "            for j in range(end, len(p)):\n",
    "                if not p[j] == t[m-start+j]:\n",
    "                    mismatches += 1\n",
    "                    if mismatches > n:\n",
    "                        break\n",
    "            if mismatches <= n:\n",
    "                all_matches.add(m - start)\n",
    "    return list(all_matches)"
   ]
  },
  {
   "cell_type": "code",
   "execution_count": 49,
   "metadata": {},
   "outputs": [
    {
     "name": "stdout",
     "output_type": "stream",
     "text": [
      "[0, 5]\n"
     ]
    }
   ],
   "source": [
    "p = 'AACTTG'\n",
    "t = 'CACTTAATTTG'\n",
    "print(approximate_match(p, t, 2))"
   ]
  },
  {
   "cell_type": "code",
   "execution_count": 50,
   "metadata": {},
   "outputs": [],
   "source": [
    "def editDistRecursive(x, y):\n",
    "    # This implementation is very slow\n",
    "    if len(x) == 0:\n",
    "        return len(y)\n",
    "    elif len(y) == 0:\n",
    "        return len(x)\n",
    "    else:\n",
    "        distHor = editDistRecursive(x[:-1], y) + 1\n",
    "        distVer = editDistRecursive(x, y[:-1]) + 1\n",
    "        if x[-1] == y[-1]:\n",
    "            distDiag = editDistRecursive(x[:-1], y[:-1])\n",
    "        else:\n",
    "            distDiag = editDistRecursive(x[:-1], y[:-1]) + 1\n",
    "        return min(distHor, distVer, distDiag)"
   ]
  },
  {
   "cell_type": "code",
   "execution_count": 51,
   "metadata": {},
   "outputs": [],
   "source": [
    "def editDistance(x, y):\n",
    "    # Create distance matrix\n",
    "    D = []\n",
    "    for i in range(len(x)+1):\n",
    "        D.append([0]*(len(y)+1))\n",
    "    # Initialize first row and column of matrix\n",
    "    for i in range(len(x)+1):\n",
    "        D[i][0] = i\n",
    "    for i in range(len(y)+1):\n",
    "        D[0][i] = i\n",
    "    # Fill in the rest of the matrix\n",
    "    for i in range(1, len(x)+1):\n",
    "        for j in range(1, len(y)+1):\n",
    "            distHor = D[i][j-1] + 1\n",
    "            distVer = D[i-1][j] + 1\n",
    "            if x[i-1] == y[j-1]:\n",
    "                distDiag = D[i-1][j-1]\n",
    "            else:\n",
    "                distDiag = D[i-1][j-1] + 1\n",
    "            D[i][j] = min(distHor, distVer, distDiag)\n",
    "    # Edit distance is the value in the bottom right corner of the matrix\n",
    "    return D[-1][-1]"
   ]
  },
  {
   "cell_type": "code",
   "execution_count": 52,
   "metadata": {},
   "outputs": [
    {
     "name": "stdout",
     "output_type": "stream",
     "text": [
      "Wall time: 12.2 s\n"
     ]
    }
   ],
   "source": [
    "%%time\n",
    "x = 'shake spea'\n",
    "y = 'Shakespear'\n",
    "editDistRecursive(x, y)"
   ]
  },
  {
   "cell_type": "code",
   "execution_count": 53,
   "metadata": {},
   "outputs": [
    {
     "name": "stdout",
     "output_type": "stream",
     "text": [
      "Wall time: 0 ns\n"
     ]
    }
   ],
   "source": [
    "%%time\n",
    "x = 'shake spea'\n",
    "y = 'Shakespear'\n",
    "editDistance(x, y)"
   ]
  },
  {
   "cell_type": "markdown",
   "metadata": {},
   "source": [
    "# PATTERN-MATCHING:"
   ]
  },
  {
   "cell_type": "code",
   "execution_count": 151,
   "metadata": {},
   "outputs": [
    {
     "name": "stdout",
     "output_type": "stream",
     "text": [
      "Test dataset results - Occurences and leftmost offset: \n",
      "12646 21 \n",
      "\n",
      "Q1: The 'AGGT' or 'ACCT' occurs 36 times \n",
      "\n",
      "Q2: The 'TTAA' occurs 35 times \n",
      "\n",
      "Q3: The offset of the leftmost occurrence of ACTAAGT is 3708 \n",
      "\n",
      "Q4: The offset of the leftmost occurrence of AGTCGA is 53 \n",
      "\n",
      "Q5: The 'TTCAAGCC' occurs 32 times with mismatch less than 2 \n",
      "\n",
      "Q6: The offset of the leftmost occurrence of AGGAGGTT with mismatch less than 2 is 945 \n",
      "\n"
     ]
    }
   ],
   "source": [
    "class findPattern ():\n",
    "    \"\"\"\n",
    "    This class finds the occurance and position of a given pattern in a given \n",
    "    genomic sequence in a file.\n",
    "    \"\"\"\n",
    "    def __init__(self, pattern, filename):\n",
    "        # initiate parameters\n",
    "        self.pattern = pattern\n",
    "        self.filename = filename\n",
    "        \n",
    "    def readGenome (self):\n",
    "        \"\"\"\n",
    "        read genomic DNA sequence to a string\n",
    "        \"\"\"\n",
    "        genome = \"\"\n",
    "        with open (self.filename, \"r\") as f:\n",
    "            for line in f:\n",
    "                # skip header\n",
    "                if not line[0] == \">\":\n",
    "                    genome += line.rstrip()\n",
    "            f.close()\n",
    "        return genome\n",
    "        \n",
    "    \n",
    "    def reverseComplement (self):\n",
    "        \"\"\"\n",
    "        generate reverse complement sequence for a given dna sequence\n",
    "        \"\"\"\n",
    "        complement = {\"A\": \"T\", \"C\": \"G\", \"T\": \"A\", \"G\": \"C\"}\n",
    "        revComPattern = \"\" # reversed compliment pattern\n",
    "        for nt in self.pattern:\n",
    "            revComPattern = complement[nt] + revComPattern\n",
    "        \n",
    "        return revComPattern\n",
    "        \n",
    "    def match(self, string1, string2, numOfMismatch):\n",
    "        \"\"\"\n",
    "        return True or False for matching results of two strings under the offset\n",
    "        of numOfMismatch\n",
    "        \"\"\"\n",
    "        counter = 0\n",
    "        if len(string1) != len(string2):\n",
    "            return False\n",
    "        # loop over string to compare character\n",
    "        for i in range(len(string1)):\n",
    "            if string1[i] != string2[i]:\n",
    "                counter += 1\n",
    "        if counter > numOfMismatch:\n",
    "            return False\n",
    "        return True\n",
    "        \n",
    "    def patternIdentifier (self, numOfMismatch):\n",
    "        \"\"\"\n",
    "        find positions of a given pattern and the reversed complement pattern \n",
    "        in a given genome\n",
    "        \"\"\"\n",
    "        patternLength = len(self.pattern)\n",
    "        genome = self.readGenome()\n",
    "        revComPattern = self.reverseComplement()\n",
    "        occurances = []\n",
    "        \n",
    "        for i in range (patternLength): # loop over pattern index\n",
    "            # loop over genome patterns\n",
    "            for j in range (i, len(genome), patternLength): \n",
    "                genomeMotif = genome[j: j+patternLength]\n",
    "                # compare genomic motif and patterns\n",
    "                if numOfMismatch == 0:\n",
    "                    if (self.match(genomeMotif, self.pattern, 0) or \\\n",
    "                        self.match(genomeMotif, revComPattern, 0))\\\n",
    "                       and j not in occurances: # avoid duplicate records\n",
    "                        occurances.append(j)\n",
    "                else:\n",
    "                    if self.match(genomeMotif, self.pattern, numOfMismatch)\\\n",
    "                       and j not in occurances: # avoid duplicate records:\n",
    "                        occurances.append(j)\n",
    "        return occurances\n",
    "    \n",
    "class checkQuality ():\n",
    "    \"\"\"\n",
    "    The checkQuality class exams quality of sequencing for each cycle\n",
    "    \"\"\"\n",
    "    def __init__ (self, filename):\n",
    "        self.filename = filename\n",
    "    \n",
    "    def readFastq(self):\n",
    "        \"\"\"\n",
    "        read dna sequence and quality base from a fastq sequencing file to lists\n",
    "        \"\"\"\n",
    "        with open (self.filename, \"r\") as f:\n",
    "             sequences = []\n",
    "             qualities = []\n",
    "             while True:\n",
    "                 f.readline() # skip name line\n",
    "                 seq = f.readline().rstrip() # read sequence line\n",
    "                 f.readline() # skip strand line\n",
    "                 qual = f.readline().rstrip() # read quality line\n",
    "                 if len(seq) == 0: #finish read\n",
    "                     break\n",
    "                 # add seqence and quality information to list\n",
    "                 sequences.append(seq)\n",
    "                 qualities.append(qual)\n",
    "             f.close()\n",
    "        return sequences, qualities\n",
    "        \n",
    "    def phre33ToQ (self, qualString):\n",
    "        \"\"\"\n",
    "        transform quality string to quality base score\n",
    "        \"\"\"\n",
    "        qScore = []\n",
    "        for qual in qualString:\n",
    "            qScore.append(ord(qual) - 33)\n",
    "        return qScore\n",
    "    def findPoorQuality(self):\n",
    "        \"\"\"\n",
    "        find the index of poorest q score in each sequencing\n",
    "        \"\"\"\n",
    "        _, qualities = self.readFastq()\n",
    "        lowestQScoreIndex = []\n",
    "        for qualString in qualities:\n",
    "            qScore = self.phre33ToQ(qualString)\n",
    "            lowestQScoreIndex.append(qScore.index(min(qScore)))\n",
    "        return lowestQScoreIndex\n",
    "        \n",
    "    def countPoorQuality(self):    \n",
    "        \"\"\"\n",
    "        count number of poorest q score in each cycle\n",
    "        \"\"\"\n",
    "        import collections\n",
    "        return collections.Counter(self.findPoorQuality())\n",
    "        \n",
    "    def plotHist(self):\n",
    "        \"\"\"\n",
    "         show the distribution of poorest q score\n",
    "        \"\"\"\n",
    "        import matplotlib.pyplot as plt\n",
    "        data = self.countPoorQuality()\n",
    "        plt.bar(data.keys(), data.values())\n",
    "        plt.show()\n",
    "\n",
    "\n",
    "if __name__ == \"__main__\":\n",
    "    #Test\n",
    "    filename = \"ConcatDNA.fastq\"\n",
    "    pattern = \"ATTA\"\n",
    "    patterns = findPattern(pattern,filename)\n",
    "    print(\"Test dataset results - Occurences and leftmost offset: \")\n",
    "    print(len(patterns.patternIdentifier(0)), min(patterns.patternIdentifier(0)), \"\\n\")\n",
    "    \n",
    "    #Questions 1-6\n",
    "    filename1 = \"DNA.fa\"\n",
    "    #Q1: How many times does AGGT or its reverse complement (ACCT) occur in the \n",
    "    #lambda virus genome? E.g. if AGGT occurs 10 times and ACCT occurs 12 times, \n",
    "    #you should report 22.\n",
    "    pattern = \"AGGT\"\n",
    "    patterns = findPattern(pattern,filename1)\n",
    "    print(\"Q1: The 'AGGT' or 'ACCT' occurs %d times \\n\" \\\n",
    "           %len(patterns.patternIdentifier(0)))\n",
    "    \n",
    "    #Q2: How many times does TTAA or its reverse complement occur in the lambda \n",
    "    #virus genome? Hint: TTAA and its reverse complement are equal, so remember \n",
    "    #not to double count.    \n",
    "    pattern = \"TTAA\"\n",
    "    patterns = findPattern(pattern,filename1)\n",
    "    print(\"Q2: The 'TTAA' occurs %d times \\n\" \\\n",
    "           %len(patterns.patternIdentifier(0)))\n",
    "    \n",
    "    #Q3: What is the offset of the leftmost occurrence of ACTAAGT or its reverse\n",
    "    #complement in the Lambda virus genome? E.g. if the leftmost occurrence of \n",
    "    #ACTAAGT is at offset 40 (0-based) and the leftmost occurrence of its reverse \n",
    "    #complement ACTTAGT is at offset 29, then report 29.\n",
    "    pattern = \"ACTAAGT\"\n",
    "    patterns = findPattern(pattern,filename1)\n",
    "    print(\"Q3: The offset of the leftmost occurrence of ACTAAGT is %d \\n\" \\\n",
    "           %min(patterns.patternIdentifier(0)))\n",
    "    \n",
    "    #Q4: What is the offset of the leftmost occurrence of AGTCGA or its reverse \n",
    "    #complement in the Lambda virus genome?\n",
    "    pattern = \"AGTCGA\"\n",
    "    patterns = findPattern(pattern,filename1)\n",
    "    print(\"Q4: The offset of the leftmost occurrence of AGTCGA is %d \\n\" \\\n",
    "           %min(patterns.patternIdentifier(0)))\n",
    "           \n",
    "    #Q5: How many times does TTCAAGCC occur in the Lambda virus genome when \n",
    "    #allowing up to 2 mismatches?    \n",
    "    pattern = \"TTCAAGCC\"\n",
    "    patterns = findPattern(pattern,filename1)\n",
    "    print(\"Q5: The 'TTCAAGCC' occurs %d times with mismatch less than 2 \\n\" \\\n",
    "           %len(patterns.patternIdentifier(2)))\n",
    "       \n",
    "    #Q6: What is the offset of the leftmost occurrence of AGGAGGTT in the \n",
    "    #Lambda virus genome when allowing up to 2 mismatches?   \n",
    "    pattern = \"AGGAGGTT\"\n",
    "    patterns = findPattern(pattern,filename1)\n",
    "    print(\"Q6: The offset of the leftmost occurrence of AGGAGGTT with mismatch less than 2 is %d \\n\" \\\n",
    "          %min(patterns.patternIdentifier(2)))      \n",
    "      \n",
    "    #Q7: Report which sequencing cycle has the problem.    \n",
    "    filename2 = \"DNA.fastq\"\n",
    "    qualities = checkQuality(filename2)"
   ]
  },
  {
   "cell_type": "code",
   "execution_count": 152,
   "metadata": {},
   "outputs": [
    {
     "name": "stdout",
     "output_type": "stream",
     "text": [
      "Q1: The alignments for naive match algorithm is 5330\n",
      "\n",
      "Q2: The characters comparisons for naive match algorithm is 7366\n",
      "\n",
      "Q3: The Alignments for Boyer-Moore algorithm is 119\n",
      "\n",
      "Q4: Within 2 mismatches, the string occurs 0 times\n",
      "\n",
      "Q5: Within 2 mismatches, the total index hits are 1 \n",
      "\n",
      "Q6: Within 2 mismatches, the hits are 0\n",
      "\n"
     ]
    }
   ],
   "source": [
    "import bisect\n",
    "\n",
    "class findPatternV2 ():\n",
    "    \"\"\"\n",
    "    This class finds the occurence and position of a given pattern in a given \n",
    "    genomic sequence in a file.\n",
    "    \"\"\"\n",
    "    def __init__(self, pattern, filename = False):\n",
    "        # initiate parameters\n",
    "        self.pattern = pattern\n",
    "        self.filename = filename\n",
    "        \n",
    "    def readGenome (self):\n",
    "        \"\"\"\n",
    "        read genomic DNA sequence to a string\n",
    "        \"\"\"\n",
    "        genome = \"\"\n",
    "        with open (self.filename, \"r\") as f:\n",
    "            for line in f:\n",
    "                # skip header\n",
    "                if not line[0] == \">\":\n",
    "                    genome += line.rstrip()\n",
    "            f.close()\n",
    "        return genome\n",
    "        \n",
    "    def naiveMatch (self, numberOfMismatch, text = False):\n",
    "        \"\"\"\n",
    "        this is naive match to find the index of matched patterns in a genome\n",
    "        and calculate number of total character comparisons and alignments\n",
    "        \"\"\"\n",
    "        if text != False: #for test cases\n",
    "            genome = text\n",
    "        else:\n",
    "            genome = self.readGenome()\n",
    "        pattern = self.pattern\n",
    "        occurences = []\n",
    "        alignments = 0\n",
    "        comparisons = 0\n",
    "        for i in range(len(genome) - len(pattern) + 1):\n",
    "            match = True\n",
    "            counter = 0\n",
    "            for j in range(len(pattern)):\n",
    "                comparisons += 1\n",
    "                if pattern[j] != genome[i+j]:\n",
    "                    counter += 1\n",
    "                if counter > numberOfMismatch:\n",
    "                    match = False\n",
    "                    break\n",
    "            if match:\n",
    "                occurences.append(i)\n",
    "            alignments += 1\n",
    "        return occurences, alignments, comparisons\n",
    "        \n",
    "    def boyerMoore (self, numberOfMismatch, bm, text = False):\n",
    "        \"\"\"\n",
    "        this is naive match to find the index of matched patterns in a genome\n",
    "        and calculate number of total character comparisons and alignments\n",
    "        \"\"\"\n",
    "        i = 0\n",
    "        if text != False: #for test cases\n",
    "            genome = text\n",
    "        else:\n",
    "            genome = self.readGenome()\n",
    "        pattern = self.pattern\n",
    "        occurences = []\n",
    "        alignments = 0\n",
    "        comparisons = 0\n",
    "        while i < len(genome) - len(pattern) + 1:\n",
    "            shift = 1\n",
    "            match = True\n",
    "            for j in range(len(pattern) - 1, -1, -1):\n",
    "                comparisons += 1\n",
    "                if pattern[j] != genome[i+j]:\n",
    "                    badCharacterSkip = bm.bad_character_rule(j, genome[i+j])\n",
    "                    goodSuffixSkip = bm.good_suffix_rule(j)\n",
    "                    shift = max(shift, badCharacterSkip, goodSuffixSkip)\n",
    "                    match = False\n",
    "                    break\n",
    "            if match:\n",
    "                occurences.append(i)\n",
    "                goodSuffixSkip = bm.match_skip()\n",
    "                shift = max(shift, goodSuffixSkip)\n",
    "            i += shift\n",
    "            alignments += 1\n",
    "        return occurences, alignments, comparisons\n",
    "        \n",
    "    def matchedIndex(self, index, k_mer, pattern, isSubseqIndex):\n",
    "        \"\"\"\n",
    "        find number of hits, occurences and time of occurence for a given pattern\n",
    "        using string index in genome\n",
    "        \"\"\"\n",
    "        genome = self.readGenome()\n",
    "        occurences_match = []\n",
    "        hit_index = []\n",
    "        occurence_genome = []\n",
    "        counter = 0\n",
    "        if not isSubseqIndex:\n",
    "            length = len(pattern)-k_mer + 1\n",
    "        else:\n",
    "            length = isSubseqIndex\n",
    "        for i in range(length): # loop over to generate kmers\n",
    "            if not isSubseqIndex:                \n",
    "                pattern_q = pattern[i:i+k_mer]\n",
    "            else:\n",
    "                pattern_q = pattern[i:]\n",
    "            hits = index.query(pattern_q) # query each kmer\n",
    "            for hit in hits:\n",
    "                counter += 1 #count total number of hits\n",
    "                text = genome[hit-i : hit+len(pattern) -i]\n",
    "                if hit-i not in hit_index: #avoid duplicated counts\n",
    "                    hit_index.append(hit-i)\n",
    "                    occurence, _, _ = self.naiveMatch(2,text)\n",
    "                    occurences_match.extend(occurence)\n",
    "                if len(occurence) != 0 and hit-i not in occurence_genome:\n",
    "                    occurence_genome.append(hit-i) \n",
    "        return occurence_genome, len(occurences_match), counter\n",
    "        \n",
    "class Index(object):\n",
    "    def __init__(self, t, k):\n",
    "        ''' Create index from all substrings of size 'length' '''\n",
    "        self.k = k  # k-mer length (k)\n",
    "        self.index = []\n",
    "        for i in range(len(t) - k + 1):  # for each k-mer\n",
    "            self.index.append((t[i:i+k], i))  # add (k-mer, offset) pair\n",
    "        self.index.sort()  # alphabetize by k-mer\n",
    "    \n",
    "    def query(self, p):\n",
    "        ''' Return index hits for first k-mer of P '''\n",
    "        kmer = p[:self.k]  # query with first k-mer\n",
    "        i = bisect.bisect_left(self.index, (kmer, -1))  # binary search\n",
    "        hits = []\n",
    "        while i < len(self.index):  # collect matching index entries\n",
    "            if self.index[i][0] != kmer:\n",
    "                break\n",
    "            hits.append(self.index[i][1])\n",
    "            i += 1\n",
    "        return hits\n",
    "    def genome_index(self):\n",
    "         return self.index       \n",
    "\n",
    "class SubseqIndex(object):\n",
    "    \"\"\" Holds a subsequence index for a text T \"\"\"\n",
    "    \n",
    "    def __init__(self, t, k, ival):\n",
    "        \"\"\" Create index from all subsequences consisting of k characters\n",
    "            spaced ival positions apart.  E.g., SubseqIndex(\"ATAT\", 2, 2)\n",
    "            extracts (\"AA\", 0) and (\"TT\", 1). \"\"\"\n",
    "        self.k = k  # num characters per subsequence extracted\n",
    "        self.ival = ival  # space between them; 1=adjacent, 2=every other, etc\n",
    "        self.index = []\n",
    "        self.span = 1 + ival * (k - 1)\n",
    "        for i in range(len(t) - self.span + 1):  # for each subseq\n",
    "            self.index.append((t[i:i+self.span:ival], i))  # add (subseq, offset)\n",
    "        self.index.sort()  # alphabetize by subseq\n",
    "    \n",
    "    def query(self, p):\n",
    "        \"\"\" Return index hits for first subseq of p \"\"\"\n",
    "        subseq = p[:self.span:self.ival]  # query with first subseq\n",
    "        i = bisect.bisect_left(self.index, (subseq, -1))  # binary search\n",
    "        hits = []\n",
    "        while i < len(self.index):  # collect matching index entries\n",
    "            if self.index[i][0] != subseq:\n",
    "                break\n",
    "            hits.append(self.index[i][1])\n",
    "            i += 1\n",
    "        return hits\n",
    "\n",
    "if __name__ == \"__main__\":\n",
    "    from bm_preproc import BoyerMoore\n",
    "    #Questions 1-3\n",
    "    filename = (\"DNA.fasta\")\n",
    "    #Q1: How many alignments does the naive exact matching algorithm try when \n",
    "    #matching the string GGCGCGGTGGCTCACGCCTGTAATCCCAGCACTTTGGGAGGCCGAGG \n",
    "    #(derived from human Alu sequences) to the excerpt of human chromosome 1? \n",
    "    #(Don't consider reverse complements.)\n",
    "    pattern = \"GGCGCGGTGGCTCACGCCTGTAATCCCAGCACTTTGGGAGGCCGAGG\"\n",
    "    patterns = findPatternV2(pattern, filename)\n",
    "    print(\"Q1: The alignments for naive match algorithm is %d\\n\"%patterns.naiveMatch(0)[1])\n",
    "    patterns = findPatternV2(\"GGCGCGGTGGCTCACGCCTGTAAT\", filename)    \n",
    "    \n",
    "    #Q2: How many character comparisons does the naive exact matching algorithm \n",
    "    #try when matching the string GGCGCGGTGGCTCACGCCTGTAATCCCAGCACTTTGGGAGGCCGAGG \n",
    "    #(derived from human Alu sequences) to the excerpt of human chromosome 1? \n",
    "    #(Don't consider reverse complements.)\n",
    "    print(\"Q2: The characters comparisons for naive match algorithm is %d\\n\"%patterns.naiveMatch(0)[2])\n",
    "    \n",
    "    #How many alignments does Boyer-Moore try when matching the string \n",
    "    #GGCGCGGTGGCTCACGCCTGTAATCCCAGCACTTTGGGAGGCCGAGG \n",
    "    #(derived from human Alu sequences) to the excerpt of human chromosome 1? \n",
    "    #(Don't consider reverse complements.)\n",
    "    print(\"Q3: The Alignments for Boyer-Moore algorithm is %d\\n\"%patterns.boyerMoore(0, \\\n",
    "          BoyerMoore(pattern, \"ACGT\"))[1])\n",
    "    \n",
    "    #Q4: How many times does the string GGCGCGGTGGCTCACGCCTGTAAT, \n",
    "    #which is derived from a human Alu sequence, occur with up to 2 \n",
    "    #substitutions in the excerpt of human chromosome 1? \n",
    "    #(Don't consider reverse complements here.)\n",
    "    k_mer = 8      \n",
    "    pattern = \"GGCGCGGTGGCTCACGCCTGTAAT\"\n",
    "    genome = patterns.readGenome()\n",
    "    index = Index(genome, k_mer)\n",
    "    occurences, numberOfOccurs, numberOfhits = patterns.matchedIndex(index, \\\n",
    "                                               k_mer, pattern, isSubseqIndex = False)\n",
    "    print(\"Q4: Within 2 mismatches, the string occurs %d times\\n\" %numberOfOccurs)\n",
    "    \n",
    "    #Q5:Using the instructions given in Question 4, how many total index hits \n",
    "    #are there when searching for occurrences of GGCGCGGTGGCTCACGCCTGTAAT with \n",
    "    #up to 2 substitutions in the excerpt of human chromosome 1?\n",
    "    print(\"Q5: Within 2 mismatches, the total index hits are %d \\n\" %numberOfhits)\n",
    "    \n",
    "    #Q6: When using this function, how many total index hits are there when \n",
    "    #searching for GGCGCGGTGGCTCACGCCTGTAAT with up to 2 substitutions in the \n",
    "    #excerpt of human chromosome 1? (Again, don't consider reverse complements.)\n",
    "    pattern = \"GGCGCGGTGGCTCACGCCTGTAAT\"\n",
    "    k_mer = 8\n",
    "    vial = 3\n",
    "    index = SubseqIndex(genome, k_mer, vial)\n",
    "    occurences, numberOfOccurs, numberOfhits = patterns.matchedIndex(index, \\\n",
    "                                               k_mer, pattern, isSubseqIndex = vial)\n",
    "\n",
    "    print(\"Q6: Within 2 mismatches, the hits are %d\\n\" %numberOfhits)"
   ]
  },
  {
   "cell_type": "code",
   "execution_count": 153,
   "metadata": {},
   "outputs": [
    {
     "name": "stdout",
     "output_type": "stream",
     "text": [
      "Q1: the edit distance of the best match between pattern and the genome is 4\n",
      "\n",
      "Q2: the edit distance of the best match between pattern and the genome is 5\n",
      "\n",
      "Running time for naive overlap mapping: 2 sec\n",
      "\n",
      "Running time for phrase reads: 0 sec\n",
      "\n",
      "Running time for optimized algorithm: 0 sec\n",
      "\n",
      "Q3: the total edges are 3\n",
      "\n",
      "Q4: the total nodes are 2\n"
     ]
    }
   ],
   "source": [
    "from itertools import permutations\n",
    "\n",
    "class findPatternV3 ():\n",
    "    \"\"\"\n",
    "    This class finds the edit distance of a given pattern in a given genomic \n",
    "    sequence and constructs overlap graphs.\n",
    "    \"\"\"\n",
    "    def __init__(self, filename, pattern = False):\n",
    "        # initiate parameters\n",
    "        self.pattern = pattern\n",
    "        self.filename = filename\n",
    "        \n",
    "    def readGenome (self):\n",
    "        \"\"\"\n",
    "        read genomic DNA sequence to a string\n",
    "        \"\"\"\n",
    "        genome = \"\"\n",
    "        with open (self.filename, \"r\") as f:\n",
    "            for line in f:\n",
    "                # skip header\n",
    "                if not line[0] == \">\":\n",
    "                    genome += line.rstrip()\n",
    "            f.close()\n",
    "        return genome\n",
    "        \n",
    "    def readFastq(self):\n",
    "        \"\"\"\n",
    "        read dna sequence and quality base from a fastq sequencing file to lists\n",
    "        \"\"\"\n",
    "        with open (self.filename, \"r\") as f:\n",
    "             sequences = []\n",
    "             qualities = []\n",
    "             while True:\n",
    "                 f.readline() # skip name line\n",
    "                 seq = f.readline().rstrip() # read sequence line\n",
    "                 f.readline() # skip strand line\n",
    "                 qual = f.readline().rstrip() # read quality line\n",
    "                 if len(seq) == 0: #finish read\n",
    "                     break\n",
    "                 # add seqence and quality information to list\n",
    "                 sequences.append(seq)\n",
    "                 qualities.append(qual)\n",
    "             f.close()\n",
    "        return sequences, qualities\n",
    "        \n",
    "    def editDistance(self):\n",
    "        \"\"\"\n",
    "        Implement dynamic algorithm to calculate edit distance between a given\n",
    "        pattern and a given genome\n",
    "        \"\"\"\n",
    "        pattern = self.pattern\n",
    "        genome = self.readGenome()\n",
    "        pattern_length = len(pattern) + 1\n",
    "        genome_length = len(genome) + 1\n",
    "        #generate matrix\n",
    "        matrix = [[0]*genome_length for i in range(pattern_length)]\n",
    "        # initiate the first column\n",
    "        for i in range(pattern_length):\n",
    "            matrix[i][0] = i\n",
    "        for i in range(1, pattern_length):\n",
    "            for j in range(1, genome_length):\n",
    "                dist_hor = matrix[i][j-1] + 1\n",
    "                dist_vel = matrix[i-1][j] + 1\n",
    "                dist_diag = matrix[i-1][j-1] + 1 if pattern[i-1] != genome[j-1]\\\n",
    "                            else matrix[i-1][j-1]\n",
    "                matrix[i][j] = min(dist_hor, dist_vel, dist_diag)\n",
    "        return min(matrix[-1])                \n",
    "            \n",
    "    def phraseReads(self, k_mer):\n",
    "        \"\"\"\n",
    "        construct the prefix and suffix of a read to a dictornary with read as\n",
    "        key and pre-,suffix as values\n",
    "        \"\"\"\n",
    "        reads, _ = self.readFastq()\n",
    "        reads_dict = {}\n",
    "        for read in reads:\n",
    "            for i in range(len(read) - k_mer + 1):\n",
    "                substring = read[i:i+k_mer]\n",
    "                if substring not in reads_dict:\n",
    "                    reads_dict[substring] = set([read])\n",
    "                else:\n",
    "                    reads_dict[substring].add(read)\n",
    "        return reads_dict\n",
    "    def overlap(self, read1, read2, k_mer):\n",
    "        \"\"\"\n",
    "        find overlaped leftmost offset\n",
    "        \"\"\"\n",
    "        start = 0\n",
    "        while True:\n",
    "            start = read1.find(read2[:k_mer], start)\n",
    "            if start == -1:\n",
    "                return 0 # without overlap\n",
    "            if read2.startswith(read1[start:]):\n",
    "                return len(read1) - start\n",
    "            start += 1\n",
    "            \n",
    "    def overlapGraph(self, k_mer):\n",
    "        \"\"\"\n",
    "        construct graph with key as a read (node) and values as all other \n",
    "        reads overlapped with the previous read (node)\n",
    "        \"\"\"\n",
    "        reads_dict = self.phraseReads(k_mer)\n",
    "        reads, _= self.readFastq()\n",
    "        graph = {}\n",
    "        for read1 in reads:\n",
    "            k_mer_string = read1[len(read1) - k_mer:]\n",
    "            if k_mer_string in reads_dict:\n",
    "                edges = set([])\n",
    "                reads_set = reads_dict[k_mer_string]\n",
    "                for read2 in reads_set:\n",
    "                    if read1 != read2: #skip self comparison\n",
    "                        offset = self.overlap(read1, read2, k_mer)           \n",
    "                        if offset > 0: # skip non-overlapped pairs\n",
    "                            edges.add(read2) #add overlapped reads to be values\n",
    "                            graph[read1] = edges           \n",
    "        return graph\n",
    "                        \n",
    "    def naive_overlap_map(self, k_mer):\n",
    "        \"\"\"\n",
    "        construct graph with key as a pair of reads with overlap and values as\n",
    "        the leftmost offset of the overlap\n",
    "        \"\"\"\n",
    "        graph = {}\n",
    "        reads, _ = self.readFastq()\n",
    "        for read1, read2 in permutations(reads, 2):\n",
    "            #skip non-overlapped reads\n",
    "            if read1[len(read1) - k_mer:] in read2:\n",
    "                offset = self.overlap(read1, read2, k_mer)\n",
    "                    # check if reads[i] overlapped with reads[j]\n",
    "                if offset != 0:\n",
    "                    graph[(read1,read2)] = offset  \n",
    "        return graph\n",
    "\n",
    "if __name__ == \"__main__\":\n",
    "    \n",
    "    #Q1: What is the edit distance of the best match between pattern \n",
    "    #GCTGATCGATCGTACG and the excerpt of human chromosome 1? \n",
    "    #(Don't consider reverse complements.)\n",
    "    pattern = \"GCTGATCGATCGTACG\"\n",
    "    filename = \"DNA.fasta\"\n",
    "    patterns = findPatternV3 (filename, pattern)\n",
    "    edit_dist = patterns.editDistance()\n",
    "    print(\"Q1: the edit distance of the best match between pattern and the genome is %d\\n\"\\\n",
    "           %edit_dist)\n",
    "           \n",
    "    #Q2: What is the edit distance of the best match between pattern \n",
    "    #GATTTACCAGATTGAG and the excerpt of human chromosome 1? \n",
    "    #(Don't consider reverse complements.)\n",
    "    pattern = \"GATTTACCAGATTGAG\"\n",
    "    filename = \"DNA.fasta\"\n",
    "    patterns = findPatternV3 (filename, pattern)\n",
    "    edit_dist = patterns.editDistance()\n",
    "    print(\"Q2: the edit distance of the best match between pattern and the genome is %d\\n\"\\\n",
    "           %edit_dist)\n",
    "    \n",
    "    #Q3: Picture the overlap graph corresponding to the overlaps just calculated. \n",
    "    # How many edges are in the graph? In other words, how many distinct pairs \n",
    "    # of reads overlap?\n",
    "    #Q4: Picture the overlap graph corresponding to the overlaps computed for \n",
    "    #the previous question. How many nodes in this graph have at least one \n",
    "    #outgoing edge? (In other words, how many reads have a suffix involved in \n",
    "    #an overlap?)\n",
    "    import time\n",
    "    t1 = time.time()\n",
    "    filename = \"ConcatDNA.fastq\"\n",
    "    patterns = findPatternV3 (filename)\n",
    "    k_mer = 30\n",
    "    graph = patterns.naive_overlap_map(k_mer)\n",
    "    t2 = time.time()\n",
    "    print(\"Running time for naive overlap mapping: %d sec\\n\"%(t2 - t1))\n",
    "    \n",
    "    reads = patterns.phraseReads(k_mer)\n",
    "    t3 = time.time()\n",
    "    print(\"Running time for phrase reads: %d sec\\n\"%(t3 - t2))\n",
    "    graph = patterns.overlapGraph(k_mer)\n",
    "    t4 = time.time()\n",
    "    print(\"Running time for optimized algorithm: %d sec\\n\"%(t4 - t2))\n",
    "    numberOfNodes = len(graph)\n",
    "    numberOfEdges = sum([len(edges) for edges in graph.values()])\n",
    "    print(\"Q3: the total edges are %d\\n\"%numberOfEdges)\n",
    "    print(\"Q4: the total nodes are %d\"%numberOfNodes)"
   ]
  },
  {
   "cell_type": "markdown",
   "metadata": {},
   "source": [
    "# DNA Sequencing Analysis"
   ]
  },
  {
   "cell_type": "code",
   "execution_count": 154,
   "metadata": {},
   "outputs": [
    {
     "name": "stdout",
     "output_type": "stream",
     "text": [
      "Q1: How many records are in the multi-FASTA file: 17 \n",
      "\n",
      "Q2: The length of the longest sequence: 4773 \n",
      " The number of longest sequence: 1 \n",
      "\n",
      "Q3: The length of the shortest sequence: 37 \n",
      " The number of shortest sequence: 1 \n",
      "\n",
      "Q4: The length of longest ORF in frame2: 1479\n",
      "\n",
      "Q5: The start position of longest ORF in frame1: 22\n",
      "\n",
      "Q6: The longest ORF of all frames and sequences: 1479\n",
      "\n",
      "Q7: The length of longest ORF for  >gi|142022655|gb|EQ086233.1|129 marine metagenome JCVI_SCAF_1096627390048 genomic scaffold, whole genome shotgun sequence is: 885 \n",
      "\n",
      "Q8: The most frequently repeats occur: 55 times \n",
      "\n",
      "Q10: The following repeats occured most frequently: \n",
      " ['CGCGGCG']\n",
      "Q9: The number of different 10-base sequences occur max times: 2 \n",
      "\n"
     ]
    }
   ],
   "source": [
    "class dna_tool_sets ():\n",
    "    \"\"\" \n",
    "    This class includes a set of tools for dna sequence analysis:\n",
    "    a. count_records\n",
    "\n",
    "    b. check_length\n",
    "    \n",
    "    c. orf_identifier\n",
    "       \n",
    "    d. repeats_identifier\n",
    "    \n",
    "    parameter: file name including path directory\n",
    "    Note: the file should be in FASTA format\n",
    "    \n",
    "    \"\"\"\n",
    "    def __init__(self, file_name):\n",
    "        \"\"\" this function open input file and transform each record to dictornary\n",
    "            the key and value of the dict are header and dna sequence of the record,\n",
    "            respectively\n",
    "        \"\"\"\n",
    "        self.file_name = file_name # initiate loading file \n",
    "        self.dict = {} # initiate an empty dictornary\n",
    "        f_reader = open (self.file_name)\n",
    "        for line in f_reader:\n",
    "            line = line.strip(\"\\n\") # remove \"\\n\" in line\n",
    "            if \">\" in line: # check if this line is a header\n",
    "                header = line # assign line to header\n",
    "                self.dict[header] = \"\" #add header to dictornary with an initial empty string\n",
    "            else:\n",
    "                self.dict[header] += line # add dna sequence to the header accordingly\n",
    "        f_reader.close()\n",
    "    \n",
    "    def count_records (self):\n",
    "        \"\"\" this function count number of records in the file\"\"\"\n",
    "        number_of_records = len(self.dict) # check records in dictornary\n",
    "        # Q1: How many records are in the multi-FASTA file?\n",
    "        print(\"Q1: How many records are in the multi-FASTA file: %d \\n\"\\\n",
    "               %number_of_records)\n",
    "        #return number_of_records\n",
    "        \n",
    "    def check_length(self):\n",
    "        \"\"\"\n",
    "        this function check length of each record and the according header \n",
    "        of the record\n",
    "        \"\"\"\n",
    "        length_dict = {} # creat a dictornary to record length of each record\n",
    "        for key, value in self.dict.items():\n",
    "            length_dict[key] = len(value)\n",
    "            \n",
    "        lengths = length_dict.values() # count length for each sequence\n",
    "        \n",
    "        max_length = max(lengths) # max length of sequences \n",
    "        min_length = min(lengths) # min length of sequences\n",
    "        # identifier of sequences with max length\n",
    "        record_max_length = [item for item in length_dict if length_dict[item] == max_length]\n",
    "        # identifier of sequences with min length        \n",
    "        record_min_length = [item for item in length_dict if length_dict[item] == min_length]\n",
    "        \n",
    "        # Q2: What is the length of the longest sequence in the file?\n",
    "        print(\"Q2: The length of the longest sequence: %d \\n\"%max_length, \\\n",
    "              \"The number of longest sequence: %d \\n\"%len(record_max_length))\n",
    "        # Q3: What is the length of the shortest sequence in the file?\n",
    "        print(\"Q3: The length of the shortest sequence: %d \\n\"%min_length, \\\n",
    "              \"The number of shortest sequence: %d \\n\"%len(record_min_length))\n",
    "        # uncomment the return code to return the whole length information for \n",
    "        # each record\n",
    "        #return length_dict\n",
    "               \n",
    "    def find_pos(self, dna):\n",
    "        \"\"\" \n",
    "        help function for orf_identifier: \n",
    "        find start position and length for each read frame for a given sequence\n",
    "        dna: sequence, string\n",
    "        \"\"\"\n",
    "        start_code = \"ATG\"\n",
    "        stop_codes = [\"TAA\", \"TAG\", \"TGA\"]\n",
    "\n",
    "        pos_dict = {} #record orfs of each frame to dictornary\n",
    "        \n",
    "        for i in range(3): # walk through 3 different frames\n",
    "            # record strat position and length for each frame to a list\n",
    "            pos = []\n",
    "            # generate frames\n",
    "            if i == 0:\n",
    "                frame = [dna[j:j+3] for j in range(i, len(dna), 3)]\n",
    "            else:\n",
    "                frame = [dna[:i]] + [dna[j:j+3] for j in range(i, len(dna), 3)]\n",
    "            # find all possible start postions and stop positions\n",
    "            start_pos = []\n",
    "            stop_pos = []\n",
    "            try:\n",
    "                index_start_pos = [m for m, y in enumerate(frame) if \\\n",
    "                                  y == start_code]\n",
    "                start_pos += index_start_pos # find possible positions for start code \"ATG\"\n",
    "            except ValueError:\n",
    "                pos.append((-1, 0)) # return -1 as start position if no ATG\n",
    "                continue\n",
    " \n",
    "            for stop_code in stop_codes:\n",
    "                try:\n",
    "                    # find all possible positions of stop codes\n",
    "                    index_stop_code = [n for n, x in enumerate(frame) if \\\n",
    "                                       x == stop_code and n > min(start_pos)]\n",
    "                    stop_pos += index_stop_code\n",
    "                except ValueError:\n",
    "                    continue\n",
    "            if len(stop_pos) == 0: # add -1 as start position when no stop code find\n",
    "                 pos.append((-1, 0))\n",
    "            else:\n",
    "                #find the closest paired code\n",
    "                 while len(start_pos) != 0:\n",
    "                     start = min(start_pos)\n",
    "                     try:\n",
    "                         end = min([stop for stop in stop_pos if stop > start])\n",
    "                     except ValueError:\n",
    "                         break     \n",
    "                 # add start position and length\n",
    "                     s_pos = len(\"\".join(frame[:start])) + 1\n",
    "                     pos.append((s_pos, (end - start + 1)*3))\n",
    "                     start_pos.remove(start) \n",
    "            pos_dict[\"frame%d\"%(i+1)] = pos \n",
    "            \n",
    "        return pos_dict\n",
    "        \n",
    "    def revs_complement(dna):\n",
    "        \"\"\"\n",
    "        help function for orf_identifier:\n",
    "        to transform a sequence to reverse complementary sequence\n",
    "        \"\"\"\n",
    "        pairs = {\"A\": \"T\", \"C\": \"G\", \"G\": \"C\", \"T\": \"A\"} # complementary code\n",
    "        c_dna = [pairs[s] for s in dna] # complementary replace\n",
    "        return \"\".join(c_dna)[::-1] # reverse\n",
    "        \n",
    "    \n",
    "    def orf_identifier (self):\n",
    "        \"\"\"\n",
    "        This function return all the orf information with start posiotion and\n",
    "        length of orf in read frame 1, 2 and 3\n",
    "        the values for frame 1, 2, and are represented as pairs of tuple in a list\n",
    "        for example: {\"header1\": {\"frame1\":[(0, 100)], \"frame2\":[(20, 400)], \"frame3\":[(-1, 0)]},...} \n",
    "        represents for header1:\n",
    "        frame1- start position: 0, length of orf: 100\n",
    "        frame2- start position: 20, length of orf: 400\n",
    "        frame3- No ORF detected\n",
    "        \"\"\"\n",
    "        orf = {}\n",
    "        for header, dna_seq in self.dict.items(): # generate orf for the whole file\n",
    "            pos = self.find_pos(dna_seq)\n",
    "            orf[header] = pos\n",
    "        # find header for question 7\n",
    "        id_key = [key for key in orf if \"gi|142022655|gb|EQ086233.1|129\" in key]\n",
    "        idx = id_key[0]  \n",
    "        # generate list of frames for questions 4 to 7\n",
    "        frame1, frame2, all_frames, id_frames = [], [], [], []\n",
    "        for key, dict_value in orf.items():\n",
    "            frame1 += dict_value[\"frame1\"]\n",
    "            frame2 += dict_value[\"frame2\"]\n",
    "            frames = dict_value[\"frame1\"] + dict_value[\"frame2\"] + dict_value[\"frame3\"]\n",
    "            all_frames += frames\n",
    "            if key == idx:\n",
    "                id_frames = dict_value[\"frame1\"] + dict_value[\"frame2\"] + dict_value[\"frame3\"]\n",
    "            \n",
    "        #Q4: What is the length of the longest ORF appearing in reading\n",
    "        #frame 2 of any of the sequences?\n",
    "        frame2_max_length = max(frame2, key = lambda x: x[1])\n",
    "        print(\"Q4: The length of longest ORF in frame2: %d\\n\"%frame2_max_length[1])\n",
    "        #Q5: What is the starting position of the longest ORF in reading frame 1 \n",
    "        #in any of the sequences? \n",
    "        \n",
    "        frame1_max_length_pos = max(frame1, key = lambda x: x[1])\n",
    "        print(\"Q5: The start position of longest ORF in frame1: %d\\n\"%frame1_max_length_pos[0])\n",
    "        #Q6: What is the length of the longest ORF appearing in any sequence and \n",
    "        #in any forward reading frame?\n",
    "        max_length = max(all_frames, key = lambda x: x[1])\n",
    "        print(\"Q6: The longest ORF of all frames and sequences: %d\\n\"%max_length[1])\n",
    "        #Q7: What is the length of the longest forward ORF that appears in the \n",
    "        #sequence with the identifier gi|142022655|gb|EQ086233.1|129?\n",
    "\n",
    "        max_length_id = max(id_frames, key = lambda x: x[1])\n",
    "        print(\"Q7: The length of longest ORF for \", idx, \"is: %d \\n\" %max_length_id[1])\n",
    "        \n",
    "        # uncomment the return code to return the whole orf information \n",
    "        #including starting position and length of each frame for each sequence\n",
    "        \n",
    "        #return orf\n",
    "            \n",
    "    def find_repeats(self, dna, n):\n",
    "        \"\"\"\n",
    "        This help function for repeats_identifier find and count repeats for \n",
    "        each dna sequence\n",
    "        dna: sequence, string\n",
    "        n: number of repeats, int\n",
    "        \"\"\"\n",
    "        repeats = {}\n",
    "        for i in range(0, len(dna)):\n",
    "            repeat = dna[i:i+n] # generate possible repeats\n",
    "            if len(repeat) == n:\n",
    "                if repeat not in repeats:\n",
    "                    repeats [repeat] = 1 # initiate record\n",
    "                else:\n",
    "                    # count repeated repeats\n",
    "                    repeats[repeat] = repeats.get(repeat) + 1\n",
    "        return repeats\n",
    "    \n",
    "    def repeats_identifier(self, n):\n",
    "        \"\"\"\n",
    "        This function generates repeats with counts for each record \n",
    "        (repeats_set) and for the whole file (combined_repeats)\n",
    "        n: number of repeats, int\n",
    "        \"\"\"\n",
    "        # record the repeats with counts for each record \n",
    "        repeats_set = {}\n",
    "        for header, dna_seq in self.dict.items():\n",
    "            repeats = self.find_repeats(dna_seq, n)\n",
    "            repeats_set[header] = repeats \n",
    "        # record the repeats with counts for the whole file\n",
    "        combined_repeats = {}\n",
    "        for dict_value in repeats_set.values():\n",
    "            for key in dict_value:\n",
    "                if key not in combined_repeats:\n",
    "                    combined_repeats[key] = dict_value[key]\n",
    "                else:\n",
    "                    combined_repeats[key] = combined_repeats.get(key) \\\n",
    "                                            + dict_value[key]\n",
    "        # Q8:Find the most frequently occurring repeat of length 7 in all \n",
    "        # sequences. How many times does it occur in all?\n",
    "        if n == 7:\n",
    "            most_freq_7 = max (combined_repeats.values())\n",
    "            print(\"Q8: The most frequently repeats occur: %d times \\n\"%most_freq_7)\n",
    "        # Q10:Which one of the following repeats of length 7 has a maximum \n",
    "        #number of occurrences?\n",
    "            most_freq_7_seq = [key for key in combined_repeats if \\\n",
    "                       combined_repeats[key] == max(combined_repeats.values())]\n",
    "            print(\"Q10: The following repeats occured most frequently: \\n\", most_freq_7_seq)\n",
    "        # Q9:Find all repeats of length 10 in the input file. Let's use Max to \n",
    "        #specify the number of copies of the most frequent repeat of length 10. \n",
    "        #How many different 10-base sequences occur Max times?\n",
    "        if n == 10:\n",
    "            # answer question 9\n",
    "            count_most_freq_10 = len([value for value in combined_repeats.values()\\\n",
    "                             if value == max(combined_repeats.values())])\n",
    "        \n",
    "        \n",
    "            print(\"Q9: The number of different 10-base sequences occur max times: %d \\n\"\\\n",
    "                  %count_most_freq_10)\n",
    "        \n",
    "        # uncomment the return code to return the repeats with counts for each record \n",
    "        # (repeats_set) and for the whole file (combined_repeats)\n",
    "        #return repeats_set, combined_repeats\n",
    "        \n",
    "if __name__ == \"__main__\":\n",
    "    \n",
    "    file_name = \"dna3.fasta\"\n",
    "    dna_tools = dna_tool_sets (file_name)\n",
    "    # Q1: How many records are in the multi-FASTA file?\n",
    "    dna_tools.count_records()\n",
    "    \n",
    "    # Q2: What is the length of the longest sequence in the file?\n",
    "    # Q3: What is the length of the shortest sequence in the file?\n",
    "    dna_tools.check_length()\n",
    "    \n",
    "    #Q4: What is the length of the longest ORF appearing in reading\n",
    "    #frame 2 of any of the sequences?\n",
    "    #Q5: What is the starting position of the longest ORF in reading frame 1 \n",
    "    #in any of the sequences? \n",
    "    #Q6: What is the length of the longest ORF appearing in any sequence and \n",
    "    #in any forward reading frame?\n",
    "    #Q7: What is the length of the longest forward ORF that appears in the \n",
    "    #sequence with the identifier gi|142022655|gb|EQ086233.1|129?\n",
    "    dna_tools.orf_identifier()\n",
    "    \n",
    "    # Q8:Find the most frequently occurring repeat of length 7 in all \n",
    "    # sequences. How many times does it occur in all?\n",
    "    # Q10:Which one of the following repeats of length 7 has a maximum \n",
    "    #number of occurrences?\n",
    "    dna_tools.repeats_identifier(7)\n",
    "    \n",
    "    # Q9:Find all repeats of length 10 in the input file. Let's use Max to \n",
    "    #specify the number of copies of the most frequent repeat of length 10. \n",
    "    #How many different 10-base sequences occur Max times?\n",
    "    dna_tools.repeats_identifier(10)"
   ]
  },
  {
   "cell_type": "markdown",
   "metadata": {},
   "source": [
    "# SEQUENCES ALIGNMENT"
   ]
  },
  {
   "cell_type": "code",
   "execution_count": 156,
   "metadata": {},
   "outputs": [],
   "source": [
    "from utils import cost, addgap, print_table, deletion, substitution, insertion\n",
    "from alignment import align_nw_2by2, align_star_multiple\n",
    "from numpy.random import choice, randint\n",
    "import numpy as np"
   ]
  },
  {
   "cell_type": "code",
   "execution_count": 157,
   "metadata": {},
   "outputs": [],
   "source": [
    "np.random.seed(42)"
   ]
  },
  {
   "cell_type": "code",
   "execution_count": 158,
   "metadata": {},
   "outputs": [],
   "source": [
    "alphabet = [\"A\", \"C\", \"G\", \"T\"] # nucleotides to consider for DNA sequences"
   ]
  },
  {
   "cell_type": "code",
   "execution_count": 159,
   "metadata": {},
   "outputs": [
    {
     "name": "stdout",
     "output_type": "stream",
     "text": [
      "The cost of (G, T) equals -1.\n",
      "The cost of (A, G) equals -1.\n",
      "The cost of (G, T) equals -1.\n",
      "The cost of (A, A) equals 2.\n",
      "The cost of (G, C) equals -1.\n"
     ]
    }
   ],
   "source": [
    "for i in range(5):\n",
    "    l1 = choice(alphabet)\n",
    "    l2 = choice(alphabet)\n",
    "    print(\"The cost of ({}, {}) equals {}.\".format(l1, l2, cost(l1, l2)))"
   ]
  },
  {
   "cell_type": "code",
   "execution_count": 160,
   "metadata": {},
   "outputs": [
    {
     "name": "stdout",
     "output_type": "stream",
     "text": [
      "The initial sequence equals: GGGGTAT and the gaplist equals: [7 7 2 5 4].\n",
      "gap introduced in 7th position -> new sequence equals GGGGTAT_.\n",
      "gap introduced in 7th position -> new sequence equals GGGGTAT__.\n",
      "gap introduced in 2th position -> new sequence equals GG_GGTAT__.\n",
      "gap introduced in 5th position -> new sequence equals GG_GG_TAT__.\n",
      "gap introduced in 4th position -> new sequence equals GG_G_G_TAT__.\n",
      "The final sequence equals:   GG_G_G_TAT__.\n"
     ]
    }
   ],
   "source": [
    "seq = ''.join(choice(alphabet, 7))\n",
    "gaplist = randint(7+5, size=5)\n",
    "print(\"The initial sequence equals: {} and the gaplist equals: {}.\".format(seq, gaplist))\n",
    "newseq = addgap(seq, gaplist, verbose=1)\n",
    "print(\"The final sequence equals:   {}.\".format(newseq))"
   ]
  },
  {
   "cell_type": "code",
   "execution_count": 161,
   "metadata": {},
   "outputs": [
    {
     "name": "stdout",
     "output_type": "stream",
     "text": [
      "The initial sequences are:\n",
      "ATGAGAT AGGAGAGT\n",
      "The aligned sequences are:\n",
      "['ATGAGA_T', 'AGGAGAGT']\n",
      "The positions of the introduced gaps are:\n",
      "[]\n",
      "The score matrix equals:\n"
     ]
    },
    {
     "data": {
      "image/png": "[encoded data removed]",
      "text/plain": [
       "<Figure size 432x288 with 1 Axes>"
      ]
     },
     "metadata": {},
     "output_type": "display_data"
    },
    {
     "name": "stdout",
     "output_type": "stream",
     "text": [
      "None\n",
      "The path matrix equals:\n"
     ]
    },
    {
     "data": {
      "image/png": "[encoded data removed]",
      "text/plain": [
       "<Figure size 432x288 with 1 Axes>"
      ]
     },
     "metadata": {},
     "output_type": "display_data"
    },
    {
     "name": "stdout",
     "output_type": "stream",
     "text": [
      "None\n"
     ]
    }
   ],
   "source": [
    "s1 = \"ATGAGAT\"\n",
    "s2 = \"AGGAGAGT\"\n",
    "res2by2 = align_nw_2by2(s1, s2)\n",
    "print(\"The initial sequences are:\")\n",
    "print(s1, s2)\n",
    "print(\"The aligned sequences are:\")\n",
    "print(res2by2[2])\n",
    "print(\"The positions of the introduced gaps are:\")\n",
    "print(res2by2[3])\n",
    "print(\"The score matrix equals:\")\n",
    "print(print_table(res2by2[0]))\n",
    "print(\"The path matrix equals:\")\n",
    "print(print_table(res2by2[1]))"
   ]
  },
  {
   "cell_type": "code",
   "execution_count": 162,
   "metadata": {},
   "outputs": [
    {
     "name": "stdout",
     "output_type": "stream",
     "text": [
      "pairs = [(0, 1), (0, 2), (0, 3), (0, 4), (1, 2), (1, 3), (1, 4), (2, 3), (2, 4), (3, 4)]\n",
      "scores2a2 = [8.0, -2.0, 3.0, 1.0, 1.0, 11.0, -2.0, 1.0, 1.0, -2.0]\n",
      "global scores = [10.0, 18.0, 1.0, 13.0, -2.0]\n",
      "pivot sequence =  AGGAGAGT\n",
      "initial seqs =\n",
      "ATGAGAT\n",
      "AGGAGAGT\n",
      "GGAGG\n",
      "AGGGAGT\n",
      "AGAAC\n",
      "res aligned to pivot =\n",
      "ATGAGA_T\n",
      "AGGAGAGT\n",
      "_GGAG_G_\n",
      "AGG_GAGT\n",
      "A_GA_A_C\n"
     ]
    },
    {
     "data": {
      "text/plain": [
       "['ATGAGA_T', 'AGGAGAGT', '_GGAG_G_', 'AGG_GAGT', 'A_GA_A_C']"
      ]
     },
     "execution_count": 162,
     "metadata": {},
     "output_type": "execute_result"
    }
   ],
   "source": [
    "align_star_multiple([\"ATGAGAT\", \"AGGAGAGT\", \"GGAGG\", \"AGGGAGT\", \"AGAAC\"])"
   ]
  },
  {
   "cell_type": "code",
   "execution_count": 163,
   "metadata": {},
   "outputs": [
    {
     "name": "stdout",
     "output_type": "stream",
     "text": [
      "pairs = [(0, 1), (0, 2), (0, 3), (0, 4), (0, 5), (0, 6), (0, 7), (0, 8), (0, 9), (1, 2), (1, 3), (1, 4), (1, 5), (1, 6), (1, 7), (1, 8), (1, 9), (2, 3), (2, 4), (2, 5), (2, 6), (2, 7), (2, 8), (2, 9), (3, 4), (3, 5), (3, 6), (3, 7), (3, 8), (3, 9), (4, 5), (4, 6), (4, 7), (4, 8), (4, 9), (5, 6), (5, 7), (5, 8), (5, 9), (6, 7), (6, 8), (6, 9), (7, 8), (7, 9), (8, 9)]\n",
      "scores2a2 = [17.0, 15.0, 17.0, 17.0, 15.0, 17.0, 17.0, 15.0, 17.0, 15.0, 14.0, 14.0, 12.0, 14.0, 14.0, 12.0, 14.0, 12.0, 12.0, 12.0, 12.0, 12.0, 12.0, 12.0, 14.0, 12.0, 14.0, 14.0, 12.0, 16.0, 15.0, 14.0, 14.0, 12.0, 14.0, 12.0, 12.0, 10.0, 12.0, 14.0, 12.0, 14.0, 15.0, 14.0, 12.0]\n",
      "global scores = [147.0, 126.0, 114.0, 125.0, 126.0, 112.0, 123.0, 126.0, 112.0, 125.0]\n",
      "pivot sequence =  CTTCCCTTAA\n",
      "initial seqs =\n",
      "CTTCCCTTAA\n",
      "CTTCCGTTAA\n",
      "CTTCCTTAA\n",
      "CTTCCCCTTAA\n",
      "ATTCCCTTAA\n",
      "TTCCCTTAA\n",
      "TCTTCCCTTAA\n",
      "CTTCCCTTAC\n",
      "CTTCCCTTA\n",
      "CTTCCCTTAAA\n",
      "res aligned to pivot =\n",
      "_CTT_CCCTT_AA\n",
      "_CTT_CCGTT_AA\n",
      "_CTT__CCTT_AA\n",
      "_CTTCCCCTT_AA\n",
      "_ATT_CCCTT_AA\n",
      "__TT_CCCTT_AA\n",
      "TCTT_CCCTT_AA\n",
      "_CTT_CCCTT_AC\n",
      "_CTT_CCCTT__A\n",
      "_CTT_CCCTTAAA\n"
     ]
    },
    {
     "data": {
      "text/plain": [
       "['_CTT_CCCTT_AA',\n",
       " '_CTT_CCGTT_AA',\n",
       " '_CTT__CCTT_AA',\n",
       " '_CTTCCCCTT_AA',\n",
       " '_ATT_CCCTT_AA',\n",
       " '__TT_CCCTT_AA',\n",
       " 'TCTT_CCCTT_AA',\n",
       " '_CTT_CCCTT_AC',\n",
       " '_CTT_CCCTT__A',\n",
       " '_CTT_CCCTTAAA']"
      ]
     },
     "execution_count": 163,
     "metadata": {},
     "output_type": "execute_result"
    }
   ],
   "source": [
    "n = 10 # length of the initial sequence\n",
    "seq0 = choice(alphabet, n)\n",
    "seq0 = ''.join(seq0)\n",
    "\n",
    "# seq 1 = substitution middle\n",
    "seq1 = substitution(seq0, int(n/2))\n",
    "# seq 2 = deletion middle\n",
    "seq2 = deletion(seq0, int(n/2)-1)\n",
    "# seq 3 = insertion middle\n",
    "seq3 = insertion(seq0, int(n/2))\n",
    "\n",
    "# seq 4 = substitution begining\n",
    "seq4 = substitution(seq0, 0)\n",
    "# seq 5 = deletion begining\n",
    "seq5 = deletion(seq0, 0)\n",
    "# seq 6 = insertion begining\n",
    "seq6 = insertion(seq0, 0)\n",
    "\n",
    "# seq 7 = substitution end\n",
    "seq7 = substitution(seq0, -1)\n",
    "# seq 8 = deletion end\n",
    "seq8 = deletion(seq0, -1)\n",
    "# seq 9 = insertion end\n",
    "seq9 = insertion(seq0, -1)\n",
    "\n",
    "# global alignement\n",
    "align_star_multiple([seq0, seq1, seq2, seq3, seq4, seq5, seq6, seq7, seq8, seq9])"
   ]
  },
  {
   "cell_type": "code",
   "execution_count": 164,
   "metadata": {},
   "outputs": [
    {
     "name": "stdout",
     "output_type": "stream",
     "text": [
      "pairs = [(0, 1), (0, 2), (0, 3), (0, 4), (0, 5), (0, 6), (0, 7), (0, 8), (0, 9), (1, 2), (1, 3), (1, 4), (1, 5), (1, 6), (1, 7), (1, 8), (1, 9), (2, 3), (2, 4), (2, 5), (2, 6), (2, 7), (2, 8), (2, 9), (3, 4), (3, 5), (3, 6), (3, 7), (3, 8), (3, 9), (4, 5), (4, 6), (4, 7), (4, 8), (4, 9), (5, 6), (5, 7), (5, 8), (5, 9), (6, 7), (6, 8), (6, 9), (7, 8), (7, 9), (8, 9)]\n",
      "scores2a2 = [14.0, 10.0, 14.0, 14.0, 10.0, 14.0, 14.0, 10.0, 14.0, 10.0, 11.0, 8.0, 4.0, 8.0, 8.0, 4.0, 8.0, 4.0, 4.0, 7.0, 4.0, 4.0, 10.0, 4.0, 8.0, 4.0, 10.0, 8.0, 4.0, 9.0, 10.0, 8.0, 8.0, 4.0, 8.0, 4.0, 4.0, 1.0, 4.0, 8.0, 4.0, 8.0, 10.0, 8.0, 4.0]\n",
      "global scores = [114.0, 75.0, 57.0, 72.0, 72.0, 48.0, 68.0, 72.0, 51.0, 67.0]\n",
      "pivot sequence =  GGGCTTTTGC\n",
      "initial seqs =\n",
      "GGGCTTTTGC\n",
      "GGGCTCGTGC\n",
      "GGGCTTGC\n",
      "GGGCTGCTTTGC\n",
      "TAGCTTTTGC\n",
      "GCTTTTGC\n",
      "AGGGGCTTTTGC\n",
      "GGGCTTTTTT\n",
      "GGGCTTTT\n",
      "GGGCTTTTGAAC\n",
      "res aligned to pivot =\n",
      "GGGCT__TTTGC\n",
      "GGGCT__CGTGC\n",
      "GGGC____TTGC\n",
      "GGGCTGCTTTGC\n",
      "TAGCT__TTTGC\n",
      "__GCT__TTTGC\n",
      "AGGGGCTTTTGC\n",
      "GGGCT__TTTTT\n",
      "GGGCT__TTT__\n",
      "GGGCTTTTGAAC\n"
     ]
    },
    {
     "data": {
      "text/plain": [
       "['GGGCT__TTTGC',\n",
       " 'GGGCT__CGTGC',\n",
       " 'GGGC____TTGC',\n",
       " 'GGGCTGCTTTGC',\n",
       " 'TAGCT__TTTGC',\n",
       " '__GCT__TTTGC',\n",
       " 'AGGGGCTTTTGC',\n",
       " 'GGGCT__TTTTT',\n",
       " 'GGGCT__TTT__',\n",
       " 'GGGCTTTTGAAC']"
      ]
     },
     "execution_count": 164,
     "metadata": {},
     "output_type": "execute_result"
    }
   ],
   "source": [
    "n = 10 # length of the initial sequence\n",
    "seq0 = choice(alphabet, n)\n",
    "seq0 = ''.join(seq0)\n",
    "\n",
    "# seq 1 = substitution middle\n",
    "seq1 = substitution(seq0, int(n/2))\n",
    "seq1 = substitution(seq1, int(n/2)+1)\n",
    "# seq 2 = deletion middle\n",
    "seq2 = deletion(seq0, int(n/2)-1)\n",
    "seq2 = deletion(seq2, int(n/2)-1)\n",
    "# seq 3 = insertion middle\n",
    "seq3 = insertion(seq0, int(n/2))\n",
    "seq3 = insertion(seq3, int(n/2))\n",
    "\n",
    "\n",
    "# seq 4 = substitution begining\n",
    "seq4 = substitution(seq0, 0)\n",
    "seq4 = substitution(seq4, 1)\n",
    "# seq 5 = deletion begining\n",
    "seq5 = deletion(seq0, 0)\n",
    "seq5 = deletion(seq5, 0)\n",
    "# seq 6 = insertion begining\n",
    "seq6 = insertion(seq0, 0)\n",
    "seq6 = insertion(seq6, 0)\n",
    "\n",
    "# seq 7 = substitution end\n",
    "seq7 = substitution(seq0, -1)\n",
    "seq7 = substitution(seq7, -2)\n",
    "# seq 8 = deletion end\n",
    "seq8 = deletion(seq0, -1)\n",
    "seq8 = deletion(seq8, -1)\n",
    "# seq 9 = insertion end\n",
    "seq9 = insertion(seq0, -1)\n",
    "seq9 = insertion(seq9, -1)\n",
    "\n",
    "# global alignement\n",
    "align_star_multiple([seq0, seq1, seq2, seq3, seq4, seq5, seq6, seq7, seq8, seq9])"
   ]
  },
  {
   "cell_type": "code",
   "execution_count": 165,
   "metadata": {},
   "outputs": [
    {
     "name": "stdout",
     "output_type": "stream",
     "text": [
      "TEST ADDGAP FUNCTION\n",
      "The initial sequence equals: GCTATCC and the gaplist equals: [1, 4, 7, 0, 0]. The final sequence equals: __G_CT_AT_CC.\n",
      "TEST COST FUNCTION\n",
      "The cost of (C, A) equals -1.\n",
      "The cost of (C, A) equals -1.\n",
      "The cost of (C, T) equals -1.\n",
      "The cost of (T, G) equals -1.\n",
      "The cost of (T, G) equals -1.\n"
     ]
    }
   ],
   "source": [
    "# -*- coding: utf-8 -*-\n",
    "\n",
    "import matplotlib.pyplot as plt\n",
    "from numpy.random import choice\n",
    "\n",
    "\n",
    "def cost(letter1, letter2):\n",
    "    \"\"\" Calculate the cost or score of the alignment of 2 letters.\n",
    "    Parameters:\n",
    "    ----------\n",
    "    letter1: character\n",
    "    letter2: character\n",
    "    Return:\n",
    "    ------\n",
    "    score: int\n",
    "        score of the alignment (-1 if the 2 letters are different, 2 if they are similar)\n",
    "    \"\"\"\n",
    "    if letter1 == letter2:\n",
    "        return 2\n",
    "    else:\n",
    "        return -1\n",
    "\n",
    "\n",
    "def addgap(seq, gaplist, verbose=0):\n",
    "    \"\"\" Insert gaps into sequence.\n",
    "    Parameters:\n",
    "    ----------\n",
    "    seq: string of characters\n",
    "        sequence of nucleotides\n",
    "    gaplist: list of int\n",
    "        list of gaps to insert successively in the sequence seq\n",
    "    Return:\n",
    "    ------\n",
    "    newseq: string of characters\n",
    "        the modified sequence with inserted gaps\n",
    "    \"\"\"\n",
    "    newseq = seq[:]\n",
    "    for g in gaplist:\n",
    "        if g > len(newseq):\n",
    "            print(\"gap postion bigger than sequence length -> gap inserted at the end of the sequence\")\n",
    "        newseq = newseq[:g] + '_' + newseq[g:]\n",
    "        if verbose > 0:\n",
    "            print(\"gap introduced in {}th position -> new sequence equals {}.\".format(g, newseq))\n",
    "    return newseq\n",
    "\n",
    "\n",
    "def substitution(seq, pos, verbose=0, value=None, alphabet=[\"A\", \"C\", \"G\", \"T\"]):\n",
    "    \"\"\" Induce a mutation of the sequence by substituting a letter.\n",
    "    Parameters:\n",
    "    ----------\n",
    "    seq: string of characters\n",
    "        sequence of nucleotides\n",
    "    pos: int in [-len(seq), len(seq)]\n",
    "        position of the mutation\n",
    "    verbose: int (default=0)\n",
    "        level of verbosity\n",
    "    value: None or alphabet item (default=None)\n",
    "        new letter induced by the mutation.\n",
    "        if None, an item different from the initial one is randomly chosen in alphabet.\n",
    "    alphabet: list of characters (default=[\"A\", \"C\", \"G\", \"T\"])\n",
    "        list of nucleotides to consider in sequences\n",
    "    Return:\n",
    "    ------\n",
    "    seqr: string\n",
    "        the modified sequence containing the mutation\n",
    "    \"\"\"\n",
    "    seqr = list(seq[:])\n",
    "    alphabis = alphabet.copy()\n",
    "    alphabis.remove(seqr[pos])\n",
    "    if value == None:\n",
    "        seqr[pos] = choice(alphabis, 1)[0]\n",
    "    elif value in alphabet:\n",
    "        seqr[pos] = value\n",
    "    else:\n",
    "        return \"error\"\n",
    "    seqr = \"\".join(seqr)\n",
    "    if verbose > 0:\n",
    "        print(seqr)\n",
    "    return seqr\n",
    "\n",
    "\n",
    "def insertion(seq, pos, verbose=0, value=None, alphabet=[\"A\", \"T\", \"G\", \"C\"]):\n",
    "    \"\"\" Induce a mutation of the sequence by inserting a new letter.\n",
    "    Parameters:\n",
    "    ----------\n",
    "    seq: string of characters\n",
    "        sequence of nucleotides\n",
    "    pos: int in [-len(seq), len(seq)]\n",
    "        position of the mutation\n",
    "    verbose: int (default=0)\n",
    "        level of verbosity\n",
    "    value: None or alphabet item (default=None)\n",
    "        new letter induced by the mutation.\n",
    "        if None, an item different from the initial one is randomly chosen in alphabet.\n",
    "    alphabet: list of characters (default=[\"A\", \"C\", \"G\", \"T\"])\n",
    "        list of nucleotides to consider in sequences\n",
    "    Return:\n",
    "    ------\n",
    "    seqr: string\n",
    "        the modified sequence containing the mutation\n",
    "    \"\"\"\n",
    "    seqr = seq[:]\n",
    "    if value is None:\n",
    "        value = choice(alphabet, 1)[0]\n",
    "    seqr = seqr[:pos] + value + seqr[pos:]\n",
    "    seqr = \"\".join(seqr)\n",
    "    if verbose > 0:\n",
    "        print(seqr)\n",
    "    return seqr\n",
    "\n",
    "\n",
    "def deletion(seq, pos, verbose=0):\n",
    "    \"\"\" Induce a mutation of the sequence by deleting a letter.\n",
    "    Parameters:\n",
    "    ----------\n",
    "    seq: string of characters\n",
    "        sequence of nucleotides\n",
    "    pos: int in [-len(seq), len(seq)]\n",
    "        position of the mutation\n",
    "    verbose: int (default=0)\n",
    "        level of verbosity\n",
    "    Return:\n",
    "    ------\n",
    "    seqr: string\n",
    "        the modified sequence containing the mutation\n",
    "    \"\"\"\n",
    "    seqr = list(seq[:])\n",
    "    del seqr[pos]\n",
    "    seqr = \"\".join(seqr)\n",
    "    if verbose > 0:\n",
    "        print(seqr)\n",
    "    return seqr\n",
    "\n",
    "\n",
    "def print_table(table):\n",
    "    \"\"\" Display the score or path matrix as a table.\n",
    "    Parameters:\n",
    "    ----------\n",
    "    table: matrix of floats or int\n",
    "        score or path matrix\n",
    "    Return:\n",
    "    ------\n",
    "    none\n",
    "    \"\"\"\n",
    "    plt.figure()\n",
    "    tb = plt.table(cellText=table.astype(int), loc=(0,0), cellLoc='center')\n",
    "    tc = tb.properties()['child_artists']\n",
    "    for cell in tc:\n",
    "        cell.set_height(1/table.shape[0])\n",
    "        cell.set_width(1/table.shape[1])\n",
    "    ax = plt.gca()\n",
    "    ax.set_xticks([])\n",
    "    ax.set_yticks([])\n",
    "    plt.show()\n",
    "\n",
    "\n",
    "if __name__ == \"__main__\":\n",
    "\n",
    "    alphabet = [\"A\", \"C\", \"G\", \"T\"]\n",
    "\n",
    "    print(\"TEST ADDGAP FUNCTION\")\n",
    "    seq = choice(alphabet, 7)\n",
    "    seq = ''.join(seq)\n",
    "    gaplist = [1, 4, 7, 0, 0]\n",
    "    newseq = addgap(seq, gaplist)\n",
    "    print(\"The initial sequence equals: {} and the gaplist equals: {}. \"\n",
    "          \"The final sequence equals: {}.\".format(seq, gaplist, newseq))\n",
    "\n",
    "    print(\"TEST COST FUNCTION\")\n",
    "    for i in range(5):\n",
    "        l1 = choice(alphabet)\n",
    "        l2 = choice(alphabet)\n",
    "        print(\"The cost of ({}, {}) equals {}.\".format(l1, l2, cost(l1, l2)))"
   ]
  },
  {
   "cell_type": "markdown",
   "metadata": {},
   "source": [
    "# LOCAL ALIGNMENT"
   ]
  },
  {
   "cell_type": "code",
   "execution_count": 167,
   "metadata": {},
   "outputs": [
    {
     "name": "stdout",
     "output_type": "stream",
     "text": [
      "----------- local alignment -----------\n",
      "< case 1 >\n",
      "score: 17\n",
      "T-CACACTG\n",
      "TGCACAC-G\n"
     ]
    }
   ],
   "source": [
    "import numpy as np\n",
    "import pandas as pd\n",
    "\n",
    "class local_alignment:\n",
    "    def __init__(self, match_award, mismatch_penalty, gap_penalty):\n",
    "        self.match_award = match_award\n",
    "        self.mismatch_penalty = mismatch_penalty\n",
    "        self.gap_penalty = gap_penalty\n",
    "        self.order_stack = []\n",
    "        self.index_stack = []\n",
    "        \n",
    "    def check_match(self, data, i, j):\n",
    "        if data.index[i] == data.columns[j]: return self.match_award\n",
    "        else: return self.mismatch_penalty\n",
    "    \n",
    "    def make_matrix(self, first_seq, second_seq):\n",
    "        first_seq2 = [\"-\"]\n",
    "        second_seq2 = [\"-\"]\n",
    "        first_seq2.extend(list(first_seq))\n",
    "        second_seq2.extend(list(second_seq))\n",
    "        \n",
    "        data = [np.zeros(len(first_seq2), dtype='int32') for i in second_seq2]\n",
    "        data = pd.DataFrame(data, columns=first_seq2, index=second_seq2)\n",
    "        \n",
    "        # save the route to trace back\n",
    "        flag = []\n",
    "        \n",
    "        # fill out the matrix\n",
    "        for i in range(1, data.shape[0]):\n",
    "            temp = []\n",
    "            for j in range(1, data.shape[1]):\n",
    "                value_score = [data.iloc[i,j-1]+self.gap_penalty,\n",
    "                               data.iloc[i-1,j-1]+self.check_match(data, i, j),\n",
    "                               data.iloc[i-1,j]+self.gap_penalty,\n",
    "                               0]\n",
    "                data.iloc[i,j] = max(value_score)\n",
    "                temp.append([data.iloc[i,j] == item for item in value_score])\n",
    "            flag.append(temp)\n",
    "        return data, flag\n",
    "    \n",
    "    def extract_max(self, data):\n",
    "        temp = np.array(data.max())\n",
    "        col = np.where(temp == temp.max())[0][0]\n",
    "        temp = data.iloc[:,col]\n",
    "        row = np.where(temp == temp.max())[0][0]\n",
    "        return data.max().max(), row, col\n",
    "        \n",
    "    def extract_position(self, i, j, position):\n",
    "        if position == 0: return [i,j-1]\n",
    "        elif position == 1: return [i-1,j-1]\n",
    "        elif position == 2: return [i-1,j]\n",
    "        else: return None\n",
    "    \n",
    "    def stack_route(self, i, j, data, flag, point):\n",
    "        term = flag[i][j]\n",
    "        cnt = flag[i][j].count(True)\n",
    "        \n",
    "        # stack order\n",
    "        for k in range(cnt): self.order_stack.append(point)\n",
    "        \n",
    "        # stack index\n",
    "        if cnt == 1:\n",
    "            pos = term.index(True)\n",
    "            self.index_stack.append(self.extract_position(i, j, pos))\n",
    "        elif cnt == 2:\n",
    "            term = np.array(term)\n",
    "            term = np.where(term == True)[0]\n",
    "            self.index_stack.append(self.extract_position(i, j, term[0]))\n",
    "            self.index_stack.append(self.extract_position(i, j, term[1]))\n",
    "        elif cnt == 3:\n",
    "            for k in range(3): self.index_stack.append(self.extract_position(i, j, k))\n",
    "        else:\n",
    "            print(\"error: 'cnt' is out of range (1,3)\")\n",
    "        return None\n",
    "    \n",
    "    def backtracking(self, data, flag, row, col):\n",
    "        i = row - 1\n",
    "        j = col - 1\n",
    "        point = 0\n",
    "        key = 0\n",
    "        seq_dic = {str(key):[[i,j]]}\n",
    "        \n",
    "        # make index list\n",
    "        while i >= 0 or j >= 0:\n",
    "            self.stack_route(i, j, data, flag, point)\n",
    "            self.order_stack.pop()\n",
    "            term = self.index_stack.pop()\n",
    "            i, j = term[0], term[1]\n",
    "            if data.iloc[i+1,j+1] == 0: break\n",
    "            seq_dic[str(key)].append(term)\n",
    "            point += 1\n",
    "            if len(self.order_stack) != 0 and i < 0 or j < 0:\n",
    "                point = self.order_stack.pop()\n",
    "                term = self.index_stack.pop()\n",
    "                i, j = term[0], term[1]\n",
    "                if data.iloc[i+1,j+1] == 0: break\n",
    "                key += 1\n",
    "                seq_dic[str(key)] = seq_dic[str(key-1)][:point+1]\n",
    "                seq_dic[str(key)].append(term)\n",
    "        \n",
    "        # convert index list to name list\n",
    "        key = 0\n",
    "        for value in seq_dic.values():\n",
    "            row, col = [i for i in zip(*value)]\n",
    "            row = [row[i] if row[i] != row[i+1] else -1 for i in range(len(row)-1)] + [row[-1]]\n",
    "            col = [col[i] if col[i] != col[i+1] else -1 for i in range(len(col)-1)] + [col[-1]]\n",
    "            \n",
    "            row = [data.index[i+1] for i in row]\n",
    "            col = [data.columns[i+1] for i in col]\n",
    "            row = \"\".join(row)[::-1]\n",
    "            col = \"\".join(col)[::-1]\n",
    "            seq_dic[str(key)] = [col, row]\n",
    "            key += 1\n",
    "        return seq_dic\n",
    "    \n",
    "if __name__ == \"__main__\":\n",
    "    # input data\n",
    "    print(\"----------- local alignment -----------\")\n",
    "    #first_seq = input(\"Please enter the first nucleotide sequence: \")\n",
    "    #second_seq = input(\"Please enter the second nucleotide sequence: \")\n",
    "\n",
    "    first_seq = \"AACTCACACTGTT\"\n",
    "    second_seq = \"TGCACACG\"\n",
    "\n",
    "    # assign award and penalties\n",
    "    match_award = 3\n",
    "    mismatch_penalty = -1\n",
    "    gap_penalty = -2\n",
    "    \n",
    "    # local alignment\n",
    "    process = local_alignment(match_award, mismatch_penalty, gap_penalty)\n",
    "    data, flag = process.make_matrix(first_seq, second_seq)\n",
    "    score, row, col = process.extract_max(data)\n",
    "    seq_dic = process.backtracking(data, flag, row, col)\n",
    "    for key in seq_dic.keys():\n",
    "        print(\"< case\",int(key)+1,\">\")\n",
    "        print(\"score:\", score)\n",
    "        print(seq_dic[key][0])\n",
    "        print(seq_dic[key][1])"
   ]
  },
  {
   "cell_type": "code",
   "execution_count": 168,
   "metadata": {},
   "outputs": [
    {
     "data": {
      "text/html": [
       "<div>\n",
       "<style scoped>\n",
       "    .dataframe tbody tr th:only-of-type {\n",
       "        vertical-align: middle;\n",
       "    }\n",
       "\n",
       "    .dataframe tbody tr th {\n",
       "        vertical-align: top;\n",
       "    }\n",
       "\n",
       "    .dataframe thead th {\n",
       "        text-align: right;\n",
       "    }\n",
       "</style>\n",
       "<table border=\"1\" class=\"dataframe\">\n",
       "  <thead>\n",
       "    <tr style=\"text-align: right;\">\n",
       "      <th></th>\n",
       "      <th>-</th>\n",
       "      <th>A</th>\n",
       "      <th>A</th>\n",
       "      <th>C</th>\n",
       "      <th>T</th>\n",
       "      <th>C</th>\n",
       "      <th>A</th>\n",
       "      <th>C</th>\n",
       "      <th>A</th>\n",
       "      <th>C</th>\n",
       "      <th>T</th>\n",
       "      <th>G</th>\n",
       "      <th>T</th>\n",
       "      <th>T</th>\n",
       "    </tr>\n",
       "  </thead>\n",
       "  <tbody>\n",
       "    <tr>\n",
       "      <th>-</th>\n",
       "      <td>0</td>\n",
       "      <td>0</td>\n",
       "      <td>0</td>\n",
       "      <td>0</td>\n",
       "      <td>0</td>\n",
       "      <td>0</td>\n",
       "      <td>0</td>\n",
       "      <td>0</td>\n",
       "      <td>0</td>\n",
       "      <td>0</td>\n",
       "      <td>0</td>\n",
       "      <td>0</td>\n",
       "      <td>0</td>\n",
       "      <td>0</td>\n",
       "    </tr>\n",
       "    <tr>\n",
       "      <th>T</th>\n",
       "      <td>0</td>\n",
       "      <td>0</td>\n",
       "      <td>0</td>\n",
       "      <td>0</td>\n",
       "      <td>3</td>\n",
       "      <td>1</td>\n",
       "      <td>0</td>\n",
       "      <td>0</td>\n",
       "      <td>0</td>\n",
       "      <td>0</td>\n",
       "      <td>3</td>\n",
       "      <td>1</td>\n",
       "      <td>3</td>\n",
       "      <td>3</td>\n",
       "    </tr>\n",
       "    <tr>\n",
       "      <th>G</th>\n",
       "      <td>0</td>\n",
       "      <td>0</td>\n",
       "      <td>0</td>\n",
       "      <td>0</td>\n",
       "      <td>1</td>\n",
       "      <td>2</td>\n",
       "      <td>0</td>\n",
       "      <td>0</td>\n",
       "      <td>0</td>\n",
       "      <td>0</td>\n",
       "      <td>1</td>\n",
       "      <td>6</td>\n",
       "      <td>4</td>\n",
       "      <td>2</td>\n",
       "    </tr>\n",
       "    <tr>\n",
       "      <th>C</th>\n",
       "      <td>0</td>\n",
       "      <td>0</td>\n",
       "      <td>0</td>\n",
       "      <td>3</td>\n",
       "      <td>1</td>\n",
       "      <td>4</td>\n",
       "      <td>2</td>\n",
       "      <td>3</td>\n",
       "      <td>1</td>\n",
       "      <td>3</td>\n",
       "      <td>1</td>\n",
       "      <td>4</td>\n",
       "      <td>5</td>\n",
       "      <td>3</td>\n",
       "    </tr>\n",
       "    <tr>\n",
       "      <th>A</th>\n",
       "      <td>0</td>\n",
       "      <td>3</td>\n",
       "      <td>3</td>\n",
       "      <td>1</td>\n",
       "      <td>2</td>\n",
       "      <td>2</td>\n",
       "      <td>7</td>\n",
       "      <td>5</td>\n",
       "      <td>6</td>\n",
       "      <td>4</td>\n",
       "      <td>2</td>\n",
       "      <td>2</td>\n",
       "      <td>3</td>\n",
       "      <td>4</td>\n",
       "    </tr>\n",
       "    <tr>\n",
       "      <th>C</th>\n",
       "      <td>0</td>\n",
       "      <td>1</td>\n",
       "      <td>2</td>\n",
       "      <td>6</td>\n",
       "      <td>4</td>\n",
       "      <td>5</td>\n",
       "      <td>5</td>\n",
       "      <td>10</td>\n",
       "      <td>8</td>\n",
       "      <td>9</td>\n",
       "      <td>7</td>\n",
       "      <td>5</td>\n",
       "      <td>3</td>\n",
       "      <td>2</td>\n",
       "    </tr>\n",
       "    <tr>\n",
       "      <th>A</th>\n",
       "      <td>0</td>\n",
       "      <td>3</td>\n",
       "      <td>4</td>\n",
       "      <td>4</td>\n",
       "      <td>5</td>\n",
       "      <td>3</td>\n",
       "      <td>8</td>\n",
       "      <td>8</td>\n",
       "      <td>13</td>\n",
       "      <td>11</td>\n",
       "      <td>9</td>\n",
       "      <td>7</td>\n",
       "      <td>5</td>\n",
       "      <td>3</td>\n",
       "    </tr>\n",
       "    <tr>\n",
       "      <th>C</th>\n",
       "      <td>0</td>\n",
       "      <td>1</td>\n",
       "      <td>2</td>\n",
       "      <td>7</td>\n",
       "      <td>5</td>\n",
       "      <td>8</td>\n",
       "      <td>6</td>\n",
       "      <td>11</td>\n",
       "      <td>11</td>\n",
       "      <td>16</td>\n",
       "      <td>14</td>\n",
       "      <td>12</td>\n",
       "      <td>10</td>\n",
       "      <td>8</td>\n",
       "    </tr>\n",
       "    <tr>\n",
       "      <th>G</th>\n",
       "      <td>0</td>\n",
       "      <td>0</td>\n",
       "      <td>0</td>\n",
       "      <td>5</td>\n",
       "      <td>6</td>\n",
       "      <td>6</td>\n",
       "      <td>7</td>\n",
       "      <td>9</td>\n",
       "      <td>10</td>\n",
       "      <td>14</td>\n",
       "      <td>15</td>\n",
       "      <td>17</td>\n",
       "      <td>15</td>\n",
       "      <td>13</td>\n",
       "    </tr>\n",
       "  </tbody>\n",
       "</table>\n",
       "</div>"
      ],
      "text/plain": [
       "   -  A  A  C  T  C  A   C   A   C   T   G   T   T\n",
       "-  0  0  0  0  0  0  0   0   0   0   0   0   0   0\n",
       "T  0  0  0  0  3  1  0   0   0   0   3   1   3   3\n",
       "G  0  0  0  0  1  2  0   0   0   0   1   6   4   2\n",
       "C  0  0  0  3  1  4  2   3   1   3   1   4   5   3\n",
       "A  0  3  3  1  2  2  7   5   6   4   2   2   3   4\n",
       "C  0  1  2  6  4  5  5  10   8   9   7   5   3   2\n",
       "A  0  3  4  4  5  3  8   8  13  11   9   7   5   3\n",
       "C  0  1  2  7  5  8  6  11  11  16  14  12  10   8\n",
       "G  0  0  0  5  6  6  7   9  10  14  15  17  15  13"
      ]
     },
     "execution_count": 168,
     "metadata": {},
     "output_type": "execute_result"
    }
   ],
   "source": [
    "data"
   ]
  },
  {
   "cell_type": "markdown",
   "metadata": {},
   "source": [
    "#  Global Alignment Algorithm"
   ]
  },
  {
   "cell_type": "code",
   "execution_count": 170,
   "metadata": {},
   "outputs": [
    {
     "name": "stdout",
     "output_type": "stream",
     "text": [
      "----------- global alignment -----------\n",
      "< case 1 >\n",
      "score: 14\n",
      "AGTCCT-A\n",
      "AG-CCTTA\n",
      "< case 2 >\n",
      "score: 14\n",
      "AGTCC-TA\n",
      "AG-CCTTA\n"
     ]
    }
   ],
   "source": [
    "import numpy as np\n",
    "import pandas as pd\n",
    "\n",
    "class global_alignment:\n",
    "    def __init__(self, match_award, mismatch_penalty, gap_penalty):\n",
    "        self.match_award = match_award\n",
    "        self.mismatch_penalty = mismatch_penalty\n",
    "        self.gap_penalty = gap_penalty\n",
    "        self.order_stack = []\n",
    "        self.index_stack = []\n",
    "        \n",
    "    def check_match(self, data, i, j):\n",
    "        if data.index[i] == data.columns[j]: return self.match_award\n",
    "        else: return self.mismatch_penalty\n",
    "    \n",
    "    def make_matrix(self, first_seq, second_seq):\n",
    "        first_seq2 = [\"-\"]\n",
    "        second_seq2 = [\"-\"]\n",
    "        first_seq2.extend(list(first_seq))\n",
    "        second_seq2.extend(list(second_seq))\n",
    "        \n",
    "        data = [np.zeros(len(first_seq2), dtype='int32') for i in second_seq2]\n",
    "        data = pd.DataFrame(data, columns=first_seq2, index=second_seq2)\n",
    "        \n",
    "        # fill 1st row and 1st column with gap_penalty\n",
    "        data.iloc[0,:] = [self.gap_penalty*i for i in range(data.shape[1])]\n",
    "        data.iloc[:,0] = [self.gap_penalty*i for i in range(data.shape[0])]\n",
    "        \n",
    "        # save the route to trace back\n",
    "        flag = []\n",
    "        \n",
    "        # fill out the matrix\n",
    "        for i in range(1, data.shape[0]):\n",
    "            temp = []\n",
    "            for j in range(1, data.shape[1]):\n",
    "                value_score = [data.iloc[i,j-1]+self.gap_penalty,\n",
    "                               data.iloc[i-1,j-1]+self.check_match(data, i, j),\n",
    "                               data.iloc[i-1,j]+self.gap_penalty]\n",
    "                data.iloc[i,j] = max(value_score)\n",
    "                temp.append([data.iloc[i,j] == item for item in value_score])\n",
    "            flag.append(temp)\n",
    "        return data, flag\n",
    "    \n",
    "    def extract_position(self, i, j, position):\n",
    "        if position == 0: return [i,j-1]\n",
    "        elif position == 1: return [i-1,j-1]\n",
    "        else: return [i-1,j]\n",
    "    \n",
    "    def stack_route(self, i, j, data, flag, point):\n",
    "        term = flag[i][j]\n",
    "        cnt = flag[i][j].count(True)\n",
    "        \n",
    "        # stack order\n",
    "        for k in range(cnt): self.order_stack.append(point)\n",
    "        \n",
    "        # stack index\n",
    "        if cnt == 1:\n",
    "            pos = term.index(True)\n",
    "            self.index_stack.append(self.extract_position(i, j, pos))\n",
    "        elif cnt == 2:\n",
    "            term = np.array(term)\n",
    "            term = np.where(term == True)[0]\n",
    "            self.index_stack.append(self.extract_position(i, j, term[0]))\n",
    "            self.index_stack.append(self.extract_position(i, j, term[1]))\n",
    "        elif cnt == 3:\n",
    "            for k in range(3): self.index_stack.append(self.extract_position(i, j, k))\n",
    "        else:\n",
    "            print(\"error: 'cnt' is out of range (1,3)\")\n",
    "        return None\n",
    "    \n",
    "    def backtracking(self, data, flag):\n",
    "        i = len(flag) - 1\n",
    "        j = len(flag[0]) - 1\n",
    "        maximum = max(i, j)\n",
    "        point = 0\n",
    "        key = 0\n",
    "        seq_dic = {str(key):[[i,j]]}\n",
    "        \n",
    "        # make index list\n",
    "        while point < maximum or i >= 0 or j >= 0:\n",
    "            self.stack_route(i, j, data, flag, point)\n",
    "            self.order_stack.pop()\n",
    "            term = self.index_stack.pop()\n",
    "            i, j = term[0], term[1]\n",
    "            if i < 0 or j < 0: break\n",
    "            seq_dic[str(key)].append(term)\n",
    "            point += 1\n",
    "            if point > maximum and len(self.order_stack) != 0:\n",
    "                point = self.order_stack.pop()\n",
    "                term = self.index_stack.pop()\n",
    "                i, j = term[0], term[1]\n",
    "                key += 1\n",
    "                seq_dic[str(key)] = seq_dic[str(key-1)][:point+1]\n",
    "                seq_dic[str(key)].append(term)\n",
    "        \n",
    "        # convert index list to name list\n",
    "        key = 0\n",
    "        for value in seq_dic.values():\n",
    "            row, col = [i for i in zip(*value)]\n",
    "            row = [row[i] if row[i] != row[i+1] else -1 for i in range(len(row)-1)] + [row[-1]]\n",
    "            col = [col[i] if col[i] != col[i+1] else -1 for i in range(len(col)-1)] + [col[-1]]\n",
    "            \n",
    "            row = [data.index[i+1] for i in row]\n",
    "            col = [data.columns[i+1] for i in col]\n",
    "            row = \"\".join(row)[::-1]\n",
    "            col = \"\".join(col)[::-1]\n",
    "            seq_dic[str(key)] = [col, row]\n",
    "            key += 1\n",
    "        return seq_dic\n",
    "\n",
    "if __name__ == \"__main__\":\n",
    "    # input data\n",
    "    print(\"----------- global alignment -----------\")\n",
    "    #first_seq = input(\"Please enter the first nucleotide sequence: \")\n",
    "    #second_seq = input(\"Please enter the second nucleotide sequence: \")\n",
    "    \n",
    "    first_seq = \"AGTCCTA\"\n",
    "    second_seq = \"AGCCTTA\"\n",
    "    \n",
    "    # assign award and penalties\n",
    "    match_award = 3\n",
    "    mismatch_penalty = -1\n",
    "    gap_penalty = -2\n",
    "    \n",
    "    # global alignment\n",
    "    process = global_alignment(match_award, mismatch_penalty, gap_penalty)\n",
    "    data, flag = process.make_matrix(first_seq, second_seq)\n",
    "    score = data.iloc[-1,-1]\n",
    "    seq_dic = process.backtracking(data, flag)\n",
    "    for key in seq_dic.keys():\n",
    "        print(\"< case\",int(key)+1,\">\")\n",
    "        print(\"score:\", score)\n",
    "        print(seq_dic[key][0])\n",
    "        print(seq_dic[key][1])"
   ]
  },
  {
   "cell_type": "code",
   "execution_count": 171,
   "metadata": {},
   "outputs": [
    {
     "data": {
      "text/html": [
       "<div>\n",
       "<style scoped>\n",
       "    .dataframe tbody tr th:only-of-type {\n",
       "        vertical-align: middle;\n",
       "    }\n",
       "\n",
       "    .dataframe tbody tr th {\n",
       "        vertical-align: top;\n",
       "    }\n",
       "\n",
       "    .dataframe thead th {\n",
       "        text-align: right;\n",
       "    }\n",
       "</style>\n",
       "<table border=\"1\" class=\"dataframe\">\n",
       "  <thead>\n",
       "    <tr style=\"text-align: right;\">\n",
       "      <th></th>\n",
       "      <th>-</th>\n",
       "      <th>A</th>\n",
       "      <th>G</th>\n",
       "      <th>T</th>\n",
       "      <th>C</th>\n",
       "      <th>C</th>\n",
       "      <th>T</th>\n",
       "      <th>A</th>\n",
       "    </tr>\n",
       "  </thead>\n",
       "  <tbody>\n",
       "    <tr>\n",
       "      <th>-</th>\n",
       "      <td>0</td>\n",
       "      <td>-2</td>\n",
       "      <td>-4</td>\n",
       "      <td>-6</td>\n",
       "      <td>-8</td>\n",
       "      <td>-10</td>\n",
       "      <td>-12</td>\n",
       "      <td>-14</td>\n",
       "    </tr>\n",
       "    <tr>\n",
       "      <th>A</th>\n",
       "      <td>-2</td>\n",
       "      <td>3</td>\n",
       "      <td>1</td>\n",
       "      <td>-1</td>\n",
       "      <td>-3</td>\n",
       "      <td>-5</td>\n",
       "      <td>-7</td>\n",
       "      <td>-9</td>\n",
       "    </tr>\n",
       "    <tr>\n",
       "      <th>G</th>\n",
       "      <td>-4</td>\n",
       "      <td>1</td>\n",
       "      <td>6</td>\n",
       "      <td>4</td>\n",
       "      <td>2</td>\n",
       "      <td>0</td>\n",
       "      <td>-2</td>\n",
       "      <td>-4</td>\n",
       "    </tr>\n",
       "    <tr>\n",
       "      <th>C</th>\n",
       "      <td>-6</td>\n",
       "      <td>-1</td>\n",
       "      <td>4</td>\n",
       "      <td>5</td>\n",
       "      <td>7</td>\n",
       "      <td>5</td>\n",
       "      <td>3</td>\n",
       "      <td>1</td>\n",
       "    </tr>\n",
       "    <tr>\n",
       "      <th>C</th>\n",
       "      <td>-8</td>\n",
       "      <td>-3</td>\n",
       "      <td>2</td>\n",
       "      <td>3</td>\n",
       "      <td>8</td>\n",
       "      <td>10</td>\n",
       "      <td>8</td>\n",
       "      <td>6</td>\n",
       "    </tr>\n",
       "    <tr>\n",
       "      <th>T</th>\n",
       "      <td>-10</td>\n",
       "      <td>-5</td>\n",
       "      <td>0</td>\n",
       "      <td>5</td>\n",
       "      <td>6</td>\n",
       "      <td>8</td>\n",
       "      <td>13</td>\n",
       "      <td>11</td>\n",
       "    </tr>\n",
       "    <tr>\n",
       "      <th>T</th>\n",
       "      <td>-12</td>\n",
       "      <td>-7</td>\n",
       "      <td>-2</td>\n",
       "      <td>3</td>\n",
       "      <td>4</td>\n",
       "      <td>6</td>\n",
       "      <td>11</td>\n",
       "      <td>12</td>\n",
       "    </tr>\n",
       "    <tr>\n",
       "      <th>A</th>\n",
       "      <td>-14</td>\n",
       "      <td>-9</td>\n",
       "      <td>-4</td>\n",
       "      <td>1</td>\n",
       "      <td>2</td>\n",
       "      <td>4</td>\n",
       "      <td>9</td>\n",
       "      <td>14</td>\n",
       "    </tr>\n",
       "  </tbody>\n",
       "</table>\n",
       "</div>"
      ],
      "text/plain": [
       "    -  A  G  T  C   C   T   A\n",
       "-   0 -2 -4 -6 -8 -10 -12 -14\n",
       "A  -2  3  1 -1 -3  -5  -7  -9\n",
       "G  -4  1  6  4  2   0  -2  -4\n",
       "C  -6 -1  4  5  7   5   3   1\n",
       "C  -8 -3  2  3  8  10   8   6\n",
       "T -10 -5  0  5  6   8  13  11\n",
       "T -12 -7 -2  3  4   6  11  12\n",
       "A -14 -9 -4  1  2   4   9  14"
      ]
     },
     "execution_count": 171,
     "metadata": {},
     "output_type": "execute_result"
    }
   ],
   "source": [
    "data"
   ]
  },
  {
   "cell_type": "markdown",
   "metadata": {},
   "source": [
    "# Needleman and Wunsch Algorithm"
   ]
  },
  {
   "cell_type": "code",
   "execution_count": 172,
   "metadata": {},
   "outputs": [
    {
     "name": "stdout",
     "output_type": "stream",
     "text": [
      "___A_TGAG_AT\n",
      "EXAMPLE 0 : 2a2\n",
      "\n",
      "(array([[  0.,  -3.,  -6.,  -9., -12., -15., -18., -21., -24.],\n",
      "       [ -3.,   2.,  -1.,  -4.,  -7., -10., -13., -16., -19.],\n",
      "       [ -6.,  -1.,   1.,  -2.,  -5.,  -8., -11., -14., -14.],\n",
      "       [ -9.,  -4.,   1.,   3.,   0.,  -3.,  -6.,  -9., -12.],\n",
      "       [-12.,  -7.,  -2.,   0.,   5.,   2.,  -1.,  -4.,  -7.],\n",
      "       [-15., -10.,  -5.,   0.,   2.,   7.,   4.,   1.,  -2.],\n",
      "       [-18., -13.,  -8.,  -3.,   2.,   4.,   9.,   6.,   3.],\n",
      "       [-21., -16., -11.,  -6.,  -1.,   1.,   6.,   8.,   8.]]), array([[0., 1., 1., 1., 1., 1., 1., 1., 1.],\n",
      "       [3., 2., 1., 1., 2., 1., 2., 1., 1.],\n",
      "       [3., 3., 2., 2., 2., 2., 2., 2., 2.],\n",
      "       [3., 3., 2., 2., 1., 2., 1., 2., 1.],\n",
      "       [3., 2., 3., 2., 2., 1., 2., 1., 1.],\n",
      "       [3., 3., 2., 2., 3., 2., 1., 2., 1.],\n",
      "       [3., 2., 3., 3., 2., 3., 2., 1., 1.],\n",
      "       [3., 3., 3., 3., 3., 2., 3., 2., 2.]]), ['ATGAGA_T', 'AGGAGAGT'], [])\n",
      "EXAMPLE 1 : COURSE PAGE 16\n",
      "\n",
      "pairs = [(0, 1), (0, 2), (0, 3), (0, 4), (1, 2), (1, 3), (1, 4), (2, 3), (2, 4), (3, 4)]\n",
      "scores2a2 = [8.0, -2.0, 3.0, 1.0, 1.0, 11.0, -2.0, 1.0, 1.0, -2.0]\n",
      "global scores = [10.0, 18.0, 1.0, 13.0, -2.0]\n",
      "pivot sequence =  AGGAGAGT\n",
      "initial seqs =\n",
      "ATGAGAT\n",
      "AGGAGAGT\n",
      "GGAGG\n",
      "AGGGAGT\n",
      "AGAAC\n",
      "res aligned to pivot =\n",
      "\n",
      "ATGAGA_T\n",
      "AGGAGAGT\n",
      "_GGAG_G_\n",
      "AGG_GAGT\n",
      "A_GA_A_C\n",
      "EXAMPLE 2 : TEST ON SYNTHESIZED DATA\n",
      "\n",
      "TATGGCA\n",
      "TATCGCA\n",
      "TTGCA\n",
      "TTATGGGCA\n",
      "TATGTGCAAC\n",
      "pairs = [(0, 1), (0, 2), (0, 3), (0, 4), (1, 2), (1, 3), (1, 4), (2, 3), (2, 4), (3, 4)]\n",
      "scores2a2 = [11.0, 4.0, 8.0, 5.0, 4.0, 5.0, 2.0, -2.0, -5.0, 4.0]\n",
      "global scores = [28.0, 22.0, 1.0, 15.0, 6.0]\n",
      "pivot sequence =  TATGGCA\n",
      "initial seqs =\n",
      "TATGGCA\n",
      "TATCGCA\n",
      "TTGCA\n",
      "TTATGGGCA\n",
      "TATGTGCAAC\n",
      "res aligned to pivot =\n",
      "\n",
      "_TAT_GGC_A_\n",
      "_TAT_CGC_A_\n",
      "_T_T__GC_A_\n",
      "TTATGGGC_A_\n",
      "_TATGTGCAAC\n"
     ]
    }
   ],
   "source": [
    "# -*- coding: utf-8 -*-\n",
    "\n",
    "import numpy as np\n",
    "import itertools\n",
    "import utils\n",
    "\n",
    "from utils import cost, addgap\n",
    "\n",
    "\n",
    "def align_nw_2by2(seq1, seq2):\n",
    "    \"\"\" Perform 2 by 2 sequence alignment with the Needleman and Wunsch algorithm.\n",
    "    Parameters:\n",
    "    ----------\n",
    "    seq1: string of characters of len=n1\n",
    "        sequence of nucleotides\n",
    "    seq2: string of characters of len=n2\n",
    "        sequence of nucleotides\n",
    "    Return:\n",
    "    ------\n",
    "    scores: matrix of floats of dim (n1+1, n2+1)\n",
    "        \n",
    "    paths: matrix of floats of dim (n1+1, n2+1)\n",
    "        \n",
    "    aligned: list of 2 strings\n",
    "        contains the aligned seq1 and seq2 respectively \n",
    "    L: list of int\n",
    "        list of the positions of the inserted gaps\n",
    "    \"\"\"\n",
    "    n1, n2 = len(seq1), len(seq2)\n",
    "    # initialization: path matrix, score matrix, aligned sequences list, gaps list\n",
    "    paths = np.zeros((n1 + 1, n2 + 1))\n",
    "    scores = np.zeros((n1 + 1, n2 + 1))\n",
    "    aligned = [\"\", \"\"]\n",
    "    L = []\n",
    "    for i in range(1, n1 + 1):  # browsing seq1 indexes\n",
    "        scores[i, 0] = scores[i - 1, 0] - 3\n",
    "        paths[i, 0] = 3\n",
    "        for j in range(1, n2 + 1):  # browsing seq2 indexes\n",
    "            scores[0, j] = scores[0, j - 1] - 3\n",
    "            paths[0, j] = 1\n",
    "            c1 = scores[i - 1, j - 1] + cost(seq1[i - 1], seq2[j - 1])\n",
    "            c2 = scores[i - 1, j] - 3\n",
    "            c3 = scores[i, j - 1] - 3\n",
    "            scores[i, j] = max(c1, c2, c3)\n",
    "            if scores[i, j] == c1:\n",
    "                paths[i, j] = 2\n",
    "            elif scores[i, j] == c2:\n",
    "                paths[i, j] = 3\n",
    "            elif scores[i, j] == c3:\n",
    "                paths[i, j] = 1\n",
    "\n",
    "    while i != 0 or j != 0:\n",
    "        if paths[i, j] == 1:\n",
    "            aligned[0] += '_'\n",
    "            aligned[1] += seq2[j - 1]\n",
    "            j = j - 1\n",
    "        elif paths[i, j] == 2:\n",
    "            aligned[0] += seq1[i - 1]\n",
    "            aligned[1] += seq2[j - 1]\n",
    "            j = j - 1\n",
    "            i = i - 1\n",
    "        elif paths[i, j] == 3:\n",
    "            aligned[0] += seq1[i - 1]\n",
    "            aligned[1] += '_'\n",
    "            L.append(j)  # save gaps introduced by alignment\n",
    "            i = i - 1\n",
    "    aligned[0] = aligned[0][::-1]\n",
    "    aligned[1] = aligned[1][::-1]\n",
    "    return scores, paths, aligned, L\n",
    "\n",
    "\n",
    "def align_star_multiple(seqs, verbose=2):\n",
    "    \"\"\" Perform 2 by 2 sequence alignment with the Needleman and Wunsch algorithm.\n",
    "    Parameters:\n",
    "    ----------\n",
    "    seqs: list of strings of characters\n",
    "        list of sequences of nucleotides to align\n",
    "    verbose: int (default=1)\n",
    "        level of verbosity\n",
    "    Return:\n",
    "    ------\n",
    "    res: \n",
    "    \"\"\"\n",
    "    # enumerate all possible combinations of 2 sequences\n",
    "    pairs = list(itertools.combinations(list(np.arange(len(seqs))), 2))\n",
    "    if verbose > 1:\n",
    "        print(\"pairs =\", pairs)\n",
    "    # compute 2 by 2 scores for all combinaisons\n",
    "    scores2a2 = pairs.copy()\n",
    "    for ip, p in enumerate(pairs):\n",
    "        scores2a2[ip] = align_nw_2by2(seqs[p[0]], seqs[p[1]])[0][-1, -1]\n",
    "    if verbose > 1:\n",
    "        print(\"scores2a2 =\", scores2a2)\n",
    "    # compute global scores for each sequence as sum of 2by2 scores\n",
    "    scores = [0]*len(seqs)\n",
    "    for i in range(len(seqs)):\n",
    "        scores[i] = np.sum([sc for sci, sc in enumerate(scores2a2) if i in pairs[sci]])\n",
    "    if verbose > 1:\n",
    "        print(\"global scores =\", scores)\n",
    "    # choose pivot sequence as the one with the best (highest) global score\n",
    "    imax = scores.index(max(scores))  # index of the pivot sequence\n",
    "    pivot = seqs[imax]  # pivot sequence\n",
    "    if verbose > 0:\n",
    "        print(\"pivot sequence = \", pivot)\n",
    "    # align all w.r.t pivot\n",
    "    if verbose > 0:\n",
    "        print(\"initial seqs =\")\n",
    "        print(\"\\n\".join(str(s) for s in seqs))\n",
    "    res = seqs.copy()\n",
    "    # align all sequences all together\n",
    "    for ir in range(len(res)):\n",
    "        # align sequences to pivot\n",
    "        if res[ir] != pivot:  # the pivot sequence does not need to be aligned to itself\n",
    "            alignment = align_nw_2by2(res[ir], res[imax])\n",
    "            res[ir], res[imax] = alignment[2]  # result of the alignment\n",
    "            L = alignment[3]  # result list gap position to consider\n",
    "            if res[imax] != pivot:  # if new gaps were introduced into the pivot sequence with the 2by2 alignment\n",
    "                pivot = res[imax]  # update the pivot\n",
    "            # and update all the other sequences by inserting the same gaps (positions stored in L)\n",
    "            for i in range(ir):\n",
    "                if res[i] != pivot:\n",
    "                    res[i] = addgap(res[i], L)\n",
    "    if verbose > 0:\n",
    "        print(\"res aligned to pivot =\\n\")\n",
    "        print(\"\\n\".join(str(r) for r in res))\n",
    "    return res\n",
    "\n",
    "\n",
    "if __name__ == \"__main__\":\n",
    "    from numpy.random import choice\n",
    "\n",
    "    ex = \"ATGAGAT\"\n",
    "    print(addgap(ex, [5, 1, 0, 0, 0]))\n",
    "\n",
    "    print(\"EXAMPLE 0 : 2a2\\n\")\n",
    "    print(align_nw_2by2(\"ATGAGAT\", \"AGGAGAGT\"))\n",
    "    print(\"EXAMPLE 1 : COURSE PAGE 16\\n\")\n",
    "    align_star_multiple([\"ATGAGAT\", \"AGGAGAGT\", \"GGAGG\", \"AGGGAGT\", \"AGAAC\"])\n",
    "    print(\"EXAMPLE 2 : TEST ON SYNTHESIZED DATA\\n\")\n",
    "    alphabet = [\"A\", \"C\", \"G\", \"T\"]\n",
    "    seq0 = choice(alphabet, 7)\n",
    "    seq0 = ''.join(seq0)\n",
    "    print(seq0)\n",
    "    # seq 1 = substitution middle\n",
    "    seq1 = seq0[:]\n",
    "    alphabet.remove(seq1[3])\n",
    "    seq1 = list(seq1)\n",
    "    seq1[3] = choice(alphabet, 1)[0]\n",
    "    seq1 = \"\".join(seq1)\n",
    "    print(seq1)\n",
    "    # seq 2 = deletion pos 5 and end\n",
    "    seq2 = list(seq0[:])\n",
    "    seq2.remove(seq2[4])\n",
    "    seq2.remove(seq2[5])\n",
    "    seq2 = \"\".join(seq2)\n",
    "    print(seq2)\n",
    "    # seq 3 = insertion T beginning and insertion middle\n",
    "    seq3 = seq0[:]\n",
    "    seq3 = \"T\" + seq3\n",
    "    seq3 = seq3[:4] + 'G' + seq3[4:]\n",
    "    print(seq3)\n",
    "    # seq 4 = double insertion AC end and insertion middle\n",
    "    seq4 = seq0[:]\n",
    "    seq4 = seq4 + \"AC\"\n",
    "    seq4 = seq4[:4] + 'T' + seq4[4:]\n",
    "    print(seq4)\n",
    "    # global alignement\n",
    "    align_star_multiple([seq0, seq1, seq2, seq3, seq4])"
   ]
  },
  {
   "cell_type": "markdown",
   "metadata": {},
   "source": [
    "# Smith-Waterman algorithm for local alignment"
   ]
  },
  {
   "cell_type": "code",
   "execution_count": 173,
   "metadata": {},
   "outputs": [
    {
     "name": "stdout",
     "output_type": "stream",
     "text": [
      "\n",
      " Identities = 59/118 (50.0%), Gaps = 50/118 (42.4%)\n",
      "\n",
      "Query  1     G-AGCAAGTGA-TGC-GAGAGCTGCCCATCCT--------CCAACCAGCATGCCCCTAGA  60  \n",
      "             | ||:|:|  | |:| ||||:|| |  | | |        | ||||  |  |||   |||\n",
      "Sbjct  1     GGAGTACG--ACTTCAGAGATCT-C--A-C-TTGGTGTATC-AACC--C--GCC---AGA  60  \n",
      "\n",
      "Query  61    ------CA--TTG-A-CACTGCATCGGAGT-CAG-GCCAAGAT----CCGCAGGACAG  118 \n",
      "                   ||  ||| | :| || |||  |:| |:| || | |||    |:||:| | ||\n",
      "Sbjct  61    GAGAATCAAATTGGATTA-TG-ATC--AATACTGTGC-A-GATGTGGCTGCTG-A-AG  118 \n",
      "\n"
     ]
    },
    {
     "ename": "SystemExit",
     "evalue": "",
     "output_type": "error",
     "traceback": [
      "An exception has occurred, use %tb to see the full traceback.\n",
      "\u001b[0;31mSystemExit\u001b[0m\n"
     ]
    },
    {
     "name": "stderr",
     "output_type": "stream",
     "text": [
      "/home/subinesh/anaconda3/lib/python3.6/site-packages/IPython/core/interactiveshell.py:2969: UserWarning: To exit: use 'exit', 'quit', or Ctrl-D.\n",
      "  warn(\"To exit: use 'exit', 'quit', or Ctrl-D.\", stacklevel=1)\n"
     ]
    }
   ],
   "source": [
    "'''A Python implementation of the Smith-Waterman algorithm for local alignment\n",
    "of nucleotide sequences.\n",
    "'''\n",
    "\n",
    "import argparse\n",
    "import os\n",
    "import re\n",
    "import sys\n",
    "import unittest\n",
    "\n",
    "\n",
    "# These scores are taken from Wikipedia.\n",
    "# en.wikipedia.org/wiki/Smith%E2%80%93Waterman_algorithm\n",
    "match    = 2\n",
    "mismatch = -1\n",
    "gap      = -1\n",
    "seq1     = \"GTCCAGCAGAGCAAGTGATGCGAGAGCTGCCCATCCTCCAACCAGCATGCCCCTAGACATTGACACTGCATCGGAGTCAGGCCAAGATCCGCAGGACAGT\"\n",
    "seq2     = \"GGAGTACGACTTCAGAGATCTCACTTGGTGTATCAACCCGCCAGAGAGAATCAAATTGGATTATGATCAATACTGTGCAGATGTGGCTGCTGAAGAACTC\"\n",
    "\n",
    "\n",
    "def main():\n",
    "    try:\n",
    "        parse_cmd_line()\n",
    "    except ValueError as err:\n",
    "        print('error:', err)\n",
    "        return\n",
    "\n",
    "    # The scoring matrix contains an extra row and column for the gap (-), hence\n",
    "    # the +1 here.\n",
    "    rows = len(seq1) + 1\n",
    "    cols = len(seq2) + 1\n",
    "\n",
    "    # Initialize the scoring matrix.\n",
    "    score_matrix, start_pos = create_score_matrix(rows, cols)\n",
    "\n",
    "    # Traceback. Find the optimal path through the scoring matrix. This path\n",
    "    # corresponds to the optimal local sequence alignment.\n",
    "    seq1_aligned, seq2_aligned = traceback(score_matrix, start_pos)\n",
    "    assert len(seq1_aligned) == len(seq2_aligned), 'aligned strings are not the same size'\n",
    "\n",
    "    # Pretty print the results. The printing follows the format of BLAST results\n",
    "    # as closely as possible.\n",
    "    alignment_str, idents, gaps, mismatches = alignment_string(seq1_aligned, seq2_aligned)\n",
    "    alength = len(seq1_aligned)\n",
    "    print()\n",
    "    print(' Identities = {0}/{1} ({2:.1%}), Gaps = {3}/{4} ({5:.1%})'.format(idents,\n",
    "          alength, idents / alength, gaps, alength, gaps / alength))\n",
    "    print()\n",
    "    for i in range(0, alength, 60):\n",
    "        seq1_slice = seq1_aligned[i:i+60]\n",
    "        print('Query  {0:<4}  {1}  {2:<4}'.format(i + 1, seq1_slice, i + len(seq1_slice)))\n",
    "        print('             {0}'.format(alignment_str[i:i+60]))\n",
    "        seq2_slice = seq2_aligned[i:i+60]\n",
    "        print('Sbjct  {0:<4}  {1}  {2:<4}'.format(i + 1, seq2_slice, i + len(seq2_slice)))\n",
    "        print()\n",
    "\n",
    "\n",
    "def parse_cmd_line():\n",
    "    '''Parse the command line arguments.\n",
    "\n",
    "    Create a help menu, take input from the command line, and validate the\n",
    "    input by ensuring it does not contain invalid characters (i.e. characters\n",
    "    that aren't the bases A, C, G, or T).\n",
    "    '''\n",
    "\n",
    "\n",
    "\n",
    "    seq1 = \"ATAGACGACATACAGACAGCATACAGACAGCATACAGA\"\n",
    "    seq2 = \"TTTAGCATGCGCATATCAGCAATACAGACAGATACG\"\n",
    "\n",
    "\n",
    "def create_score_matrix(rows, cols):\n",
    "    '''Create a matrix of scores representing trial alignments of the two sequences.\n",
    "\n",
    "    Sequence alignment can be treated as a graph search problem. This function\n",
    "    creates a graph (2D matrix) of scores, which are based on trial alignments\n",
    "    of different base pairs. The path with the highest cummulative score is the\n",
    "    best alignment.\n",
    "    '''\n",
    "    score_matrix = [[0 for col in range(cols)] for row in range(rows)]\n",
    "\n",
    "    # Fill the scoring matrix.\n",
    "    max_score = 0\n",
    "    max_pos   = None    # The row and columbn of the highest score in matrix.\n",
    "    for i in range(1, rows):\n",
    "        for j in range(1, cols):\n",
    "            score = calc_score(score_matrix, i, j)\n",
    "            if score > max_score:\n",
    "                max_score = score\n",
    "                max_pos   = (i, j)\n",
    "\n",
    "            score_matrix[i][j] = score\n",
    "\n",
    "    assert max_pos is not None, 'the x, y position with the highest score was not found'\n",
    "\n",
    "    return score_matrix, max_pos\n",
    "\n",
    "\n",
    "def calc_score(matrix, x, y):\n",
    "    '''Calculate score for a given x, y position in the scoring matrix.\n",
    "\n",
    "    The score is based on the up, left, and upper-left neighbors.\n",
    "    '''\n",
    "    similarity = match if seq1[x - 1] == seq2[y - 1] else mismatch\n",
    "\n",
    "    diag_score = matrix[x - 1][y - 1] + similarity\n",
    "    up_score   = matrix[x - 1][y] + gap\n",
    "    left_score = matrix[x][y - 1] + gap\n",
    "\n",
    "    return max(0, diag_score, up_score, left_score)\n",
    "\n",
    "\n",
    "def traceback(score_matrix, start_pos):\n",
    "    '''Find the optimal path through the matrix.\n",
    "\n",
    "    This function traces a path from the bottom-right to the top-left corner of\n",
    "    the scoring matrix. Each move corresponds to a match, mismatch, or gap in one\n",
    "    or both of the sequences being aligned. Moves are determined by the score of\n",
    "    three adjacent squares: the upper square, the left square, and the diagonal\n",
    "    upper-left square.\n",
    "\n",
    "    WHAT EACH MOVE REPRESENTS\n",
    "        diagonal: match/mismatch\n",
    "        up:       gap in sequence 1\n",
    "        left:     gap in sequence 2\n",
    "    '''\n",
    "\n",
    "    END, DIAG, UP, LEFT = range(4)\n",
    "    aligned_seq1 = []\n",
    "    aligned_seq2 = []\n",
    "    x, y         = start_pos\n",
    "    move         = next_move(score_matrix, x, y)\n",
    "    while move != END:\n",
    "        if move == DIAG:\n",
    "            aligned_seq1.append(seq1[x - 1])\n",
    "            aligned_seq2.append(seq2[y - 1])\n",
    "            x -= 1\n",
    "            y -= 1\n",
    "        elif move == UP:\n",
    "            aligned_seq1.append(seq1[x - 1])\n",
    "            aligned_seq2.append('-')\n",
    "            x -= 1\n",
    "        else:\n",
    "            aligned_seq1.append('-')\n",
    "            aligned_seq2.append(seq2[y - 1])\n",
    "            y -= 1\n",
    "\n",
    "        move = next_move(score_matrix, x, y)\n",
    "\n",
    "    aligned_seq1.append(seq1[x - 1])\n",
    "    aligned_seq2.append(seq1[y - 1])\n",
    "\n",
    "    return ''.join(reversed(aligned_seq1)), ''.join(reversed(aligned_seq2))\n",
    "\n",
    "\n",
    "def next_move(score_matrix, x, y):\n",
    "    diag = score_matrix[x - 1][y - 1]\n",
    "    up   = score_matrix[x - 1][y]\n",
    "    left = score_matrix[x][y - 1]\n",
    "    if diag >= up and diag >= left:     # Tie goes to the DIAG move.\n",
    "        return 1 if diag != 0 else 0    # 1 signals a DIAG move. 0 signals the end.\n",
    "    elif up > diag and up >= left:      # Tie goes to UP move.\n",
    "        return 2 if up != 0 else 0      # UP move or end.\n",
    "    elif left > diag and left > up:\n",
    "        return 3 if left != 0 else 0    # LEFT move or end.\n",
    "    else:\n",
    "        # Execution should not reach here.\n",
    "        raise ValueError('invalid move during traceback')\n",
    "\n",
    "\n",
    "def alignment_string(aligned_seq1, aligned_seq2):\n",
    "    '''Construct a special string showing identities, gaps, and mismatches.\n",
    "\n",
    "    This string is printed between the two aligned sequences and shows the\n",
    "    identities (|), gaps (-), and mismatches (:). As the string is constructed,\n",
    "    it also counts number of identities, gaps, and mismatches and returns the\n",
    "    counts along with the alignment string.\n",
    "\n",
    "    AAGGATGCCTCAAATCGATCT-TTTTCTTGG-\n",
    "    ::||::::::||:|::::::: |:  :||:|   <-- alignment string\n",
    "    CTGGTACTTGCAGAGAAGGGGGTA--ATTTGG\n",
    "    '''\n",
    "    # Build the string as a list of characters to avoid costly string\n",
    "    # concatenation.\n",
    "    idents, gaps, mismatches = 0, 0, 0\n",
    "    alignment_string = []\n",
    "    for base1, base2 in zip(aligned_seq1, aligned_seq2):\n",
    "        if base1 == base2:\n",
    "            alignment_string.append('|')\n",
    "            idents += 1\n",
    "        elif '-' in (base1, base2):\n",
    "            alignment_string.append(' ')\n",
    "            gaps += 1\n",
    "        else:\n",
    "            alignment_string.append(':')\n",
    "            mismatches += 1\n",
    "\n",
    "    return ''.join(alignment_string), idents, gaps, mismatches\n",
    "\n",
    "\n",
    "def print_matrix(matrix):\n",
    "    '''Print the scoring matrix.\n",
    "\n",
    "    ex:\n",
    "    0   0   0   0   0   0\n",
    "    0   2   1   2   1   2\n",
    "    0   1   1   1   1   1\n",
    "    0   0   3   2   3   2\n",
    "    0   2   2   5   4   5\n",
    "    0   1   4   4   7   6\n",
    "    '''\n",
    "    for row in matrix:\n",
    "        for col in row:\n",
    "            print('{0:>4}'.format(col))\n",
    "        print()\n",
    "\n",
    "\n",
    "class ScoreMatrixTest(unittest.TestCase):\n",
    "    '''Compare the matrix produced by create_score_matrix() with a known matrix.'''\n",
    "    def test_matrix(self):\n",
    "        #                -   A   C   A   C   A   C   T   A\n",
    "        known_matrix = [[0,  0,  0,  0,  0,  0,  0,  0,  0],  # -\n",
    "                        [0,  2,  1,  2,  1,  2,  1,  0,  2],  # A\n",
    "                        [0,  1,  1,  1,  1,  1,  1,  0,  1],  # G\n",
    "                        [0,  0,  3,  2,  3,  2,  3,  2,  1],  # C\n",
    "                        [0,  2,  2,  5,  4,  5,  4,  3,  4],  # A\n",
    "                        [0,  1,  4,  4,  7,  6,  7,  6,  5],  # C\n",
    "                        [0,  2,  3,  6,  6,  9,  8,  7,  8],  # A\n",
    "                        [0,  1,  4,  5,  8,  8, 11, 10,  9],  # C\n",
    "                        [0,  2,  3,  6,  7, 10, 10, 10, 12]]  # A\n",
    "\n",
    "        global seq1, seq2\n",
    "        seq1 = 'AGCACACA'\n",
    "        seq2 = 'ACACACTA'\n",
    "        rows = len(seq1) + 1\n",
    "        cols = len(seq2) + 1\n",
    "\n",
    "        matrix_to_test, max_pos = create_score_matrix(rows, cols)\n",
    "        self.assertEqual(known_matrix, matrix_to_test)\n",
    "\n",
    "\n",
    "if __name__ == '__main__':\n",
    "    sys.exit(main())"
   ]
  },
  {
   "cell_type": "markdown",
   "metadata": {},
   "source": [
    "# MUTATION-DETECTION:"
   ]
  },
  {
   "cell_type": "code",
   "execution_count": 175,
   "metadata": {},
   "outputs": [
    {
     "name": "stdout",
     "output_type": "stream",
     "text": [
      "Found 93 mutation(s) for id NP_001273979.1\n",
      "Found 165 mutation(s) for id NP_001017978.1\n",
      "Found 165 mutation(s) for id sp|Q5H943.1|KKLC1_HUMAN\n",
      "Found 134 mutation(s) for id AAC35497.1\n",
      "Found 174 mutation(s) for id XP_002699503.1\n",
      "Found 161 mutation(s) for id sp|Q4R717.1|KKLC1_MACFA\n",
      "Found 138 mutation(s) for id AAN12271.1\n",
      "Found 161 mutation(s) for id NP_001270680.1\n",
      "Found 400 mutation(s) for id Sp|P63244.3|Rack1_Human\n",
      "Found 174 mutation(s) for id XP_027389897.1\n",
      "Found 169 mutation(s) for id XP_007647427.1\n",
      "Found 187 mutation(s) for id XP_014918346.1\n",
      "Found 174 mutation(s) for id XP_0026997503.1\n",
      "Found 89 mutation(s) for id XP_002699603.1\n",
      "Found 66 mutation(s) for id XP_004699503.1\n"
     ]
    }
   ],
   "source": [
    "from Bio import SeqIO\n",
    "\n",
    "normal_samples = SeqIO.parse(\"DNA.fasta\", \"fasta\") \n",
    "treated_samples = SeqIO.parse(\"Mutated.fasta\", \"fasta\")\n",
    "\n",
    "for normal, treated in zip(normal_samples, treated_samples): \n",
    "    if normal.id == treated.id: \n",
    "        mutations = sum(1 for n, t in zip(str(normal.seq), str(treated.seq)) if n != t) \n",
    "        print(f\"Found {mutations} mutation(s) for id {normal.id}\")"
   ]
  },
  {
   "cell_type": "markdown",
   "metadata": {},
   "source": [
    "# OPTIONAL:--"
   ]
  },
  {
   "cell_type": "markdown",
   "metadata": {},
   "source": [
    "# 1.SEQUENTIAL PATTERN MINING"
   ]
  },
  {
   "cell_type": "code",
   "execution_count": 177,
   "metadata": {},
   "outputs": [
    {
     "name": "stdout",
     "output_type": "stream",
     "text": [
      "What min. support do you want to use? \n",
      "5\n",
      "\n",
      "**** Sequence with minSupport = 5 ****\n",
      "\n",
      "Sets:\n",
      "\n",
      "frozenset({''})\n",
      "frozenset({'T'})\n",
      "frozenset({'G'})\n",
      "frozenset({'C'})\n",
      "frozenset({'A'})\n",
      "frozenset({'', 'T'})\n",
      "frozenset({'', 'G'})\n",
      "frozenset({'', 'C'})\n",
      "frozenset({'', 'A'})\n",
      "frozenset({'G', 'T'})\n",
      "frozenset({'T', 'C'})\n",
      "frozenset({'A', 'T'})\n",
      "frozenset({'G', 'C'})\n",
      "frozenset({'A', 'G'})\n",
      "frozenset({'A', 'C'})\n",
      "frozenset({'', 'T', 'G'})\n",
      "frozenset({'', 'T', 'C'})\n",
      "frozenset({'', 'T', 'A'})\n",
      "frozenset({'', 'G', 'C'})\n",
      "frozenset({'', 'G', 'A'})\n",
      "frozenset({'', 'A', 'C'})\n",
      "frozenset({'G', 'T', 'C'})\n",
      "frozenset({'A', 'T', 'G'})\n",
      "frozenset({'A', 'T', 'C'})\n",
      "frozenset({'A', 'G', 'C'})\n",
      "frozenset({'', 'G', 'C', 'T'})\n",
      "frozenset({'', 'A', 'G', 'T'})\n",
      "frozenset({'', 'A', 'C', 'T'})\n",
      "frozenset({'', 'A', 'G', 'C'})\n",
      "frozenset({'A', 'G', 'C', 'T'})\n",
      "frozenset({'', 'C', 'T', 'A', 'G'})\n",
      "\n",
      "Counts:\n",
      "\n",
      "frozenset({'A'}) 81\n",
      "frozenset({'C'}) 81\n",
      "frozenset({'G'}) 81\n",
      "frozenset({'T'}) 82\n",
      "frozenset({''}) 77\n",
      "frozenset({'G', 'T'}) 81\n",
      "frozenset({'T', 'C'}) 81\n",
      "frozenset({'A', 'T'}) 81\n",
      "frozenset({'G', 'C'}) 81\n",
      "frozenset({'A', 'G'}) 81\n",
      "frozenset({'A', 'C'}) 81\n",
      "frozenset({'', 'T'}) 77\n",
      "frozenset({'', 'G'}) 77\n",
      "frozenset({'', 'C'}) 77\n",
      "frozenset({'', 'A'}) 77\n",
      "frozenset({'G', 'T', 'C'}) 81\n",
      "frozenset({'A', 'T', 'G'}) 81\n",
      "frozenset({'A', 'T', 'C'}) 81\n",
      "frozenset({'A', 'G', 'C'}) 81\n",
      "frozenset({'', 'T', 'G'}) 77\n",
      "frozenset({'', 'T', 'C'}) 77\n",
      "frozenset({'', 'T', 'A'}) 77\n",
      "frozenset({'', 'G', 'C'}) 77\n",
      "frozenset({'', 'G', 'A'}) 77\n",
      "frozenset({'', 'A', 'C'}) 77\n",
      "frozenset({'A', 'G', 'C', 'T'}) 81\n",
      "frozenset({'', 'G', 'C', 'T'}) 77\n",
      "frozenset({'', 'A', 'G', 'T'}) 77\n",
      "frozenset({'', 'A', 'C', 'T'}) 77\n",
      "frozenset({'', 'A', 'G', 'C'}) 77\n",
      "frozenset({'', 'C', 'T', 'A', 'G'}) 77\n"
     ]
    }
   ],
   "source": [
    "def createCandidateSet(data):\n",
    "    cand = []\n",
    "    for row in data:\n",
    "        for itm in row:\n",
    "            if [itm] not in cand:\n",
    "                cand.append([itm])\n",
    "    cand.sort()\n",
    "    return list(map(frozenset,cand))\n",
    "\n",
    "def scanData(data, candidateSet, minSupport):\n",
    "    subsetCount = {}\n",
    "    for curSet in data:\n",
    "        for cand in candidateSet:\n",
    "            if cand.issubset(curSet):\n",
    "                if not cand in subsetCount:\n",
    "                    subsetCount[cand] = 1\n",
    "                else:\n",
    "                    subsetCount[cand] += 1\n",
    "    n = float(len(data))\n",
    "    valid = []\n",
    "    for key in subsetCount:\n",
    "        sup = subsetCount[key]\n",
    "        if sup >= minSupport:\n",
    "            valid.insert(0,key)\n",
    "    return valid, subsetCount\n",
    "\n",
    "def genSequential(freqSets, k):\n",
    "    valid = []\n",
    "    nFreqSets = len(freqSets)\n",
    "    for i in range(nFreqSets):\n",
    "        for j in range(i+1, nFreqSets):\n",
    "            lstCands1 = list(freqSets[i])[:k-2]\n",
    "            lstCands2 = list(freqSets[j])[:k-2]\n",
    "            lstCands1.sort()\n",
    "            lstCands2.sort()\n",
    "            # if first k-2 elements are equal\n",
    "            if lstCands1 == lstCands2:\n",
    "                valid.append(freqSets[i]|freqSets[j]) # union \n",
    "    return valid\n",
    "\n",
    "def Seqtial(data, minSupport):\n",
    "    candSet = createCandidateSet(data)\n",
    "    setData = list(map(set,data))\n",
    "    lstCands, subsetCounts = scanData(setData,candSet,minSupport)\n",
    "    lstCands = [lstCands]\n",
    "    k = 2\n",
    "    while(len(lstCands[k-2]) > 0):\n",
    "        candSetX = genSequential(lstCands[k-2],k)\n",
    "        lstCandsX, subsetCountsX = scanData(setData,candSetX, minSupport)\n",
    "        subsetCounts.update(subsetCountsX)\n",
    "        lstCands.append(candSetX)\n",
    "        k += 1\n",
    "    return lstCands, subsetCounts\n",
    "\n",
    "# read in data\n",
    "data = ['ATGC','ACGT','ATCG','TTTT','AGTCG']\n",
    "dataSetFilename = 'dna.fasta'\n",
    "with open(dataSetFilename,'r') as file:\n",
    "    for line in file:\n",
    "        data.append(line.strip().split(','))\n",
    "\n",
    "\n",
    "print(\"What min. support do you want to use? \")\n",
    "minSupp = input()\n",
    "minSupp = int(minSupp)\n",
    "\n",
    "print(\"\\n**** Sequence with minSupport = {} ****\".format(minSupp))\n",
    "\n",
    "# call SPM\n",
    "sets, counts = Seqtial(data,minSupp)\n",
    "print(\"\\nSets:\\n\")\n",
    "for x in sets:\n",
    "    for y in x:\n",
    "        print(y)\n",
    "\n",
    "print(\"\\nCounts:\\n\")\n",
    "for k,v in counts.items():\n",
    "\tprint(k, v)"
   ]
  },
  {
   "cell_type": "markdown",
   "metadata": {},
   "source": [
    "# 2.DNA TO PROTEIN TRANSLATION"
   ]
  },
  {
   "cell_type": "code",
   "execution_count": 178,
   "metadata": {},
   "outputs": [
    {
     "name": "stdout",
     "output_type": "stream",
     "text": [
      "FIRST\n",
      "[SeqRecord(seq=Seq('MKTKCICELCSCGRHHCPHLPTKIYDKTEKPCLLSEYTENYPFYHSYLPRESFK...TSS', ExtendedIUPACProtein()), id='<unknown id>', name='<unknown name>', description='<unknown description>', dbxrefs=[])]\n",
      "SECOND\n",
      "[SeqRecord(seq=Seq('*KPNAFANCAAAAAIIARICRPKFMIKPKNRAC*ANIPKTIRFIIAICRAKALN...PAA', HasStopCodon(ExtendedIUPACProtein(), '*')), id='<unknown id>', name='<unknown name>', description='<unknown description>', dbxrefs=[])]\n",
      "THIRD\n",
      "[SeqRecord(seq=Seq('ENQMHLRTVQLRPPSLPASADQNL**NRKTVPAERIYRKLSVLS*LSAARKL*T...QQX', HasStopCodon(ExtendedIUPACProtein(), '*')), id='<unknown id>', name='<unknown name>', description='<unknown description>', dbxrefs=[])]\n",
      "FIRST\n",
      "[SeqRecord(seq=Seq('MKTKCICELCSCGRHHCPHLPTKIYDKTEKPCLLSEYTENYPFYHSYLPRESFK...TSS', ExtendedIUPACProtein()), id='<unknown id>', name='<unknown name>', description='<unknown description>', dbxrefs=[]), SeqRecord(seq=Seq('MNFYLLLASSILCALIVFWKYRRFQRNTGEMSSNSTALALVRPSSSGLINSNTD...KST', ExtendedIUPACProtein()), id='<unknown id>', name='<unknown name>', description='<unknown description>', dbxrefs=[])]\n",
      "SECOND\n",
      "[SeqRecord(seq=Seq('*KPNAFANCAAAAAIIARICRPKFMIKPKNRAC*ANIPKTIRFIIAICRAKALN...PAA', HasStopCodon(ExtendedIUPACProtein(), '*')), id='<unknown id>', name='<unknown name>', description='<unknown description>', dbxrefs=[]), SeqRecord(seq=Seq('*TFICCWRAAFCAR*LCFGNIAAFSATPAK*AATAPRWRWCARAAAA*LTATPI...KAP', HasStopCodon(ExtendedIUPACProtein(), '*')), id='<unknown id>', name='<unknown name>', description='<unknown description>', dbxrefs=[])]\n",
      "THIRD\n",
      "[SeqRecord(seq=Seq('ENQMHLRTVQLRPPSLPASADQNL**NRKTVPAERIYRKLSVLS*LSAARKL*T...QQX', HasStopCodon(ExtendedIUPACProtein(), '*')), id='<unknown id>', name='<unknown name>', description='<unknown description>', dbxrefs=[]), SeqRecord(seq=Seq('ELLSAAGEQHSVRADCVLEISPLSAQHRRNEQQQHRAGAGAPEQQRPD*QQHR*...KHX', HasStopCodon(ExtendedIUPACProtein(), '*')), id='<unknown id>', name='<unknown name>', description='<unknown description>', dbxrefs=[])]\n",
      "FIRST\n",
      "[SeqRecord(seq=Seq('MKTKCICELCSCGRHHCPHLPTKIYDKTEKPCLLSEYTENYPFYHSYLPRESFK...TSS', ExtendedIUPACProtein()), id='<unknown id>', name='<unknown name>', description='<unknown description>', dbxrefs=[]), SeqRecord(seq=Seq('MNFYLLLASSILCALIVFWKYRRFQRNTGEMSSNSTALALVRPSSSGLINSNTD...KST', ExtendedIUPACProtein()), id='<unknown id>', name='<unknown name>', description='<unknown description>', dbxrefs=[]), SeqRecord(seq=Seq('MNFYLLLASSILCALIVFWKYRRFQRNTGEMSSNSTALALVRPSSSGLINSNTD...KST', ExtendedIUPACProtein()), id='<unknown id>', name='<unknown name>', description='<unknown description>', dbxrefs=[])]\n",
      "SECOND\n",
      "[SeqRecord(seq=Seq('*KPNAFANCAAAAAIIARICRPKFMIKPKNRAC*ANIPKTIRFIIAICRAKALN...PAA', HasStopCodon(ExtendedIUPACProtein(), '*')), id='<unknown id>', name='<unknown name>', description='<unknown description>', dbxrefs=[]), SeqRecord(seq=Seq('*TFICCWRAAFCAR*LCFGNIAAFSATPAK*AATAPRWRWCARAAAA*LTATPI...KAP', HasStopCodon(ExtendedIUPACProtein(), '*')), id='<unknown id>', name='<unknown name>', description='<unknown description>', dbxrefs=[]), SeqRecord(seq=Seq('*TFICCWRAAFCAR*LCFGNIAAFSATPAK*AATAPRWRWCARAAAA*LTATPI...KAP', HasStopCodon(ExtendedIUPACProtein(), '*')), id='<unknown id>', name='<unknown name>', description='<unknown description>', dbxrefs=[])]\n",
      "THIRD\n",
      "[SeqRecord(seq=Seq('ENQMHLRTVQLRPPSLPASADQNL**NRKTVPAERIYRKLSVLS*LSAARKL*T...QQX', HasStopCodon(ExtendedIUPACProtein(), '*')), id='<unknown id>', name='<unknown name>', description='<unknown description>', dbxrefs=[]), SeqRecord(seq=Seq('ELLSAAGEQHSVRADCVLEISPLSAQHRRNEQQQHRAGAGAPEQQRPD*QQHR*...KHX', HasStopCodon(ExtendedIUPACProtein(), '*')), id='<unknown id>', name='<unknown name>', description='<unknown description>', dbxrefs=[]), SeqRecord(seq=Seq('ELLSAAGEQHSVRADCVLEISPLSAQHRRNEQQQHRAGAGAPEQQRPD*QQHR*...KHX', HasStopCodon(ExtendedIUPACProtein(), '*')), id='<unknown id>', name='<unknown name>', description='<unknown description>', dbxrefs=[])]\n",
      "FIRST\n",
      "[SeqRecord(seq=Seq('MKTKCICELCSCGRHHCPHLPTKIYDKTEKPCLLSEYTENYPFYHSYLPRESFK...TSS', ExtendedIUPACProtein()), id='<unknown id>', name='<unknown name>', description='<unknown description>', dbxrefs=[]), SeqRecord(seq=Seq('MNFYLLLASSILCALIVFWKYRRFQRNTGEMSSNSTALALVRPSSSGLINSNTD...KST', ExtendedIUPACProtein()), id='<unknown id>', name='<unknown name>', description='<unknown description>', dbxrefs=[]), SeqRecord(seq=Seq('MNFYLLLASSILCALIVFWKYRRFQRNTGEMSSNSTALALVRPSSSGLINSNTD...KST', ExtendedIUPACProtein()), id='<unknown id>', name='<unknown name>', description='<unknown description>', dbxrefs=[]), SeqRecord(seq=Seq('MGASGSKARGLWPFASAAGGGGSEAAGAEQALVRPRGRAVPPFVFTRRGSMFYD...YEV', ExtendedIUPACProtein()), id='<unknown id>', name='<unknown name>', description='<unknown description>', dbxrefs=[])]\n",
      "SECOND\n",
      "[SeqRecord(seq=Seq('*KPNAFANCAAAAAIIARICRPKFMIKPKNRAC*ANIPKTIRFIIAICRAKALN...PAA', HasStopCodon(ExtendedIUPACProtein(), '*')), id='<unknown id>', name='<unknown name>', description='<unknown description>', dbxrefs=[]), SeqRecord(seq=Seq('*TFICCWRAAFCAR*LCFGNIAAFSATPAK*AATAPRWRWCARAAAA*LTATPI...KAP', HasStopCodon(ExtendedIUPACProtein(), '*')), id='<unknown id>', name='<unknown name>', description='<unknown description>', dbxrefs=[]), SeqRecord(seq=Seq('*TFICCWRAAFCAR*LCFGNIAAFSATPAK*AATAPRWRWCARAAAA*LTATPI...KAP', HasStopCodon(ExtendedIUPACProtein(), '*')), id='<unknown id>', name='<unknown name>', description='<unknown description>', dbxrefs=[]), SeqRecord(seq=Seq('WARAAAKRAACGRLRARRAAAAAKRRARNRRWCARAAARCRRLCLPAAAACFMM...MKX', HasStopCodon(ExtendedIUPACProtein(), '*')), id='<unknown id>', name='<unknown name>', description='<unknown description>', dbxrefs=[])]\n",
      "THIRD\n",
      "[SeqRecord(seq=Seq('ENQMHLRTVQLRPPSLPASADQNL**NRKTVPAERIYRKLSVLS*LSAARKL*T...QQX', HasStopCodon(ExtendedIUPACProtein(), '*')), id='<unknown id>', name='<unknown name>', description='<unknown description>', dbxrefs=[]), SeqRecord(seq=Seq('ELLSAAGEQHSVRADCVLEISPLSAQHRRNEQQQHRAGAGAPEQQRPD*QQHR*...KHX', HasStopCodon(ExtendedIUPACProtein(), '*')), id='<unknown id>', name='<unknown name>', description='<unknown description>', dbxrefs=[]), SeqRecord(seq=Seq('ELLSAAGEQHSVRADCVLEISPLSAQHRRNEQQQHRAGAGAPEQQRPD*QQHR*...KHX', HasStopCodon(ExtendedIUPACProtein(), '*')), id='<unknown id>', name='<unknown name>', description='<unknown description>', dbxrefs=[]), SeqRecord(seq=Seq('GRERQQSARPVAVCERGGRRRQRSGGRGTGAGAPARPRGAAVCVYPPRQHVL**...*SX', HasStopCodon(ExtendedIUPACProtein(), '*')), id='<unknown id>', name='<unknown name>', description='<unknown description>', dbxrefs=[])]\n",
      "FIRST\n",
      "[SeqRecord(seq=Seq('MKTKCICELCSCGRHHCPHLPTKIYDKTEKPCLLSEYTENYPFYHSYLPRESFK...TSS', ExtendedIUPACProtein()), id='<unknown id>', name='<unknown name>', description='<unknown description>', dbxrefs=[]), SeqRecord(seq=Seq('MNFYLLLASSILCALIVFWKYRRFQRNTGEMSSNSTALALVRPSSSGLINSNTD...KST', ExtendedIUPACProtein()), id='<unknown id>', name='<unknown name>', description='<unknown description>', dbxrefs=[]), SeqRecord(seq=Seq('MNFYLLLASSILCALIVFWKYRRFQRNTGEMSSNSTALALVRPSSSGLINSNTD...KST', ExtendedIUPACProtein()), id='<unknown id>', name='<unknown name>', description='<unknown description>', dbxrefs=[]), SeqRecord(seq=Seq('MGASGSKARGLWPFASAAGGGGSEAAGAEQALVRPRGRAVPPFVFTRRGSMFYD...YEV', ExtendedIUPACProtein()), id='<unknown id>', name='<unknown name>', description='<unknown description>', dbxrefs=[]), SeqRecord(seq=Seq('MSFLFLLVSSILFAFMFVFWKTWFQRNTGEMSSNSTSLALVRSSSSTQSTKSNI...TEV', ExtendedIUPACProtein()), id='<unknown id>', name='<unknown name>', description='<unknown description>', dbxrefs=[])]\n",
      "SECOND\n",
      "[SeqRecord(seq=Seq('*KPNAFANCAAAAAIIARICRPKFMIKPKNRAC*ANIPKTIRFIIAICRAKALN...PAA', HasStopCodon(ExtendedIUPACProtein(), '*')), id='<unknown id>', name='<unknown name>', description='<unknown description>', dbxrefs=[]), SeqRecord(seq=Seq('*TFICCWRAAFCAR*LCFGNIAAFSATPAK*AATAPRWRWCARAAAA*LTATPI...KAP', HasStopCodon(ExtendedIUPACProtein(), '*')), id='<unknown id>', name='<unknown name>', description='<unknown description>', dbxrefs=[]), SeqRecord(seq=Seq('*TFICCWRAAFCAR*LCFGNIAAFSATPAK*AATAPRWRWCARAAAA*LTATPI...KAP', HasStopCodon(ExtendedIUPACProtein(), '*')), id='<unknown id>', name='<unknown name>', description='<unknown description>', dbxrefs=[]), SeqRecord(seq=Seq('WARAAAKRAACGRLRARRAAAAAKRRARNRRWCARAAARCRRLCLPAAAACFMM...MKX', HasStopCodon(ExtendedIUPACProtein(), '*')), id='<unknown id>', name='<unknown name>', description='<unknown description>', dbxrefs=[]), SeqRecord(seq=Seq('*AFCFCW*AAFCLRLCLCFGKPGFSATPAK*AATAPAWRWCAAAAAPRAPKATL...PKX', HasStopCodon(ExtendedIUPACProtein(), '*')), id='<unknown id>', name='<unknown name>', description='<unknown description>', dbxrefs=[])]\n",
      "THIRD\n",
      "[SeqRecord(seq=Seq('ENQMHLRTVQLRPPSLPASADQNL**NRKTVPAERIYRKLSVLS*LSAARKL*T...QQX', HasStopCodon(ExtendedIUPACProtein(), '*')), id='<unknown id>', name='<unknown name>', description='<unknown description>', dbxrefs=[]), SeqRecord(seq=Seq('ELLSAAGEQHSVRADCVLEISPLSAQHRRNEQQQHRAGAGAPEQQRPD*QQHR*...KHX', HasStopCodon(ExtendedIUPACProtein(), '*')), id='<unknown id>', name='<unknown name>', description='<unknown description>', dbxrefs=[]), SeqRecord(seq=Seq('ELLSAAGEQHSVRADCVLEISPLSAQHRRNEQQQHRAGAGAPEQQRPD*QQHR*...KHX', HasStopCodon(ExtendedIUPACProtein(), '*')), id='<unknown id>', name='<unknown name>', description='<unknown description>', dbxrefs=[]), SeqRecord(seq=Seq('GRERQQSARPVAVCERGGRRRQRSGGRGTGAGAPARPRGAAVCVYPPRQHVL**...*SX', HasStopCodon(ExtendedIUPACProtein(), '*')), id='<unknown id>', name='<unknown name>', description='<unknown description>', dbxrefs=[]), SeqRecord(seq=Seq('ELSVSAGEQHSVCVYVCVLENLVSAQHRRNEQQQHQPGAGAQQQQHPEHQKQH*...RSX', HasStopCodon(ExtendedIUPACProtein(), '*')), id='<unknown id>', name='<unknown name>', description='<unknown description>', dbxrefs=[])]\n",
      "FIRST\n",
      "[SeqRecord(seq=Seq('MKTKCICELCSCGRHHCPHLPTKIYDKTEKPCLLSEYTENYPFYHSYLPRESFK...TSS', ExtendedIUPACProtein()), id='<unknown id>', name='<unknown name>', description='<unknown description>', dbxrefs=[]), SeqRecord(seq=Seq('MNFYLLLASSILCALIVFWKYRRFQRNTGEMSSNSTALALVRPSSSGLINSNTD...KST', ExtendedIUPACProtein()), id='<unknown id>', name='<unknown name>', description='<unknown description>', dbxrefs=[]), SeqRecord(seq=Seq('MNFYLLLASSILCALIVFWKYRRFQRNTGEMSSNSTALALVRPSSSGLINSNTD...KST', ExtendedIUPACProtein()), id='<unknown id>', name='<unknown name>', description='<unknown description>', dbxrefs=[]), SeqRecord(seq=Seq('MGASGSKARGLWPFASAAGGGGSEAAGAEQALVRPRGRAVPPFVFTRRGSMFYD...YEV', ExtendedIUPACProtein()), id='<unknown id>', name='<unknown name>', description='<unknown description>', dbxrefs=[]), SeqRecord(seq=Seq('MSFLFLLVSSILFAFMFVFWKTWFQRNTGEMSSNSTSLALVRSSSSTQSTKSNI...TEV', ExtendedIUPACProtein()), id='<unknown id>', name='<unknown name>', description='<unknown description>', dbxrefs=[]), SeqRecord(seq=Seq('MNVYLLLASGILCALMTVFWKYRRFQRNTGEMSSNSTALALVRPSSTGLINSNT...KST', ExtendedIUPACProtein()), id='<unknown id>', name='<unknown name>', description='<unknown description>', dbxrefs=[])]\n",
      "SECOND\n",
      "[SeqRecord(seq=Seq('*KPNAFANCAAAAAIIARICRPKFMIKPKNRAC*ANIPKTIRFIIAICRAKALN...PAA', HasStopCodon(ExtendedIUPACProtein(), '*')), id='<unknown id>', name='<unknown name>', description='<unknown description>', dbxrefs=[]), SeqRecord(seq=Seq('*TFICCWRAAFCAR*LCFGNIAAFSATPAK*AATAPRWRWCARAAAA*LTATPI...KAP', HasStopCodon(ExtendedIUPACProtein(), '*')), id='<unknown id>', name='<unknown name>', description='<unknown description>', dbxrefs=[]), SeqRecord(seq=Seq('*TFICCWRAAFCAR*LCFGNIAAFSATPAK*AATAPRWRWCARAAAA*LTATPI...KAP', HasStopCodon(ExtendedIUPACProtein(), '*')), id='<unknown id>', name='<unknown name>', description='<unknown description>', dbxrefs=[]), SeqRecord(seq=Seq('WARAAAKRAACGRLRARRAAAAAKRRARNRRWCARAAARCRRLCLPAAAACFMM...MKX', HasStopCodon(ExtendedIUPACProtein(), '*')), id='<unknown id>', name='<unknown name>', description='<unknown description>', dbxrefs=[]), SeqRecord(seq=Seq('*AFCFCW*AAFCLRLCLCFGKPGFSATPAK*AATAPAWRWCAAAAAPRAPKATL...PKX', HasStopCodon(ExtendedIUPACProtein(), '*')), id='<unknown id>', name='<unknown name>', description='<unknown description>', dbxrefs=[]), SeqRecord(seq=Seq('*TCICCWRAAFCAR**PCFGNIAAFSATPAK*AATAPRWRWCARAAPA*LTATP...KAP', HasStopCodon(ExtendedIUPACProtein(), '*')), id='<unknown id>', name='<unknown name>', description='<unknown description>', dbxrefs=[])]\n",
      "THIRD\n",
      "[SeqRecord(seq=Seq('ENQMHLRTVQLRPPSLPASADQNL**NRKTVPAERIYRKLSVLS*LSAARKL*T...QQX', HasStopCodon(ExtendedIUPACProtein(), '*')), id='<unknown id>', name='<unknown name>', description='<unknown description>', dbxrefs=[]), SeqRecord(seq=Seq('ELLSAAGEQHSVRADCVLEISPLSAQHRRNEQQQHRAGAGAPEQQRPD*QQHR*...KHX', HasStopCodon(ExtendedIUPACProtein(), '*')), id='<unknown id>', name='<unknown name>', description='<unknown description>', dbxrefs=[]), SeqRecord(seq=Seq('ELLSAAGEQHSVRADCVLEISPLSAQHRRNEQQQHRAGAGAPEQQRPD*QQHR*...KHX', HasStopCodon(ExtendedIUPACProtein(), '*')), id='<unknown id>', name='<unknown name>', description='<unknown description>', dbxrefs=[]), SeqRecord(seq=Seq('GRERQQSARPVAVCERGGRRRQRSGGRGTGAGAPARPRGAAVCVYPPRQHVL**...*SX', HasStopCodon(ExtendedIUPACProtein(), '*')), id='<unknown id>', name='<unknown name>', description='<unknown description>', dbxrefs=[]), SeqRecord(seq=Seq('ELSVSAGEQHSVCVYVCVLENLVSAQHRRNEQQQHQPGAGAQQQQHPEHQKQH*...RSX', HasStopCodon(ExtendedIUPACProtein(), '*')), id='<unknown id>', name='<unknown name>', description='<unknown description>', dbxrefs=[]), SeqRecord(seq=Seq('ERVSAAGERHSVRADDRVLEISPLSAQHRRNEQQQHRAGAGAPEQHRPD*QQHR...KHX', HasStopCodon(ExtendedIUPACProtein(), '*')), id='<unknown id>', name='<unknown name>', description='<unknown description>', dbxrefs=[])]\n",
      "FIRST\n",
      "[SeqRecord(seq=Seq('MKTKCICELCSCGRHHCPHLPTKIYDKTEKPCLLSEYTENYPFYHSYLPRESFK...TSS', ExtendedIUPACProtein()), id='<unknown id>', name='<unknown name>', description='<unknown description>', dbxrefs=[]), SeqRecord(seq=Seq('MNFYLLLASSILCALIVFWKYRRFQRNTGEMSSNSTALALVRPSSSGLINSNTD...KST', ExtendedIUPACProtein()), id='<unknown id>', name='<unknown name>', description='<unknown description>', dbxrefs=[]), SeqRecord(seq=Seq('MNFYLLLASSILCALIVFWKYRRFQRNTGEMSSNSTALALVRPSSSGLINSNTD...KST', ExtendedIUPACProtein()), id='<unknown id>', name='<unknown name>', description='<unknown description>', dbxrefs=[]), SeqRecord(seq=Seq('MGASGSKARGLWPFASAAGGGGSEAAGAEQALVRPRGRAVPPFVFTRRGSMFYD...YEV', ExtendedIUPACProtein()), id='<unknown id>', name='<unknown name>', description='<unknown description>', dbxrefs=[]), SeqRecord(seq=Seq('MSFLFLLVSSILFAFMFVFWKTWFQRNTGEMSSNSTSLALVRSSSSTQSTKSNI...TEV', ExtendedIUPACProtein()), id='<unknown id>', name='<unknown name>', description='<unknown description>', dbxrefs=[]), SeqRecord(seq=Seq('MNVYLLLASGILCALMTVFWKYRRFQRNTGEMSSNSTALALVRPSSTGLINSNT...KST', ExtendedIUPACProtein()), id='<unknown id>', name='<unknown name>', description='<unknown description>', dbxrefs=[]), SeqRecord(seq=Seq('MLLTRFEQKNGHLAQVEVDEVFGFMCHITTEVPPHDAMPGGIVLLVKFLLDMSR...GRC', ExtendedIUPACProtein()), id='<unknown id>', name='<unknown name>', description='<unknown description>', dbxrefs=[])]\n",
      "SECOND\n",
      "[SeqRecord(seq=Seq('*KPNAFANCAAAAAIIARICRPKFMIKPKNRAC*ANIPKTIRFIIAICRAKALN...PAA', HasStopCodon(ExtendedIUPACProtein(), '*')), id='<unknown id>', name='<unknown name>', description='<unknown description>', dbxrefs=[]), SeqRecord(seq=Seq('*TFICCWRAAFCAR*LCFGNIAAFSATPAK*AATAPRWRWCARAAAA*LTATPI...KAP', HasStopCodon(ExtendedIUPACProtein(), '*')), id='<unknown id>', name='<unknown name>', description='<unknown description>', dbxrefs=[]), SeqRecord(seq=Seq('*TFICCWRAAFCAR*LCFGNIAAFSATPAK*AATAPRWRWCARAAAA*LTATPI...KAP', HasStopCodon(ExtendedIUPACProtein(), '*')), id='<unknown id>', name='<unknown name>', description='<unknown description>', dbxrefs=[]), SeqRecord(seq=Seq('WARAAAKRAACGRLRARRAAAAAKRRARNRRWCARAAARCRRLCLPAAAACFMM...MKX', HasStopCodon(ExtendedIUPACProtein(), '*')), id='<unknown id>', name='<unknown name>', description='<unknown description>', dbxrefs=[]), SeqRecord(seq=Seq('*AFCFCW*AAFCLRLCLCFGKPGFSATPAK*AATAPAWRWCAAAAAPRAPKATL...PKX', HasStopCodon(ExtendedIUPACProtein(), '*')), id='<unknown id>', name='<unknown name>', description='<unknown description>', dbxrefs=[]), SeqRecord(seq=Seq('*TCICCWRAAFCAR**PCFGNIAAFSATPAK*AATAPRWRWCARAAPA*LTATP...KAP', HasStopCodon(ExtendedIUPACProtein(), '*')), id='<unknown id>', name='<unknown name>', description='<unknown description>', dbxrefs=[]), SeqRecord(seq=Seq('CC*PALNRKTAIWRRWKWMKCLALCAILPPKCRRMMRCRAALCCW*NFCWI*AA...AAA', HasStopCodon(ExtendedIUPACProtein(), '*')), id='<unknown id>', name='<unknown name>', description='<unknown description>', dbxrefs=[])]\n",
      "THIRD\n",
      "[SeqRecord(seq=Seq('ENQMHLRTVQLRPPSLPASADQNL**NRKTVPAERIYRKLSVLS*LSAARKL*T...QQX', HasStopCodon(ExtendedIUPACProtein(), '*')), id='<unknown id>', name='<unknown name>', description='<unknown description>', dbxrefs=[]), SeqRecord(seq=Seq('ELLSAAGEQHSVRADCVLEISPLSAQHRRNEQQQHRAGAGAPEQQRPD*QQHR*...KHX', HasStopCodon(ExtendedIUPACProtein(), '*')), id='<unknown id>', name='<unknown name>', description='<unknown description>', dbxrefs=[]), SeqRecord(seq=Seq('ELLSAAGEQHSVRADCVLEISPLSAQHRRNEQQQHRAGAGAPEQQRPD*QQHR*...KHX', HasStopCodon(ExtendedIUPACProtein(), '*')), id='<unknown id>', name='<unknown name>', description='<unknown description>', dbxrefs=[]), SeqRecord(seq=Seq('GRERQQSARPVAVCERGGRRRQRSGGRGTGAGAPARPRGAAVCVYPPRQHVL**...*SX', HasStopCodon(ExtendedIUPACProtein(), '*')), id='<unknown id>', name='<unknown name>', description='<unknown description>', dbxrefs=[]), SeqRecord(seq=Seq('ELSVSAGEQHSVCVYVCVLENLVSAQHRRNEQQQHQPGAGAQQQQHPEHQKQH*...RSX', HasStopCodon(ExtendedIUPACProtein(), '*')), id='<unknown id>', name='<unknown name>', description='<unknown description>', dbxrefs=[]), SeqRecord(seq=Seq('ERVSAAGERHSVRADDRVLEISPLSAQHRRNEQQQHRAGAGAPEQHRPD*QQHR...KHX', HasStopCodon(ExtendedIUPACProtein(), '*')), id='<unknown id>', name='<unknown name>', description='<unknown description>', dbxrefs=[]), SeqRecord(seq=Seq('AADPL*TEKRPSGAGGSG*SVWLYVPYYHRSAAA*CDAGRHCAAGEISAGYEPQ...PLX', HasStopCodon(ExtendedIUPACProtein(), '*')), id='<unknown id>', name='<unknown name>', description='<unknown description>', dbxrefs=[])]\n",
      "FIRST\n",
      "[SeqRecord(seq=Seq('MKTKCICELCSCGRHHCPHLPTKIYDKTEKPCLLSEYTENYPFYHSYLPRESFK...TSS', ExtendedIUPACProtein()), id='<unknown id>', name='<unknown name>', description='<unknown description>', dbxrefs=[]), SeqRecord(seq=Seq('MNFYLLLASSILCALIVFWKYRRFQRNTGEMSSNSTALALVRPSSSGLINSNTD...KST', ExtendedIUPACProtein()), id='<unknown id>', name='<unknown name>', description='<unknown description>', dbxrefs=[]), SeqRecord(seq=Seq('MNFYLLLASSILCALIVFWKYRRFQRNTGEMSSNSTALALVRPSSSGLINSNTD...KST', ExtendedIUPACProtein()), id='<unknown id>', name='<unknown name>', description='<unknown description>', dbxrefs=[]), SeqRecord(seq=Seq('MGASGSKARGLWPFASAAGGGGSEAAGAEQALVRPRGRAVPPFVFTRRGSMFYD...YEV', ExtendedIUPACProtein()), id='<unknown id>', name='<unknown name>', description='<unknown description>', dbxrefs=[]), SeqRecord(seq=Seq('MSFLFLLVSSILFAFMFVFWKTWFQRNTGEMSSNSTSLALVRSSSSTQSTKSNI...TEV', ExtendedIUPACProtein()), id='<unknown id>', name='<unknown name>', description='<unknown description>', dbxrefs=[]), SeqRecord(seq=Seq('MNVYLLLASGILCALMTVFWKYRRFQRNTGEMSSNSTALALVRPSSTGLINSNT...KST', ExtendedIUPACProtein()), id='<unknown id>', name='<unknown name>', description='<unknown description>', dbxrefs=[]), SeqRecord(seq=Seq('MLLTRFEQKNGHLAQVEVDEVFGFMCHITTEVPPHDAMPGGIVLLVKFLLDMSR...GRC', ExtendedIUPACProtein()), id='<unknown id>', name='<unknown name>', description='<unknown description>', dbxrefs=[]), SeqRecord(seq=Seq('MNVYLLLASGILCALMTVFWKYRRFQRNTGEMSSNSTALALVRPSSTGLINSNT...KST', ExtendedIUPACProtein()), id='<unknown id>', name='<unknown name>', description='<unknown description>', dbxrefs=[])]\n",
      "SECOND\n",
      "[SeqRecord(seq=Seq('*KPNAFANCAAAAAIIARICRPKFMIKPKNRAC*ANIPKTIRFIIAICRAKALN...PAA', HasStopCodon(ExtendedIUPACProtein(), '*')), id='<unknown id>', name='<unknown name>', description='<unknown description>', dbxrefs=[]), SeqRecord(seq=Seq('*TFICCWRAAFCAR*LCFGNIAAFSATPAK*AATAPRWRWCARAAAA*LTATPI...KAP', HasStopCodon(ExtendedIUPACProtein(), '*')), id='<unknown id>', name='<unknown name>', description='<unknown description>', dbxrefs=[]), SeqRecord(seq=Seq('*TFICCWRAAFCAR*LCFGNIAAFSATPAK*AATAPRWRWCARAAAA*LTATPI...KAP', HasStopCodon(ExtendedIUPACProtein(), '*')), id='<unknown id>', name='<unknown name>', description='<unknown description>', dbxrefs=[]), SeqRecord(seq=Seq('WARAAAKRAACGRLRARRAAAAAKRRARNRRWCARAAARCRRLCLPAAAACFMM...MKX', HasStopCodon(ExtendedIUPACProtein(), '*')), id='<unknown id>', name='<unknown name>', description='<unknown description>', dbxrefs=[]), SeqRecord(seq=Seq('*AFCFCW*AAFCLRLCLCFGKPGFSATPAK*AATAPAWRWCAAAAAPRAPKATL...PKX', HasStopCodon(ExtendedIUPACProtein(), '*')), id='<unknown id>', name='<unknown name>', description='<unknown description>', dbxrefs=[]), SeqRecord(seq=Seq('*TCICCWRAAFCAR**PCFGNIAAFSATPAK*AATAPRWRWCARAAPA*LTATP...KAP', HasStopCodon(ExtendedIUPACProtein(), '*')), id='<unknown id>', name='<unknown name>', description='<unknown description>', dbxrefs=[]), SeqRecord(seq=Seq('CC*PALNRKTAIWRRWKWMKCLALCAILPPKCRRMMRCRAALCCW*NFCWI*AA...AAA', HasStopCodon(ExtendedIUPACProtein(), '*')), id='<unknown id>', name='<unknown name>', description='<unknown description>', dbxrefs=[]), SeqRecord(seq=Seq('*TCICCWRAAFCAR**PCFGNIAAFSATPAK*AATAPRWRWCARAAPA*LTATP...KAP', HasStopCodon(ExtendedIUPACProtein(), '*')), id='<unknown id>', name='<unknown name>', description='<unknown description>', dbxrefs=[])]\n",
      "THIRD\n",
      "[SeqRecord(seq=Seq('ENQMHLRTVQLRPPSLPASADQNL**NRKTVPAERIYRKLSVLS*LSAARKL*T...QQX', HasStopCodon(ExtendedIUPACProtein(), '*')), id='<unknown id>', name='<unknown name>', description='<unknown description>', dbxrefs=[]), SeqRecord(seq=Seq('ELLSAAGEQHSVRADCVLEISPLSAQHRRNEQQQHRAGAGAPEQQRPD*QQHR*...KHX', HasStopCodon(ExtendedIUPACProtein(), '*')), id='<unknown id>', name='<unknown name>', description='<unknown description>', dbxrefs=[]), SeqRecord(seq=Seq('ELLSAAGEQHSVRADCVLEISPLSAQHRRNEQQQHRAGAGAPEQQRPD*QQHR*...KHX', HasStopCodon(ExtendedIUPACProtein(), '*')), id='<unknown id>', name='<unknown name>', description='<unknown description>', dbxrefs=[]), SeqRecord(seq=Seq('GRERQQSARPVAVCERGGRRRQRSGGRGTGAGAPARPRGAAVCVYPPRQHVL**...*SX', HasStopCodon(ExtendedIUPACProtein(), '*')), id='<unknown id>', name='<unknown name>', description='<unknown description>', dbxrefs=[]), SeqRecord(seq=Seq('ELSVSAGEQHSVCVYVCVLENLVSAQHRRNEQQQHQPGAGAQQQQHPEHQKQH*...RSX', HasStopCodon(ExtendedIUPACProtein(), '*')), id='<unknown id>', name='<unknown name>', description='<unknown description>', dbxrefs=[]), SeqRecord(seq=Seq('ERVSAAGERHSVRADDRVLEISPLSAQHRRNEQQQHRAGAGAPEQHRPD*QQHR...KHX', HasStopCodon(ExtendedIUPACProtein(), '*')), id='<unknown id>', name='<unknown name>', description='<unknown description>', dbxrefs=[]), SeqRecord(seq=Seq('AADPL*TEKRPSGAGGSG*SVWLYVPYYHRSAAA*CDAGRHCAAGEISAGYEPQ...PLX', HasStopCodon(ExtendedIUPACProtein(), '*')), id='<unknown id>', name='<unknown name>', description='<unknown description>', dbxrefs=[]), SeqRecord(seq=Seq('ERVSAAGERHSVRADDRVLEISPLSAQHRRNEQQQHRAGAGAPEQHRPD*QQHR...KHX', HasStopCodon(ExtendedIUPACProtein(), '*')), id='<unknown id>', name='<unknown name>', description='<unknown description>', dbxrefs=[])]\n",
      "FIRST\n",
      "[SeqRecord(seq=Seq('MKTKCICELCSCGRHHCPHLPTKIYDKTEKPCLLSEYTENYPFYHSYLPRESFK...TSS', ExtendedIUPACProtein()), id='<unknown id>', name='<unknown name>', description='<unknown description>', dbxrefs=[]), SeqRecord(seq=Seq('MNFYLLLASSILCALIVFWKYRRFQRNTGEMSSNSTALALVRPSSSGLINSNTD...KST', ExtendedIUPACProtein()), id='<unknown id>', name='<unknown name>', description='<unknown description>', dbxrefs=[]), SeqRecord(seq=Seq('MNFYLLLASSILCALIVFWKYRRFQRNTGEMSSNSTALALVRPSSSGLINSNTD...KST', ExtendedIUPACProtein()), id='<unknown id>', name='<unknown name>', description='<unknown description>', dbxrefs=[]), SeqRecord(seq=Seq('MGASGSKARGLWPFASAAGGGGSEAAGAEQALVRPRGRAVPPFVFTRRGSMFYD...YEV', ExtendedIUPACProtein()), id='<unknown id>', name='<unknown name>', description='<unknown description>', dbxrefs=[]), SeqRecord(seq=Seq('MSFLFLLVSSILFAFMFVFWKTWFQRNTGEMSSNSTSLALVRSSSSTQSTKSNI...TEV', ExtendedIUPACProtein()), id='<unknown id>', name='<unknown name>', description='<unknown description>', dbxrefs=[]), SeqRecord(seq=Seq('MNVYLLLASGILCALMTVFWKYRRFQRNTGEMSSNSTALALVRPSSTGLINSNT...KST', ExtendedIUPACProtein()), id='<unknown id>', name='<unknown name>', description='<unknown description>', dbxrefs=[]), SeqRecord(seq=Seq('MLLTRFEQKNGHLAQVEVDEVFGFMCHITTEVPPHDAMPGGIVLLVKFLLDMSR...GRC', ExtendedIUPACProtein()), id='<unknown id>', name='<unknown name>', description='<unknown description>', dbxrefs=[]), SeqRecord(seq=Seq('MNVYLLLASGILCALMTVFWKYRRFQRNTGEMSSNSTALALVRPSSTGLINSNT...KST', ExtendedIUPACProtein()), id='<unknown id>', name='<unknown name>', description='<unknown description>', dbxrefs=[]), SeqRecord(seq=Seq('MTEQMTLRGTLKGHNGWVTQIATTPQFPDMILSASRDKTIIMWKLTRDETNYGI...GTR', ExtendedIUPACProtein()), id='<unknown id>', name='<unknown name>', description='<unknown description>', dbxrefs=[])]\n",
      "SECOND\n",
      "[SeqRecord(seq=Seq('*KPNAFANCAAAAAIIARICRPKFMIKPKNRAC*ANIPKTIRFIIAICRAKALN...PAA', HasStopCodon(ExtendedIUPACProtein(), '*')), id='<unknown id>', name='<unknown name>', description='<unknown description>', dbxrefs=[]), SeqRecord(seq=Seq('*TFICCWRAAFCAR*LCFGNIAAFSATPAK*AATAPRWRWCARAAAA*LTATPI...KAP', HasStopCodon(ExtendedIUPACProtein(), '*')), id='<unknown id>', name='<unknown name>', description='<unknown description>', dbxrefs=[]), SeqRecord(seq=Seq('*TFICCWRAAFCAR*LCFGNIAAFSATPAK*AATAPRWRWCARAAAA*LTATPI...KAP', HasStopCodon(ExtendedIUPACProtein(), '*')), id='<unknown id>', name='<unknown name>', description='<unknown description>', dbxrefs=[]), SeqRecord(seq=Seq('WARAAAKRAACGRLRARRAAAAAKRRARNRRWCARAAARCRRLCLPAAAACFMM...MKX', HasStopCodon(ExtendedIUPACProtein(), '*')), id='<unknown id>', name='<unknown name>', description='<unknown description>', dbxrefs=[]), SeqRecord(seq=Seq('*AFCFCW*AAFCLRLCLCFGKPGFSATPAK*AATAPAWRWCAAAAAPRAPKATL...PKX', HasStopCodon(ExtendedIUPACProtein(), '*')), id='<unknown id>', name='<unknown name>', description='<unknown description>', dbxrefs=[]), SeqRecord(seq=Seq('*TCICCWRAAFCAR**PCFGNIAAFSATPAK*AATAPRWRWCARAAPA*LTATP...KAP', HasStopCodon(ExtendedIUPACProtein(), '*')), id='<unknown id>', name='<unknown name>', description='<unknown description>', dbxrefs=[]), SeqRecord(seq=Seq('CC*PALNRKTAIWRRWKWMKCLALCAILPPKCRRMMRCRAALCCW*NFCWI*AA...AAA', HasStopCodon(ExtendedIUPACProtein(), '*')), id='<unknown id>', name='<unknown name>', description='<unknown description>', dbxrefs=[]), SeqRecord(seq=Seq('*TCICCWRAAFCAR**PCFGNIAAFSATPAK*AATAPRWRWCARAAPA*LTATP...KAP', HasStopCodon(ExtendedIUPACProtein(), '*')), id='<unknown id>', name='<unknown name>', description='<unknown description>', dbxrefs=[]), SeqRecord(seq=Seq('*PNR*PCAAP*KAITAG*PRLRPPRSFRI*F*ARAAIKPLLCGN*PAMKPTMAF...APA', HasStopCodon(ExtendedIUPACProtein(), '*')), id='<unknown id>', name='<unknown name>', description='<unknown description>', dbxrefs=[])]\n",
      "THIRD\n",
      "[SeqRecord(seq=Seq('ENQMHLRTVQLRPPSLPASADQNL**NRKTVPAERIYRKLSVLS*LSAARKL*T...QQX', HasStopCodon(ExtendedIUPACProtein(), '*')), id='<unknown id>', name='<unknown name>', description='<unknown description>', dbxrefs=[]), SeqRecord(seq=Seq('ELLSAAGEQHSVRADCVLEISPLSAQHRRNEQQQHRAGAGAPEQQRPD*QQHR*...KHX', HasStopCodon(ExtendedIUPACProtein(), '*')), id='<unknown id>', name='<unknown name>', description='<unknown description>', dbxrefs=[]), SeqRecord(seq=Seq('ELLSAAGEQHSVRADCVLEISPLSAQHRRNEQQQHRAGAGAPEQQRPD*QQHR*...KHX', HasStopCodon(ExtendedIUPACProtein(), '*')), id='<unknown id>', name='<unknown name>', description='<unknown description>', dbxrefs=[]), SeqRecord(seq=Seq('GRERQQSARPVAVCERGGRRRQRSGGRGTGAGAPARPRGAAVCVYPPRQHVL**...*SX', HasStopCodon(ExtendedIUPACProtein(), '*')), id='<unknown id>', name='<unknown name>', description='<unknown description>', dbxrefs=[]), SeqRecord(seq=Seq('ELSVSAGEQHSVCVYVCVLENLVSAQHRRNEQQQHQPGAGAQQQQHPEHQKQH*...RSX', HasStopCodon(ExtendedIUPACProtein(), '*')), id='<unknown id>', name='<unknown name>', description='<unknown description>', dbxrefs=[]), SeqRecord(seq=Seq('ERVSAAGERHSVRADDRVLEISPLSAQHRRNEQQQHRAGAGAPEQHRPD*QQHR...KHX', HasStopCodon(ExtendedIUPACProtein(), '*')), id='<unknown id>', name='<unknown name>', description='<unknown description>', dbxrefs=[]), SeqRecord(seq=Seq('AADPL*TEKRPSGAGGSG*SVWLYVPYYHRSAAA*CDAGRHCAAGEISAGYEPQ...PLX', HasStopCodon(ExtendedIUPACProtein(), '*')), id='<unknown id>', name='<unknown name>', description='<unknown description>', dbxrefs=[]), SeqRecord(seq=Seq('ERVSAAGERHSVRADDRVLEISPLSAQHRRNEQQQHRAGAGAPEQHRPD*QQHR...KHX', HasStopCodon(ExtendedIUPACProtein(), '*')), id='<unknown id>', name='<unknown name>', description='<unknown description>', dbxrefs=[]), SeqRecord(seq=Seq('DRTDDPARHPERP*RLGDPDCDHPAVSGYDSEREPR*NHYYVETDPR*NQLWHS...HPX', HasStopCodon(ExtendedIUPACProtein(), '*')), id='<unknown id>', name='<unknown name>', description='<unknown description>', dbxrefs=[])]\n",
      "FIRST\n",
      "[SeqRecord(seq=Seq('MKTKCICELCSCGRHHCPHLPTKIYDKTEKPCLLSEYTENYPFYHSYLPRESFK...TSS', ExtendedIUPACProtein()), id='<unknown id>', name='<unknown name>', description='<unknown description>', dbxrefs=[]), SeqRecord(seq=Seq('MNFYLLLASSILCALIVFWKYRRFQRNTGEMSSNSTALALVRPSSSGLINSNTD...KST', ExtendedIUPACProtein()), id='<unknown id>', name='<unknown name>', description='<unknown description>', dbxrefs=[]), SeqRecord(seq=Seq('MNFYLLLASSILCALIVFWKYRRFQRNTGEMSSNSTALALVRPSSSGLINSNTD...KST', ExtendedIUPACProtein()), id='<unknown id>', name='<unknown name>', description='<unknown description>', dbxrefs=[]), SeqRecord(seq=Seq('MGASGSKARGLWPFASAAGGGGSEAAGAEQALVRPRGRAVPPFVFTRRGSMFYD...YEV', ExtendedIUPACProtein()), id='<unknown id>', name='<unknown name>', description='<unknown description>', dbxrefs=[]), SeqRecord(seq=Seq('MSFLFLLVSSILFAFMFVFWKTWFQRNTGEMSSNSTSLALVRSSSSTQSTKSNI...TEV', ExtendedIUPACProtein()), id='<unknown id>', name='<unknown name>', description='<unknown description>', dbxrefs=[]), SeqRecord(seq=Seq('MNVYLLLASGILCALMTVFWKYRRFQRNTGEMSSNSTALALVRPSSTGLINSNT...KST', ExtendedIUPACProtein()), id='<unknown id>', name='<unknown name>', description='<unknown description>', dbxrefs=[]), SeqRecord(seq=Seq('MLLTRFEQKNGHLAQVEVDEVFGFMCHITTEVPPHDAMPGGIVLLVKFLLDMSR...GRC', ExtendedIUPACProtein()), id='<unknown id>', name='<unknown name>', description='<unknown description>', dbxrefs=[]), SeqRecord(seq=Seq('MNVYLLLASGILCALMTVFWKYRRFQRNTGEMSSNSTALALVRPSSTGLINSNT...KST', ExtendedIUPACProtein()), id='<unknown id>', name='<unknown name>', description='<unknown description>', dbxrefs=[]), SeqRecord(seq=Seq('MTEQMTLRGTLKGHNGWVTQIATTPQFPDMILSASRDKTIIMWKLTRDETNYGI...GTR', ExtendedIUPACProtein()), id='<unknown id>', name='<unknown name>', description='<unknown description>', dbxrefs=[]), SeqRecord(seq=Seq('MSFLFLLVSSILFAFMFVFWKTWFQRNTGEMSSNSTSLALVRSSSSTQSTKSNI...TEV', ExtendedIUPACProtein()), id='<unknown id>', name='<unknown name>', description='<unknown description>', dbxrefs=[])]\n",
      "SECOND\n",
      "[SeqRecord(seq=Seq('*KPNAFANCAAAAAIIARICRPKFMIKPKNRAC*ANIPKTIRFIIAICRAKALN...PAA', HasStopCodon(ExtendedIUPACProtein(), '*')), id='<unknown id>', name='<unknown name>', description='<unknown description>', dbxrefs=[]), SeqRecord(seq=Seq('*TFICCWRAAFCAR*LCFGNIAAFSATPAK*AATAPRWRWCARAAAA*LTATPI...KAP', HasStopCodon(ExtendedIUPACProtein(), '*')), id='<unknown id>', name='<unknown name>', description='<unknown description>', dbxrefs=[]), SeqRecord(seq=Seq('*TFICCWRAAFCAR*LCFGNIAAFSATPAK*AATAPRWRWCARAAAA*LTATPI...KAP', HasStopCodon(ExtendedIUPACProtein(), '*')), id='<unknown id>', name='<unknown name>', description='<unknown description>', dbxrefs=[]), SeqRecord(seq=Seq('WARAAAKRAACGRLRARRAAAAAKRRARNRRWCARAAARCRRLCLPAAAACFMM...MKX', HasStopCodon(ExtendedIUPACProtein(), '*')), id='<unknown id>', name='<unknown name>', description='<unknown description>', dbxrefs=[]), SeqRecord(seq=Seq('*AFCFCW*AAFCLRLCLCFGKPGFSATPAK*AATAPAWRWCAAAAAPRAPKATL...PKX', HasStopCodon(ExtendedIUPACProtein(), '*')), id='<unknown id>', name='<unknown name>', description='<unknown description>', dbxrefs=[]), SeqRecord(seq=Seq('*TCICCWRAAFCAR**PCFGNIAAFSATPAK*AATAPRWRWCARAAPA*LTATP...KAP', HasStopCodon(ExtendedIUPACProtein(), '*')), id='<unknown id>', name='<unknown name>', description='<unknown description>', dbxrefs=[]), SeqRecord(seq=Seq('CC*PALNRKTAIWRRWKWMKCLALCAILPPKCRRMMRCRAALCCW*NFCWI*AA...AAA', HasStopCodon(ExtendedIUPACProtein(), '*')), id='<unknown id>', name='<unknown name>', description='<unknown description>', dbxrefs=[]), SeqRecord(seq=Seq('*TCICCWRAAFCAR**PCFGNIAAFSATPAK*AATAPRWRWCARAAPA*LTATP...KAP', HasStopCodon(ExtendedIUPACProtein(), '*')), id='<unknown id>', name='<unknown name>', description='<unknown description>', dbxrefs=[]), SeqRecord(seq=Seq('*PNR*PCAAP*KAITAG*PRLRPPRSFRI*F*ARAAIKPLLCGN*PAMKPTMAF...APA', HasStopCodon(ExtendedIUPACProtein(), '*')), id='<unknown id>', name='<unknown name>', description='<unknown description>', dbxrefs=[]), SeqRecord(seq=Seq('*AFCFCW*AAFCLRLCLCFGKPGFSATPAK*AATAPAWRWCAAAAAPRAPKATL...PKX', HasStopCodon(ExtendedIUPACProtein(), '*')), id='<unknown id>', name='<unknown name>', description='<unknown description>', dbxrefs=[])]\n",
      "THIRD\n",
      "[SeqRecord(seq=Seq('ENQMHLRTVQLRPPSLPASADQNL**NRKTVPAERIYRKLSVLS*LSAARKL*T...QQX', HasStopCodon(ExtendedIUPACProtein(), '*')), id='<unknown id>', name='<unknown name>', description='<unknown description>', dbxrefs=[]), SeqRecord(seq=Seq('ELLSAAGEQHSVRADCVLEISPLSAQHRRNEQQQHRAGAGAPEQQRPD*QQHR*...KHX', HasStopCodon(ExtendedIUPACProtein(), '*')), id='<unknown id>', name='<unknown name>', description='<unknown description>', dbxrefs=[]), SeqRecord(seq=Seq('ELLSAAGEQHSVRADCVLEISPLSAQHRRNEQQQHRAGAGAPEQQRPD*QQHR*...KHX', HasStopCodon(ExtendedIUPACProtein(), '*')), id='<unknown id>', name='<unknown name>', description='<unknown description>', dbxrefs=[]), SeqRecord(seq=Seq('GRERQQSARPVAVCERGGRRRQRSGGRGTGAGAPARPRGAAVCVYPPRQHVL**...*SX', HasStopCodon(ExtendedIUPACProtein(), '*')), id='<unknown id>', name='<unknown name>', description='<unknown description>', dbxrefs=[]), SeqRecord(seq=Seq('ELSVSAGEQHSVCVYVCVLENLVSAQHRRNEQQQHQPGAGAQQQQHPEHQKQH*...RSX', HasStopCodon(ExtendedIUPACProtein(), '*')), id='<unknown id>', name='<unknown name>', description='<unknown description>', dbxrefs=[]), SeqRecord(seq=Seq('ERVSAAGERHSVRADDRVLEISPLSAQHRRNEQQQHRAGAGAPEQHRPD*QQHR...KHX', HasStopCodon(ExtendedIUPACProtein(), '*')), id='<unknown id>', name='<unknown name>', description='<unknown description>', dbxrefs=[]), SeqRecord(seq=Seq('AADPL*TEKRPSGAGGSG*SVWLYVPYYHRSAAA*CDAGRHCAAGEISAGYEPQ...PLX', HasStopCodon(ExtendedIUPACProtein(), '*')), id='<unknown id>', name='<unknown name>', description='<unknown description>', dbxrefs=[]), SeqRecord(seq=Seq('ERVSAAGERHSVRADDRVLEISPLSAQHRRNEQQQHRAGAGAPEQHRPD*QQHR...KHX', HasStopCodon(ExtendedIUPACProtein(), '*')), id='<unknown id>', name='<unknown name>', description='<unknown description>', dbxrefs=[]), SeqRecord(seq=Seq('DRTDDPARHPERP*RLGDPDCDHPAVSGYDSEREPR*NHYYVETDPR*NQLWHS...HPX', HasStopCodon(ExtendedIUPACProtein(), '*')), id='<unknown id>', name='<unknown name>', description='<unknown description>', dbxrefs=[]), SeqRecord(seq=Seq('ELSVSAGEQHSVCVYVCVLENLVSAQHRRNEQQQHQPGAGAQQQQHPEHQKQH*...RSX', HasStopCodon(ExtendedIUPACProtein(), '*')), id='<unknown id>', name='<unknown name>', description='<unknown description>', dbxrefs=[])]\n",
      "FIRST\n",
      "[SeqRecord(seq=Seq('MKTKCICELCSCGRHHCPHLPTKIYDKTEKPCLLSEYTENYPFYHSYLPRESFK...TSS', ExtendedIUPACProtein()), id='<unknown id>', name='<unknown name>', description='<unknown description>', dbxrefs=[]), SeqRecord(seq=Seq('MNFYLLLASSILCALIVFWKYRRFQRNTGEMSSNSTALALVRPSSSGLINSNTD...KST', ExtendedIUPACProtein()), id='<unknown id>', name='<unknown name>', description='<unknown description>', dbxrefs=[]), SeqRecord(seq=Seq('MNFYLLLASSILCALIVFWKYRRFQRNTGEMSSNSTALALVRPSSSGLINSNTD...KST', ExtendedIUPACProtein()), id='<unknown id>', name='<unknown name>', description='<unknown description>', dbxrefs=[]), SeqRecord(seq=Seq('MGASGSKARGLWPFASAAGGGGSEAAGAEQALVRPRGRAVPPFVFTRRGSMFYD...YEV', ExtendedIUPACProtein()), id='<unknown id>', name='<unknown name>', description='<unknown description>', dbxrefs=[]), SeqRecord(seq=Seq('MSFLFLLVSSILFAFMFVFWKTWFQRNTGEMSSNSTSLALVRSSSSTQSTKSNI...TEV', ExtendedIUPACProtein()), id='<unknown id>', name='<unknown name>', description='<unknown description>', dbxrefs=[]), SeqRecord(seq=Seq('MNVYLLLASGILCALMTVFWKYRRFQRNTGEMSSNSTALALVRPSSTGLINSNT...KST', ExtendedIUPACProtein()), id='<unknown id>', name='<unknown name>', description='<unknown description>', dbxrefs=[]), SeqRecord(seq=Seq('MLLTRFEQKNGHLAQVEVDEVFGFMCHITTEVPPHDAMPGGIVLLVKFLLDMSR...GRC', ExtendedIUPACProtein()), id='<unknown id>', name='<unknown name>', description='<unknown description>', dbxrefs=[]), SeqRecord(seq=Seq('MNVYLLLASGILCALMTVFWKYRRFQRNTGEMSSNSTALALVRPSSTGLINSNT...KST', ExtendedIUPACProtein()), id='<unknown id>', name='<unknown name>', description='<unknown description>', dbxrefs=[]), SeqRecord(seq=Seq('MTEQMTLRGTLKGHNGWVTQIATTPQFPDMILSASRDKTIIMWKLTRDETNYGI...GTR', ExtendedIUPACProtein()), id='<unknown id>', name='<unknown name>', description='<unknown description>', dbxrefs=[]), SeqRecord(seq=Seq('MSFLFLLVSSILFAFMFVFWKTWFQRNTGEMSSNSTSLALVRSSSSTQSTKSNI...TEV', ExtendedIUPACProtein()), id='<unknown id>', name='<unknown name>', description='<unknown description>', dbxrefs=[]), SeqRecord(seq=Seq('MNILFILVGSIIFASIFSIFKVVFQIPDHERPSNPTSPTLLRANSFWSYRNTGL...SNQ', ExtendedIUPACProtein()), id='<unknown id>', name='<unknown name>', description='<unknown description>', dbxrefs=[])]\n",
      "SECOND\n",
      "[SeqRecord(seq=Seq('*KPNAFANCAAAAAIIARICRPKFMIKPKNRAC*ANIPKTIRFIIAICRAKALN...PAA', HasStopCodon(ExtendedIUPACProtein(), '*')), id='<unknown id>', name='<unknown name>', description='<unknown description>', dbxrefs=[]), SeqRecord(seq=Seq('*TFICCWRAAFCAR*LCFGNIAAFSATPAK*AATAPRWRWCARAAAA*LTATPI...KAP', HasStopCodon(ExtendedIUPACProtein(), '*')), id='<unknown id>', name='<unknown name>', description='<unknown description>', dbxrefs=[]), SeqRecord(seq=Seq('*TFICCWRAAFCAR*LCFGNIAAFSATPAK*AATAPRWRWCARAAAA*LTATPI...KAP', HasStopCodon(ExtendedIUPACProtein(), '*')), id='<unknown id>', name='<unknown name>', description='<unknown description>', dbxrefs=[]), SeqRecord(seq=Seq('WARAAAKRAACGRLRARRAAAAAKRRARNRRWCARAAARCRRLCLPAAAACFMM...MKX', HasStopCodon(ExtendedIUPACProtein(), '*')), id='<unknown id>', name='<unknown name>', description='<unknown description>', dbxrefs=[]), SeqRecord(seq=Seq('*AFCFCW*AAFCLRLCLCFGKPGFSATPAK*AATAPAWRWCAAAAAPRAPKATL...PKX', HasStopCodon(ExtendedIUPACProtein(), '*')), id='<unknown id>', name='<unknown name>', description='<unknown description>', dbxrefs=[]), SeqRecord(seq=Seq('*TCICCWRAAFCAR**PCFGNIAAFSATPAK*AATAPRWRWCARAAPA*LTATP...KAP', HasStopCodon(ExtendedIUPACProtein(), '*')), id='<unknown id>', name='<unknown name>', description='<unknown description>', dbxrefs=[]), SeqRecord(seq=Seq('CC*PALNRKTAIWRRWKWMKCLALCAILPPKCRRMMRCRAALCCW*NFCWI*AA...AAA', HasStopCodon(ExtendedIUPACProtein(), '*')), id='<unknown id>', name='<unknown name>', description='<unknown description>', dbxrefs=[]), SeqRecord(seq=Seq('*TCICCWRAAFCAR**PCFGNIAAFSATPAK*AATAPRWRWCARAAPA*LTATP...KAP', HasStopCodon(ExtendedIUPACProtein(), '*')), id='<unknown id>', name='<unknown name>', description='<unknown description>', dbxrefs=[]), SeqRecord(seq=Seq('*PNR*PCAAP*KAITAG*PRLRPPRSFRI*F*ARAAIKPLLCGN*PAMKPTMAF...APA', HasStopCodon(ExtendedIUPACProtein(), '*')), id='<unknown id>', name='<unknown name>', description='<unknown description>', dbxrefs=[]), SeqRecord(seq=Seq('*AFCFCW*AAFCLRLCLCFGKPGFSATPAK*AATAPAWRWCAAAAAPRAPKATL...PKX', HasStopCodon(ExtendedIUPACProtein(), '*')), id='<unknown id>', name='<unknown name>', description='<unknown description>', dbxrefs=[]), SeqRecord(seq=Seq('*TFCLFWWAALFLRAFLAFLKWCFRFRIMNARATRPARPCCARTAFGAIATPA*...ATX', HasStopCodon(ExtendedIUPACProtein(), '*')), id='<unknown id>', name='<unknown name>', description='<unknown description>', dbxrefs=[])]\n",
      "THIRD\n",
      "[SeqRecord(seq=Seq('ENQMHLRTVQLRPPSLPASADQNL**NRKTVPAERIYRKLSVLS*LSAARKL*T...QQX', HasStopCodon(ExtendedIUPACProtein(), '*')), id='<unknown id>', name='<unknown name>', description='<unknown description>', dbxrefs=[]), SeqRecord(seq=Seq('ELLSAAGEQHSVRADCVLEISPLSAQHRRNEQQQHRAGAGAPEQQRPD*QQHR*...KHX', HasStopCodon(ExtendedIUPACProtein(), '*')), id='<unknown id>', name='<unknown name>', description='<unknown description>', dbxrefs=[]), SeqRecord(seq=Seq('ELLSAAGEQHSVRADCVLEISPLSAQHRRNEQQQHRAGAGAPEQQRPD*QQHR*...KHX', HasStopCodon(ExtendedIUPACProtein(), '*')), id='<unknown id>', name='<unknown name>', description='<unknown description>', dbxrefs=[]), SeqRecord(seq=Seq('GRERQQSARPVAVCERGGRRRQRSGGRGTGAGAPARPRGAAVCVYPPRQHVL**...*SX', HasStopCodon(ExtendedIUPACProtein(), '*')), id='<unknown id>', name='<unknown name>', description='<unknown description>', dbxrefs=[]), SeqRecord(seq=Seq('ELSVSAGEQHSVCVYVCVLENLVSAQHRRNEQQQHQPGAGAQQQQHPEHQKQH*...RSX', HasStopCodon(ExtendedIUPACProtein(), '*')), id='<unknown id>', name='<unknown name>', description='<unknown description>', dbxrefs=[]), SeqRecord(seq=Seq('ERVSAAGERHSVRADDRVLEISPLSAQHRRNEQQQHRAGAGAPEQHRPD*QQHR...KHX', HasStopCodon(ExtendedIUPACProtein(), '*')), id='<unknown id>', name='<unknown name>', description='<unknown description>', dbxrefs=[]), SeqRecord(seq=Seq('AADPL*TEKRPSGAGGSG*SVWLYVPYYHRSAAA*CDAGRHCAAGEISAGYEPQ...PLX', HasStopCodon(ExtendedIUPACProtein(), '*')), id='<unknown id>', name='<unknown name>', description='<unknown description>', dbxrefs=[]), SeqRecord(seq=Seq('ERVSAAGERHSVRADDRVLEISPLSAQHRRNEQQQHRAGAGAPEQHRPD*QQHR...KHX', HasStopCodon(ExtendedIUPACProtein(), '*')), id='<unknown id>', name='<unknown name>', description='<unknown description>', dbxrefs=[]), SeqRecord(seq=Seq('DRTDDPARHPERP*RLGDPDCDHPAVSGYDSEREPR*NHYYVETDPR*NQLWHS...HPX', HasStopCodon(ExtendedIUPACProtein(), '*')), id='<unknown id>', name='<unknown name>', description='<unknown description>', dbxrefs=[]), SeqRecord(seq=Seq('ELSVSAGEQHSVCVYVCVLENLVSAQHRRNEQQQHQPGAGAQQQQHPEHQKQH*...RSX', HasStopCodon(ExtendedIUPACProtein(), '*')), id='<unknown id>', name='<unknown name>', description='<unknown description>', dbxrefs=[]), SeqRecord(seq=Seq('EHSVYSGGQHYFCEHF*HF*SGVSDSGS*TPEQPDQPDPAAREQLLELSQHRPE...QPX', HasStopCodon(ExtendedIUPACProtein(), '*')), id='<unknown id>', name='<unknown name>', description='<unknown description>', dbxrefs=[])]\n",
      "FIRST\n",
      "[SeqRecord(seq=Seq('MKTKCICELCSCGRHHCPHLPTKIYDKTEKPCLLSEYTENYPFYHSYLPRESFK...TSS', ExtendedIUPACProtein()), id='<unknown id>', name='<unknown name>', description='<unknown description>', dbxrefs=[]), SeqRecord(seq=Seq('MNFYLLLASSILCALIVFWKYRRFQRNTGEMSSNSTALALVRPSSSGLINSNTD...KST', ExtendedIUPACProtein()), id='<unknown id>', name='<unknown name>', description='<unknown description>', dbxrefs=[]), SeqRecord(seq=Seq('MNFYLLLASSILCALIVFWKYRRFQRNTGEMSSNSTALALVRPSSSGLINSNTD...KST', ExtendedIUPACProtein()), id='<unknown id>', name='<unknown name>', description='<unknown description>', dbxrefs=[]), SeqRecord(seq=Seq('MGASGSKARGLWPFASAAGGGGSEAAGAEQALVRPRGRAVPPFVFTRRGSMFYD...YEV', ExtendedIUPACProtein()), id='<unknown id>', name='<unknown name>', description='<unknown description>', dbxrefs=[]), SeqRecord(seq=Seq('MSFLFLLVSSILFAFMFVFWKTWFQRNTGEMSSNSTSLALVRSSSSTQSTKSNI...TEV', ExtendedIUPACProtein()), id='<unknown id>', name='<unknown name>', description='<unknown description>', dbxrefs=[]), SeqRecord(seq=Seq('MNVYLLLASGILCALMTVFWKYRRFQRNTGEMSSNSTALALVRPSSTGLINSNT...KST', ExtendedIUPACProtein()), id='<unknown id>', name='<unknown name>', description='<unknown description>', dbxrefs=[]), SeqRecord(seq=Seq('MLLTRFEQKNGHLAQVEVDEVFGFMCHITTEVPPHDAMPGGIVLLVKFLLDMSR...GRC', ExtendedIUPACProtein()), id='<unknown id>', name='<unknown name>', description='<unknown description>', dbxrefs=[]), SeqRecord(seq=Seq('MNVYLLLASGILCALMTVFWKYRRFQRNTGEMSSNSTALALVRPSSTGLINSNT...KST', ExtendedIUPACProtein()), id='<unknown id>', name='<unknown name>', description='<unknown description>', dbxrefs=[]), SeqRecord(seq=Seq('MTEQMTLRGTLKGHNGWVTQIATTPQFPDMILSASRDKTIIMWKLTRDETNYGI...GTR', ExtendedIUPACProtein()), id='<unknown id>', name='<unknown name>', description='<unknown description>', dbxrefs=[]), SeqRecord(seq=Seq('MSFLFLLVSSILFAFMFVFWKTWFQRNTGEMSSNSTSLALVRSSSSTQSTKSNI...TEV', ExtendedIUPACProtein()), id='<unknown id>', name='<unknown name>', description='<unknown description>', dbxrefs=[]), SeqRecord(seq=Seq('MNILFILVGSIIFASIFSIFKVVFQIPDHERPSNPTSPTLLRANSFWSYRNTGL...SNQ', ExtendedIUPACProtein()), id='<unknown id>', name='<unknown name>', description='<unknown description>', dbxrefs=[]), SeqRecord(seq=Seq('MSMLLLLLSFIVFTLLLVVWKSRFQSSVGEMSSNSTSLALVRATSSTGSTKSNT...GNH', ExtendedIUPACProtein()), id='<unknown id>', name='<unknown name>', description='<unknown description>', dbxrefs=[])]\n",
      "SECOND\n",
      "[SeqRecord(seq=Seq('*KPNAFANCAAAAAIIARICRPKFMIKPKNRAC*ANIPKTIRFIIAICRAKALN...PAA', HasStopCodon(ExtendedIUPACProtein(), '*')), id='<unknown id>', name='<unknown name>', description='<unknown description>', dbxrefs=[]), SeqRecord(seq=Seq('*TFICCWRAAFCAR*LCFGNIAAFSATPAK*AATAPRWRWCARAAAA*LTATPI...KAP', HasStopCodon(ExtendedIUPACProtein(), '*')), id='<unknown id>', name='<unknown name>', description='<unknown description>', dbxrefs=[]), SeqRecord(seq=Seq('*TFICCWRAAFCAR*LCFGNIAAFSATPAK*AATAPRWRWCARAAAA*LTATPI...KAP', HasStopCodon(ExtendedIUPACProtein(), '*')), id='<unknown id>', name='<unknown name>', description='<unknown description>', dbxrefs=[]), SeqRecord(seq=Seq('WARAAAKRAACGRLRARRAAAAAKRRARNRRWCARAAARCRRLCLPAAAACFMM...MKX', HasStopCodon(ExtendedIUPACProtein(), '*')), id='<unknown id>', name='<unknown name>', description='<unknown description>', dbxrefs=[]), SeqRecord(seq=Seq('*AFCFCW*AAFCLRLCLCFGKPGFSATPAK*AATAPAWRWCAAAAAPRAPKATL...PKX', HasStopCodon(ExtendedIUPACProtein(), '*')), id='<unknown id>', name='<unknown name>', description='<unknown description>', dbxrefs=[]), SeqRecord(seq=Seq('*TCICCWRAAFCAR**PCFGNIAAFSATPAK*AATAPRWRWCARAAPA*LTATP...KAP', HasStopCodon(ExtendedIUPACProtein(), '*')), id='<unknown id>', name='<unknown name>', description='<unknown description>', dbxrefs=[]), SeqRecord(seq=Seq('CC*PALNRKTAIWRRWKWMKCLALCAILPPKCRRMMRCRAALCCW*NFCWI*AA...AAA', HasStopCodon(ExtendedIUPACProtein(), '*')), id='<unknown id>', name='<unknown name>', description='<unknown description>', dbxrefs=[]), SeqRecord(seq=Seq('*TCICCWRAAFCAR**PCFGNIAAFSATPAK*AATAPRWRWCARAAPA*LTATP...KAP', HasStopCodon(ExtendedIUPACProtein(), '*')), id='<unknown id>', name='<unknown name>', description='<unknown description>', dbxrefs=[]), SeqRecord(seq=Seq('*PNR*PCAAP*KAITAG*PRLRPPRSFRI*F*ARAAIKPLLCGN*PAMKPTMAF...APA', HasStopCodon(ExtendedIUPACProtein(), '*')), id='<unknown id>', name='<unknown name>', description='<unknown description>', dbxrefs=[]), SeqRecord(seq=Seq('*AFCFCW*AAFCLRLCLCFGKPGFSATPAK*AATAPAWRWCAAAAAPRAPKATL...PKX', HasStopCodon(ExtendedIUPACProtein(), '*')), id='<unknown id>', name='<unknown name>', description='<unknown description>', dbxrefs=[]), SeqRecord(seq=Seq('*TFCLFWWAALFLRAFLAFLKWCFRFRIMNARATRPARPCCARTAFGAIATPA*...ATX', HasStopCodon(ExtendedIUPACProtein(), '*')), id='<unknown id>', name='<unknown name>', description='<unknown description>', dbxrefs=[]), SeqRecord(seq=Seq('*ACCCCC*ALLCLPCCWWCGKAAFRAAWAK*AATAPAWRWCARPAAPAAPKATP...ATX', HasStopCodon(ExtendedIUPACProtein(), '*')), id='<unknown id>', name='<unknown name>', description='<unknown description>', dbxrefs=[])]\n",
      "THIRD\n",
      "[SeqRecord(seq=Seq('ENQMHLRTVQLRPPSLPASADQNL**NRKTVPAERIYRKLSVLS*LSAARKL*T...QQX', HasStopCodon(ExtendedIUPACProtein(), '*')), id='<unknown id>', name='<unknown name>', description='<unknown description>', dbxrefs=[]), SeqRecord(seq=Seq('ELLSAAGEQHSVRADCVLEISPLSAQHRRNEQQQHRAGAGAPEQQRPD*QQHR*...KHX', HasStopCodon(ExtendedIUPACProtein(), '*')), id='<unknown id>', name='<unknown name>', description='<unknown description>', dbxrefs=[]), SeqRecord(seq=Seq('ELLSAAGEQHSVRADCVLEISPLSAQHRRNEQQQHRAGAGAPEQQRPD*QQHR*...KHX', HasStopCodon(ExtendedIUPACProtein(), '*')), id='<unknown id>', name='<unknown name>', description='<unknown description>', dbxrefs=[]), SeqRecord(seq=Seq('GRERQQSARPVAVCERGGRRRQRSGGRGTGAGAPARPRGAAVCVYPPRQHVL**...*SX', HasStopCodon(ExtendedIUPACProtein(), '*')), id='<unknown id>', name='<unknown name>', description='<unknown description>', dbxrefs=[]), SeqRecord(seq=Seq('ELSVSAGEQHSVCVYVCVLENLVSAQHRRNEQQQHQPGAGAQQQQHPEHQKQH*...RSX', HasStopCodon(ExtendedIUPACProtein(), '*')), id='<unknown id>', name='<unknown name>', description='<unknown description>', dbxrefs=[]), SeqRecord(seq=Seq('ERVSAAGERHSVRADDRVLEISPLSAQHRRNEQQQHRAGAGAPEQHRPD*QQHR...KHX', HasStopCodon(ExtendedIUPACProtein(), '*')), id='<unknown id>', name='<unknown name>', description='<unknown description>', dbxrefs=[]), SeqRecord(seq=Seq('AADPL*TEKRPSGAGGSG*SVWLYVPYYHRSAAA*CDAGRHCAAGEISAGYEPQ...PLX', HasStopCodon(ExtendedIUPACProtein(), '*')), id='<unknown id>', name='<unknown name>', description='<unknown description>', dbxrefs=[]), SeqRecord(seq=Seq('ERVSAAGERHSVRADDRVLEISPLSAQHRRNEQQQHRAGAGAPEQHRPD*QQHR...KHX', HasStopCodon(ExtendedIUPACProtein(), '*')), id='<unknown id>', name='<unknown name>', description='<unknown description>', dbxrefs=[]), SeqRecord(seq=Seq('DRTDDPARHPERP*RLGDPDCDHPAVSGYDSEREPR*NHYYVETDPR*NQLWHS...HPX', HasStopCodon(ExtendedIUPACProtein(), '*')), id='<unknown id>', name='<unknown name>', description='<unknown description>', dbxrefs=[]), SeqRecord(seq=Seq('ELSVSAGEQHSVCVYVCVLENLVSAQHRRNEQQQHQPGAGAQQQQHPEHQKQH*...RSX', HasStopCodon(ExtendedIUPACProtein(), '*')), id='<unknown id>', name='<unknown name>', description='<unknown description>', dbxrefs=[]), SeqRecord(seq=Seq('EHSVYSGGQHYFCEHF*HF*SGVSDSGS*TPEQPDQPDPAAREQLLELSQHRPE...QPX', HasStopCodon(ExtendedIUPACProtein(), '*')), id='<unknown id>', name='<unknown name>', description='<unknown description>', dbxrefs=[]), SeqRecord(seq=Seq('EHAAAAAELYCVYPAAGGVEKPLSEQRGRNEQQQHQPGAGARDQQHRQHQKQHR...QPX', HasStopCodon(ExtendedIUPACProtein(), '*')), id='<unknown id>', name='<unknown name>', description='<unknown description>', dbxrefs=[])]\n",
      "FIRST\n",
      "[SeqRecord(seq=Seq('MKTKCICELCSCGRHHCPHLPTKIYDKTEKPCLLSEYTENYPFYHSYLPRESFK...TSS', ExtendedIUPACProtein()), id='<unknown id>', name='<unknown name>', description='<unknown description>', dbxrefs=[]), SeqRecord(seq=Seq('MNFYLLLASSILCALIVFWKYRRFQRNTGEMSSNSTALALVRPSSSGLINSNTD...KST', ExtendedIUPACProtein()), id='<unknown id>', name='<unknown name>', description='<unknown description>', dbxrefs=[]), SeqRecord(seq=Seq('MNFYLLLASSILCALIVFWKYRRFQRNTGEMSSNSTALALVRPSSSGLINSNTD...KST', ExtendedIUPACProtein()), id='<unknown id>', name='<unknown name>', description='<unknown description>', dbxrefs=[]), SeqRecord(seq=Seq('MGASGSKARGLWPFASAAGGGGSEAAGAEQALVRPRGRAVPPFVFTRRGSMFYD...YEV', ExtendedIUPACProtein()), id='<unknown id>', name='<unknown name>', description='<unknown description>', dbxrefs=[]), SeqRecord(seq=Seq('MSFLFLLVSSILFAFMFVFWKTWFQRNTGEMSSNSTSLALVRSSSSTQSTKSNI...TEV', ExtendedIUPACProtein()), id='<unknown id>', name='<unknown name>', description='<unknown description>', dbxrefs=[]), SeqRecord(seq=Seq('MNVYLLLASGILCALMTVFWKYRRFQRNTGEMSSNSTALALVRPSSTGLINSNT...KST', ExtendedIUPACProtein()), id='<unknown id>', name='<unknown name>', description='<unknown description>', dbxrefs=[]), SeqRecord(seq=Seq('MLLTRFEQKNGHLAQVEVDEVFGFMCHITTEVPPHDAMPGGIVLLVKFLLDMSR...GRC', ExtendedIUPACProtein()), id='<unknown id>', name='<unknown name>', description='<unknown description>', dbxrefs=[]), SeqRecord(seq=Seq('MNVYLLLASGILCALMTVFWKYRRFQRNTGEMSSNSTALALVRPSSTGLINSNT...KST', ExtendedIUPACProtein()), id='<unknown id>', name='<unknown name>', description='<unknown description>', dbxrefs=[]), SeqRecord(seq=Seq('MTEQMTLRGTLKGHNGWVTQIATTPQFPDMILSASRDKTIIMWKLTRDETNYGI...GTR', ExtendedIUPACProtein()), id='<unknown id>', name='<unknown name>', description='<unknown description>', dbxrefs=[]), SeqRecord(seq=Seq('MSFLFLLVSSILFAFMFVFWKTWFQRNTGEMSSNSTSLALVRSSSSTQSTKSNI...TEV', ExtendedIUPACProtein()), id='<unknown id>', name='<unknown name>', description='<unknown description>', dbxrefs=[]), SeqRecord(seq=Seq('MNILFILVGSIIFASIFSIFKVVFQIPDHERPSNPTSPTLLRANSFWSYRNTGL...SNQ', ExtendedIUPACProtein()), id='<unknown id>', name='<unknown name>', description='<unknown description>', dbxrefs=[]), SeqRecord(seq=Seq('MSMLLLLLSFIVFTLLLVVWKSRFQSSVGEMSSNSTSLALVRATSSTGSTKSNT...GNH', ExtendedIUPACProtein()), id='<unknown id>', name='<unknown name>', description='<unknown description>', dbxrefs=[]), SeqRecord(seq=Seq('MSFLFLLVSSILFAFMFVFWKTWFQRNTGEMSSNSTSLALVRSSSSTQSTKSNI...TEV', ExtendedIUPACProtein()), id='<unknown id>', name='<unknown name>', description='<unknown description>', dbxrefs=[])]\n",
      "SECOND\n",
      "[SeqRecord(seq=Seq('*KPNAFANCAAAAAIIARICRPKFMIKPKNRAC*ANIPKTIRFIIAICRAKALN...PAA', HasStopCodon(ExtendedIUPACProtein(), '*')), id='<unknown id>', name='<unknown name>', description='<unknown description>', dbxrefs=[]), SeqRecord(seq=Seq('*TFICCWRAAFCAR*LCFGNIAAFSATPAK*AATAPRWRWCARAAAA*LTATPI...KAP', HasStopCodon(ExtendedIUPACProtein(), '*')), id='<unknown id>', name='<unknown name>', description='<unknown description>', dbxrefs=[]), SeqRecord(seq=Seq('*TFICCWRAAFCAR*LCFGNIAAFSATPAK*AATAPRWRWCARAAAA*LTATPI...KAP', HasStopCodon(ExtendedIUPACProtein(), '*')), id='<unknown id>', name='<unknown name>', description='<unknown description>', dbxrefs=[]), SeqRecord(seq=Seq('WARAAAKRAACGRLRARRAAAAAKRRARNRRWCARAAARCRRLCLPAAAACFMM...MKX', HasStopCodon(ExtendedIUPACProtein(), '*')), id='<unknown id>', name='<unknown name>', description='<unknown description>', dbxrefs=[]), SeqRecord(seq=Seq('*AFCFCW*AAFCLRLCLCFGKPGFSATPAK*AATAPAWRWCAAAAAPRAPKATL...PKX', HasStopCodon(ExtendedIUPACProtein(), '*')), id='<unknown id>', name='<unknown name>', description='<unknown description>', dbxrefs=[]), SeqRecord(seq=Seq('*TCICCWRAAFCAR**PCFGNIAAFSATPAK*AATAPRWRWCARAAPA*LTATP...KAP', HasStopCodon(ExtendedIUPACProtein(), '*')), id='<unknown id>', name='<unknown name>', description='<unknown description>', dbxrefs=[]), SeqRecord(seq=Seq('CC*PALNRKTAIWRRWKWMKCLALCAILPPKCRRMMRCRAALCCW*NFCWI*AA...AAA', HasStopCodon(ExtendedIUPACProtein(), '*')), id='<unknown id>', name='<unknown name>', description='<unknown description>', dbxrefs=[]), SeqRecord(seq=Seq('*TCICCWRAAFCAR**PCFGNIAAFSATPAK*AATAPRWRWCARAAPA*LTATP...KAP', HasStopCodon(ExtendedIUPACProtein(), '*')), id='<unknown id>', name='<unknown name>', description='<unknown description>', dbxrefs=[]), SeqRecord(seq=Seq('*PNR*PCAAP*KAITAG*PRLRPPRSFRI*F*ARAAIKPLLCGN*PAMKPTMAF...APA', HasStopCodon(ExtendedIUPACProtein(), '*')), id='<unknown id>', name='<unknown name>', description='<unknown description>', dbxrefs=[]), SeqRecord(seq=Seq('*AFCFCW*AAFCLRLCLCFGKPGFSATPAK*AATAPAWRWCAAAAAPRAPKATL...PKX', HasStopCodon(ExtendedIUPACProtein(), '*')), id='<unknown id>', name='<unknown name>', description='<unknown description>', dbxrefs=[]), SeqRecord(seq=Seq('*TFCLFWWAALFLRAFLAFLKWCFRFRIMNARATRPARPCCARTAFGAIATPA*...ATX', HasStopCodon(ExtendedIUPACProtein(), '*')), id='<unknown id>', name='<unknown name>', description='<unknown description>', dbxrefs=[]), SeqRecord(seq=Seq('*ACCCCC*ALLCLPCCWWCGKAAFRAAWAK*AATAPAWRWCARPAAPAAPKATP...ATX', HasStopCodon(ExtendedIUPACProtein(), '*')), id='<unknown id>', name='<unknown name>', description='<unknown description>', dbxrefs=[]), SeqRecord(seq=Seq('*AFCFCW*AAFCLRLCLCFGKPGFSATPAK*AATAPAWRWCAAAAAPRAPKATL...PKX', HasStopCodon(ExtendedIUPACProtein(), '*')), id='<unknown id>', name='<unknown name>', description='<unknown description>', dbxrefs=[])]\n",
      "THIRD\n",
      "[SeqRecord(seq=Seq('ENQMHLRTVQLRPPSLPASADQNL**NRKTVPAERIYRKLSVLS*LSAARKL*T...QQX', HasStopCodon(ExtendedIUPACProtein(), '*')), id='<unknown id>', name='<unknown name>', description='<unknown description>', dbxrefs=[]), SeqRecord(seq=Seq('ELLSAAGEQHSVRADCVLEISPLSAQHRRNEQQQHRAGAGAPEQQRPD*QQHR*...KHX', HasStopCodon(ExtendedIUPACProtein(), '*')), id='<unknown id>', name='<unknown name>', description='<unknown description>', dbxrefs=[]), SeqRecord(seq=Seq('ELLSAAGEQHSVRADCVLEISPLSAQHRRNEQQQHRAGAGAPEQQRPD*QQHR*...KHX', HasStopCodon(ExtendedIUPACProtein(), '*')), id='<unknown id>', name='<unknown name>', description='<unknown description>', dbxrefs=[]), SeqRecord(seq=Seq('GRERQQSARPVAVCERGGRRRQRSGGRGTGAGAPARPRGAAVCVYPPRQHVL**...*SX', HasStopCodon(ExtendedIUPACProtein(), '*')), id='<unknown id>', name='<unknown name>', description='<unknown description>', dbxrefs=[]), SeqRecord(seq=Seq('ELSVSAGEQHSVCVYVCVLENLVSAQHRRNEQQQHQPGAGAQQQQHPEHQKQH*...RSX', HasStopCodon(ExtendedIUPACProtein(), '*')), id='<unknown id>', name='<unknown name>', description='<unknown description>', dbxrefs=[]), SeqRecord(seq=Seq('ERVSAAGERHSVRADDRVLEISPLSAQHRRNEQQQHRAGAGAPEQHRPD*QQHR...KHX', HasStopCodon(ExtendedIUPACProtein(), '*')), id='<unknown id>', name='<unknown name>', description='<unknown description>', dbxrefs=[]), SeqRecord(seq=Seq('AADPL*TEKRPSGAGGSG*SVWLYVPYYHRSAAA*CDAGRHCAAGEISAGYEPQ...PLX', HasStopCodon(ExtendedIUPACProtein(), '*')), id='<unknown id>', name='<unknown name>', description='<unknown description>', dbxrefs=[]), SeqRecord(seq=Seq('ERVSAAGERHSVRADDRVLEISPLSAQHRRNEQQQHRAGAGAPEQHRPD*QQHR...KHX', HasStopCodon(ExtendedIUPACProtein(), '*')), id='<unknown id>', name='<unknown name>', description='<unknown description>', dbxrefs=[]), SeqRecord(seq=Seq('DRTDDPARHPERP*RLGDPDCDHPAVSGYDSEREPR*NHYYVETDPR*NQLWHS...HPX', HasStopCodon(ExtendedIUPACProtein(), '*')), id='<unknown id>', name='<unknown name>', description='<unknown description>', dbxrefs=[]), SeqRecord(seq=Seq('ELSVSAGEQHSVCVYVCVLENLVSAQHRRNEQQQHQPGAGAQQQQHPEHQKQH*...RSX', HasStopCodon(ExtendedIUPACProtein(), '*')), id='<unknown id>', name='<unknown name>', description='<unknown description>', dbxrefs=[]), SeqRecord(seq=Seq('EHSVYSGGQHYFCEHF*HF*SGVSDSGS*TPEQPDQPDPAAREQLLELSQHRPE...QPX', HasStopCodon(ExtendedIUPACProtein(), '*')), id='<unknown id>', name='<unknown name>', description='<unknown description>', dbxrefs=[]), SeqRecord(seq=Seq('EHAAAAAELYCVYPAAGGVEKPLSEQRGRNEQQQHQPGAGARDQQHRQHQKQHR...QPX', HasStopCodon(ExtendedIUPACProtein(), '*')), id='<unknown id>', name='<unknown name>', description='<unknown description>', dbxrefs=[]), SeqRecord(seq=Seq('ELSVSAGEQHSVCVYVCVLENLVSAQHRRNEQQQHQPGAGAQQQQHPEHQKQH*...RSX', HasStopCodon(ExtendedIUPACProtein(), '*')), id='<unknown id>', name='<unknown name>', description='<unknown description>', dbxrefs=[])]\n",
      "FIRST\n",
      "[SeqRecord(seq=Seq('MKTKCICELCSCGRHHCPHLPTKIYDKTEKPCLLSEYTENYPFYHSYLPRESFK...TSS', ExtendedIUPACProtein()), id='<unknown id>', name='<unknown name>', description='<unknown description>', dbxrefs=[]), SeqRecord(seq=Seq('MNFYLLLASSILCALIVFWKYRRFQRNTGEMSSNSTALALVRPSSSGLINSNTD...KST', ExtendedIUPACProtein()), id='<unknown id>', name='<unknown name>', description='<unknown description>', dbxrefs=[]), SeqRecord(seq=Seq('MNFYLLLASSILCALIVFWKYRRFQRNTGEMSSNSTALALVRPSSSGLINSNTD...KST', ExtendedIUPACProtein()), id='<unknown id>', name='<unknown name>', description='<unknown description>', dbxrefs=[]), SeqRecord(seq=Seq('MGASGSKARGLWPFASAAGGGGSEAAGAEQALVRPRGRAVPPFVFTRRGSMFYD...YEV', ExtendedIUPACProtein()), id='<unknown id>', name='<unknown name>', description='<unknown description>', dbxrefs=[]), SeqRecord(seq=Seq('MSFLFLLVSSILFAFMFVFWKTWFQRNTGEMSSNSTSLALVRSSSSTQSTKSNI...TEV', ExtendedIUPACProtein()), id='<unknown id>', name='<unknown name>', description='<unknown description>', dbxrefs=[]), SeqRecord(seq=Seq('MNVYLLLASGILCALMTVFWKYRRFQRNTGEMSSNSTALALVRPSSTGLINSNT...KST', ExtendedIUPACProtein()), id='<unknown id>', name='<unknown name>', description='<unknown description>', dbxrefs=[]), SeqRecord(seq=Seq('MLLTRFEQKNGHLAQVEVDEVFGFMCHITTEVPPHDAMPGGIVLLVKFLLDMSR...GRC', ExtendedIUPACProtein()), id='<unknown id>', name='<unknown name>', description='<unknown description>', dbxrefs=[]), SeqRecord(seq=Seq('MNVYLLLASGILCALMTVFWKYRRFQRNTGEMSSNSTALALVRPSSTGLINSNT...KST', ExtendedIUPACProtein()), id='<unknown id>', name='<unknown name>', description='<unknown description>', dbxrefs=[]), SeqRecord(seq=Seq('MTEQMTLRGTLKGHNGWVTQIATTPQFPDMILSASRDKTIIMWKLTRDETNYGI...GTR', ExtendedIUPACProtein()), id='<unknown id>', name='<unknown name>', description='<unknown description>', dbxrefs=[]), SeqRecord(seq=Seq('MSFLFLLVSSILFAFMFVFWKTWFQRNTGEMSSNSTSLALVRSSSSTQSTKSNI...TEV', ExtendedIUPACProtein()), id='<unknown id>', name='<unknown name>', description='<unknown description>', dbxrefs=[]), SeqRecord(seq=Seq('MNILFILVGSIIFASIFSIFKVVFQIPDHERPSNPTSPTLLRANSFWSYRNTGL...SNQ', ExtendedIUPACProtein()), id='<unknown id>', name='<unknown name>', description='<unknown description>', dbxrefs=[]), SeqRecord(seq=Seq('MSMLLLLLSFIVFTLLLVVWKSRFQSSVGEMSSNSTSLALVRATSSTGSTKSNT...GNH', ExtendedIUPACProtein()), id='<unknown id>', name='<unknown name>', description='<unknown description>', dbxrefs=[]), SeqRecord(seq=Seq('MSFLFLLVSSILFAFMFVFWKTWFQRNTGEMSSNSTSLALVRSSSSTQSTKSNI...TEV', ExtendedIUPACProtein()), id='<unknown id>', name='<unknown name>', description='<unknown description>', dbxrefs=[]), SeqRecord(seq=Seq('MSFLFLLVSSILFAFMFVFWKTWFQRNTGEMSSNSTSSHYRACVVVVGHKLSLS...RVK', ExtendedIUPACProtein()), id='<unknown id>', name='<unknown name>', description='<unknown description>', dbxrefs=[])]\n",
      "SECOND\n",
      "[SeqRecord(seq=Seq('*KPNAFANCAAAAAIIARICRPKFMIKPKNRAC*ANIPKTIRFIIAICRAKALN...PAA', HasStopCodon(ExtendedIUPACProtein(), '*')), id='<unknown id>', name='<unknown name>', description='<unknown description>', dbxrefs=[]), SeqRecord(seq=Seq('*TFICCWRAAFCAR*LCFGNIAAFSATPAK*AATAPRWRWCARAAAA*LTATPI...KAP', HasStopCodon(ExtendedIUPACProtein(), '*')), id='<unknown id>', name='<unknown name>', description='<unknown description>', dbxrefs=[]), SeqRecord(seq=Seq('*TFICCWRAAFCAR*LCFGNIAAFSATPAK*AATAPRWRWCARAAAA*LTATPI...KAP', HasStopCodon(ExtendedIUPACProtein(), '*')), id='<unknown id>', name='<unknown name>', description='<unknown description>', dbxrefs=[]), SeqRecord(seq=Seq('WARAAAKRAACGRLRARRAAAAAKRRARNRRWCARAAARCRRLCLPAAAACFMM...MKX', HasStopCodon(ExtendedIUPACProtein(), '*')), id='<unknown id>', name='<unknown name>', description='<unknown description>', dbxrefs=[]), SeqRecord(seq=Seq('*AFCFCW*AAFCLRLCLCFGKPGFSATPAK*AATAPAWRWCAAAAAPRAPKATL...PKX', HasStopCodon(ExtendedIUPACProtein(), '*')), id='<unknown id>', name='<unknown name>', description='<unknown description>', dbxrefs=[]), SeqRecord(seq=Seq('*TCICCWRAAFCAR**PCFGNIAAFSATPAK*AATAPRWRWCARAAPA*LTATP...KAP', HasStopCodon(ExtendedIUPACProtein(), '*')), id='<unknown id>', name='<unknown name>', description='<unknown description>', dbxrefs=[]), SeqRecord(seq=Seq('CC*PALNRKTAIWRRWKWMKCLALCAILPPKCRRMMRCRAALCCW*NFCWI*AA...AAA', HasStopCodon(ExtendedIUPACProtein(), '*')), id='<unknown id>', name='<unknown name>', description='<unknown description>', dbxrefs=[]), SeqRecord(seq=Seq('*TCICCWRAAFCAR**PCFGNIAAFSATPAK*AATAPRWRWCARAAPA*LTATP...KAP', HasStopCodon(ExtendedIUPACProtein(), '*')), id='<unknown id>', name='<unknown name>', description='<unknown description>', dbxrefs=[]), SeqRecord(seq=Seq('*PNR*PCAAP*KAITAG*PRLRPPRSFRI*F*ARAAIKPLLCGN*PAMKPTMAF...APA', HasStopCodon(ExtendedIUPACProtein(), '*')), id='<unknown id>', name='<unknown name>', description='<unknown description>', dbxrefs=[]), SeqRecord(seq=Seq('*AFCFCW*AAFCLRLCLCFGKPGFSATPAK*AATAPAWRWCAAAAAPRAPKATL...PKX', HasStopCodon(ExtendedIUPACProtein(), '*')), id='<unknown id>', name='<unknown name>', description='<unknown description>', dbxrefs=[]), SeqRecord(seq=Seq('*TFCLFWWAALFLRAFLAFLKWCFRFRIMNARATRPARPCCARTAFGAIATPA*...ATX', HasStopCodon(ExtendedIUPACProtein(), '*')), id='<unknown id>', name='<unknown name>', description='<unknown description>', dbxrefs=[]), SeqRecord(seq=Seq('*ACCCCC*ALLCLPCCWWCGKAAFRAAWAK*AATAPAWRWCARPAAPAAPKATP...ATX', HasStopCodon(ExtendedIUPACProtein(), '*')), id='<unknown id>', name='<unknown name>', description='<unknown description>', dbxrefs=[]), SeqRecord(seq=Seq('*AFCFCW*AAFCLRLCLCFGKPGFSATPAK*AATAPAWRWCAAAAAPRAPKATL...PKX', HasStopCodon(ExtendedIUPACProtein(), '*')), id='<unknown id>', name='<unknown name>', description='<unknown description>', dbxrefs=[]), SeqRecord(seq=Seq('*AFCFCW*AAFCLRLCLCFGKPGFSATPAK*AATAPAAIIARAWWWWAIN*A*A...A*X', HasStopCodon(ExtendedIUPACProtein(), '*')), id='<unknown id>', name='<unknown name>', description='<unknown description>', dbxrefs=[])]\n",
      "THIRD\n",
      "[SeqRecord(seq=Seq('ENQMHLRTVQLRPPSLPASADQNL**NRKTVPAERIYRKLSVLS*LSAARKL*T...QQX', HasStopCodon(ExtendedIUPACProtein(), '*')), id='<unknown id>', name='<unknown name>', description='<unknown description>', dbxrefs=[]), SeqRecord(seq=Seq('ELLSAAGEQHSVRADCVLEISPLSAQHRRNEQQQHRAGAGAPEQQRPD*QQHR*...KHX', HasStopCodon(ExtendedIUPACProtein(), '*')), id='<unknown id>', name='<unknown name>', description='<unknown description>', dbxrefs=[]), SeqRecord(seq=Seq('ELLSAAGEQHSVRADCVLEISPLSAQHRRNEQQQHRAGAGAPEQQRPD*QQHR*...KHX', HasStopCodon(ExtendedIUPACProtein(), '*')), id='<unknown id>', name='<unknown name>', description='<unknown description>', dbxrefs=[]), SeqRecord(seq=Seq('GRERQQSARPVAVCERGGRRRQRSGGRGTGAGAPARPRGAAVCVYPPRQHVL**...*SX', HasStopCodon(ExtendedIUPACProtein(), '*')), id='<unknown id>', name='<unknown name>', description='<unknown description>', dbxrefs=[]), SeqRecord(seq=Seq('ELSVSAGEQHSVCVYVCVLENLVSAQHRRNEQQQHQPGAGAQQQQHPEHQKQH*...RSX', HasStopCodon(ExtendedIUPACProtein(), '*')), id='<unknown id>', name='<unknown name>', description='<unknown description>', dbxrefs=[]), SeqRecord(seq=Seq('ERVSAAGERHSVRADDRVLEISPLSAQHRRNEQQQHRAGAGAPEQHRPD*QQHR...KHX', HasStopCodon(ExtendedIUPACProtein(), '*')), id='<unknown id>', name='<unknown name>', description='<unknown description>', dbxrefs=[]), SeqRecord(seq=Seq('AADPL*TEKRPSGAGGSG*SVWLYVPYYHRSAAA*CDAGRHCAAGEISAGYEPQ...PLX', HasStopCodon(ExtendedIUPACProtein(), '*')), id='<unknown id>', name='<unknown name>', description='<unknown description>', dbxrefs=[]), SeqRecord(seq=Seq('ERVSAAGERHSVRADDRVLEISPLSAQHRRNEQQQHRAGAGAPEQHRPD*QQHR...KHX', HasStopCodon(ExtendedIUPACProtein(), '*')), id='<unknown id>', name='<unknown name>', description='<unknown description>', dbxrefs=[]), SeqRecord(seq=Seq('DRTDDPARHPERP*RLGDPDCDHPAVSGYDSEREPR*NHYYVETDPR*NQLWHS...HPX', HasStopCodon(ExtendedIUPACProtein(), '*')), id='<unknown id>', name='<unknown name>', description='<unknown description>', dbxrefs=[]), SeqRecord(seq=Seq('ELSVSAGEQHSVCVYVCVLENLVSAQHRRNEQQQHQPGAGAQQQQHPEHQKQH*...RSX', HasStopCodon(ExtendedIUPACProtein(), '*')), id='<unknown id>', name='<unknown name>', description='<unknown description>', dbxrefs=[]), SeqRecord(seq=Seq('EHSVYSGGQHYFCEHF*HF*SGVSDSGS*TPEQPDQPDPAAREQLLELSQHRPE...QPX', HasStopCodon(ExtendedIUPACProtein(), '*')), id='<unknown id>', name='<unknown name>', description='<unknown description>', dbxrefs=[]), SeqRecord(seq=Seq('EHAAAAAELYCVYPAAGGVEKPLSEQRGRNEQQQHQPGAGARDQQHRQHQKQHR...QPX', HasStopCodon(ExtendedIUPACProtein(), '*')), id='<unknown id>', name='<unknown name>', description='<unknown description>', dbxrefs=[]), SeqRecord(seq=Seq('ELSVSAGEQHSVCVYVCVLENLVSAQHRRNEQQQHQPGAGAQQQQHPEHQKQH*...RSX', HasStopCodon(ExtendedIUPACProtein(), '*')), id='<unknown id>', name='<unknown name>', description='<unknown description>', dbxrefs=[]), SeqRecord(seq=Seq('ELSVSAGEQHSVCVYVCVLENLVSAQHRRNEQQQHQQPLSRVRGGGGP*TEPEQ...REX', HasStopCodon(ExtendedIUPACProtein(), '*')), id='<unknown id>', name='<unknown name>', description='<unknown description>', dbxrefs=[])]\n",
      "FIRST\n",
      "[SeqRecord(seq=Seq('MKTKCICELCSCGRHHCPHLPTKIYDKTEKPCLLSEYTENYPFYHSYLPRESFK...TSS', ExtendedIUPACProtein()), id='<unknown id>', name='<unknown name>', description='<unknown description>', dbxrefs=[]), SeqRecord(seq=Seq('MNFYLLLASSILCALIVFWKYRRFQRNTGEMSSNSTALALVRPSSSGLINSNTD...KST', ExtendedIUPACProtein()), id='<unknown id>', name='<unknown name>', description='<unknown description>', dbxrefs=[]), SeqRecord(seq=Seq('MNFYLLLASSILCALIVFWKYRRFQRNTGEMSSNSTALALVRPSSSGLINSNTD...KST', ExtendedIUPACProtein()), id='<unknown id>', name='<unknown name>', description='<unknown description>', dbxrefs=[]), SeqRecord(seq=Seq('MGASGSKARGLWPFASAAGGGGSEAAGAEQALVRPRGRAVPPFVFTRRGSMFYD...YEV', ExtendedIUPACProtein()), id='<unknown id>', name='<unknown name>', description='<unknown description>', dbxrefs=[]), SeqRecord(seq=Seq('MSFLFLLVSSILFAFMFVFWKTWFQRNTGEMSSNSTSLALVRSSSSTQSTKSNI...TEV', ExtendedIUPACProtein()), id='<unknown id>', name='<unknown name>', description='<unknown description>', dbxrefs=[]), SeqRecord(seq=Seq('MNVYLLLASGILCALMTVFWKYRRFQRNTGEMSSNSTALALVRPSSTGLINSNT...KST', ExtendedIUPACProtein()), id='<unknown id>', name='<unknown name>', description='<unknown description>', dbxrefs=[]), SeqRecord(seq=Seq('MLLTRFEQKNGHLAQVEVDEVFGFMCHITTEVPPHDAMPGGIVLLVKFLLDMSR...GRC', ExtendedIUPACProtein()), id='<unknown id>', name='<unknown name>', description='<unknown description>', dbxrefs=[]), SeqRecord(seq=Seq('MNVYLLLASGILCALMTVFWKYRRFQRNTGEMSSNSTALALVRPSSTGLINSNT...KST', ExtendedIUPACProtein()), id='<unknown id>', name='<unknown name>', description='<unknown description>', dbxrefs=[]), SeqRecord(seq=Seq('MTEQMTLRGTLKGHNGWVTQIATTPQFPDMILSASRDKTIIMWKLTRDETNYGI...GTR', ExtendedIUPACProtein()), id='<unknown id>', name='<unknown name>', description='<unknown description>', dbxrefs=[]), SeqRecord(seq=Seq('MSFLFLLVSSILFAFMFVFWKTWFQRNTGEMSSNSTSLALVRSSSSTQSTKSNI...TEV', ExtendedIUPACProtein()), id='<unknown id>', name='<unknown name>', description='<unknown description>', dbxrefs=[]), SeqRecord(seq=Seq('MNILFILVGSIIFASIFSIFKVVFQIPDHERPSNPTSPTLLRANSFWSYRNTGL...SNQ', ExtendedIUPACProtein()), id='<unknown id>', name='<unknown name>', description='<unknown description>', dbxrefs=[]), SeqRecord(seq=Seq('MSMLLLLLSFIVFTLLLVVWKSRFQSSVGEMSSNSTSLALVRATSSTGSTKSNT...GNH', ExtendedIUPACProtein()), id='<unknown id>', name='<unknown name>', description='<unknown description>', dbxrefs=[]), SeqRecord(seq=Seq('MSFLFLLVSSILFAFMFVFWKTWFQRNTGEMSSNSTSLALVRSSSSTQSTKSNI...TEV', ExtendedIUPACProtein()), id='<unknown id>', name='<unknown name>', description='<unknown description>', dbxrefs=[]), SeqRecord(seq=Seq('MSFLFLLVSSILFAFMFVFWKTWFQRNTGEMSSNSTSSHYRACVVVVGHKLSLS...RVK', ExtendedIUPACProtein()), id='<unknown id>', name='<unknown name>', description='<unknown description>', dbxrefs=[]), SeqRecord(seq=Seq('MSFLFLLVSSILFAFMFVFWKTWFQRNTGEMSSNSDKPTEVNGALVNRKS', ExtendedIUPACProtein()), id='<unknown id>', name='<unknown name>', description='<unknown description>', dbxrefs=[])]\n",
      "SECOND\n",
      "[SeqRecord(seq=Seq('*KPNAFANCAAAAAIIARICRPKFMIKPKNRAC*ANIPKTIRFIIAICRAKALN...PAA', HasStopCodon(ExtendedIUPACProtein(), '*')), id='<unknown id>', name='<unknown name>', description='<unknown description>', dbxrefs=[]), SeqRecord(seq=Seq('*TFICCWRAAFCAR*LCFGNIAAFSATPAK*AATAPRWRWCARAAAA*LTATPI...KAP', HasStopCodon(ExtendedIUPACProtein(), '*')), id='<unknown id>', name='<unknown name>', description='<unknown description>', dbxrefs=[]), SeqRecord(seq=Seq('*TFICCWRAAFCAR*LCFGNIAAFSATPAK*AATAPRWRWCARAAAA*LTATPI...KAP', HasStopCodon(ExtendedIUPACProtein(), '*')), id='<unknown id>', name='<unknown name>', description='<unknown description>', dbxrefs=[]), SeqRecord(seq=Seq('WARAAAKRAACGRLRARRAAAAAKRRARNRRWCARAAARCRRLCLPAAAACFMM...MKX', HasStopCodon(ExtendedIUPACProtein(), '*')), id='<unknown id>', name='<unknown name>', description='<unknown description>', dbxrefs=[]), SeqRecord(seq=Seq('*AFCFCW*AAFCLRLCLCFGKPGFSATPAK*AATAPAWRWCAAAAAPRAPKATL...PKX', HasStopCodon(ExtendedIUPACProtein(), '*')), id='<unknown id>', name='<unknown name>', description='<unknown description>', dbxrefs=[]), SeqRecord(seq=Seq('*TCICCWRAAFCAR**PCFGNIAAFSATPAK*AATAPRWRWCARAAPA*LTATP...KAP', HasStopCodon(ExtendedIUPACProtein(), '*')), id='<unknown id>', name='<unknown name>', description='<unknown description>', dbxrefs=[]), SeqRecord(seq=Seq('CC*PALNRKTAIWRRWKWMKCLALCAILPPKCRRMMRCRAALCCW*NFCWI*AA...AAA', HasStopCodon(ExtendedIUPACProtein(), '*')), id='<unknown id>', name='<unknown name>', description='<unknown description>', dbxrefs=[]), SeqRecord(seq=Seq('*TCICCWRAAFCAR**PCFGNIAAFSATPAK*AATAPRWRWCARAAPA*LTATP...KAP', HasStopCodon(ExtendedIUPACProtein(), '*')), id='<unknown id>', name='<unknown name>', description='<unknown description>', dbxrefs=[]), SeqRecord(seq=Seq('*PNR*PCAAP*KAITAG*PRLRPPRSFRI*F*ARAAIKPLLCGN*PAMKPTMAF...APA', HasStopCodon(ExtendedIUPACProtein(), '*')), id='<unknown id>', name='<unknown name>', description='<unknown description>', dbxrefs=[]), SeqRecord(seq=Seq('*AFCFCW*AAFCLRLCLCFGKPGFSATPAK*AATAPAWRWCAAAAAPRAPKATL...PKX', HasStopCodon(ExtendedIUPACProtein(), '*')), id='<unknown id>', name='<unknown name>', description='<unknown description>', dbxrefs=[]), SeqRecord(seq=Seq('*TFCLFWWAALFLRAFLAFLKWCFRFRIMNARATRPARPCCARTAFGAIATPA*...ATX', HasStopCodon(ExtendedIUPACProtein(), '*')), id='<unknown id>', name='<unknown name>', description='<unknown description>', dbxrefs=[]), SeqRecord(seq=Seq('*ACCCCC*ALLCLPCCWWCGKAAFRAAWAK*AATAPAWRWCARPAAPAAPKATP...ATX', HasStopCodon(ExtendedIUPACProtein(), '*')), id='<unknown id>', name='<unknown name>', description='<unknown description>', dbxrefs=[]), SeqRecord(seq=Seq('*AFCFCW*AAFCLRLCLCFGKPGFSATPAK*AATAPAWRWCAAAAAPRAPKATL...PKX', HasStopCodon(ExtendedIUPACProtein(), '*')), id='<unknown id>', name='<unknown name>', description='<unknown description>', dbxrefs=[]), SeqRecord(seq=Seq('*AFCFCW*AAFCLRLCLCFGKPGFSATPAK*AATAPAAIIARAWWWWAIN*A*A...A*X', HasStopCodon(ExtendedIUPACProtein(), '*')), id='<unknown id>', name='<unknown name>', description='<unknown description>', dbxrefs=[]), SeqRecord(seq=Seq('*AFCFCW*AAFCLRLCLCFGKPGFSATPAK*AATAINRPK*TARW*TAKA', HasStopCodon(ExtendedIUPACProtein(), '*')), id='<unknown id>', name='<unknown name>', description='<unknown description>', dbxrefs=[])]\n",
      "THIRD\n",
      "[SeqRecord(seq=Seq('ENQMHLRTVQLRPPSLPASADQNL**NRKTVPAERIYRKLSVLS*LSAARKL*T...QQX', HasStopCodon(ExtendedIUPACProtein(), '*')), id='<unknown id>', name='<unknown name>', description='<unknown description>', dbxrefs=[]), SeqRecord(seq=Seq('ELLSAAGEQHSVRADCVLEISPLSAQHRRNEQQQHRAGAGAPEQQRPD*QQHR*...KHX', HasStopCodon(ExtendedIUPACProtein(), '*')), id='<unknown id>', name='<unknown name>', description='<unknown description>', dbxrefs=[]), SeqRecord(seq=Seq('ELLSAAGEQHSVRADCVLEISPLSAQHRRNEQQQHRAGAGAPEQQRPD*QQHR*...KHX', HasStopCodon(ExtendedIUPACProtein(), '*')), id='<unknown id>', name='<unknown name>', description='<unknown description>', dbxrefs=[]), SeqRecord(seq=Seq('GRERQQSARPVAVCERGGRRRQRSGGRGTGAGAPARPRGAAVCVYPPRQHVL**...*SX', HasStopCodon(ExtendedIUPACProtein(), '*')), id='<unknown id>', name='<unknown name>', description='<unknown description>', dbxrefs=[]), SeqRecord(seq=Seq('ELSVSAGEQHSVCVYVCVLENLVSAQHRRNEQQQHQPGAGAQQQQHPEHQKQH*...RSX', HasStopCodon(ExtendedIUPACProtein(), '*')), id='<unknown id>', name='<unknown name>', description='<unknown description>', dbxrefs=[]), SeqRecord(seq=Seq('ERVSAAGERHSVRADDRVLEISPLSAQHRRNEQQQHRAGAGAPEQHRPD*QQHR...KHX', HasStopCodon(ExtendedIUPACProtein(), '*')), id='<unknown id>', name='<unknown name>', description='<unknown description>', dbxrefs=[]), SeqRecord(seq=Seq('AADPL*TEKRPSGAGGSG*SVWLYVPYYHRSAAA*CDAGRHCAAGEISAGYEPQ...PLX', HasStopCodon(ExtendedIUPACProtein(), '*')), id='<unknown id>', name='<unknown name>', description='<unknown description>', dbxrefs=[]), SeqRecord(seq=Seq('ERVSAAGERHSVRADDRVLEISPLSAQHRRNEQQQHRAGAGAPEQHRPD*QQHR...KHX', HasStopCodon(ExtendedIUPACProtein(), '*')), id='<unknown id>', name='<unknown name>', description='<unknown description>', dbxrefs=[]), SeqRecord(seq=Seq('DRTDDPARHPERP*RLGDPDCDHPAVSGYDSEREPR*NHYYVETDPR*NQLWHS...HPX', HasStopCodon(ExtendedIUPACProtein(), '*')), id='<unknown id>', name='<unknown name>', description='<unknown description>', dbxrefs=[]), SeqRecord(seq=Seq('ELSVSAGEQHSVCVYVCVLENLVSAQHRRNEQQQHQPGAGAQQQQHPEHQKQH*...RSX', HasStopCodon(ExtendedIUPACProtein(), '*')), id='<unknown id>', name='<unknown name>', description='<unknown description>', dbxrefs=[]), SeqRecord(seq=Seq('EHSVYSGGQHYFCEHF*HF*SGVSDSGS*TPEQPDQPDPAAREQLLELSQHRPE...QPX', HasStopCodon(ExtendedIUPACProtein(), '*')), id='<unknown id>', name='<unknown name>', description='<unknown description>', dbxrefs=[]), SeqRecord(seq=Seq('EHAAAAAELYCVYPAAGGVEKPLSEQRGRNEQQQHQPGAGARDQQHRQHQKQHR...QPX', HasStopCodon(ExtendedIUPACProtein(), '*')), id='<unknown id>', name='<unknown name>', description='<unknown description>', dbxrefs=[]), SeqRecord(seq=Seq('ELSVSAGEQHSVCVYVCVLENLVSAQHRRNEQQQHQPGAGAQQQQHPEHQKQH*...RSX', HasStopCodon(ExtendedIUPACProtein(), '*')), id='<unknown id>', name='<unknown name>', description='<unknown description>', dbxrefs=[]), SeqRecord(seq=Seq('ELSVSAGEQHSVCVYVCVLENLVSAQHRRNEQQQHQQPLSRVRGGGGP*TEPEQ...REX', HasStopCodon(ExtendedIUPACProtein(), '*')), id='<unknown id>', name='<unknown name>', description='<unknown description>', dbxrefs=[]), SeqRecord(seq=Seq('ELSVSAGEQHSVCVYVCVLENLVSAQHRRNEQQQR*TDRSERRAGEPQKX', HasStopCodon(ExtendedIUPACProtein(), '*')), id='<unknown id>', name='<unknown name>', description='<unknown description>', dbxrefs=[])]\n"
     ]
    },
    {
     "data": {
      "text/plain": [
       "0"
      ]
     },
     "execution_count": 178,
     "metadata": {},
     "output_type": "execute_result"
    }
   ],
   "source": [
    "#Translates an DNA sequence from a fasta file to an amino acid sequence.\n",
    "from Bio.Seq import Seq\n",
    "from Bio import SeqIO\n",
    "\n",
    "def pad_seq(sequence):\n",
    "    \"\"\" Pad sequence to multiple of 3 with N \"\"\"\n",
    "\n",
    "    remainder = len(sequence) % 3\n",
    "\n",
    "    return sequence if remainder == 0 else sequence + Seq('N' * (3 - remainder))\n",
    "\n",
    "seq_records = SeqIO.parse('DNA.fasta', 'fasta')\n",
    "\n",
    "\n",
    "amino_acids1 = []\n",
    "amino_acids2 = []\n",
    "amino_acids3 = []\n",
    "\n",
    "for record in seq_records:\n",
    "\n",
    "    # starting from nucleotide 1\n",
    "    amino_acids1.append(pad_seq(record).translate())\n",
    "    print(\"FIRST\")\n",
    "    print(amino_acids1)\n",
    "    # ...\n",
    "\n",
    "    # starting from nucleotide 2\n",
    "    record2 = record[1:]\n",
    "    amino_acids2.append(pad_seq(record2).translate())\n",
    "    print(\"SECOND\")\n",
    "    print(amino_acids2)\n",
    "    # ...\n",
    "\n",
    "    # starting from nucleotide 3\n",
    "    record3 = record[2:]\n",
    "    amino_acids3.append(pad_seq(record3).translate())\n",
    "    print(\"THIRD\")\n",
    "    print(amino_acids3)\n",
    "    # ...\n",
    "    \n",
    "SeqIO.write(seq_records, \"AAseq.fasta\", \"fasta\")"
   ]
  },
  {
   "cell_type": "code",
   "execution_count": null,
   "metadata": {},
   "outputs": [],
   "source": []
  }
 ],
 "metadata": {
  "kernelspec": {
   "display_name": "Python 3",
   "language": "python",
   "name": "python3"
  },
  "language_info": {
   "codemirror_mode": {
    "name": "ipython",
    "version": 3
   },
   "file_extension": ".py",
   "mimetype": "text/x-python",
   "name": "python",
   "nbconvert_exporter": "python",
   "pygments_lexer": "ipython3",
   "version": "3.6.8"
  }
 },
 "nbformat": 4,
 "nbformat_minor": 2
}
